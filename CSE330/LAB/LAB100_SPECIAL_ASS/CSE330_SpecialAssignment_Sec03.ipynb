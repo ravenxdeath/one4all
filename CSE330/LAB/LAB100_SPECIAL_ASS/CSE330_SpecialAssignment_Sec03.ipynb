{
  "cells": [
    {
      "cell_type": "markdown",
      "metadata": {
        "id": "8k58gExP8G-P"
      },
      "source": [
        "## **CSE330 Section 03 Special Assignment Summer 2024** (Total Marks : 10)"
      ]
    },
    {
      "cell_type": "code",
      "execution_count": 1,
      "metadata": {
        "id": "Ud_54Jkr8Ptf"
      },
      "outputs": [],
      "source": [
        "Name = \"Tahmid Iqbal\"\n",
        "ID = \"21201701\"\n",
        "Section = \"03\"\n",
        "github = \" https://github.com/TahmidRaven\"\n"
      ]
    },
    {
      "cell_type": "markdown",
      "metadata": {
        "id": "YJoWO7EPZvu-"
      },
      "source": [
        "# Question 01 [1 + 2 + 1.5 + 1.5 Marks]"
      ]
    },
    {
      "cell_type": "code",
      "execution_count": null,
      "metadata": {},
      "outputs": [],
      "source": [
        "Consider the following function:\n",
        "$$ f(x) = x^3 - 6x^2 + 11x -6 $$\n",
        "\n",
        "1(i) Print and plot the Actual roots, `x*`, of the given function. Round the roots to 4 decimal places.\n",
        "\n",
        "1(ii) The following $g_{1}(x)$ is given which is derived from the above $f(x)$\\ \n",
        "$$g_{1}(x) = \\frac{-x^3 +6x^2 + 6}{11}$$\\\n",
        "Use Contraction Mapping Theorem and calculate the value of λ for all the actual roots. Print whether the $g_{1}(x)$ is converging or diverging.\n",
        "\n",
        "**1(iii)** Derive 3 more separate $g_{2}(x)$, $g_{3}(x)$ and $g_{4}(x)$ from the given $f(x)$. Represent those in the code.\n",
        "\n",
        "**1(iv)** Find the approximate root, `x*`, of the above function using Fixed Point Iterations where $x_{0}$ = 1.1 and any of the converging `g(x)` that you have constructed in 1(iii). Show 20 iterations.\n",
        "\n",
        "\n",
        "\n",
        "\n",
        "\n",
        "\n"
      ]
    },
    {
      "cell_type": "code",
      "execution_count": 2,
      "metadata": {},
      "outputs": [
        {
          "name": "stdout",
          "output_type": "stream",
          "text": [
            "Actual roots: [3. 2. 1.]\n"
          ]
        },
        {
          "data": {
            "image/png": "[encoded data removed]",
            "text/plain": [
              "<Figure size 640x480 with 1 Axes>"
            ]
          },
          "metadata": {},
          "output_type": "display_data"
        },
        {
          "name": "stdout",
          "output_type": "stream",
          "text": [
            "λ1: 0.8179089999997835\n",
            "λ2: 1.0909090000006394\n",
            "λ3: 0.8184544545453143\n",
            "g1(x) is diverging.\n"
          ]
        },
        {
          "ename": "AttributeError",
          "evalue": "'float' object has no attribute 'round'",
          "output_type": "error",
          "traceback": [
            "\u001b[1;31m---------------------------------------------------------------------------\u001b[0m",
            "\u001b[1;31mAttributeError\u001b[0m                            Traceback (most recent call last)",
            "Cell \u001b[1;32mIn[2], line 85\u001b[0m\n\u001b[0;32m     83\u001b[0m \u001b[38;5;66;03m# 1(iv)\u001b[39;00m\n\u001b[0;32m     84\u001b[0m x_star \u001b[38;5;241m=\u001b[39m fixed_point_iteration(g1, \u001b[38;5;241m1.1\u001b[39m, \u001b[38;5;241m20\u001b[39m)\n\u001b[1;32m---> 85\u001b[0m \u001b[38;5;28mprint\u001b[39m(\u001b[38;5;124m\"\u001b[39m\u001b[38;5;124mApproximate root:\u001b[39m\u001b[38;5;124m\"\u001b[39m, \u001b[43mx_star\u001b[49m\u001b[38;5;241;43m.\u001b[39;49m\u001b[43mround\u001b[49m(\u001b[38;5;241m4\u001b[39m))\n",
            "\u001b[1;31mAttributeError\u001b[0m: 'float' object has no attribute 'round'"
          ]
        }
      ],
      "source": [
        "#gemeni\n",
        "\n",
        "import numpy as np\n",
        "import matplotlib.pyplot as plt\n",
        "\n",
        "def f(x):\n",
        "    return x**3 - 6*x**2 + 11*x - 6\n",
        "\n",
        "def g1(x):\n",
        "    return (-x**3 + 6*x**2 + 6) / 11\n",
        "\n",
        "def g2(x):\n",
        "    return (6*x**2 - 11*x + 6) / (x**2)\n",
        "\n",
        "def g3(x):\n",
        "    return (x**3 - 6*x**2 + 6) / (11 - x)\n",
        "\n",
        "def g4(x):\n",
        "    return (6*x**2 - 11*x + 6) / (x**2 - 6*x + 11)\n",
        "\n",
        "def contraction_mapping_theorem(g, x_star):\n",
        "    \"\"\"\n",
        "    Calculates the value of λ for the given function g and root x_star.\n",
        "\n",
        "    Args:\n",
        "        g: The function to be evaluated.\n",
        "        x_star: The actual root.\n",
        "\n",
        "    Returns:\n",
        "        The value of λ.\n",
        "    \"\"\"\n",
        "\n",
        "    delta = 0.001\n",
        "    λ = abs((g(x_star + delta) - g(x_star)) / delta)\n",
        "    return λ\n",
        "\n",
        "def fixed_point_iteration(g, x0, n):\n",
        "    \"\"\"\n",
        "    Performs fixed point iteration to find the approximate root.\n",
        "\n",
        "    Args:\n",
        "        g: The function to be evaluated.\n",
        "        x0: The initial guess.\n",
        "        n: The number of iterations.\n",
        "\n",
        "    Returns:\n",
        "        The approximate root.\n",
        "    \"\"\"\n",
        "\n",
        "    x = x0\n",
        "    for i in range(n):\n",
        "        x = g(x)\n",
        "    return x\n",
        "\n",
        "# 1(i)\n",
        "roots = np.roots([1, -6, 11, -6])\n",
        "print(\"Actual roots:\", roots.round(4))\n",
        "\n",
        "# Plot the function\n",
        "x_values = np.linspace(-1, 4, 100)\n",
        "y_values = f(x_values)\n",
        "plt.plot(x_values, y_values)\n",
        "plt.xlabel(\"x\")\n",
        "plt.ylabel(\"f(x)\")\n",
        "plt.title(\"f(x) = x^3 - 6x^2 + 11x - 6\")\n",
        "plt.grid(True)\n",
        "plt.show()\n",
        "\n",
        "# 1(ii)\n",
        "λ1 = contraction_mapping_theorem(g1, roots[0])\n",
        "λ2 = contraction_mapping_theorem(g1, roots[1])\n",
        "λ3 = contraction_mapping_theorem(g1, roots[2])\n",
        "\n",
        "print(\"λ1:\", λ1)\n",
        "print(\"λ2:\", λ2)\n",
        "print(\"λ3:\", λ3)\n",
        "\n",
        "if λ1 < 1 and λ2 < 1 and λ3 < 1:\n",
        "    print(\"g1(x) is converging.\")\n",
        "else:\n",
        "    print(\"g1(x) is diverging.\")\n",
        "\n",
        "# 1(iv)\n",
        "x_star = fixed_point_iteration(g1, 1.1, 20)\n",
        "print(\"Approximate root:\", x_star.round(4))"
      ]
    },
    {
      "cell_type": "code",
      "execution_count": 4,
      "metadata": {},
      "outputs": [
        {
          "ename": "ModuleNotFoundError",
          "evalue": "No module named 'scipy'",
          "output_type": "error",
          "traceback": [
            "\u001b[1;31m---------------------------------------------------------------------------\u001b[0m",
            "\u001b[1;31mModuleNotFoundError\u001b[0m                       Traceback (most recent call last)",
            "Cell \u001b[1;32mIn[4], line 5\u001b[0m\n\u001b[0;32m      3\u001b[0m \u001b[38;5;28;01mimport\u001b[39;00m \u001b[38;5;21;01mnumpy\u001b[39;00m \u001b[38;5;28;01mas\u001b[39;00m \u001b[38;5;21;01mnp\u001b[39;00m\n\u001b[0;32m      4\u001b[0m \u001b[38;5;28;01mimport\u001b[39;00m \u001b[38;5;21;01mmatplotlib\u001b[39;00m\u001b[38;5;21;01m.\u001b[39;00m\u001b[38;5;21;01mpyplot\u001b[39;00m \u001b[38;5;28;01mas\u001b[39;00m \u001b[38;5;21;01mplt\u001b[39;00m\n\u001b[1;32m----> 5\u001b[0m \u001b[38;5;28;01mfrom\u001b[39;00m \u001b[38;5;21;01mscipy\u001b[39;00m\u001b[38;5;21;01m.\u001b[39;00m\u001b[38;5;21;01moptimize\u001b[39;00m \u001b[38;5;28;01mimport\u001b[39;00m root_scalar\n\u001b[0;32m      7\u001b[0m \u001b[38;5;28;01mdef\u001b[39;00m \u001b[38;5;21mf\u001b[39m(x):\n\u001b[0;32m      8\u001b[0m     \u001b[38;5;28;01mreturn\u001b[39;00m x\u001b[38;5;241m*\u001b[39m\u001b[38;5;241m*\u001b[39m\u001b[38;5;241m3\u001b[39m \u001b[38;5;241m-\u001b[39m \u001b[38;5;241m6\u001b[39m\u001b[38;5;241m*\u001b[39mx\u001b[38;5;241m*\u001b[39m\u001b[38;5;241m*\u001b[39m\u001b[38;5;241m2\u001b[39m \u001b[38;5;241m+\u001b[39m \u001b[38;5;241m11\u001b[39m\u001b[38;5;241m*\u001b[39mx \u001b[38;5;241m-\u001b[39m \u001b[38;5;241m6\u001b[39m\n",
            "\u001b[1;31mModuleNotFoundError\u001b[0m: No module named 'scipy'"
          ]
        }
      ],
      "source": [
        "#caluede\n",
        "\n",
        "import numpy as np\n",
        "import matplotlib.pyplot as plt\n",
        "from scipy.optimize import root_scalar\n",
        "\n",
        "def f(x):\n",
        "    return x**3 - 6*x**2 + 11*x - 6\n",
        "\n",
        "# Find roots\n",
        "roots = []\n",
        "for guess in [0, 2, 4]:  # Initial guesses based on expected root locations\n",
        "    root = root_scalar(f, x0=guess, x1=guess+0.1, method='secant')\n",
        "    roots.append(root.root)\n",
        "\n",
        "# Print rounded roots\n",
        "print(\"Actual roots (rounded to 4 decimal places):\")\n",
        "for r in roots:\n",
        "    print(f\"{r:.4f}\")\n",
        "\n",
        "# Plot the function and roots\n",
        "x = np.linspace(0, 4, 400)\n",
        "y = f(x)\n",
        "\n",
        "plt.figure(figsize=(10, 6))\n",
        "plt.plot(x, y, label='f(x)')\n",
        "plt.axhline(y=0, color='r', linestyle='--')\n",
        "plt.scatter(roots, [0, 0, 0], color='g', s=50, label='Roots')\n",
        "plt.xlabel('x')\n",
        "plt.ylabel('f(x)')\n",
        "plt.title('f(x) = x³ - 6x² + 11x - 6')\n",
        "plt.legend()\n",
        "plt.grid(True)\n",
        "plt.show()"
      ]
    },
    {
      "cell_type": "code",
      "execution_count": 8,
      "metadata": {},
      "outputs": [
        {
          "ename": "NameError",
          "evalue": "name 'fsolve' is not defined",
          "output_type": "error",
          "traceback": [
            "\u001b[1;31m---------------------------------------------------------------------------\u001b[0m",
            "\u001b[1;31mNameError\u001b[0m                                 Traceback (most recent call last)",
            "Cell \u001b[1;32mIn[8], line 11\u001b[0m\n\u001b[0;32m      8\u001b[0m     \u001b[38;5;28;01mreturn\u001b[39;00m x\u001b[38;5;241m*\u001b[39m\u001b[38;5;241m*\u001b[39m\u001b[38;5;241m3\u001b[39m \u001b[38;5;241m-\u001b[39m \u001b[38;5;241m6\u001b[39m\u001b[38;5;241m*\u001b[39mx\u001b[38;5;241m*\u001b[39m\u001b[38;5;241m*\u001b[39m\u001b[38;5;241m2\u001b[39m \u001b[38;5;241m+\u001b[39m \u001b[38;5;241m11\u001b[39m\u001b[38;5;241m*\u001b[39mx \u001b[38;5;241m-\u001b[39m \u001b[38;5;241m6\u001b[39m\n\u001b[0;32m     10\u001b[0m \u001b[38;5;66;03m# Find the actual roots using fsolve\u001b[39;00m\n\u001b[1;32m---> 11\u001b[0m actual_roots \u001b[38;5;241m=\u001b[39m \u001b[43mfsolve\u001b[49m(f, [\u001b[38;5;241m0.5\u001b[39m, \u001b[38;5;241m2.0\u001b[39m, \u001b[38;5;241m3.0\u001b[39m])\n\u001b[0;32m     12\u001b[0m actual_roots \u001b[38;5;241m=\u001b[39m np\u001b[38;5;241m.\u001b[39mround(actual_roots, \u001b[38;5;241m4\u001b[39m)\n\u001b[0;32m     14\u001b[0m \u001b[38;5;66;03m# Print the actual roots\u001b[39;00m\n",
            "\u001b[1;31mNameError\u001b[0m: name 'fsolve' is not defined"
          ]
        }
      ],
      "source": [
        "import numpy as np\n",
        "import matplotlib.pyplot as plt\n",
        " \n",
        " \n",
        "\n",
        "# Define the function f(x)\n",
        "def f(x):\n",
        "    return x**3 - 6*x**2 + 11*x - 6\n",
        "\n",
        "# Find the actual roots using fsolve\n",
        "actual_roots = fsolve(f, [0.5, 2.0, 3.0])\n",
        "actual_roots = np.round(actual_roots, 4)\n",
        "\n",
        "# Print the actual roots\n",
        "print(\"Actual roots (x*):\", actual_roots)\n",
        "\n",
        "# Plot the function f(x) and its roots\n",
        "x_vals = np.linspace(0, 4, 400)\n",
        "y_vals = f(x_vals)\n",
        "\n",
        " "
      ]
    },
    {
      "cell_type": "markdown",
      "metadata": {
        "id": "8jjDtHfSZ0UN"
      },
      "source": [
        "Consider the following function:\n",
        "$$ f(x) = x^3 - 6x^2 + 11x -6 $$\n",
        "\n"
      ]
    },
    {
      "cell_type": "markdown",
      "metadata": {
        "id": "QuZL91WLValv"
      },
      "source": [
        "1(i) Print and plot the Actual roots, `x*`, of the given function. Round the roots to 4 decimal places."
      ]
    },
    {
      "cell_type": "code",
      "execution_count": 20,
      "metadata": {
        "id": "R5GCGKEdVa8A"
      },
      "outputs": [
        {
          "name": "stdout",
          "output_type": "stream",
          "text": [
            "Actual roots (x*): [1. 2. 3.]\n"
          ]
        },
        {
          "data": {
            "image/png": "[encoded data removed]",
            "text/plain": [
              "<Figure size 640x480 with 1 Axes>"
            ]
          },
          "metadata": {},
          "output_type": "display_data"
        }
      ],
      "source": [
        "import numpy as np\n",
        "from numpy.polynomial import Polynomial\n",
        "import matplotlib.pyplot as plt\n",
        "\n",
        " \n",
        "#given function f(x) = x^3 - 6x^2 + 11x - 6\n",
        "f = Polynomial([-6, 11, -6, 1])\n",
        "\n",
        "x = np.linspace(0, 4, 70)\n",
        "y = f(x)\n",
        "\n",
        "roots = f.roots()\n",
        "rounded_roots = np.round(roots, 4)\n",
        "\n",
        "print(\"Actual roots (x*):\", rounded_roots)\n",
        "\n",
        "plt.axhline(0, color='r', linestyle='--')   \n",
        "plt.plot(x, y, 'b', label='f(x)')  # polynomial\n",
        "plt.scatter(rounded_roots, [0]*len(rounded_roots), color='black', zorder=5, label='Roots')  \n",
        "\n",
        "plt.title('Graph of f(x) and x* (roots)')\n",
        "plt.xlabel('x')\n",
        "plt.ylabel('f(x)')\n",
        "plt.legend()\n",
        "\n",
        "plt.grid(True)\n",
        "plt.show()\n",
        "\n",
        "\n"
      ]
    },
    {
      "cell_type": "markdown",
      "metadata": {
        "id": "V-krz9evhwC2"
      },
      "source": [
        "**1(ii)** The following $g_{1}(x)$ is given which is derived from the above $f(x)$\\\n",
        "$$g_{1}(x) = \\frac{-x^3 +6x^2 + 6}{11}$$\\\n",
        "Use Contraction Mapping Theorem and calculate the value of λ for all the actual roots. Print whether the $g_{1}(x)$ is converging or diverging.\n",
        "\n",
        "\n",
        "\n"
      ]
    },
    {
      "cell_type": "code",
      "execution_count": 22,
      "metadata": {
        "id": "ZlcP_fHOZzgd"
      },
      "outputs": [
        {
          "name": "stdout",
          "output_type": "stream",
          "text": [
            "Actual roots: [3. 2. 1.]\n"
          ]
        },
        {
          "data": {
            "image/png": "[encoded data removed]",
            "text/plain": [
              "<Figure size 640x480 with 1 Axes>"
            ]
          },
          "metadata": {},
          "output_type": "display_data"
        },
        {
          "name": "stdout",
          "output_type": "stream",
          "text": [
            "λ1: 0.8179089999997835\n",
            "λ2: 1.0909090000006394\n",
            "λ3: 0.8184544545453143\n",
            "g1(x) is diverging.\n"
          ]
        },
        {
          "ename": "AttributeError",
          "evalue": "'float' object has no attribute 'round'",
          "output_type": "error",
          "traceback": [
            "\u001b[1;31m---------------------------------------------------------------------------\u001b[0m",
            "\u001b[1;31mAttributeError\u001b[0m                            Traceback (most recent call last)",
            "Cell \u001b[1;32mIn[22], line 83\u001b[0m\n\u001b[0;32m     81\u001b[0m \u001b[38;5;66;03m# 1(iv)\u001b[39;00m\n\u001b[0;32m     82\u001b[0m x_star \u001b[38;5;241m=\u001b[39m fixed_point_iteration(g1, \u001b[38;5;241m1.1\u001b[39m, \u001b[38;5;241m20\u001b[39m)\n\u001b[1;32m---> 83\u001b[0m \u001b[38;5;28mprint\u001b[39m(\u001b[38;5;124m\"\u001b[39m\u001b[38;5;124mApproximate root:\u001b[39m\u001b[38;5;124m\"\u001b[39m, \u001b[43mx_star\u001b[49m\u001b[38;5;241;43m.\u001b[39;49m\u001b[43mround\u001b[49m(\u001b[38;5;241m4\u001b[39m))\n",
            "\u001b[1;31mAttributeError\u001b[0m: 'float' object has no attribute 'round'"
          ]
        }
      ],
      "source": [
        "import numpy as np\n",
        "import matplotlib.pyplot as plt\n",
        "\n",
        "def f(x):\n",
        "    return x**3 - 6*x**2 + 11*x - 6\n",
        "\n",
        "def g1(x):\n",
        "    return (-x**3 + 6*x**2 + 6) / 11\n",
        "\n",
        "def g2(x):\n",
        "    return (6*x**2 - 11*x + 6) / (x**2)\n",
        "\n",
        "def g3(x):\n",
        "    return (x**3 - 6*x**2 + 6) / (11 - x)\n",
        "\n",
        "def g4(x):\n",
        "    return (6*x**2 - 11*x + 6) / (x**2 - 6*x + 11)\n",
        "\n",
        "def contraction_mapping_theorem(g, x_star):\n",
        "    \"\"\"\n",
        "    Calculates the value of λ for the given function g and root x_star.\n",
        "\n",
        "    Args:\n",
        "        g: The function to be evaluated.\n",
        "        x_star: The actual root.\n",
        "\n",
        "    Returns:\n",
        "        The value of λ.\n",
        "    \"\"\"\n",
        "\n",
        "    delta = 0.001\n",
        "    λ = abs((g(x_star + delta) - g(x_star)) / delta)\n",
        "    return λ\n",
        "\n",
        "def fixed_point_iteration(g, x0, n):\n",
        "    \"\"\"\n",
        "    Performs fixed point iteration to find the approximate root.\n",
        "\n",
        "    Args:\n",
        "        g: The function to be evaluated.\n",
        "        x0: The initial guess.\n",
        "        n: The number of iterations.\n",
        "\n",
        "    Returns:\n",
        "        The approximate root.\n",
        "    \"\"\"\n",
        "\n",
        "    x = x0\n",
        "    for i in range(n):\n",
        "        x = g(x)\n",
        "    return x\n",
        "\n",
        "# 1(i)\n",
        "roots = np.roots([1, -6, 11, -6])\n",
        "print(\"Actual roots:\", roots.round(4))\n",
        "\n",
        "# Plot the function\n",
        "x_values = np.linspace(-1, 4, 100)\n",
        "y_values = f(x_values)\n",
        "plt.plot(x_values, y_values)\n",
        "plt.xlabel(\"x\")\n",
        "plt.ylabel(\"f(x)\")\n",
        "plt.title(\"f(x) = x^3 - 6x^2 + 11x - 6\")\n",
        "plt.grid(True)\n",
        "plt.show()\n",
        "\n",
        "# 1(ii)\n",
        "λ1 = contraction_mapping_theorem(g1, roots[0])\n",
        "λ2 = contraction_mapping_theorem(g1, roots[1])\n",
        "λ3 = contraction_mapping_theorem(g1, roots[2])\n",
        "\n",
        "print(\"λ1:\", λ1)\n",
        "print(\"λ2:\", λ2)\n",
        "print(\"λ3:\", λ3)\n",
        "\n",
        "if λ1 < 1 and λ2 < 1 and λ3 < 1:\n",
        "    print(\"g1(x) is converging.\")\n",
        "else:\n",
        "    print(\"g1(x) is diverging.\")\n",
        "\n",
        "# 1(iv)\n",
        "x_star = fixed_point_iteration(g1, 1.1, 20)\n",
        "print(\"Approximate root:\", x_star.round(4))"
      ]
    },
    {
      "cell_type": "code",
      "execution_count": 23,
      "metadata": {},
      "outputs": [
        {
          "name": "stdout",
          "output_type": "stream",
          "text": [
            "g1'(1.0) = 0.8182\n",
            "g1(x) converges at x = 1.0000\n",
            "\n",
            "g1'(2.0) = 1.0909\n",
            "g1(x) diverges at x = 2.0000\n",
            "\n",
            "g1'(3.0) = 0.8182\n",
            "g1(x) converges at x = 3.0000\n",
            "\n"
          ]
        }
      ],
      "source": [
        "import numpy as np\n",
        "from numpy.polynomial import Polynomial\n",
        "\n",
        "# Define the function g1(x)\n",
        "def g1(x):\n",
        "    return (-x**3 + 6*x**2 + 6) / 11\n",
        "\n",
        "# Derivative of g1(x)\n",
        "def g1_derivative(x):\n",
        "    return (-3*x**2 + 12*x) / 11\n",
        "\n",
        "# Define the polynomial f(x) = x^3 - 6x^2 + 11x - 6\n",
        "f = Polynomial([-6, 11, -6, 1])\n",
        "\n",
        "# Get the actual roots of f(x)\n",
        "roots = f.roots()\n",
        "rounded_roots = np.round(roots, 4)\n",
        "\n",
        "# Check the value of g1'(x*) for each root\n",
        "for root in rounded_roots:\n",
        "    derivative_at_root = g1_derivative(root)\n",
        "    print(f\"g1'({root}) = {derivative_at_root:.4f}\")\n",
        "    \n",
        "    if abs(derivative_at_root) < 1:\n",
        "        print(f\"g1(x) converges at x = {root:.4f}\\n\")\n",
        "    else:\n",
        "        print(f\"g1(x) diverges at x = {root:.4f}\\n\")\n"
      ]
    },
    {
      "cell_type": "markdown",
      "metadata": {
        "id": "2vJPbMxTdkYQ"
      },
      "source": [
        "**1(iii)** Derive 3 more separate $g_{2}(x)$, $g_{3}(x)$ and $g_{4}(x)$ from the given $f(x)$. Represent those in the code."
      ]
    },
    {
      "cell_type": "code",
      "execution_count": 1,
      "metadata": {
        "id": "EX22XV1ce8F_"
      },
      "outputs": [],
      "source": []
    },
    {
      "cell_type": "markdown",
      "metadata": {
        "id": "8clO5Vpbf80f"
      },
      "source": [
        "**1(iv)** Find the approximate root, `x*`, of the above function using Fixed Point Iterations where $x_{0}$ = 1.1 and any of the converging `g(x)` that you have constructed in 1(iii). Show 20 iterations."
      ]
    },
    {
      "cell_type": "code",
      "execution_count": 1,
      "metadata": {
        "id": "bluhhukcjAr9"
      },
      "outputs": [],
      "source": []
    },
    {
      "cell_type": "markdown",
      "metadata": {
        "id": "FM-r0yyqSlet"
      },
      "source": [
        "#Question 02 [4 Marks]"
      ]
    },
    {
      "cell_type": "markdown",
      "metadata": {
        "id": "jmv1FlurSglN"
      },
      "source": [
        "Consider the following function:\n",
        "$$ f(x) = 5x^6-x^5+7x^4+3.75x^3-2x^2+1.5x+15 $$\n",
        "Now, compute the Second Degree Richarson Extrapolation, `D^{2}` at `x = 1` and `h = 0.3` when the formula is derived using `h -> h/4`. Print the answer upto 2 decimal places.\n",
        "\n",
        "**N.B.** You can use the previously learned methods while solving the problem."
      ]
    },
    {
      "cell_type": "code",
      "execution_count": 1,
      "metadata": {
        "id": "se83vRIPkQ1N"
      },
      "outputs": [],
      "source": []
    },
    {
      "cell_type": "code",
      "execution_count": 2,
      "metadata": {},
      "outputs": [],
      "source": [
        "import math\n",
        "\n",
        "def f(x):\n",
        "    return 5*x**6 - x**5 + 7*x**4 + 3.75*x**3 - 2*x**2 + 1.5*x + 15\n",
        "\n",
        "x = 1\n",
        "h = 0.3"
      ]
    },
    {
      "cell_type": "code",
      "execution_count": 3,
      "metadata": {},
      "outputs": [
        {
          "name": "stdout",
          "output_type": "stream",
          "text": [
            "D1 = 72.94240000000002\n",
            "D2 = 64.50405624999998\n",
            "D3 = 62.435761328124954\n"
          ]
        }
      ],
      "source": [
        "def central_difference(f, x, h):\n",
        "    return (f(x + h) - f(x - h)) / (2 * h)\n",
        "\n",
        "D1 = central_difference(f, x, h)\n",
        "D2 = central_difference(f, x, h/2)\n",
        "D3 = central_difference(f, x, h/4)\n",
        "\n",
        "print(f\"D1 = {D1}\")\n",
        "print(f\"D2 = {D2}\")\n",
        "print(f\"D3 = {D3}\")"
      ]
    },
    {
      "cell_type": "code",
      "execution_count": 4,
      "metadata": {},
      "outputs": [
        {
          "name": "stdout",
          "output_type": "stream",
          "text": [
            "Second Degree Richardson Extrapolation (D^2) = 61.75\n"
          ]
        }
      ],
      "source": [
        "# First order Richardson Extrapolation\n",
        "R12 = D2 + (D2 - D1) / 3\n",
        "\n",
        "# Second order Richardson Extrapolation\n",
        "R23 = D3 + (D3 - D2) / 3\n",
        "\n",
        "# Second Degree Richardson Extrapolation\n",
        "D2_richardson = R23 + (R23 - R12) / 15\n",
        "\n",
        "print(f\"Second Degree Richardson Extrapolation (D^2) = {D2_richardson:.2f}\")"
      ]
    },
    {
      "cell_type": "code",
      "execution_count": 5,
      "metadata": {},
      "outputs": [
        {
          "name": "stdout",
          "output_type": "stream",
          "text": [
            "Actual derivative at x = 1: 61.75\n",
            "Absolute error: 5.68e-14\n"
          ]
        }
      ],
      "source": [
        "def df(x):\n",
        "    return 30*x**5 - 5*x**4 + 28*x**3 + 11.25*x**2 - 4*x + 1.5\n",
        "\n",
        "actual_derivative = df(x)\n",
        "print(f\"Actual derivative at x = 1: {actual_derivative:.2f}\")\n",
        "print(f\"Absolute error: {abs(D2_richardson - actual_derivative):.2e}\")"
      ]
    },
    {
      "cell_type": "code",
      "execution_count": 6,
      "metadata": {},
      "outputs": [
        {
          "name": "stdout",
          "output_type": "stream",
          "text": [
            "Second Degree Richardson Extrapolation at x = 1, h = 0.3: 61.75\n"
          ]
        }
      ],
      "source": [
        "import numpy as np\n",
        "from numpy.polynomial import Polynomial\n",
        "\n",
        "# Define the function f(x)\n",
        "p = Polynomial([15, 1.5, -2, 3.75, 7, -1, 5])\n",
        "\n",
        "# Central difference approximation D_h\n",
        "def dh(f, h, x):\n",
        "    return (f(x + h) - f(x - h)) / (2 * h)\n",
        "\n",
        "# First Degree Richardson Extrapolation\n",
        "def dh1(f, h, x):\n",
        "    dh_h = dh(f, h, x)\n",
        "    dh_h4 = dh(f, h / 4, x)\n",
        "    return (4 * dh_h4 - dh_h) / 3\n",
        "\n",
        "# Second Degree Richardson Extrapolation\n",
        "def dh2(f, h, x):\n",
        "    dh1_h = dh1(f, h, x)\n",
        "    dh1_h4 = dh1(f, h / 4, x)\n",
        "    return (16 * dh1_h4 - dh1_h) / 15\n",
        "\n",
        "# Compute the second-degree Richardson Extrapolation at x = 1 and h = 0.3\n",
        "x = 1\n",
        "h = 0.3\n",
        "second_degree_derivative = dh2(p, h, x)\n",
        "\n",
        "# Print the result up to 2 decimal places\n",
        "print(f\"Second Degree Richardson Extrapolation at x = {x}, h = {h}: {second_degree_derivative:.2f}\")"
      ]
    },
    {
      "cell_type": "code",
      "execution_count": 7,
      "metadata": {},
      "outputs": [
        {
          "name": "stdout",
          "output_type": "stream",
          "text": [
            "Actual derivative at x = 1: 61.75\n",
            "Absolute error: 4.82e-03\n"
          ]
        }
      ],
      "source": [
        "# Calculate the actual derivative\n",
        "p_prime = p.deriv()\n",
        "actual_derivative = p_prime(1)\n",
        "print(f\"Actual derivative at x = 1: {actual_derivative:.2f}\")\n",
        "\n",
        "# Calculate the absolute error\n",
        "error = abs(second_degree_derivative - actual_derivative)\n",
        "print(f\"Absolute error: {error:.2e}\")"
      ]
    },
    {
      "cell_type": "code",
      "execution_count": 8,
      "metadata": {},
      "outputs": [
        {
          "name": "stdout",
          "output_type": "stream",
          "text": [
            "Second Degree Richardson Extrapolation (Forward) at x = 1, h = 0.3: 61.79\n",
            "Actual derivative at x = 1: 61.75\n",
            "Absolute error: 3.76e-02\n"
          ]
        }
      ],
      "source": [
        "import numpy as np\n",
        "from numpy.polynomial import Polynomial\n",
        "\n",
        "# Define the function f(x)\n",
        "p = Polynomial([15, 1.5, -2, 3.75, 7, -1, 5])\n",
        "\n",
        "# Forward difference approximation D_h\n",
        "def dh(f, h, x):\n",
        "    return (f(x + h) - f(x)) / h\n",
        "\n",
        "# First Degree Richardson Extrapolation\n",
        "def dh1(f, h, x):\n",
        "    dh_h = dh(f, h, x)\n",
        "    dh_h4 = dh(f, h / 4, x)\n",
        "    return (4 * dh_h4 - dh_h) / 3\n",
        "\n",
        "# Second Degree Richardson Extrapolation\n",
        "def dh2(f, h, x):\n",
        "    dh1_h = dh1(f, h, x)\n",
        "    dh1_h4 = dh1(f, h / 4, x)\n",
        "    return (16 * dh1_h4 - dh1_h) / 15\n",
        "\n",
        "# Compute the second-degree Richardson Extrapolation at x = 1 and h = 0.3\n",
        "x = 1\n",
        "h = 0.3\n",
        "second_degree_derivative = dh2(p, h, x)\n",
        "\n",
        "# Print the result up to 2 decimal places\n",
        "print(f\"Second Degree Richardson Extrapolation (Forward) at x = {x}, h = {h}: {second_degree_derivative:.2f}\")\n",
        "\n",
        "# Calculate the actual derivative\n",
        "p_prime = p.deriv()\n",
        "actual_derivative = p_prime(1)\n",
        "print(f\"Actual derivative at x = 1: {actual_derivative:.2f}\")\n",
        "\n",
        "# Calculate the absolute error\n",
        "error = abs(second_degree_derivative - actual_derivative)\n",
        "print(f\"Absolute error: {error:.2e}\")"
      ]
    },
    {
      "cell_type": "code",
      "execution_count": 10,
      "metadata": {},
      "outputs": [
        {
          "name": "stdout",
          "output_type": "stream",
          "text": [
            "225.49\n"
          ]
        }
      ],
      "source": [
        "from sympy import symbols, diff\n",
        "\n",
        "# Define the variable and function\n",
        "x = symbols('x')\n",
        "f = 5*x**6 - x**5 + 7*x**4 + 3.75*x**3 - 2*x**2 + 1.5*x + 15\n",
        "\n",
        "# Calculate the derivative\n",
        "f_prime = diff(f, x)\n",
        "\n",
        "# Define the function to evaluate the derivative at a point\n",
        "def evaluate_derivative(expr, x_val):\n",
        "    return expr.evalf(subs={x: x_val})\n",
        "\n",
        "# Define the Richardson Extrapolation\n",
        "def richardson_extrapolation(f_prime, x_val, h):\n",
        "    D_h = (evaluate_derivative(f_prime, x_val + h) - evaluate_derivative(f_prime, x_val - h)) / (2 * h)\n",
        "    D_h4 = (evaluate_derivative(f_prime, x_val + h/4) - evaluate_derivative(f_prime, x_val - h/4)) / (2 * (h/4))\n",
        "    return (4 * D_h4 - D_h) / 3\n",
        "\n",
        "# Parameters\n",
        "x_val = 1\n",
        "h = 0.3\n",
        "\n",
        "# Compute the result\n",
        "result = richardson_extrapolation(f_prime, x_val, h)\n",
        "print(f\"{result:.2f}\")"
      ]
    },
    {
      "cell_type": "code",
      "execution_count": 14,
      "metadata": {},
      "outputs": [
        {
          "name": "stdout",
          "output_type": "stream",
          "text": [
            "Second Degree Richardson Extrapolation (D^2) at x = 1, h = 0.3: 61.75\n"
          ]
        }
      ],
      "source": [
        "### works\n",
        "\n",
        "import numpy as np\n",
        "\n",
        "# Define the function f(x)\n",
        "def f(x):\n",
        "    return 5*x**6 - x**5 + 7*x**4 + 3.75*x**3 - 2*x**2 + 1.5*x + 15\n",
        "\n",
        "# Central difference formula for numerical derivative\n",
        "def central_difference(x, h):\n",
        "    return (f(x + h) - f(x - h)) / (2 * h)\n",
        "\n",
        "# First degree Richardson Extrapolation formula\n",
        "def first_degree_richardson(x, h):\n",
        "    D_h = central_difference(x, h)\n",
        "    D_h4 = central_difference(x, h / 4)\n",
        "    first_extrapolation = (16 * D_h4 - D_h) / 15\n",
        "    return first_extrapolation\n",
        "\n",
        "# Second degree Richardson Extrapolation formula\n",
        "def second_degree_richardson(x, h):\n",
        "    D_h = first_degree_richardson(x, h)\n",
        "    D_h16 = first_degree_richardson(x, h / 4)\n",
        "    second_extrapolation = (16 * D_h16 - D_h) / 15\n",
        "    return second_extrapolation\n",
        "\n",
        "# Set parameters\n",
        "x = 1\n",
        "h = 0.3\n",
        "\n",
        "# Compute the second degree Richardson Extrapolation\n",
        "D2 = second_degree_richardson(x, h)\n",
        "\n",
        "# Print the result rounded to 2 decimal places\n",
        "print(f\"Second Degree Richardson Extrapolation (D^2) at x = {x}, h = {h}: {D2:.2f}\")"
      ]
    },
    {
      "cell_type": "code",
      "execution_count": 16,
      "metadata": {},
      "outputs": [
        {
          "name": "stdout",
          "output_type": "stream",
          "text": [
            "Second Degree Richardson Extrapolation: 30.49\n"
          ]
        }
      ],
      "source": [
        "import math\n",
        "\n",
        "def f(x):\n",
        "    return 5*x**6 - x**5 + 7*x**4 + 3.75*x**3 - 2*x**2 + 1.5*x + 15\n",
        "\n",
        "def richardson_extrapolation(x, h):\n",
        "    \"\"\"\n",
        "    Computes the second-degree Richardson extrapolation for the given function.\n",
        "\n",
        "    Args:\n",
        "        x: The point at which to evaluate the function.\n",
        "        h: The step size.\n",
        "\n",
        "    Returns:\n",
        "        The second-degree Richardson extrapolation.\n",
        "    \"\"\"\n",
        "\n",
        "    # Calculate the function values using different step sizes\n",
        "    f0 = f(x)\n",
        "    f1 = f(x + h)\n",
        "    f2 = f(x + h/4)\n",
        "    f3 = f(x + h/16)\n",
        "\n",
        "    # Apply the Richardson extrapolation formula\n",
        "    R1 = (4*f2 - f1) / 3\n",
        "    R2 = (16*f3 - f2) / 15\n",
        "\n",
        "    # Calculate the second-degree Richardson extrapolation\n",
        "    D2 = (16*R2 - R1) / 15\n",
        "\n",
        "    return D2\n",
        "\n",
        "# Set the point and step size\n",
        "x = 1\n",
        "h = 0.3\n",
        "\n",
        "# Compute the second-degree Richardson extrapolation\n",
        "result = richardson_extrapolation(x, h)\n",
        "\n",
        "# Print the result to 2 decimal places\n",
        "print(\"Second Degree Richardson Extrapolation: {:.2f}\".format(result))"
      ]
    },
    {
      "cell_type": "code",
      "execution_count": 17,
      "metadata": {},
      "outputs": [
        {
          "name": "stdout",
          "output_type": "stream",
          "text": [
            "Second Degree Richardson Extrapolation: 61.75\n"
          ]
        }
      ],
      "source": [
        "import numpy as np\n",
        "\n",
        "def f(x):\n",
        "    return 5*x**6 - x**5 + 7*x**4 + 3.75*x**3 - 2*x**2 + 1.5*x + 15\n",
        "\n",
        "def dh(f, h, x):\n",
        "    \"\"\"Central difference approximation.\"\"\"\n",
        "    return (f(x+h) - f(x-h)) / (2*h)\n",
        "\n",
        "def dh1(f, h, x):\n",
        "    \"\"\"First-order Richardson extrapolation.\"\"\"\n",
        "    return (4*dh(f, h/2, x) - dh(f, h, x)) / 3\n",
        "\n",
        "def richardson_extrapolation(f, h, x):\n",
        "    \"\"\"Second-degree Richardson extrapolation.\"\"\"\n",
        "    return (16*dh1(f, h/4, x) - dh1(f, h, x)) / 15\n",
        "\n",
        "# Set the point and step size\n",
        "x = 1\n",
        "h = 0.3\n",
        "\n",
        "# Compute the second-degree Richardson extrapolation\n",
        "result = richardson_extrapolation(f, h, x)\n",
        "\n",
        "# Print the result\n",
        "print(\"Second Degree Richardson Extrapolation: {:.2f}\".format(result))"
      ]
    },
    {
      "cell_type": "code",
      "execution_count": 24,
      "metadata": {},
      "outputs": [
        {
          "ename": "OverflowError",
          "evalue": "(34, 'Result too large')",
          "output_type": "error",
          "traceback": [
            "\u001b[1;31m---------------------------------------------------------------------------\u001b[0m",
            "\u001b[1;31mOverflowError\u001b[0m                             Traceback (most recent call last)",
            "Cell \u001b[1;32mIn[24], line 41\u001b[0m\n\u001b[0;32m     38\u001b[0m     a3_new \u001b[38;5;241m=\u001b[39m g3(g3_a[\u001b[38;5;241m-\u001b[39m\u001b[38;5;241m1\u001b[39m])\n\u001b[0;32m     39\u001b[0m     g3_a\u001b[38;5;241m.\u001b[39mappend(a3_new)\n\u001b[1;32m---> 41\u001b[0m     a4_new \u001b[38;5;241m=\u001b[39m \u001b[43mg4\u001b[49m\u001b[43m(\u001b[49m\u001b[43mg4_a\u001b[49m\u001b[43m[\u001b[49m\u001b[38;5;241;43m-\u001b[39;49m\u001b[38;5;241;43m1\u001b[39;49m\u001b[43m]\u001b[49m\u001b[43m)\u001b[49m\n\u001b[0;32m     42\u001b[0m     g4_a\u001b[38;5;241m.\u001b[39mappend(a4_new)\n\u001b[0;32m     44\u001b[0m \u001b[38;5;66;03m# Print results in DataFrame format\u001b[39;00m\n",
            "Cell \u001b[1;32mIn[24], line 19\u001b[0m, in \u001b[0;36mg4\u001b[1;34m(x)\u001b[0m\n\u001b[0;32m     18\u001b[0m \u001b[38;5;28;01mdef\u001b[39;00m \u001b[38;5;21mg4\u001b[39m(x):\n\u001b[1;32m---> 19\u001b[0m     \u001b[38;5;28;01mreturn\u001b[39;00m \u001b[38;5;241m6\u001b[39m \u001b[38;5;241m-\u001b[39m (\u001b[43mx\u001b[49m\u001b[38;5;241;43m*\u001b[39;49m\u001b[38;5;241;43m*\u001b[39;49m\u001b[38;5;241;43m3\u001b[39;49m \u001b[38;5;241m/\u001b[39m \u001b[38;5;241m11\u001b[39m) \u001b[38;5;241m+\u001b[39m (\u001b[38;5;241m6\u001b[39m \u001b[38;5;241m*\u001b[39m x\u001b[38;5;241m*\u001b[39m\u001b[38;5;241m*\u001b[39m\u001b[38;5;241m2\u001b[39m \u001b[38;5;241m/\u001b[39m \u001b[38;5;241m11\u001b[39m)\n",
            "\u001b[1;31mOverflowError\u001b[0m: (34, 'Result too large')"
          ]
        }
      ],
      "source": [
        "import numpy as np\n",
        "import pandas as pd\n",
        "import matplotlib.pyplot as plt\n",
        "from numpy.polynomial import Polynomial\n",
        "\n",
        "# Given function f(x) = x^3 - 6x^2 + 11x - 6\n",
        "f = Polynomial([-6, 11, -6, 1])\n",
        "\n",
        "# Define the converging functions\n",
        "def g2(x):\n",
        "    p = Polynomial([6, 6, -11])  # Corresponding to the function used in g2\n",
        "    return (6 + 6 * x - 11 * x**2)**(1/3)\n",
        "\n",
        "def g3(x):\n",
        "    p = Polynomial([-2.0, -1.0, 6.0, 2.0])  # Adjusted as needed\n",
        "    return np.power(p(x) / 2.5, 1.0 / 4.0)\n",
        "\n",
        "def g4(x):\n",
        "    return 6 - (x**3 / 11) + (6 * x**2 / 11)\n",
        "\n",
        "# Initial guesses\n",
        "a2 = 1.1  # Initial guess for g2\n",
        "a3 = 1.1  # Initial guess for g3\n",
        "a4 = 1.1  # Initial guess for g4\n",
        "\n",
        "# Lists to store values\n",
        "g2_a = [a2]\n",
        "g3_a = [a3]\n",
        "g4_a = [a4]\n",
        "\n",
        "max_iter = 20  # Number of iterations\n",
        "\n",
        "# Fixed-point iteration starts here\n",
        "for i in range(max_iter):\n",
        "    a2_new = g2(g2_a[-1])\n",
        "    g2_a.append(a2_new)\n",
        "\n",
        "    a3_new = g3(g3_a[-1])\n",
        "    g3_a.append(a3_new)\n",
        "\n",
        "    a4_new = g4(g4_a[-1])\n",
        "    g4_a.append(a4_new)\n",
        "\n",
        "# Print results in DataFrame format\n",
        "print(\"g2(x) iterations:\")\n",
        "print(pd.DataFrame({'Iteration': range(len(g2_a)), 'Value': g2_a}))\n",
        "\n",
        "print(\"\\ng3(x) iterations:\")\n",
        "print(pd.DataFrame({'Iteration': range(len(g3_a)), 'Value': g3_a}))\n",
        "\n",
        "print(\"\\ng4(x) iterations:\")\n",
        "print(pd.DataFrame({'Iteration': range(len(g4_a)), 'Value': g4_a}))\n"
      ]
    },
    {
      "cell_type": "code",
      "execution_count": null,
      "metadata": {},
      "outputs": [],
      "source": []
    },
    {
      "cell_type": "code",
      "execution_count": null,
      "metadata": {},
      "outputs": [],
      "source": []
    }
  ],
  "metadata": {
    "colab": {
      "provenance": []
    },
    "kernelspec": {
      "display_name": "Python 3",
      "name": "python3"
    },
    "language_info": {
      "codemirror_mode": {
        "name": "ipython",
        "version": 3
      },
      "file_extension": ".py",
      "mimetype": "text/x-python",
      "name": "python",
      "nbconvert_exporter": "python",
      "pygments_lexer": "ipython3",
      "version": "3.9.13"
    }
  },
  "nbformat": 4,
  "nbformat_minor": 0
}
