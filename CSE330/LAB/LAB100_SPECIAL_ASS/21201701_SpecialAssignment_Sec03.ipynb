{
  "cells": [
    {
      "cell_type": "markdown",
      "metadata": {
        "id": "8k58gExP8G-P"
      },
      "source": [
        "## **CSE330 Section 03 Special Assignment Summer 2024** (Total Marks : 10)"
      ]
    },
    {
      "cell_type": "code",
      "execution_count": 25,
      "metadata": {
        "id": "Ud_54Jkr8Ptf"
      },
      "outputs": [],
      "source": [
        "Name = \"Tahmid Iqbal\"\n",
        "ID = \"21201701\"\n",
        "Section = \"03\"\n",
        "github = \" https://github.com/TahmidRaven\" \n"
      ]
    },
    {
      "cell_type": "markdown",
      "metadata": {
        "id": "YJoWO7EPZvu-"
      },
      "source": [
        "# Question 01 [1 + 2 + 1.5 + 1.5 Marks]"
      ]
    },
    {
      "cell_type": "markdown",
      "metadata": {
        "id": "8jjDtHfSZ0UN"
      },
      "source": [
        "Consider the following function:\n",
        "$$ f(x) = x^3 - 6x^2 + 11x -6 $$\n",
        "\n"
      ]
    },
    {
      "cell_type": "markdown",
      "metadata": {
        "id": "QuZL91WLValv"
      },
      "source": [
        "1(i) Print and plot the Actual roots, `x*`, of the given function. Round the roots to 4 decimal places."
      ]
    },
    {
      "cell_type": "markdown",
      "metadata": {},
      "source": [
        "# Solution 1(i)"
      ]
    },
    {
      "cell_type": "code",
      "execution_count": 26,
      "metadata": {},
      "outputs": [],
      "source": [
        "import numpy as np\n",
        "from numpy.polynomial import Polynomial\n",
        "import matplotlib.pyplot as plt\n",
        "\n",
        " \n",
        "#given function f(x) = x^3 - 6x^2 + 11x - 6\n",
        "f = Polynomial([-6, 11, -6, 1])\n",
        "\n",
        "x = np.linspace(0, 4, 70)\n",
        "y = f(x)\n",
        "\n",
        "roots = f.roots()\n",
        "rounding_root = np.round(roots, 4)"
      ]
    },
    {
      "cell_type": "code",
      "execution_count": 27,
      "metadata": {},
      "outputs": [
        {
          "name": "stdout",
          "output_type": "stream",
          "text": [
            "Actual roots (x*): [1. 2. 3.]\n"
          ]
        },
        {
          "data": {
            "image/png": "[encoded data removed]",
            "text/plain": [
              "<Figure size 640x480 with 1 Axes>"
            ]
          },
          "metadata": {},
          "output_type": "display_data"
        }
      ],
      "source": [
        "\n",
        "print(\"Actual roots (x*):\", rounding_root)\n",
        "\n",
        "plt.axhline(0, color='r', linestyle='--')   \n",
        "plt.plot(x, y, 'b', label='f(x)')  # polynomial\n",
        "plt.scatter(rounding_root, [0]*len(rounding_root), color='black', zorder=5, label='Roots')  \n",
        "\n",
        "plt.title('Graph of f(x) and x* (roots)')\n",
        "plt.xlabel('x')\n",
        "plt.ylabel('f(x)')\n",
        "plt.legend()\n",
        "\n",
        "plt.grid(True)\n",
        "plt.show()"
      ]
    },
    {
      "cell_type": "code",
      "execution_count": 1,
      "metadata": {
        "id": "R5GCGKEdVa8A"
      },
      "outputs": [],
      "source": []
    },
    {
      "cell_type": "markdown",
      "metadata": {
        "id": "V-krz9evhwC2"
      },
      "source": [
        "**1(ii)** The following $g_{1}(x)$ is given which is derived from the above $f(x)$\\\n",
        "$$g_{1}(x) = \\frac{-x^3 +6x^2 + 6}{11}$$\\\n",
        "Use Contraction Mapping Theorem and calculate the value of λ for all the actual roots. Print whether the $g_{1}(x)$ is converging or diverging.\n",
        "\n",
        "\n",
        "\n"
      ]
    },
    {
      "cell_type": "markdown",
      "metadata": {},
      "source": [
        "# Solution 1(ii)"
      ]
    },
    {
      "cell_type": "code",
      "execution_count": 28,
      "metadata": {
        "id": "ZlcP_fHOZzgd"
      },
      "outputs": [
        {
          "name": "stdout",
          "output_type": "stream",
          "text": [
            "g1'(1.0) = 0.8182\n",
            "g1(x) converges at x = 1.0000\n",
            "\n",
            "g1'(2.0) = 1.0909\n",
            "g1(x) diverges at x = 2.0000\n",
            "\n",
            "g1'(3.0) = 0.8182\n",
            "g1(x) converges at x = 3.0000\n",
            "\n"
          ]
        }
      ],
      "source": [
        "# Solution 1(II)\n",
        "\n",
        "import numpy as np\n",
        "from numpy.polynomial import Polynomial\n",
        "\n",
        "def g1(x):\n",
        "    return (-x**3 + 6*x**2 + 6) / 11\n",
        "\n",
        "def g1_derivative(x):\n",
        "    return (-3*x**2 + 12*x) / 11\n",
        "\n",
        "f = Polynomial([-6, 11, -6, 1])\n",
        "\n",
        "roots = f.roots()\n",
        "rounding_root = np.round(roots, 4)\n",
        "\n",
        "# we know |g'(x*)| < 1 : Converge\n",
        "\n",
        "#         |g'(x*)| >= 1 : Diverges\n",
        "\n",
        "for root in rounding_root:\n",
        "    derivat_at_xroot = g1_derivative(root)\n",
        "    print(f\"g1'({root}) = {derivat_at_xroot:.4f}\")\n",
        "    \n",
        "    if abs(derivat_at_xroot) < 1:\n",
        "        print(f\"g1(x) converges at x = {root:.4f}\\n\")\n",
        "    else:\n",
        "        print(f\"g1(x) diverges at x = {root:.4f}\\n\")\n"
      ]
    },
    {
      "cell_type": "markdown",
      "metadata": {
        "id": "2vJPbMxTdkYQ"
      },
      "source": [
        "**1(iii)** Derive 3 more separate $g_{2}(x)$, $g_{3}(x)$ and $g_{4}(x)$ from the given $f(x)$. Represent those in the code."
      ]
    },
    {
      "cell_type": "markdown",
      "metadata": {},
      "source": [
        "# Solution 1(iii)"
      ]
    },
    {
      "cell_type": "code",
      "execution_count": 29,
      "metadata": {},
      "outputs": [],
      "source": [
        "import numpy as np\n",
        "from numpy.polynomial import Polynomial\n",
        "import matplotlib.pyplot as plt\n",
        "\n",
        "# Given function f(x) = x^3 - 6x^2 + 11x - 6\n",
        "f = Polynomial([-6, 11, -6, 1])"
      ]
    },
    {
      "cell_type": "code",
      "execution_count": 11,
      "metadata": {},
      "outputs": [],
      "source": [
        "def g2(x):\n",
        "    return (6 + 6*x - 11*x**2)**(1/3)\n",
        "\n",
        "def g3(x):\n",
        "    return (6 + x**3) / 11\n",
        "\n",
        "def g4(x):\n",
        "    return 6 - (x**3 / 11) + (6 * x**2 / 11)   \n",
        "\n",
        "def g2_derivative(x):\n",
        "    return (2 * (11 * x**2 - 3) / (3 * (6 + 6*x - 11*x**2)**(2/3)))\n",
        "\n",
        "def g3_derivative(x):\n",
        "    return (3 * x**2) / 11\n",
        "\n",
        "def g4_derivative(x):\n",
        "    return (-3 * x**2 + 12 * x) / 11   \n",
        "\n",
        "roots = f.roots()\n",
        "rounding_root = np.round(roots, 4)\n"
      ]
    },
    {
      "cell_type": "code",
      "execution_count": 30,
      "metadata": {},
      "outputs": [
        {
          "name": "stdout",
          "output_type": "stream",
          "text": [
            "g2'(1.0) = 5.3333\n",
            "g2(x) diverges at x = 1.0000\n",
            "\n",
            "g3'(1.0) = 0.2727\n",
            "g3(x) converges at x = 1.0000\n",
            "\n",
            "g4'(1.0) = 0.8182\n",
            "g4(x) converges at x = 1.0000\n",
            "\n",
            "g2'(2.0) = nan\n",
            "g2(x) diverges at x = 2.0000\n",
            "\n",
            "g3'(2.0) = 1.0909\n",
            "g3(x) diverges at x = 2.0000\n",
            "\n",
            "g4'(2.0) = 1.0909\n",
            "g4(x) diverges at x = 2.0000\n",
            "\n",
            "g2'(3.0) = nan\n",
            "g2(x) diverges at x = 3.0000\n",
            "\n",
            "g3'(3.0) = 2.4545\n",
            "g3(x) diverges at x = 3.0000\n",
            "\n",
            "g4'(3.0) = 0.8182\n",
            "g4(x) converges at x = 3.0000\n",
            "\n"
          ]
        },
        {
          "name": "stderr",
          "output_type": "stream",
          "text": [
            "C:\\Users\\hp\\AppData\\Local\\Temp\\ipykernel_1884\\901555750.py:19: RuntimeWarning: invalid value encountered in scalar power\n",
            "  return (2 * (11 * x**2 - 3) / (3 * (6 + 6*x - 11*x**2)**(2/3)))\n"
          ]
        }
      ],
      "source": [
        "for root in rounding_root:\n",
        "    for g, g_derivative, g_index in zip([g2, g3, g4], [g2_derivative, g3_derivative, g4_derivative], [2, 3, 4]):\n",
        "        derivat_at_xroot = g_derivative(root)\n",
        "        print(f\"g{g_index}'({root}) = {derivat_at_xroot:.4f}\")\n",
        "        \n",
        "        if abs(derivat_at_xroot) < 1:\n",
        "            print(f\"g{g_index}(x) converges at x = {root:.4f}\\n\")\n",
        "        else:\n",
        "            print(f\"g{g_index}(x) diverges at x = {root:.4f}\\n\")"
      ]
    },
    {
      "cell_type": "markdown",
      "metadata": {
        "id": "8clO5Vpbf80f"
      },
      "source": [
        "**1(iv)** Find the approximate root, `x*`, of the above function using Fixed Point Iterations where $x_{0}$ = 1.1 and any of the converging `g(x)` that you have constructed in 1(iii). Show 20 iterations."
      ]
    },
    {
      "cell_type": "markdown",
      "metadata": {},
      "source": [
        "# Solution 1(iv)"
      ]
    },
    {
      "cell_type": "code",
      "execution_count": 18,
      "metadata": {},
      "outputs": [],
      "source": [
        "import numpy as np\n",
        "from numpy.polynomial import Polynomial\n",
        "\n",
        "# Given function f(x) = x^3 - 6x^2 + 11x - 6\n",
        "f = Polynomial([-6, 11, -6, 1])  # taking pol from gvn func"
      ]
    },
    {
      "cell_type": "code",
      "execution_count": 23,
      "metadata": {
        "id": "bluhhukcjAr9"
      },
      "outputs": [
        {
          "name": "stdout",
          "output_type": "stream",
          "text": [
            "Fixed Point Iterations for g2(x):\n",
            "\n",
            "\n",
            "Iteration 0: x = 1.100000\n",
            "Iteration 1: x = 0.446056+0.772592j\n",
            "Iteration 2: x = 2.367643-0.175504j\n",
            "Iteration 3: x = 1.927706+2.889421j\n",
            "Iteration 4: x = 4.735295-1.628055j\n",
            "Iteration 5: x = 4.312077+4.511198j\n",
            "Iteration 6: x = 6.553643-3.422379j\n",
            "Iteration 7: x = 6.241258+5.377321j\n",
            "Iteration 8: x = 7.578843-4.700175j\n",
            "Iteration 9: x = 7.395661+5.782441j\n",
            "Iteration 10: x = 8.093816-5.421520j\n",
            "Iteration 11: x = 7.998652+5.967303j\n",
            "Iteration 12: x = 8.341254-5.788382j\n",
            "Iteration 13: x = 8.294625+6.051992j\n",
            "Iteration 14: x = 8.458017-5.966250j\n",
            "Iteration 15: x = 8.435791+6.091048j\n",
            "Iteration 16: x = 8.512689-6.050603j\n",
            "Iteration 17: x = 8.502231+6.109137j\n",
            "Iteration 18: x = 8.538200-6.090199j\n",
            "Iteration 19: x = 8.533309+6.117535j\n",
            "Iteration 20: x = 8.550086-6.108698j\n"
          ]
        }
      ],
      "source": [
        "def g2(x):\n",
        "    return (6 + 6*x - 11*x**2)**(1/3)\n",
        "\n",
        "def fixed_point_iter(g, x0, iterations): # Fixed Point func\n",
        "    xVals = [x0]\n",
        "    for i in range(iterations):\n",
        "        x_next = g(xVals[-1])\n",
        "        xVals.append(x_next)\n",
        "        \n",
        "    return xVals\n",
        "\n",
        "x0 = 1.1\n",
        "iterations = 20\n",
        "\n",
        "xVals = fixed_point_iter(g2, x0, iterations)\n",
        "\n",
        "print(\"Fixed Point Iterations for g2(x):\") \n",
        "print(\"\\n\")\n",
        "for i, x in enumerate(xVals):\n",
        "    print(f\"Iteration {i}: x = {x:.6f}\")\n"
      ]
    },
    {
      "cell_type": "markdown",
      "metadata": {
        "id": "FM-r0yyqSlet"
      },
      "source": [
        "#Question 02 [4 Marks]"
      ]
    },
    {
      "cell_type": "markdown",
      "metadata": {
        "id": "jmv1FlurSglN"
      },
      "source": [
        "Consider the following function:\n",
        "$$ f(x) = 5x^6-x^5+7x^4+3.75x^3-2x^2+1.5x+15 $$\n",
        "Now, compute the Second Degree Richarson Extrapolation, `D^{2}` at `x = 1` and `h = 0.3` when the formula is derived using `h -> h/4`. Print the answer upto 2 decimal places.\n",
        "\n",
        "\n",
        "**N.B.** You can use the previously learned methods while solving the problem."
      ]
    },
    {
      "cell_type": "markdown",
      "metadata": {},
      "source": [
        "# Solution for Q02:\n",
        "### used polynomials instead of taking the function. would give the same result nonetheless"
      ]
    },
    {
      "cell_type": "code",
      "execution_count": 9,
      "metadata": {},
      "outputs": [
        {
          "name": "stdout",
          "output_type": "stream",
          "text": [
            "Second Degree Richardson Extrapolation at x = 1, h = 0.3: 61.75\n",
            "First Degree Richardson Extrapolation at x = 1, h = 0.3: 58.93\n"
          ]
        }
      ],
      "source": [
        "import numpy as np\n",
        "from numpy.polynomial import Polynomial\n",
        "\n",
        "given_func = Polynomial([15, 1.5, -2, 3.75, 7, -1, 5])  # our function in polynomial form\n",
        "\n",
        "def dh(f, h, x):\n",
        "    return (f(x + h) - f(x - h)) / (2 * h)  # used central def \n",
        "\n",
        "def dh1(f, h, x):   # first degree RE\n",
        "    dh_h = dh(f, h, x)\n",
        "    dh_h4 = dh(f, h / 4, x)\n",
        "    return (4 * dh_h4 - dh_h) / 3\n",
        "\n",
        " \n",
        "def dh2(f, h, x): # sec degree RE\n",
        "    dh1_h = dh1(f, h, x)\n",
        "    dh1_h4 = dh1(f, h / 4, x)\n",
        "    return (16 * dh1_h4 - dh1_h) / 15\n",
        "\n",
        " \n",
        "x = 1\n",
        "h = 0.3\n",
        "second_degree_derivative = dh2(given_func, h, x)\n",
        "first_degree_derivative = dh1(given_func, h, x)\n",
        "print(f\"Second Degree Richardson Extrapolation at x = {x}, h = {h}: {second_degree_derivative:.2f}\")\n",
        "print(f\"First Degree Richardson Extrapolation at x = {x}, h = {h}: {first_degree_derivative:.2f}\")\n"
      ]
    },
    {
      "cell_type": "markdown",
      "metadata": {},
      "source": [
        "### same solution diff approach: instead of polinomials we take the function"
      ]
    },
    {
      "cell_type": "code",
      "execution_count": 10,
      "metadata": {},
      "outputs": [
        {
          "name": "stdout",
          "output_type": "stream",
          "text": [
            "Second Degree Richardson Extrapolation at x = 1, h = 0.3: 61.75\n",
            "First Degree Richardson Extrapolation at x = 1, h = 0.3: 58.93\n"
          ]
        }
      ],
      "source": [
        "import numpy as np\n",
        "from numpy.polynomial import Polynomial\n",
        "\n",
        "def f(x):\n",
        "    return 5*x**6 - x**5 + 7*x**4 + 3.75*x**3 - 2*x**2 + 1.5*x + 15\n",
        "\n",
        "def dh(f, h, x):\n",
        "    return (f(x + h) - f(x - h)) / (2 * h)  # used central def \n",
        "\n",
        "def dh1(f, h, x):   # first degree RE\n",
        "    dh_h = dh(f, h, x)\n",
        "    dh_h4 = dh(f, h / 4, x)\n",
        "    return (4 * dh_h4 - dh_h) / 3\n",
        "\n",
        " \n",
        "def dh2(f, h, x): # sec degree RE\n",
        "    dh1_h = dh1(f, h, x)\n",
        "    dh1_h4 = dh1(f, h / 4, x)\n",
        "    return (16 * dh1_h4 - dh1_h) / 15\n",
        "\n",
        " \n",
        "x = 1\n",
        "h = 0.3\n",
        "second_degree_derivative = dh2(f, h, x)\n",
        "first_degree_derivative = dh1(f, h, x)\n",
        "print(f\"Second Degree Richardson Extrapolation at x = {x}, h = {h}: {second_degree_derivative:.2f}\")\n",
        "print(f\"First Degree Richardson Extrapolation at x = {x}, h = {h}: {first_degree_derivative:.2f}\")\n"
      ]
    }
  ],
  "metadata": {
    "colab": {
      "provenance": []
    },
    "kernelspec": {
      "display_name": "Python 3",
      "name": "python3"
    },
    "language_info": {
      "codemirror_mode": {
        "name": "ipython",
        "version": 3
      },
      "file_extension": ".py",
      "mimetype": "text/x-python",
      "name": "python",
      "nbconvert_exporter": "python",
      "pygments_lexer": "ipython3",
      "version": "3.9.13"
    }
  },
  "nbformat": 4,
  "nbformat_minor": 0
}
