{
  "nbformat": 4,
  "nbformat_minor": 0,
  "metadata": {
    "colab": {
      "provenance": []
    },
    "kernelspec": {
      "name": "python3",
      "display_name": "Python 3"
    },
    "language_info": {
      "name": "python"
    }
  },
  "cells": [
    {
      "cell_type": "code",
      "execution_count": null,
      "metadata": {
        "id": "6o8sPJO5lwZU"
      },
      "outputs": [],
      "source": [
        "'LAB MID Question'\n",
        "\n",
        "Name= \"Anisha Irin Ahmed\"\n",
        "ID=\"21201552\"\n",
        "Section=\"12\"\n",
        "Time = \"40 Minutes\""
      ]
    },
    {
      "cell_type": "code",
      "source": [
        "import numpy as np\n",
        "import matplotlib.pyplot as plt\n",
        "from itertools import combinations\n",
        "from numpy.polynomial import Polynomial"
      ],
      "metadata": {
        "id": "NBMVblKcl5hR"
      },
      "execution_count": null,
      "outputs": []
    },
    {
      "cell_type": "markdown",
      "source": [
        "Q1. [3 marks] Display a polynomial of appropriate degree which is given below:\n",
        "\n",
        "$(x+6)(x^3-2)(x-1)$\n",
        "\n",
        "**Hints: Use built-in Polynomial class.**\n",
        "\n",
        "Also compute the approximate value of polynomial at x=6.\n",
        "\n"
      ],
      "metadata": {
        "id": "VKi1wCIkmJ5v"
      }
    },
    {
      "cell_type": "code",
      "source": [
        "#Q1\n",
        "#Use built-in Polynomial class\n",
        "coeff=[12,-10,-2,-6,5,1]\n",
        "p=Polynomial(coeff)\n",
        "display(p)\n",
        "\n",
        "x=6\n",
        "value=p(x)\n",
        "print(value)"
      ],
      "metadata": {
        "id": "oj6RnJoGl5DQ",
        "colab": {
          "base_uri": "https://localhost:8080/",
          "height": 56
        },
        "outputId": "427a19e0-4a06-44ba-8153-c1da01663ae9"
      },
      "execution_count": null,
      "outputs": [
        {
          "output_type": "display_data",
          "data": {
            "text/plain": [
              "Polynomial([ 12., -10.,  -2.,  -6.,   5.,   1.], domain=[-1,  1], window=[-1,  1], symbol='x')"
            ],
            "text/latex": "$x \\mapsto \\text{12.0} - \\text{10.0}\\,x - \\text{2.0}\\,x^{2} - \\text{6.0}\\,x^{3} + \\text{5.0}\\,x^{4} + \\text{1.0}\\,x^{5}$"
          },
          "metadata": {}
        },
        {
          "output_type": "stream",
          "name": "stdout",
          "text": [
            "12840.0\n"
          ]
        }
      ]
    },
    {
      "cell_type": "markdown",
      "source": [
        "Q2. [3 marks] We know standard format of polynomial of degree 3 :\n",
        "\n",
        "$P(x)= a_0 + a_1x + a_2x^2 + a_3x^3$\n",
        "\n",
        "But you have to create a different version of polynomial which is given below:\n",
        "\n",
        "$P(x)= a_3 + a_2x + a_1x^2 + a_0x^3$\n",
        "\n",
        "Then find approximate value of your created polynomial at x=2\n",
        "\n",
        "Coefficients are given $[a_0,a_1,a_2,a_\n",
        "3]=[2,4,6,8]$"
      ],
      "metadata": {
        "id": "1WtaFkRzmL5A"
      }
    },
    {
      "cell_type": "code",
      "source": [
        "#Q2\n",
        "coeff=[2,4,6,8]\n",
        "n= len(coeff)-1\n",
        "px=0\n",
        "x=2\n",
        "#use a loop to find value of px at x\n",
        "\n",
        "for i in range(len(coeff)):\n",
        "  val=n-i\n",
        "  px+=coeff[val]*x**i\n",
        "\n",
        "print(px)\n",
        "#Ans should be 26"
      ],
      "metadata": {
        "id": "5DPtCT2an0O0",
        "colab": {
          "base_uri": "https://localhost:8080/"
        },
        "outputId": "fae002b1-60de-4346-b7a0-c7765c759707"
      },
      "execution_count": null,
      "outputs": [
        {
          "output_type": "stream",
          "name": "stdout",
          "text": [
            "52\n"
          ]
        }
      ]
    },
    {
      "cell_type": "markdown",
      "source": [
        "Q3. [3 marks] You all know the formula of Lagrange basis. But Messi created another basis which is called Leo basis. the formula of this basis is given below:\n",
        "\n",
        "\\begin{equation}\n",
        "L_m(x) = \\prod_{j=0,j\\neq m}^{n} \\frac{x-x_j}{(x_m-x_j)^2}\n",
        "\\end{equation}"
      ],
      "metadata": {
        "id": "xf7QCfDpn8Ey"
      }
    },
    {
      "cell_type": "code",
      "source": [
        "#Q3\n",
        "#node_x means an array of nodes, x means a value, t means a value\n",
        "def leo(m, node_x, x):\n",
        "  L_m= 1 #initialization\n",
        "  #Use a loop to find basis\n",
        "  for i in range(len(node_x)):\n",
        "    if i!=m:\n",
        "      L_m*= ((x-node_x[i])/(node_x[m]-node_x[i])**2)\n",
        "\n",
        "\n",
        "\n",
        "  return L_m"
      ],
      "metadata": {
        "id": "6GAewyr1ooaH"
      },
      "execution_count": null,
      "outputs": []
    },
    {
      "cell_type": "code",
      "source": [
        "#Q3\n",
        "#Tester code\n",
        "node_x=[1,2,3,4]\n",
        "x=6\n",
        "print(leo(1,node_x,x))\n",
        "\n"
      ],
      "metadata": {
        "id": "A1jwz18LovB2",
        "colab": {
          "base_uri": "https://localhost:8080/"
        },
        "outputId": "27c7c3f1-bfc5-4ff5-ab7b-db16097b41da"
      },
      "execution_count": null,
      "outputs": [
        {
          "output_type": "stream",
          "name": "stdout",
          "text": [
            "7.5\n"
          ]
        }
      ]
    },
    {
      "cell_type": "markdown",
      "source": [
        "Q4. [3 marks] Suppose, you have 3 nodes($x_0$, $x_1$, $x_2$). We know standard format of Vandermonde matrix looks like:\n",
        "\n",
        "$$[[x_0^0, x_0^1, x_0^2]$$\n",
        "\n",
        " $$[x_1^0, x_1^1, x_1^2]$$\n",
        "\n",
        " $$[x_2^0, x_2^1, x_2^2]]$$\n",
        "\n",
        " But you have to create a modified version of this matrix which should look like:\n",
        "\n",
        " $$[[x_0^3, x_0^2, x_0^1]$$\n",
        "\n",
        " $$[x_1^3, x_1^2, x_1^1]$$\n",
        "\n",
        "$$[x_2^3, x_2^2, x_2^1]]$$\n"
      ],
      "metadata": {
        "id": "CeQqITtxpKpO"
      }
    },
    {
      "cell_type": "code",
      "source": [
        "#Q4\n",
        "nodes = [1,2,3]\n",
        "n = len(nodes)-1\n",
        "\n",
        "#fill up dimention\n",
        "V = np.zeros((n,n))\n",
        "\n",
        "#compute V matrix\n",
        "#your code here\n",
        "for i in range(len(nodes)):\n",
        "  for j in range(len(nodes)):\n",
        "    V[i][j]= nodes[i]**j\n",
        "\n",
        "print(V)\n",
        "\n",
        "#Answer should look like:\n",
        "# [[1,1,1]\n",
        "#  [8,4,2]\n",
        "#  [27,9,3]]"
      ],
      "metadata": {
        "id": "b1ydjKJhpKHm",
        "colab": {
          "base_uri": "https://localhost:8080/",
          "height": 211
        },
        "outputId": "615194d8-9a88-47fa-bd85-3a8979d79ca6"
      },
      "execution_count": null,
      "outputs": [
        {
          "output_type": "error",
          "ename": "IndexError",
          "evalue": "index 2 is out of bounds for axis 0 with size 2",
          "traceback": [
            "\u001b[0;31m---------------------------------------------------------------------------\u001b[0m",
            "\u001b[0;31mIndexError\u001b[0m                                Traceback (most recent call last)",
            "\u001b[0;32m<ipython-input-31-9bd363666810>\u001b[0m in \u001b[0;36m<cell line: 10>\u001b[0;34m()\u001b[0m\n\u001b[1;32m     10\u001b[0m \u001b[0;32mfor\u001b[0m \u001b[0mi\u001b[0m \u001b[0;32min\u001b[0m \u001b[0mrange\u001b[0m\u001b[0;34m(\u001b[0m\u001b[0mlen\u001b[0m\u001b[0;34m(\u001b[0m\u001b[0mnodes\u001b[0m\u001b[0;34m)\u001b[0m\u001b[0;34m)\u001b[0m\u001b[0;34m:\u001b[0m\u001b[0;34m\u001b[0m\u001b[0;34m\u001b[0m\u001b[0m\n\u001b[1;32m     11\u001b[0m   \u001b[0;32mfor\u001b[0m \u001b[0mj\u001b[0m \u001b[0;32min\u001b[0m \u001b[0mrange\u001b[0m\u001b[0;34m(\u001b[0m\u001b[0mlen\u001b[0m\u001b[0;34m(\u001b[0m\u001b[0mnodes\u001b[0m\u001b[0;34m)\u001b[0m\u001b[0;34m)\u001b[0m\u001b[0;34m:\u001b[0m\u001b[0;34m\u001b[0m\u001b[0;34m\u001b[0m\u001b[0m\n\u001b[0;32m---> 12\u001b[0;31m     \u001b[0mV\u001b[0m\u001b[0;34m[\u001b[0m\u001b[0mi\u001b[0m\u001b[0;34m]\u001b[0m\u001b[0;34m[\u001b[0m\u001b[0mj\u001b[0m\u001b[0;34m]\u001b[0m\u001b[0;34m=\u001b[0m \u001b[0mnodes\u001b[0m\u001b[0;34m[\u001b[0m\u001b[0mi\u001b[0m\u001b[0;34m]\u001b[0m\u001b[0;34m**\u001b[0m\u001b[0mj\u001b[0m\u001b[0;34m\u001b[0m\u001b[0;34m\u001b[0m\u001b[0m\n\u001b[0m\u001b[1;32m     13\u001b[0m \u001b[0;34m\u001b[0m\u001b[0m\n\u001b[1;32m     14\u001b[0m \u001b[0mprint\u001b[0m\u001b[0;34m(\u001b[0m\u001b[0mV\u001b[0m\u001b[0;34m)\u001b[0m\u001b[0;34m\u001b[0m\u001b[0;34m\u001b[0m\u001b[0m\n",
            "\u001b[0;31mIndexError\u001b[0m: index 2 is out of bounds for axis 0 with size 2"
          ]
        }
      ]
    },
    {
      "cell_type": "markdown",
      "source": [
        "Q5. [3 marks] Given the nodes (1,1.2),(3,3.6),(5,6), (11,13.2),\n",
        "\n",
        "Compute the value of F(x) where n+1 is the number of nodes.\n",
        "\n",
        "\\begin{equation}\n",
        "f(x) = \\sum_{i=0}^{n} \\frac{x_i * y_i}{x-x_i}\n",
        "\\end{equation}"
      ],
      "metadata": {
        "id": "pvnlyGuZOIK0"
      }
    },
    {
      "cell_type": "code",
      "source": [
        "#Q5\n",
        "val=0\n",
        "data_x = np.array([1,3,5,11])\n",
        "data_y = np.array([1.2,3.6,6,13.2])\n",
        "def func(x):\n",
        "  #write your code here\n",
        "  for i in range(len(data_x)):\n",
        "    val+=(data_x[i]*data_y[i])/x- data_x[i]\n",
        "\n",
        "\n",
        "\n",
        "  return val"
      ],
      "metadata": {
        "id": "8bDZMvCFPegW"
      },
      "execution_count": null,
      "outputs": []
    },
    {
      "cell_type": "code",
      "source": [
        "#Q5\n",
        "#this displayes the answer\n",
        "\n",
        "print(func(5))"
      ],
      "metadata": {
        "id": "clb7tGjaP1rt",
        "colab": {
          "base_uri": "https://localhost:8080/",
          "height": 297
        },
        "outputId": "68eda0e1-2681-4204-b2a3-a5a7281e1633"
      },
      "execution_count": null,
      "outputs": [
        {
          "output_type": "error",
          "ename": "UnboundLocalError",
          "evalue": "local variable 'val' referenced before assignment",
          "traceback": [
            "\u001b[0;31m---------------------------------------------------------------------------\u001b[0m",
            "\u001b[0;31mUnboundLocalError\u001b[0m                         Traceback (most recent call last)",
            "\u001b[0;32m<ipython-input-34-c224bf90d002>\u001b[0m in \u001b[0;36m<cell line: 4>\u001b[0;34m()\u001b[0m\n\u001b[1;32m      2\u001b[0m \u001b[0;31m#this displayes the answer\u001b[0m\u001b[0;34m\u001b[0m\u001b[0;34m\u001b[0m\u001b[0m\n\u001b[1;32m      3\u001b[0m \u001b[0;34m\u001b[0m\u001b[0m\n\u001b[0;32m----> 4\u001b[0;31m \u001b[0mprint\u001b[0m\u001b[0;34m(\u001b[0m\u001b[0mfunc\u001b[0m\u001b[0;34m(\u001b[0m\u001b[0;36m5\u001b[0m\u001b[0;34m)\u001b[0m\u001b[0;34m)\u001b[0m\u001b[0;34m\u001b[0m\u001b[0;34m\u001b[0m\u001b[0m\n\u001b[0m",
            "\u001b[0;32m<ipython-input-33-f0cfa9ecb445>\u001b[0m in \u001b[0;36mfunc\u001b[0;34m(x)\u001b[0m\n\u001b[1;32m      6\u001b[0m   \u001b[0;31m#write your code here\u001b[0m\u001b[0;34m\u001b[0m\u001b[0;34m\u001b[0m\u001b[0m\n\u001b[1;32m      7\u001b[0m   \u001b[0;32mfor\u001b[0m \u001b[0mi\u001b[0m \u001b[0;32min\u001b[0m \u001b[0mrange\u001b[0m\u001b[0;34m(\u001b[0m\u001b[0mlen\u001b[0m\u001b[0;34m(\u001b[0m\u001b[0mdata_x\u001b[0m\u001b[0;34m)\u001b[0m\u001b[0;34m)\u001b[0m\u001b[0;34m:\u001b[0m\u001b[0;34m\u001b[0m\u001b[0;34m\u001b[0m\u001b[0m\n\u001b[0;32m----> 8\u001b[0;31m     \u001b[0mval\u001b[0m\u001b[0;34m+=\u001b[0m\u001b[0;34m(\u001b[0m\u001b[0mdata_x\u001b[0m\u001b[0;34m[\u001b[0m\u001b[0mi\u001b[0m\u001b[0;34m]\u001b[0m\u001b[0;34m*\u001b[0m\u001b[0mdata_y\u001b[0m\u001b[0;34m[\u001b[0m\u001b[0mi\u001b[0m\u001b[0;34m]\u001b[0m\u001b[0;34m)\u001b[0m\u001b[0;34m/\u001b[0m\u001b[0mx\u001b[0m\u001b[0;34m-\u001b[0m \u001b[0mdata_x\u001b[0m\u001b[0;34m[\u001b[0m\u001b[0mi\u001b[0m\u001b[0;34m]\u001b[0m\u001b[0;34m\u001b[0m\u001b[0;34m\u001b[0m\u001b[0m\n\u001b[0m\u001b[1;32m      9\u001b[0m \u001b[0;34m\u001b[0m\u001b[0m\n\u001b[1;32m     10\u001b[0m \u001b[0;34m\u001b[0m\u001b[0m\n",
            "\u001b[0;31mUnboundLocalError\u001b[0m: local variable 'val' referenced before assignment"
          ]
        }
      ]
    }
  ]
}