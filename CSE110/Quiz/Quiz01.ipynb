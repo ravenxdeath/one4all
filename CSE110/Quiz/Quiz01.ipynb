{
 "cells": [
  {
   "cell_type": "code",
   "execution_count": 2,
   "metadata": {},
   "outputs": [
    {
     "name": "stdout",
     "output_type": "stream",
     "text": [
      "Result= 1900\n"
     ]
    }
   ],
   "source": [
    "num = int(input(\"Enter a number:\"))\n",
    "total= 0\n",
    "\n",
    "if num % 2 == 0:\n",
    "    for i in range(1,num+1):\n",
    "        if i % 3 == 0:\n",
    "            total += i\n",
    "else:\n",
    "    for i in range(1,num+1):\n",
    "        if i % 5 == 0:\n",
    "            total += i\n",
    "\n",
    "result = total*len(str(num))\n",
    "print(\"Result=\",result)"
   ]
  }
 ],
 "metadata": {
  "interpreter": {
   "hash": "a12d694c3ccac42055183a0ad11e659c6a2db5c6555ad2c8919d5814fd4e404f"
  },
  "kernelspec": {
   "display_name": "Python 3.9.5 64-bit (system)",
   "language": "python",
   "name": "python3"
  },
  "language_info": {
   "codemirror_mode": {
    "name": "ipython",
    "version": 3
   },
   "file_extension": ".py",
   "mimetype": "text/x-python",
   "name": "python",
   "nbconvert_exporter": "python",
   "pygments_lexer": "ipython3",
   "version": "3.9.5"
  },
  "orig_nbformat": 4
 },
 "nbformat": 4,
 "nbformat_minor": 2
}
