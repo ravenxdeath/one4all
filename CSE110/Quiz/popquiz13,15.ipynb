{
 "cells": [
  {
   "cell_type": "code",
   "execution_count": 2,
   "metadata": {},
   "outputs": [
    {
     "name": "stdout",
     "output_type": "stream",
     "text": [
      "24\n"
     ]
    }
   ],
   "source": [
    "x= [1,2,3,4,[21,22,23,24]]\n",
    "print(x[-1][-1])\n"
   ]
  },
  {
   "cell_type": "code",
   "execution_count": 5,
   "metadata": {},
   "outputs": [
    {
     "name": "stdout",
     "output_type": "stream",
     "text": [
      "{'one': '1', 'two': 2, 'three': 3, 1: 'one'}\n"
     ]
    }
   ],
   "source": [
    "numbers = {\"one\":1, \"two\":2, \"three\":3}\n",
    "numbers.update({1:\"one\"})\n",
    "numbers[\"one\"] =  '1'\n",
    "print(numbers)"
   ]
  },
  {
   "cell_type": "code",
   "execution_count": 10,
   "metadata": {},
   "outputs": [
    {
     "ename": "KeyError",
     "evalue": "'1st_name'",
     "output_type": "error",
     "traceback": [
      "\u001b[1;31m---------------------------------------------------------------------------\u001b[0m",
      "\u001b[1;31mKeyError\u001b[0m                                  Traceback (most recent call last)",
      "\u001b[1;32mg:\\CODE\\UNI\\CSE110\\Quiz\\popquiz13,15.ipynb Cell 3'\u001b[0m in \u001b[0;36m<module>\u001b[1;34m\u001b[0m\n\u001b[0;32m      <a href='vscode-notebook-cell:/g%3A/CODE/UNI/CSE110/Quiz/popquiz13%2C15.ipynb#ch0000002?line=0'>1</a>\u001b[0m dict1 \u001b[39m=\u001b[39m {\u001b[39m\"\u001b[39m\u001b[39mfirst_name\u001b[39m\u001b[39m\"\u001b[39m:\u001b[39m\"\u001b[39m\u001b[39mfrodo\u001b[39m\u001b[39m\"\u001b[39m,\u001b[39m\"\u001b[39m\u001b[39mlast_name\u001b[39m\u001b[39m\"\u001b[39m:\u001b[39m\"\u001b[39m\u001b[39mbaggins\u001b[39m\u001b[39m\"\u001b[39m}\n\u001b[1;32m----> <a href='vscode-notebook-cell:/g%3A/CODE/UNI/CSE110/Quiz/popquiz13%2C15.ipynb#ch0000002?line=1'>2</a>\u001b[0m x \u001b[39m=\u001b[39m dict1\u001b[39m.\u001b[39;49mpop(\u001b[39m\"\u001b[39;49m\u001b[39m1st_name\u001b[39;49m\u001b[39m\"\u001b[39;49m)\n\u001b[0;32m      <a href='vscode-notebook-cell:/g%3A/CODE/UNI/CSE110/Quiz/popquiz13%2C15.ipynb#ch0000002?line=2'>3</a>\u001b[0m \u001b[39mprint\u001b[39m(x)\n",
      "\u001b[1;31mKeyError\u001b[0m: '1st_name'"
     ]
    }
   ],
   "source": [
    "dict1 = {\"first_name\":\"frodo\",\"last_name\":\"baggins\"}\n",
    "x = dict1.pop(\"1st_name\")\n",
    "print(x)"
   ]
  },
  {
   "cell_type": "code",
   "execution_count": 11,
   "metadata": {},
   "outputs": [
    {
     "name": "stdout",
     "output_type": "stream",
     "text": [
      "('Tahmid Iqbal', 'Raven', 'Tahmid Iqbal', 'Raven', 'Tahmid Iqbal', 'Raven')\n"
     ]
    }
   ],
   "source": [
    "x = (\"Tahmid Iqbal\", \"Raven\")\n",
    "print(x*3)"
   ]
  },
  {
   "cell_type": "code",
   "execution_count": 3,
   "metadata": {},
   "outputs": [
    {
     "name": "stdout",
     "output_type": "stream",
     "text": [
      "5 7 None\n"
     ]
    }
   ],
   "source": [
    "def find_sum(a,b):\n",
    "    print(a,b,end=\" \")\n",
    "print(find_sum(5,7))"
   ]
  },
  {
   "cell_type": "code",
   "execution_count": 16,
   "metadata": {},
   "outputs": [
    {
     "name": "stdout",
     "output_type": "stream",
     "text": [
      "12\n"
     ]
    }
   ],
   "source": [
    "def find_sum(a,b):\n",
    "    \n",
    "    return (a+b)\n",
    "print(find_sum(5,7))"
   ]
  },
  {
   "cell_type": "code",
   "execution_count": 4,
   "metadata": {},
   "outputs": [
    {
     "name": "stdout",
     "output_type": "stream",
     "text": [
      "John 19\n"
     ]
    }
   ],
   "source": [
    "def myquizSt(name, age):\n",
    "    print(name, age)\n",
    "\n",
    "myquizSt(age=19, name='John')"
   ]
  },
  {
   "cell_type": "code",
   "execution_count": 12,
   "metadata": {},
   "outputs": [
    {
     "name": "stdout",
     "output_type": "stream",
     "text": [
      "40\n"
     ]
    }
   ],
   "source": [
    "def fees(quantity,price):\n",
    "    return quantity*price\n",
    "\n",
    "mybill= fees(4,10)\n",
    "print(mybill)\n",
    "    "
   ]
  },
  {
   "cell_type": "code",
   "execution_count": 10,
   "metadata": {},
   "outputs": [
    {
     "name": "stdout",
     "output_type": "stream",
     "text": [
      "(35, 8)\n"
     ]
    }
   ],
   "source": [
    "def fees(salary, fine):\n",
    "    return salary+5, fine-2\n",
    "print(fees(30,10))"
   ]
  },
  {
   "cell_type": "code",
   "execution_count": 14,
   "metadata": {},
   "outputs": [
    {
     "name": "stdout",
     "output_type": "stream",
     "text": [
      "400\n"
     ]
    }
   ],
   "source": [
    "def bonus(salary):\n",
    "    if salary<100:\n",
    "        salary += 10\n",
    "    else:\n",
    "        salary += 20\n",
    "    return salary\n",
    "salary = 400\n",
    "\n",
    "total = bonus(salary)\n",
    "print(salary)"
   ]
  }
 ],
 "metadata": {
  "interpreter": {
   "hash": "a12d694c3ccac42055183a0ad11e659c6a2db5c6555ad2c8919d5814fd4e404f"
  },
  "kernelspec": {
   "display_name": "Python 3.9.5 64-bit (system)",
   "language": "python",
   "name": "python3"
  },
  "language_info": {
   "codemirror_mode": {
    "name": "ipython",
    "version": 3
   },
   "file_extension": ".py",
   "mimetype": "text/x-python",
   "name": "python",
   "nbconvert_exporter": "python",
   "pygments_lexer": "ipython3",
   "version": "3.9.5"
  },
  "orig_nbformat": 4
 },
 "nbformat": 4,
 "nbformat_minor": 2
}
