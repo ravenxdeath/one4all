{
 "cells": [
  {
   "cell_type": "code",
   "execution_count": 13,
   "metadata": {},
   "outputs": [
    {
     "name": "stdout",
     "output_type": "stream",
     "text": [
      "-36\n"
     ]
    }
   ],
   "source": [
    "# Type 04\n",
    "a = -40\n",
    "b = -4\n",
    "if (a < b):\n",
    "    diff = a-b\n",
    "else:\n",
    "    diff = b-a\n",
    "print(diff)"
   ]
  },
  {
   "cell_type": "code",
   "execution_count": 13,
   "metadata": {},
   "outputs": [
    {
     "name": "stdout",
     "output_type": "stream",
     "text": [
      "multiple of 3 or 5\n"
     ]
    }
   ],
   "source": [
    "\n",
    "# Task 06 kinda not really maybe a task 08\n",
    "\n",
    "var1 =15\n",
    "if(var1 % 3 == 0 or var1 % 5 ==0):\n",
    "    print(\"multiple of 3 or 5\")\n",
    "\n",
    "# if(var1 %3 !=0 or var1 %5 !=0):\n",
    "#     print(\"neither\")\n",
    "# else:\n",
    "#     print(\"maybe\")"
   ]
  },
  {
   "cell_type": "code",
   "execution_count": 31,
   "metadata": {},
   "outputs": [
    {
     "name": "stdout",
     "output_type": "stream",
     "text": [
      "Your seconds have turned into: 2222222\n"
     ]
    }
   ],
   "source": [
    "q = (int(input(\"Enter your seconds:\")))\n",
    "print(\"Your seconds have turned into:\", q)"
   ]
  },
  {
   "cell_type": "code",
   "execution_count": 4,
   "metadata": {},
   "outputs": [
    {
     "data": {
      "text/plain": [
       "False"
      ]
     },
     "execution_count": 4,
     "metadata": {},
     "output_type": "execute_result"
    }
   ],
   "source": [
    "True and False"
   ]
  },
  {
   "cell_type": "code",
   "execution_count": 3,
   "metadata": {},
   "outputs": [
    {
     "data": {
      "text/plain": [
       "False"
      ]
     },
     "execution_count": 3,
     "metadata": {},
     "output_type": "execute_result"
    }
   ],
   "source": [
    "\n",
    "False and False"
   ]
  },
  {
   "cell_type": "code",
   "execution_count": 3,
   "metadata": {},
   "outputs": [
    {
     "data": {
      "text/plain": [
       "True"
      ]
     },
     "execution_count": 3,
     "metadata": {},
     "output_type": "execute_result"
    }
   ],
   "source": [
    "True and True\n"
   ]
  },
  {
   "cell_type": "code",
   "execution_count": 5,
   "metadata": {},
   "outputs": [
    {
     "ename": "KeyboardInterrupt",
     "evalue": "Interrupted by user",
     "output_type": "error",
     "traceback": [
      "\u001b[1;31m---------------------------------------------------------------------------\u001b[0m",
      "\u001b[1;31mKeyboardInterrupt\u001b[0m                         Traceback (most recent call last)",
      "\u001b[1;32mg:\\CODE\\UNI\\CSE110\\Assignment\\practice.ipynb Cell 7'\u001b[0m in \u001b[0;36m<module>\u001b[1;34m\u001b[0m\n\u001b[1;32m----> <a href='vscode-notebook-cell:/g%3A/CODE/UNI/CSE110/Assignment/practice.ipynb#ch0000006?line=0'>1</a>\u001b[0m var \u001b[39m=\u001b[39m \u001b[39mint\u001b[39m(\u001b[39minput\u001b[39;49m(\u001b[39m\"\u001b[39;49m\u001b[39muser put your number here:\u001b[39;49m\u001b[39m\"\u001b[39;49m))\n\u001b[0;32m      <a href='vscode-notebook-cell:/g%3A/CODE/UNI/CSE110/Assignment/practice.ipynb#ch0000006?line=2'>3</a>\u001b[0m \u001b[39mif\u001b[39;00m(var \u001b[39m%\u001b[39m\u001b[39m2\u001b[39m \u001b[39m==\u001b[39m\u001b[39m0\u001b[39m \u001b[39mor\u001b[39;00m var \u001b[39m%\u001b[39m\u001b[39m5\u001b[39m \u001b[39m==\u001b[39m\u001b[39m0\u001b[39m):\n\u001b[0;32m      <a href='vscode-notebook-cell:/g%3A/CODE/UNI/CSE110/Assignment/practice.ipynb#ch0000006?line=3'>4</a>\u001b[0m     \u001b[39mprint\u001b[39m(\u001b[39m\"\u001b[39m\u001b[39mMultiple of 2 and 5\u001b[39m\u001b[39m\"\u001b[39m)\n",
      "File \u001b[1;32m~\\AppData\\Roaming\\Python\\Python39\\site-packages\\ipykernel\\kernelbase.py:1062\u001b[0m, in \u001b[0;36mKernel.raw_input\u001b[1;34m(self, prompt)\u001b[0m\n\u001b[0;32m   <a href='file:///c%3A/Users/hp/AppData/Roaming/Python/Python39/site-packages/ipykernel/kernelbase.py?line=1057'>1058</a>\u001b[0m \u001b[39mif\u001b[39;00m \u001b[39mnot\u001b[39;00m \u001b[39mself\u001b[39m\u001b[39m.\u001b[39m_allow_stdin:\n\u001b[0;32m   <a href='file:///c%3A/Users/hp/AppData/Roaming/Python/Python39/site-packages/ipykernel/kernelbase.py?line=1058'>1059</a>\u001b[0m     \u001b[39mraise\u001b[39;00m StdinNotImplementedError(\n\u001b[0;32m   <a href='file:///c%3A/Users/hp/AppData/Roaming/Python/Python39/site-packages/ipykernel/kernelbase.py?line=1059'>1060</a>\u001b[0m         \u001b[39m\"\u001b[39m\u001b[39mraw_input was called, but this frontend does not support input requests.\u001b[39m\u001b[39m\"\u001b[39m\n\u001b[0;32m   <a href='file:///c%3A/Users/hp/AppData/Roaming/Python/Python39/site-packages/ipykernel/kernelbase.py?line=1060'>1061</a>\u001b[0m     )\n\u001b[1;32m-> <a href='file:///c%3A/Users/hp/AppData/Roaming/Python/Python39/site-packages/ipykernel/kernelbase.py?line=1061'>1062</a>\u001b[0m \u001b[39mreturn\u001b[39;00m \u001b[39mself\u001b[39;49m\u001b[39m.\u001b[39;49m_input_request(\n\u001b[0;32m   <a href='file:///c%3A/Users/hp/AppData/Roaming/Python/Python39/site-packages/ipykernel/kernelbase.py?line=1062'>1063</a>\u001b[0m     \u001b[39mstr\u001b[39;49m(prompt),\n\u001b[0;32m   <a href='file:///c%3A/Users/hp/AppData/Roaming/Python/Python39/site-packages/ipykernel/kernelbase.py?line=1063'>1064</a>\u001b[0m     \u001b[39mself\u001b[39;49m\u001b[39m.\u001b[39;49m_parent_ident[\u001b[39m\"\u001b[39;49m\u001b[39mshell\u001b[39;49m\u001b[39m\"\u001b[39;49m],\n\u001b[0;32m   <a href='file:///c%3A/Users/hp/AppData/Roaming/Python/Python39/site-packages/ipykernel/kernelbase.py?line=1064'>1065</a>\u001b[0m     \u001b[39mself\u001b[39;49m\u001b[39m.\u001b[39;49mget_parent(\u001b[39m\"\u001b[39;49m\u001b[39mshell\u001b[39;49m\u001b[39m\"\u001b[39;49m),\n\u001b[0;32m   <a href='file:///c%3A/Users/hp/AppData/Roaming/Python/Python39/site-packages/ipykernel/kernelbase.py?line=1065'>1066</a>\u001b[0m     password\u001b[39m=\u001b[39;49m\u001b[39mFalse\u001b[39;49;00m,\n\u001b[0;32m   <a href='file:///c%3A/Users/hp/AppData/Roaming/Python/Python39/site-packages/ipykernel/kernelbase.py?line=1066'>1067</a>\u001b[0m )\n",
      "File \u001b[1;32m~\\AppData\\Roaming\\Python\\Python39\\site-packages\\ipykernel\\kernelbase.py:1107\u001b[0m, in \u001b[0;36mKernel._input_request\u001b[1;34m(self, prompt, ident, parent, password)\u001b[0m\n\u001b[0;32m   <a href='file:///c%3A/Users/hp/AppData/Roaming/Python/Python39/site-packages/ipykernel/kernelbase.py?line=1103'>1104</a>\u001b[0m             \u001b[39mbreak\u001b[39;00m\n\u001b[0;32m   <a href='file:///c%3A/Users/hp/AppData/Roaming/Python/Python39/site-packages/ipykernel/kernelbase.py?line=1104'>1105</a>\u001b[0m \u001b[39mexcept\u001b[39;00m \u001b[39mKeyboardInterrupt\u001b[39;00m:\n\u001b[0;32m   <a href='file:///c%3A/Users/hp/AppData/Roaming/Python/Python39/site-packages/ipykernel/kernelbase.py?line=1105'>1106</a>\u001b[0m     \u001b[39m# re-raise KeyboardInterrupt, to truncate traceback\u001b[39;00m\n\u001b[1;32m-> <a href='file:///c%3A/Users/hp/AppData/Roaming/Python/Python39/site-packages/ipykernel/kernelbase.py?line=1106'>1107</a>\u001b[0m     \u001b[39mraise\u001b[39;00m \u001b[39mKeyboardInterrupt\u001b[39;00m(\u001b[39m\"\u001b[39m\u001b[39mInterrupted by user\u001b[39m\u001b[39m\"\u001b[39m) \u001b[39mfrom\u001b[39;00m \u001b[39mNone\u001b[39m\n\u001b[0;32m   <a href='file:///c%3A/Users/hp/AppData/Roaming/Python/Python39/site-packages/ipykernel/kernelbase.py?line=1107'>1108</a>\u001b[0m \u001b[39mexcept\u001b[39;00m \u001b[39mException\u001b[39;00m:\n\u001b[0;32m   <a href='file:///c%3A/Users/hp/AppData/Roaming/Python/Python39/site-packages/ipykernel/kernelbase.py?line=1108'>1109</a>\u001b[0m     \u001b[39mself\u001b[39m\u001b[39m.\u001b[39mlog\u001b[39m.\u001b[39mwarning(\u001b[39m\"\u001b[39m\u001b[39mInvalid Message:\u001b[39m\u001b[39m\"\u001b[39m, exc_info\u001b[39m=\u001b[39m\u001b[39mTrue\u001b[39;00m)\n",
      "\u001b[1;31mKeyboardInterrupt\u001b[0m: Interrupted by user"
     ]
    }
   ],
   "source": [
    "\n",
    "var = int(input(\"user put your number here:\"))\n",
    "\n",
    "if(var %2 ==0 or var %5 ==0):\n",
    "    print(\"Multiple of 2 and 5\")"
   ]
  },
  {
   "cell_type": "code",
   "execution_count": null,
   "metadata": {},
   "outputs": [
    {
     "name": "stdout",
     "output_type": "stream",
     "text": [
      "The equivalent duration is 0:06:10:22.\n"
     ]
    }
   ],
   "source": [
    "#voila solved it\n",
    "\n",
    "Seconds_Per_Hour = 3600\n",
    "Seconds_Per_Min = 60\n",
    "\n",
    "Num_Of_Sec = int(input(\"Input a number of seconds:\"))\n",
    "\n",
    "Hours = Num_Of_Sec // Seconds_Per_Hour\n",
    "Seconds = Num_Of_Sec % Seconds_Per_Hour\n",
    "print(\"Hour:\",Hours, end=\" \")\n",
    "\n",
    "Mins = Seconds // Seconds_Per_Min\n",
    "Seconds = Seconds % Seconds_Per_Min\n",
    "print(\"Min:\",Mins, end=\" \")\n",
    "print(\"Seconds:\", Seconds)"
   ]
  },
  {
   "cell_type": "code",
   "execution_count": null,
   "metadata": {},
   "outputs": [],
   "source": [
    "\n",
    "# elif(3.90<= cgpa >=3.94):\n",
    "#     print(\"The student is eligible for a waiver of 50 percent\")\n",
    "# elif(3.95<= cgpa >=3.99):\n",
    "#     print(\"The student is eligible for a waiver of 75 percent\")\n",
    "# else:(4.00 == cgpa)\n",
    "# print(\"This student is eligible for a waiver of 100 percent\")"
   ]
  },
  {
   "cell_type": "code",
   "execution_count": 6,
   "metadata": {},
   "outputs": [
    {
     "name": "stdout",
     "output_type": "stream",
     "text": [
      "price is less than 100\n"
     ]
    }
   ],
   "source": [
    "price = 50\n",
    "\n",
    "if price > 100:\n",
    "    print(\"price is greater than 100\")\n",
    "elif price == 100:\n",
    "    print(\"price is 100\")\n",
    "else:\n",
    "    \n",
    "    print(\"price is less than 100\")"
   ]
  },
  {
   "cell_type": "code",
   "execution_count": 3,
   "metadata": {},
   "outputs": [
    {
     "name": "stdout",
     "output_type": "stream",
     "text": [
      "80.0 km/h\n",
      "Velocity is okay. The car is ready!\n",
      "Too fast. Only a few changes should suffice\n"
     ]
    }
   ],
   "source": [
    "dis =float(input(\"Distance:\")) # meters\n",
    "time =float(input(\"Time:\"))    # seconds\n",
    "\n",
    "# conversion into km and h\n",
    "d = dis/1000\n",
    "t = time/3600\n",
    "\n",
    "# velocity = distace/time\n",
    "v = d/t\n",
    "print(v, \"km/h\")\n",
    "\n",
    "if(v <60):\n",
    "    print(\"Too slow. Needs more changes\")\n",
    "elif(60< v and v <90):\n",
    "    print(\"Velocity is okay. The car is ready!\")\n",
    "elif(v >90):\n",
    "    print(\"Too fast. Only a few changes should suffice\")\n",
    "\n"
   ]
  },
  {
   "cell_type": "code",
   "execution_count": 1,
   "metadata": {},
   "outputs": [
    {
     "name": "stdout",
     "output_type": "stream",
     "text": [
      "1237.6000000000001 degrees C\n",
      "Summer\n"
     ]
    }
   ],
   "source": [
    "temp = float(input(\"Enter Current Temperater:\"))\n",
    "\n",
    "tempCel = (temp - 32)*0.56\n",
    "\n",
    "print(tempCel, \"degrees C\")\n",
    "\n",
    "if(tempCel < 20):\n",
    "    print(\"Winter\")\n",
    "elif(tempCel > 20 and tempCel <25):\n",
    "    print(\"Autumn\")\n",
    "elif(tempCel > 25 and tempCel <30):\n",
    "    print(\"Spring\")\n",
    "else:(tempCel >= 30, print(\"Summer\"))\n"
   ]
  },
  {
   "cell_type": "code",
   "execution_count": 9,
   "metadata": {},
   "outputs": [
    {
     "name": "stdout",
     "output_type": "stream",
     "text": [
      "Sayonara\n",
      "Sayonara\n",
      "Sayonara\n",
      "Sayonara\n"
     ]
    }
   ],
   "source": [
    "count =1\n",
    "while count <5:\n",
    "    print (\"Sayonara\")\n",
    "    count +=1\n",
    "    if count ==4:\n",
    "            # break\n",
    "        continue\n",
    "    \n",
    "    "
   ]
  },
  {
   "cell_type": "code",
   "execution_count": 10,
   "metadata": {},
   "outputs": [
    {
     "name": "stdout",
     "output_type": "stream",
     "text": [
      "7\n",
      "8\n",
      "9\n",
      "10\n",
      "11\n"
     ]
    }
   ],
   "source": [
    "a = [7,8,9,10,11]\n",
    "i = 0\n",
    "while i <len(a):\n",
    "    print(a[i], sep=\",\")\n",
    "    i = i+1"
   ]
  },
  {
   "cell_type": "code",
   "execution_count": 1,
   "metadata": {},
   "outputs": [
    {
     "name": "stdout",
     "output_type": "stream",
     "text": [
      "18,-27,36,-45,54,-63"
     ]
    }
   ],
   "source": [
    "18,-27, 36,-45,54,-63\n",
    "counter=18\n",
    "while counter<=63:\n",
    "    if counter%2==0:\n",
    "        print(counter,end=\",\")\n",
    "    else:\n",
    "        if counter==63:\n",
    "            print(\"-\"+ str(counter),end=\"\")\n",
    "        else:\n",
    "            print(\"-\"+str(counter),end=\",\")\n",
    "            \n",
    "    counter+=9"
   ]
  },
  {
   "cell_type": "code",
   "execution_count": 1,
   "metadata": {},
   "outputs": [
    {
     "name": "stdout",
     "output_type": "stream",
     "text": [
      "-55\n"
     ]
    }
   ],
   "source": [
    "sum=0\n",
    "number=int(input(\"Enter the number: \"))\n",
    "for counter in range(1,number+1):\n",
    "    if counter%2==0:\n",
    "        sum=sum-(counter**2)\n",
    "    else:\n",
    "        sum=sum+(counter**2)\n",
    "\n",
    "print(sum)"
   ]
  },
  {
   "cell_type": "code",
   "execution_count": 2,
   "metadata": {},
   "outputs": [
    {
     "name": "stdout",
     "output_type": "stream",
     "text": [
      "1330\n"
     ]
    }
   ],
   "source": [
    "\n",
    "# Python Program to find sum of series\n",
    "# 1^2 + 3^2 + 5^2 + . . . + (2*n - 1)^2.\n",
    " \n",
    "import math\n",
    " \n",
    "# Function to find sum of series.\n",
    "def sumOfSeries(n):\n",
    " \n",
    "    sum = 0\n",
    "    for i in range(1,n+1):\n",
    "        sum = sum + (2 * i - 1) * (2 * i - 1)\n",
    "    return sum\n",
    "     \n",
    "# driver code\n",
    "n= 10\n",
    "print(sumOfSeries(n))\n",
    " \n",
    "# This code is contributed by Gitanjali."
   ]
  },
  {
   "cell_type": "code",
   "execution_count": 13,
   "metadata": {},
   "outputs": [
    {
     "name": "stdout",
     "output_type": "stream",
     "text": [
      "0\n",
      "7\n",
      "14\n",
      "21\n",
      "28\n",
      "35\n",
      "42\n",
      "49\n",
      "56\n",
      "63\n",
      "70\n",
      "3763\n"
     ]
    }
   ],
   "source": [
    "\n",
    "for var in range(75):\n",
    "    if var%7==0:\n",
    "        print(var)\n",
    "sum += var\n",
    "print(sum)"
   ]
  },
  {
   "cell_type": "code",
   "execution_count": 1,
   "metadata": {},
   "outputs": [
    {
     "name": "stdout",
     "output_type": "stream",
     "text": [
      "2\n",
      "4\n",
      "8\n",
      "14\n",
      "21\n"
     ]
    }
   ],
   "source": [
    "result = 0\n",
    "for i in range(5):\n",
    "\n",
    "    userInput=int(input(\"Input Number:\"))\n",
    "    result += userInput\n",
    "    print(result)"
   ]
  },
  {
   "cell_type": "code",
   "execution_count": null,
   "metadata": {},
   "outputs": [],
   "source": [
    "inp=int(input(\"please enter the number=\"))\n",
    "y=[]\n",
    " \n",
    "while(inp>0): \n",
    "    x=inp%10            #getting last digit\n",
    "    y.append(x)        #sending last digit to a list\n",
    "    inp//=10  \n",
    "y.sort(reverse=True)   #sorting the the list in backwards \n",
    "print(*y)\n"
   ]
  },
  {
   "cell_type": "code",
   "execution_count": null,
   "metadata": {},
   "outputs": [],
   "source": [
    "#! divisighjioshfjdgisdfhjg\n",
    "\n",
    "divCount = 0\n",
    "user_input = int(input(\"Put Your Number:\"))\n",
    "\n",
    "for divisor in range (1,user_input+1):\n",
    "    if user_input%divisor==0:\n",
    "        print(divisor,end=\",\")\n",
    "        divCount = divCount+1\n",
    "print()\n",
    "print(\"Total\",divCount,\"divisors\")\n",
    "        "
   ]
  },
  {
   "cell_type": "code",
   "execution_count": 3,
   "metadata": {},
   "outputs": [
    {
     "name": "stdout",
     "output_type": "stream",
     "text": [
      "False\n",
      "False\n",
      "False\n",
      "False\n",
      "False\n",
      "True\n",
      "False\n",
      "False\n",
      "False\n",
      "True\n"
     ]
    }
   ],
   "source": []
  },
  {
   "cell_type": "code",
   "execution_count": 5,
   "metadata": {},
   "outputs": [
    {
     "name": "stdout",
     "output_type": "stream",
     "text": [
      "False\n",
      "False\n",
      "True\n",
      "False\n",
      "True\n",
      "False\n",
      "=========================\n",
      "False\n",
      "False\n",
      "True\n",
      "False\n",
      "False\n",
      "True\n",
      "False\n",
      "False\n",
      "False\n",
      "True\n"
     ]
    }
   ],
   "source": []
  },
  {
   "cell_type": "code",
   "execution_count": 2,
   "metadata": {},
   "outputs": [
    {
     "name": "stdout",
     "output_type": "stream",
     "text": [
      "1\n",
      "True\n"
     ]
    }
   ],
   "source": [
    "print(40 % 3)\n",
    "print(False or False or True)"
   ]
  },
  {
   "cell_type": "code",
   "execution_count": 2,
   "metadata": {},
   "outputs": [
    {
     "name": "stdout",
     "output_type": "stream",
     "text": [
      "True\n",
      "4\n",
      "True\n",
      "4\n",
      "False\n",
      "8\n",
      "False\n",
      "12\n",
      "True\n",
      "4\n"
     ]
    }
   ],
   "source": [
    "# QUIZ02 Set A1\n",
    "\n",
    "myList=[0,0,0,0,0,0,0,0,0,0]\n",
    "var1 =1\n",
    "var2 = -2\n",
    "\n",
    "while (var2<8):\n",
    "    myList[var1] = var1 + 4\n",
    "    result1 =  (var1%5<3) or (var2<1)\n",
    "    print(result1)\n",
    "    myList[var1] = myList[var2] + 4\n",
    "    print(myList[var1])\n",
    "    var1  = var1 + 1\n",
    "    var2  = var2 + 2\n",
    "    "
   ]
  },
  {
   "cell_type": "code",
   "execution_count": 1,
   "metadata": {},
   "outputs": [
    {
     "name": "stdout",
     "output_type": "stream",
     "text": [
      "True\n",
      "1\n",
      "True\n",
      "2\n",
      "False\n",
      "3\n",
      "False\n",
      "0\n",
      "False\n",
      "1\n"
     ]
    }
   ],
   "source": [
    "# QUIZ02 Set A2\n",
    "\n",
    "myList=[0,0,0,0,0,0,0,0,0,0]\n",
    "var1 =1\n",
    "var2 = -2\n",
    "\n",
    "while (var2<8):\n",
    "    myList[var1] = var1 + 4\n",
    "    result1 =  ((var1 - 5 <3) and (var2<1))\n",
    "    print(result1)\n",
    "    myList[var1] = myList[var1] % 4\n",
    "    print(myList[var1])\n",
    "    var1  = var1 + 1\n",
    "    var2  = var2 + 2\n",
    "    "
   ]
  },
  {
   "cell_type": "code",
   "execution_count": 3,
   "metadata": {},
   "outputs": [
    {
     "name": "stdout",
     "output_type": "stream",
     "text": [
      "12.0\n",
      "29.0\n",
      "45.0\n",
      "21.0\n",
      "42.0\n",
      "65.0\n",
      "26.0\n",
      "52.0\n",
      "80.0\n",
      "110.0\n"
     ]
    }
   ],
   "source": [
    "Task16\n",
    "x = 0\n",
    "y = 0\n",
    "sum = 0\n",
    "p = 0.0\n",
    "while (x < 9):\n",
    "    y = x/2\n",
    "    while (y<x):\n",
    "        p = (x + 5.0)/ 2\n",
    "        sum = sum+2 + x + y*2 + int(p)\n",
    "        print(sum)\n",
    "        y=y+1\n",
    "    x = x+2\n",
    "    if (x>5):\n",
    "        sum = 2\n",
    "    else:\n",
    "        sum += 3\n",
    "\n"
   ]
  },
  {
   "cell_type": "code",
   "execution_count": 9,
   "metadata": {},
   "outputs": [
    {
     "name": "stdout",
     "output_type": "stream",
     "text": [
      "23\n",
      "46\n",
      "52\n",
      "75\n",
      "98\n",
      "121\n",
      "144\n",
      "167\n",
      "190\n",
      "213\n"
     ]
    }
   ],
   "source": [
    "# task17\n",
    "x = 0\n",
    "y = 0\n",
    "sum = 0\n",
    "while (x < 10):\n",
    "  y = x - 3\n",
    "  y = 40\n",
    "  while (y > 22):\n",
    "    if ((sum > 30) and (sum < 40)):\n",
    "      sum = sum + x * 2\n",
    "    elif((sum > 40) and (sum < 50)):\n",
    "      sum = sum + x * 3\n",
    "    else:\n",
    "      sum = sum + 23\n",
    "    print(sum)\n",
    "    y = y - 10\n",
    "  x += 2\n"
   ]
  },
  {
   "cell_type": "code",
   "execution_count": 16,
   "metadata": {},
   "outputs": [
    {
     "name": "stdout",
     "output_type": "stream",
     "text": [
      "6\n",
      "4\n",
      "2\n",
      "0\n",
      "-2\n",
      "-4\n",
      "3\n",
      "1\n",
      "-1\n",
      "-2\n"
     ]
    }
   ],
   "source": [
    "x = y = 0\n",
    "sum = 0\n",
    "while (x < 10):\n",
    "  y = x - 3\n",
    "  while (y < 3):\n",
    "    sum = x - y * 2 \n",
    "    print(sum)\n",
    "    y = y + 1\n",
    "  if (x > 7): \n",
    "    x += 1\n",
    "  else: \n",
    "    x += 3\n",
    "sum = x - y * 2\n",
    "print(sum)\n",
    "\n"
   ]
  },
  {
   "cell_type": "code",
   "execution_count": 17,
   "metadata": {},
   "outputs": [
    {
     "name": "stdout",
     "output_type": "stream",
     "text": [
      "4\n",
      "9\n",
      "16\n",
      "25\n",
      "39\n",
      "56\n",
      "78\n",
      "104\n",
      "134\n",
      "147\n"
     ]
    }
   ],
   "source": [
    "# Task19\n",
    "x = 0\n",
    "p = 0\n",
    "sum = 0\n",
    "p = 1\n",
    "x = 2\n",
    "q = 0.0\n",
    "sum = 0\n",
    "while (p < 12):\n",
    "  q = x + p - (sum + int(5 / 3)) / 3.0 % 2\n",
    "  sum = sum + x + int(q)\n",
    "  x+=1\n",
    "  print(sum)\n",
    "  if (x > 5):\n",
    "    p += int(4 / 2)\n",
    "  else:\n",
    "    p += 3 % 1\n",
    "sum = sum + p\n",
    "print(sum)\n",
    "\n"
   ]
  },
  {
   "cell_type": "code",
   "execution_count": 42,
   "metadata": {},
   "outputs": [
    {
     "name": "stdout",
     "output_type": "stream",
     "text": [
      "-->dog<--28\n",
      "-->dog<--28-->115\n",
      "-->dog<--28-->115<--27\n",
      "-->dog<--28-->115<--27-->113\n",
      "-->dog<--28-->115<--27-->113-->115\n",
      "-->dog<--28-->115<--27-->113-->115<--37\n",
      "-->dog<--28-->115<--27-->113-->115<--37-->113\n",
      "-->dog<--28-->115<--27-->113-->115<--37-->113<--47\n",
      "-->dog<--28-->115<--27-->113-->115<--37-->113<--47-->213\n",
      "-->dog<--28-->115<--27-->113-->115<--37-->113<--47-->213-->213\n"
     ]
    }
   ],
   "source": [
    "# task20\n",
    "i = 2\n",
    "j = 0\n",
    "k = 17\n",
    "test = \"-->dog\"\n",
    "while i < 7:\n",
    "  k-=1\n",
    "  j = k\n",
    "  while j > 12:\n",
    "    if (j % 2 == 0):\n",
    "      test += \"<--\"\n",
    "      test = test + str(i) + str(j // 2)\n",
    "    else:\n",
    "      test += \"-->\"\n",
    "      test = test + str(i // 2) + str(j) \n",
    "    print(test)\n",
    "    j-=1\n",
    "  i+=1"
   ]
  },
  {
   "cell_type": "code",
   "execution_count": 43,
   "metadata": {},
   "outputs": [
    {
     "name": "stdout",
     "output_type": "stream",
     "text": [
      "15\n"
     ]
    }
   ],
   "source": [
    "print(30//2)"
   ]
  },
  {
   "cell_type": "code",
   "execution_count": 45,
   "metadata": {},
   "outputs": [
    {
     "name": "stdout",
     "output_type": "stream",
     "text": [
      "5 == 5\n",
      "2 == 2\n",
      "0 == 0\n",
      "-3 != -2\n",
      "-5 != -5\n",
      "-8 != -7\n",
      "-10 != -10\n"
     ]
    }
   ],
   "source": [
    "# Task22\n",
    "i = 10\n",
    "while(i >= -20):\n",
    "  if(i < 0):\n",
    "    test = \" != \"\n",
    "    test = str(i//2) + test + str(int(i/2))\n",
    "  else:\n",
    "    test = \" == \"\n",
    "    test = str(i//2) + test + str(int(i/2))\n",
    "  print(test)\n",
    "  i -= 5\n",
    "\n"
   ]
  },
  {
   "cell_type": "code",
   "execution_count": 1,
   "metadata": {},
   "outputs": [
    {
     "name": "stdout",
     "output_type": "stream",
     "text": [
      "<--53-->4\n",
      "-->1-->13\n",
      "<--53-->4\n",
      "-->1-->11\n",
      "-->2-->13\n",
      "<--63-->4\n",
      "-->2-->11\n",
      "<--73-->4\n",
      "-->2-->11\n",
      "-->2-->11\n"
     ]
    }
   ],
   "source": [
    "test = \"\"\n",
    "i = 5\n",
    "j = 0\n",
    "k = 15\n",
    "while (i< 10): \n",
    "    k-=1\n",
    "    j = k\n",
    "    while (j > 10 ):\n",
    "        if j % 2 == 0:\n",
    "            test = \"<--\"\n",
    "            test = test + str(i) + '3' + \"-->\" + str(j // 3)\n",
    "        else:\n",
    "            test = \"-->\"\n",
    "            test = \"-->\" + str((i // 3)) + test + str(j)\n",
    "        print(test)\n",
    "        j -=1\n",
    "    i+=1\n",
    "\n"
   ]
  },
  {
   "cell_type": "code",
   "execution_count": 17,
   "metadata": {},
   "outputs": [
    {
     "name": "stdout",
     "output_type": "stream",
     "text": [
      "Hello Tahmid ! \n",
      "Hope you are loving Python.\n",
      "You will have 1 this term\n",
      "==========================\n"
     ]
    }
   ],
   "source": [
    "def greetings(quizzes, name = \"students\" ):\n",
    "# \"\"\"This function prints greetings\"\"\"\n",
    "    print(\"Hello \" + name + \" ! \")\n",
    "    print(\"Hope you are loving Python.\")\n",
    "    print(\"You will have \" + str(quizzes) + \"this term\")\n",
    "    print(\"==========================\")\n",
    "greetings(\"1 \"  , \"Tahmid\")"
   ]
  },
  {
   "cell_type": "code",
   "execution_count": 18,
   "metadata": {},
   "outputs": [
    {
     "name": "stdout",
     "output_type": "stream",
     "text": [
      "Odd\n"
     ]
    }
   ],
   "source": [
    "def check_even(num):\n",
    "    if num%2 == 0:\n",
    "        return \"even\"\n",
    "    else:\n",
    "        return \"Odd\"\n",
    "answer = check_even(3)\n",
    "print(answer)"
   ]
  },
  {
   "cell_type": "code",
   "execution_count": 22,
   "metadata": {},
   "outputs": [
    {
     "name": "stdout",
     "output_type": "stream",
     "text": [
      "Odd\n",
      "None\n",
      "Odd\n"
     ]
    }
   ],
   "source": [
    "def check_even(num):\n",
    "    if num%2 == 0:\n",
    "        print(\"even\")\n",
    "    else:\n",
    "        print(\"Odd\")\n",
    "print(check_even(3))\n",
    "\n",
    "check_even(3)\n"
   ]
  },
  {
   "cell_type": "code",
   "execution_count": 4,
   "metadata": {},
   "outputs": [
    {
     "name": "stdout",
     "output_type": "stream",
     "text": [
      "2\n",
      "4\n"
     ]
    }
   ],
   "source": [
    "\n",
    "# Python program explaining\n",
    "# numpy.size() method\n",
    " \n",
    "# importing numpy\n",
    "import numpy as np\n",
    " \n",
    "# Making a random array\n",
    "arr = np.array([[1, 2, 3, 4], [5, 6, 7, 8]])\n",
    " \n",
    "# count the number of elements along the axis.\n",
    "# Here rows and columns are being treated\n",
    "# as elements\n",
    " \n",
    "#gives no. of rows along x-axis\n",
    "print(np.size(arr, 0))\n",
    " \n",
    "#gives no. of columns along y-axis\n",
    "print(np.size(arr, 1))"
   ]
  }
 ],
 "metadata": {
  "interpreter": {
   "hash": "a12d694c3ccac42055183a0ad11e659c6a2db5c6555ad2c8919d5814fd4e404f"
  },
  "kernelspec": {
   "display_name": "Python 3.9.5 64-bit",
   "language": "python",
   "name": "python3"
  },
  "language_info": {
   "codemirror_mode": {
    "name": "ipython",
    "version": 3
   },
   "file_extension": ".py",
   "mimetype": "text/x-python",
   "name": "python",
   "nbconvert_exporter": "python",
   "pygments_lexer": "ipython3",
   "version": "3.9.5"
  },
  "orig_nbformat": 4
 },
 "nbformat": 4,
 "nbformat_minor": 2
}
