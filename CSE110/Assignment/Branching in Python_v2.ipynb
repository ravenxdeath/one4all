{
 "cells": [
  {
   "cell_type": "markdown",
   "metadata": {},
   "source": [
    "Task 1\n",
    "Write a Python function that takes the “amount” of money as user input. Then splits that money\n",
    "into 500, 100, 50, 20, 10, 5, 2, and 1 taka notes and print the final result.\n",
    "=====================================================\n",
    "Hints:\n",
    "This task’s calculation is similar to Assignment-1’s seconds to hours, minutes conversion.\n",
    "=====================================================\n",
    "Example1:\n",
    "Sample Input: 1234\n",
    "Sample Output:\n",
    "500 Taka: 2 note(s)\n",
    "100 Taka: 2 note(s)\n",
    "20 Taka: 1 note(s)\n",
    "10 Taka: 1 note(s)\n",
    "2 Taka: 2 note(s)\n",
    "=====================================================\n",
    "Example2:\n",
    "Sample Input: 151\n",
    "Sample Output:\n",
    "100 Taka: 1 note(s)\n",
    "50 Taka: 1 note(s)\n",
    "1 Taka: 1 note(s)\n",
    "=====================================================\n"
   ]
  },
  {
   "cell_type": "code",
   "execution_count": 2,
   "metadata": {},
   "outputs": [
    {
     "name": "stdout",
     "output_type": "stream",
     "text": [
      "1 taka: 1 note(s)\n"
     ]
    }
   ],
   "source": [
    "\n",
    "a =500\n",
    "b =100\n",
    "c =50\n",
    "d = 20\n",
    "e =10\n",
    "f =5\n",
    "g =2\n",
    "h =1\n",
    "money =  int(input(\"Enter how much you have:\"))\n",
    "\n",
    "note500 = money//a\n",
    "remainderOf500 = money%a\n",
    "\n",
    "if (note500 != 0):\n",
    "    print(\"500 taka:\", note500, \"note(s)\")\n",
    "    \n",
    "note100 = remainderOf500//b\n",
    "remainderOf100 = remainderOf500%b\n",
    "\n",
    "if (note100 != 0):\n",
    "    print(\"100 taka:\", note100, \"note(s)\")\n",
    "\n",
    "note50 = remainderOf100//c\n",
    "remainderOf50 = remainderOf100%c\n",
    "\n",
    "if (note50 != 0):\n",
    "    print(\"50 taka:\", note50, \"note(s)\")\n",
    "    \n",
    "note20 = remainderOf50//d\n",
    "remainderOf20 = remainderOf50%d\n",
    "\n",
    "if (note20 != 0):\n",
    "    print(\"20 taka:\", note20, \"note(s)\")\n",
    "\n",
    "note10 = remainderOf20//e\n",
    "remainderOf10 = remainderOf20%e\n",
    "\n",
    "if (note10 != 0):\n",
    "    print(\"10 taka:\", note10, \"note(s)\")\n",
    "    \n",
    "note5 = remainderOf10//f\n",
    "remainderOf5 = remainderOf10%f\n",
    "\n",
    "if (note5 != 0):\n",
    "    print(\"5 taka:\", note5, \"note(s)\")\n",
    "\n",
    "note2 = remainderOf5//g\n",
    "remainderOf2 = remainderOf5%g\n",
    "\n",
    "if (note2 != 0):\n",
    "    print(\"2 taka:\", note2, \"note(s)\")\n",
    "    \n",
    "note1 = remainderOf2//h \n",
    "# remainderOf1 = remainderOf2%h \n",
    "\n",
    "if (note1 != 0):\n",
    "    print(\"1 taka:\", note1, \"note(s)\")"
   ]
  },
  {
   "cell_type": "markdown",
   "metadata": {},
   "source": [
    "Task 2\n",
    "Write Python code of a program that reads three sides of a triangle and check whether the\n",
    "triangle is valid or not.\n",
    "=====================================================\n",
    "Sample Input1:\n",
    "7, 10, 5\n",
    "Sample Output1:\n",
    "Valid triangle\n",
    "=====================================================\n",
    "Sample Input2:\n",
    "2, 2, 4\n",
    "Sample Output2:\n",
    "Not a valid triangle\n",
    "=====================================================\n",
    "Sample Input3:\n",
    "7, 9, 12\n",
    "Sample Output3:\n",
    "Valid triangle\n"
   ]
  }
 ],
 "metadata": {
  "interpreter": {
   "hash": "a12d694c3ccac42055183a0ad11e659c6a2db5c6555ad2c8919d5814fd4e404f"
  },
  "kernelspec": {
   "display_name": "Python 3.9.5 64-bit",
   "language": "python",
   "name": "python3"
  },
  "language_info": {
   "codemirror_mode": {
    "name": "ipython",
    "version": 3
   },
   "file_extension": ".py",
   "mimetype": "text/x-python",
   "name": "python",
   "nbconvert_exporter": "python",
   "pygments_lexer": "ipython3",
   "version": "3.9.5"
  },
  "orig_nbformat": 4
 },
 "nbformat": 4,
 "nbformat_minor": 2
}
