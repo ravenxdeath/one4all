{
 "cells": [
  {
   "cell_type": "markdown",
   "metadata": {},
   "source": [
    "Course Title: Programming Language I\n",
    "Course Code: CSE 110\n",
    "Assignment no: 5 (Dictionary and Tuples)\n",
    "\n",
    "**<font color='red'>This Assignment is to help you develop your concept of Tuples and Dictionary in Python.\n",
    "[Please follow variable naming conventions including using meaningful variable names for all the tasks]\n",
    "When you run your code, please make sure your outputs exactly match the sample outputs for each of the sample inputs given. Check if your code works for other valid inputs not given in the samples.</font>**\\\n",
    "Write the code in Python to do the following tasks:\n",
    "\n",
    "***<font color='red'>                      Part 1: Tuples</font>***\n",
    "\n",
    "\n"
   ]
  },
  {
   "cell_type": "markdown",
   "metadata": {},
   "source": [
    "**Task 1**\n",
    "\n",
    "Assume, you have been given a tuple.\\\n",
    "a_tuple = (\"The Institute\", (\"Best Mystery & Thriller\", \"The Silent Patient\", 68821), 75717,\n",
    "[1, 2, 3, 400, 5, 6, 7], (\"Best Fiction\", \"The Testaments\", 98291))\\\n",
    "Write one line of Python code to access and print the value 400.\n",
    "\n",
    "===================================================================\n",
    "\n",
    "Output: 400\n",
    "\n",
    "===================================================================\n",
    "\n"
   ]
  },
  {
   "cell_type": "code",
   "execution_count": 2,
   "metadata": {},
   "outputs": [
    {
     "name": "stdout",
     "output_type": "stream",
     "text": [
      "400\n"
     ]
    }
   ],
   "source": [
    "#code\n",
    "a_tuple = (\"The Institute\", (\"Best Mystery & Thriller\", \"The Silent Patient\", 68821), 75717,\n",
    "[1, 2, 3, 400, 5, 6, 7], (\"Best Fiction\", \"The Testaments\", 98291))\n",
    "print(a_tuple[-2][-4])\n",
    "\n"
   ]
  },
  {
   "cell_type": "markdown",
   "metadata": {},
   "source": [
    "***Task 2***\n",
    "\n",
    "Assume, you have been given a tuple. Write a Python program that creates a new tuple excluding the first and last two elements of the given tuple and prints the new tuple.\n",
    "Hint: You may use tuple slicing.\n",
    "\n",
    "===================================================================\n",
    "\n",
    "\n",
    "Sample Input 1:\\\n",
    "(10, 20, 24, 25, 26, 35, 70)\\\n",
    "Sample Output 1:\\\n",
    "(24, 25, 26)\n",
    "\n",
    "===================================================================\n",
    "\n",
    "Sample Input 2:\\\n",
    "(-10, 20, 30, 40)\\\n",
    "Sample Output 2:\\\n",
    "()\n",
    "\n",
    "===================================================================\n",
    "\n",
    "Sample Input 3:\\\n",
    "(-10, 20, 25, 30, 40)\\\n",
    "Sample Output 3:\\\n",
    "(25,)\n"
   ]
  },
  {
   "cell_type": "code",
   "execution_count": 20,
   "metadata": {},
   "outputs": [
    {
     "name": "stdout",
     "output_type": "stream",
     "text": [
      "(24, 25, 26)\n"
     ]
    }
   ],
   "source": [
    "#code\n",
    "# (10, 20, 24, 25, 26, 35, 70)\n",
    "\n",
    "list = [int(item) for item in input(\"here goes your tuple:\")[1:-1].split(\",\")]\n",
    "# print(list)\n",
    "\n",
    "my_tup = tuple(list)\n",
    "print(my_tup[2:len(my_tup)-2])\n"
   ]
  },
  {
   "cell_type": "markdown",
   "metadata": {},
   "source": [
    "**Task 3**\n",
    "\n",
    "Assume, you have been given a tuple.\n",
    "\n",
    "book_info = (\n",
    "(\"Best Mystery & Thriller\",\"The Silent Patient\",68,821),\\\n",
    "(\"Best Horror\",\"The Institute\",75,717),\\\n",
    "(\"Best History & Biography\",\"The five\",31,783 ),\\\n",
    "(\"Best Fiction\",\"The Testaments\",98,291)\n",
    ")\n",
    "\n",
    "Write a Python program that prints the size of the tuple and all its elements as shown below.\n",
    "\n",
    "===================================================================\n",
    "\n",
    "Output:\\\n",
    "Size of the tuple is: 4\\\n",
    "('Best Mystery & Thriller', 'The Silent Patient', 68, 821)\\\n",
    "('Best Horror', 'The Institute', 75, 717)\\\n",
    "('Best History & Biography', 'The five', 31, 783)\\\n",
    "('Best Fiction', 'The Testaments', 98, 291)\n",
    "\n",
    "===================================================================\n"
   ]
  },
  {
   "cell_type": "code",
   "execution_count": 32,
   "metadata": {},
   "outputs": [
    {
     "name": "stdout",
     "output_type": "stream",
     "text": [
      "Size of the tuple is: 4\n",
      "('Best Mystery & Thriller', 'The Silent Patient', 68, 821)\n",
      "('Best Horror', 'The Institute', 75, 717)\n",
      "('Best History & Biography', 'The five', 31, 783)\n",
      "('Best Fiction', 'The Testaments', 98, 291)\n"
     ]
    }
   ],
   "source": [
    "book_info = (\n",
    "(\"Best Mystery & Thriller\",\"The Silent Patient\",68,821),\\\n",
    "(\"Best Horror\",\"The Institute\",75,717),\\\n",
    "(\"Best History & Biography\",\"The five\",31,783 ),\\\n",
    "(\"Best Fiction\",\"The Testaments\",98,291)\n",
    ")\n",
    "\n",
    "print(\"Size of the tuple is:\" ,(len(book_info)))\n",
    "for i in book_info:\n",
    "    print(i)"
   ]
  },
  {
   "cell_type": "markdown",
   "metadata": {},
   "source": [
    "***Task 4***\\\n",
    "Assume, you have been given a tuple with details about books that won the Good Reads Choice Awards.\\\n",
    "book_info = (\\\n",
    "(\"Best Mystery & Thriller\",\"The Silent Patient\",68821),\\\n",
    "(\"Best Horror\",\"The Institute\",75717),\\\n",
    "(\"Best History & Biography\",\"The five\",31783 ),\\\n",
    "(\"Best Fiction\",\"The Testaments\",98291)\\\n",
    ")\\\n",
    "Write a Python program that prints the award category, the book name, and its total votes earned as shown below.\\\n",
    "**<font color='red'>[Must use Tuple unpacking for printing and need to handle the quotation marks as a part of the output]</font>**\\\n",
    "\n",
    "===================================================================\n",
    "\n",
    "Output:\\\n",
    "The Silent Patient won the 'Best Mystery & Thriller' category with 68821 votes\\\n",
    "The Institute won the 'Best Horror' category with 75717 votes\\\n",
    "The five won the 'Best History & Biography' category with 31783 votes\\\n",
    "The Testaments won the 'Best Fiction' category with 98291 votes\\\n",
    "\n",
    "===================================================================\n"
   ]
  },
  {
   "cell_type": "code",
   "execution_count": 35,
   "metadata": {},
   "outputs": [
    {
     "name": "stdout",
     "output_type": "stream",
     "text": [
      "The Silent Patient won the 'Best Mystery & Thriller' category with 68821 votes\n",
      "The Institute won the 'Best Horror' category with 75717 votes\n",
      "The five won the 'Best History & Biography' category with 31783 votes\n",
      "The Testaments won the 'Best Fiction' category with 98291 votes\n"
     ]
    }
   ],
   "source": [
    "book_info = (\n",
    "(\"Best Mystery & Thriller\",\"The Silent Patient\",68821),\n",
    "(\"Best Horror\",\"The Institute\",75717),\n",
    "(\"Best History & Biography\",\"The five\",31783 ),\n",
    "(\"Best Fiction\",\"The Testaments\",98291)\n",
    ")\n",
    "\n",
    "for items in book_info:\n",
    "    print(f\"{items[1]} won the '{items[0]}' category with {items[2]} votes\")"
   ]
  },
  {
   "cell_type": "markdown",
   "metadata": {},
   "source": [
    "***Task 5***\n",
    "Write a python program that takes an input from the user and finds the number of times that the input is present in a given tuple.\\\n",
    "\n",
    "===================================================================\n",
    "\n",
    "Example 1:\\\n",
    "Given tuple: (10, 8, 5, 2, 10, 15, 10, 8, 5, 8, 8, 2)\\\n",
    "Sample Input 1:\\\n",
    "8\\\n",
    "Sample Output 1:\\\n",
    "8 appears 4 times in the tuple\\\n",
    "\n",
    "===================================================================\n",
    "\n",
    "Example 2\\\n",
    "Given tuple: (10, 8, 5, 2, 10, 15, 10, 8, 5, 8, 8, 2)\\\n",
    "Sample Input 2:\\\n",
    "1\\\n",
    "Sample Output 2:\\\n",
    "1 appears 0 times in the tuple\\\n",
    "\n",
    "===================================================================\n"
   ]
  },
  {
   "cell_type": "code",
   "execution_count": 44,
   "metadata": {},
   "outputs": [
    {
     "name": "stdout",
     "output_type": "stream",
     "text": [
      "8 appears 4 times in the tuple\n"
     ]
    }
   ],
   "source": [
    "given = (10, 8, 5, 2, 10, 15, 10, 8, 5, 8, 8, 2)\n",
    "\n",
    "userIn = int(input(\"which number to find:\"))\n",
    "count = 0\n",
    "for i in given:\n",
    "    if i ==userIn :\n",
    "        count +=1\n",
    "        \n",
    "print(userIn, \"appears\",count, \"times in the tuple\")\n",
    "        "
   ]
  },
  {
   "cell_type": "markdown",
   "metadata": {},
   "source": [
    "***Task 6***\n",
    "Write a Python program to reverse a given tuple.\\\n",
    "**<font color='red'> [You are not allowed to use tuple slicing] </font>**\n",
    "\n",
    "===================================================================\n",
    "\n",
    "Note: Unlike lists, tuples are immutable. So, in order to reverse a tuple, we may need to convert it into a list first, then modify the list, and finally convert it back to a tuple.\n",
    "\n",
    "===================================================================\n",
    "\n",
    "Example 1:\\\n",
    "Given tuple: ('a', 'b', 'c', 'd', 'e', 'f', 'g', 'h')\\\n",
    "Output:\\\n",
    "('h', 'g', 'f', 'e', 'd', 'c', 'b', 'a')\n",
    "\n",
    "===================================================================\n",
    "\n",
    "Example 2:\\\n",
    "Given tuple: (10, 20, 30, 40, 50, 60)\\\n",
    "Output:\\\n",
    "(60, 50, 40, 30, 20, 10)\n"
   ]
  },
  {
   "cell_type": "code",
   "execution_count": 59,
   "metadata": {},
   "outputs": [
    {
     "name": "stdout",
     "output_type": "stream",
     "text": [
      "['h', 'g', 'f', 'e', 'd', 'c', 'b', 'a']\n",
      "['h', 'g', 'f', 'e', 'd', 'c', 'b', 'a']\n"
     ]
    }
   ],
   "source": [
    "given =  ('a', 'b', 'c', 'd', 'e', 'f', 'g', 'h')\n",
    "\n",
    "ls = []\n",
    "for items in given:\n",
    "    ls.append(items)\n",
    "# print(ls)\n",
    "\n",
    "# x = ls[::-1]\n",
    "# print(x)\n",
    "\n",
    "ls.reverse()\n",
    "print(ls)"
   ]
  },
  {
   "cell_type": "markdown",
   "metadata": {},
   "source": [
    "**<font color='red'> **Part 2: Dictionary** </font>**"
   ]
  },
  {
   "cell_type": "markdown",
   "metadata": {},
   "source": [
    "**Task 7**\\\n",
    "Suppose you are given two dictionaries.\\\n",
    "Now create a new dictionary \"marks\", merging the two dictionaries, so that the original two dictionaries remain unchanged.\\\n",
    "Note: You can use dictionary functions.\n",
    "\n",
    "===================================================================\n",
    "\n",
    "Given:\\\n",
    "{'Harry':15, 'Draco':8, 'Nevil':19}\\\n",
    "{'Ginie':18, 'Luna': 14}\\\n",
    "Output:\\\n",
    "{'Harry': 15, 'Draco': 8, 'Nevil': 19, 'Ginie': 18, 'Luna': 14}\n",
    "\n",
    "===================================================================\n",
    "\n",
    "Given:\\\n",
    "{'A':90, 'B': 0}\\\n",
    "{'C':50}\\\n",
    "Output:\\\n",
    "{'A': 90, 'B': 0, 'C': 50}\n",
    "\n",
    "===================================================================\n"
   ]
  },
  {
   "cell_type": "code",
   "execution_count": 1,
   "metadata": {},
   "outputs": [
    {
     "name": "stdout",
     "output_type": "stream",
     "text": [
      "{'Harry': 15, 'Draco': 8, 'Nevil': 19, 'Ginie': 18, 'Luna': 14}\n"
     ]
    }
   ],
   "source": [
    "given1 = {'Harry':15, 'Draco':8, 'Nevil':19}\n",
    "given2 = {'Ginie':18, 'Luna': 14}\n",
    "\n",
    "given1.update(given2)\n",
    "\n",
    "print(given1)\n"
   ]
  },
  {
   "cell_type": "markdown",
   "metadata": {},
   "source": [
    "***Task 8***\n",
    "\n",
    "Write a Python program that takes a dictionary as an input from the user and then prints the average of all the values in the dictionary.\\\n",
    "<font color=\"red\">[You are not allowed to use len() and sum()]</font>\n",
    "\n",
    "===================================================================\n",
    "\n",
    "Hint (1): For taking dictionary input\\\n",
    "\n",
    "Approach (1): For taking dictionary as an input from the user, you may take the whole dictionary as a string using the input() function. Then you can use the split(), strip() functions and conditions to get the keys and values from the string. Finally, you can make the dictionary using the obtained data.\\\n",
    "Approach (2): If the first approach seems too difficult you can create an empty dictionary and then just run a simple loop. For each iteration ask the user for a key and a value using the input() function and keep updating the dictionary with the key and value.\\\n",
    "\n",
    "Hint (2): After you have a dictionary, you can use dictionary functions to get all the values from it, run loop to calculate the sum and the total number of values in the dictionary in order to find out the average.\\\n",
    "\n",
    "===================================================================\n",
    "\n",
    "Sample Input 1:\\\n",
    "{'Jon': 100, 'Dan':200, 'Rob':300}\\\n",
    "Sample Output 1:\\\n",
    "Average is 200.\n",
    "\n",
    "===================================================================\n",
    "\n",
    "Sample Input 2:\\\n",
    "{'Jon': 100, 'Dan':200, 'Rob':30, 'Ned':110}\\\n",
    "Sample Output 2:\\\n",
    "Average is 110.\n",
    "\n",
    "===================================================================\n"
   ]
  },
  {
   "cell_type": "code",
   "execution_count": 20,
   "metadata": {},
   "outputs": [
    {
     "ename": "TypeError",
     "evalue": "unsupported operand type(s) for +: 'int' and 'str'",
     "output_type": "error",
     "traceback": [
      "\u001b[1;31m---------------------------------------------------------------------------\u001b[0m",
      "\u001b[1;31mTypeError\u001b[0m                                 Traceback (most recent call last)",
      "\u001b[1;32mg:\\CODE\\UNI\\CSE110\\Assignment\\CSE110_Lab_Assignment_5_(Dictionary).ipynb Cell 18'\u001b[0m in \u001b[0;36m<module>\u001b[1;34m\u001b[0m\n\u001b[0;32m      <a href='vscode-notebook-cell:/g%3A/CODE/UNI/CSE110/Assignment/CSE110_Lab_Assignment_5_%28Dictionary%29.ipynb#ch0000017?line=8'>9</a>\u001b[0m     value \u001b[39m=\u001b[39m \u001b[39minput\u001b[39m(\u001b[39m\"\u001b[39m\u001b[39mvalues\u001b[39m\u001b[39m\"\u001b[39m)\n\u001b[0;32m     <a href='vscode-notebook-cell:/g%3A/CODE/UNI/CSE110/Assignment/CSE110_Lab_Assignment_5_%28Dictionary%29.ipynb#ch0000017?line=9'>10</a>\u001b[0m     \u001b[39mdict\u001b[39m\u001b[39m.\u001b[39mupdate({key:value})\n\u001b[1;32m---> <a href='vscode-notebook-cell:/g%3A/CODE/UNI/CSE110/Assignment/CSE110_Lab_Assignment_5_%28Dictionary%29.ipynb#ch0000017?line=10'>11</a>\u001b[0m     total \u001b[39m=\u001b[39m total \u001b[39m+\u001b[39;49m(value)\n\u001b[0;32m     <a href='vscode-notebook-cell:/g%3A/CODE/UNI/CSE110/Assignment/CSE110_Lab_Assignment_5_%28Dictionary%29.ipynb#ch0000017?line=11'>12</a>\u001b[0m \u001b[39mprint\u001b[39m(\u001b[39m\"\u001b[39m\u001b[39mAverage is\u001b[39m\u001b[39m\"\u001b[39m, total)\n",
      "\u001b[1;31mTypeError\u001b[0m: unsupported operand type(s) for +: 'int' and 'str'"
     ]
    }
   ],
   "source": [
    "# {'Jon': 100, 'Dan':200, 'Rob':30, 'Ned':110}\n",
    "\n",
    "userIn = input(\"dictionary goes here\")\n",
    "dict = {}\n",
    "total = 0\n",
    "\n",
    "for iterator in range (len((userIn))):\n",
    "    key = input(\"keys\")\n",
    "    value = input(\"values\")\n",
    "    dict.update({key:value})\n",
    "    total = total +(value)\n",
    "print(\"Average is\", total)\n"
   ]
  },
  {
   "cell_type": "markdown",
   "metadata": {},
   "source": [
    "***Task 9***\n",
    "\n",
    "Suppose there is a dictionary named exam_marks as given below.\\\n",
    "exam_marks = {'Cierra Vega': 175, 'Alden Cantrell': 200, 'Kierra Gentry': 165, 'Pierre Cox': 190}\\\n",
    "Write a Python program that takes an input from the user and creates a new dictionary with only those elements from 'exam_marks' whose keys have values higher than the user input (inclusive).\n",
    "\n",
    "===================================================================\n",
    "\n",
    "Sample Input 1:\\\n",
    "170\\\n",
    "Sample Output 1:\\\n",
    "{'Cierra Vega': 175, 'Alden Cantrell': 200, 'Pierre Cox': 190}\n",
    "\n",
    "===================================================================\n",
    "\n",
    "Sample Input 2:\\\n",
    "190\\\n",
    "Sample Output 2:\\\n",
    "{'Alden Cantrell': 200, 'Pierre Cox': 190}\n",
    "\n",
    "===================================================================\n"
   ]
  },
  {
   "cell_type": "code",
   "execution_count": 28,
   "metadata": {},
   "outputs": [
    {
     "name": "stdout",
     "output_type": "stream",
     "text": [
      "{'Cierra Vega': 175, 'Alden Cantrell': 200, 'Pierre Cox': 190}\n"
     ]
    }
   ],
   "source": [
    "exam_marks = {'Cierra Vega': 175, 'Alden Cantrell': 200, 'Kierra Gentry': 165, 'Pierre Cox': 190}\n",
    "dict= {}\n",
    "userIn = int(input(\"Enter a num:\"))\n",
    "for k,v in exam_marks.items():\n",
    "    if userIn <= v:\n",
    "        dict[k]= v\n",
    "print(dict)"
   ]
  },
  {
   "cell_type": "markdown",
   "metadata": {},
   "source": [
    "***Task 10***\n",
    "\n",
    "Write a Python program that finds the largest value with its key from a given dictionary.\\\n",
    "\n",
    "<font color=\"color\">[You are not allowed to use the max() function for this task]</font>\n",
    "\n",
    "Note: You do not need to take the dictionaries as an input from the user but your code should work for any given dictionary. Also, you need to handle the quotation marks as a part of the output.\\\n",
    "Hint: Think of membership operators (in and not in). You can use dictionary functions to get the values.\n",
    "\n",
    "===================================================================\n",
    "\n",
    "Sample 1:\\\n",
    "Given:\\\n",
    "{'sci fi': 12, 'mystery': 15, 'horror': 8, 'mythology': 10, 'young_adult': 4, 'adventure':14}\\\n",
    "Output:\\\n",
    "The highest selling book genre is 'mystery' and the number of books sold are 15.\n",
    "\n",
    "===================================================================\n",
    "\n",
    "Sample 2:\\\n",
    "Given:\\\n",
    "{'sci fi': 5, 'mystery': 3, 'horror': 14, 'young_adult': 2, 'adventure':9}\\\n",
    "Output:\\\n",
    "The highest selling book genre is 'horror' and the number of books sold are 14.\n",
    "\n",
    "===================================================================\n"
   ]
  },
  {
   "cell_type": "code",
   "execution_count": 30,
   "metadata": {},
   "outputs": [
    {
     "name": "stdout",
     "output_type": "stream",
     "text": [
      "The highest selling book genre is 'adventure' and the number of books sold are 14\n"
     ]
    }
   ],
   "source": [
    "given = {'sci fi': 12, 'mystery': 15, 'horror': 8, 'mythology': 10, 'young_adult': 4, 'adventure':14}\n",
    "i = 0\n",
    "for k, v in given.items():\n",
    "    if i==0:\n",
    "        maxval = v\n",
    "        maxkey = k\n",
    "        i +=1\n",
    "    else:\n",
    "        v>maxval\n",
    "        maxval = v\n",
    "        maxkey = k\n",
    "print(f\"The highest selling book genre is '{maxkey}' and the number of books sold are {maxval}\")"
   ]
  },
  {
   "cell_type": "markdown",
   "metadata": {},
   "source": [
    ".//.;;'\n",
    "***Task 11***\n",
    "\n",
    "Write a Python program that takes a String as an input from the user and counts the frequency of each character using a dictionary. For solving this problem, you may use each character as a key and its frequency as values.\\ \n",
    "<font color=red>[You are not allowed to use the count() function]</font>\n",
    "\n",
    "Hint: You can create a new dictionary to store the frequencies. You may ignore case for simplicity (i.e. may consider P and p to be the same).\\\n",
    "\n",
    "===================================================================\n",
    "\n",
    "Sample Input:\\\n",
    "\"Python programming is fun\"\\\n",
    "Sample Output:\\\n",
    "{'p': 2, 'y': 1, 't': 1, 'h': 1, 'o': 2, 'n': 3, 'r': 2, 'g': 2, 'a': 1, 'm': 2, 'i': 2, 's': 1, 'f': 1, 'u': 1}\n",
    "\n",
    "===================================================================\n"
   ]
  },
  {
   "cell_type": "code",
   "execution_count": 34,
   "metadata": {},
   "outputs": [
    {
     "name": "stdout",
     "output_type": "stream",
     "text": [
      "{'p': 2, 'y': 1, 't': 1, 'h': 1, 'o': 2, 'n': 3, 'r': 2, 'g': 2, 'a': 1, 'm': 2, 'i': 2, 's': 1, 'f': 1, 'u': 1}\n"
     ]
    }
   ],
   "source": [
    "userIn  = input(\"Enter something:\")\n",
    "userIn = userIn.lower()\n",
    "ls = []\n",
    "for i in userIn:\n",
    "    if i != \" \":\n",
    "        ls.append(i)\n",
    "    dict = {}\n",
    "    for i in ls:\n",
    "        count = 0\n",
    "        for j in ls:\n",
    "            if j in i:\n",
    "                count +=1\n",
    "            dict[i]= count\n",
    "print(dict)"
   ]
  },
  {
   "cell_type": "markdown",
   "metadata": {},
   "source": [
    "***Task 12***\n",
    "\n",
    "Suppose you are given the following dictionary where the values are lists.\\\n",
    "dict_1 = {'A': [1, 2, 3], 'b': ['1', '2'], \"c\": [4, 5, 6, 7]}\\\n",
    "Write a Python program that counts the total number of items in a dictionary’s values and prints it.\\\n",
    "<font color=red>[Without using sum(), len(), count() functions]</font>\\\n",
    "Note: Make changes to the above dictionary and see if your code works properly for other dictionaries as well.\n",
    "\n",
    "===================================================================\n",
    "\n",
    "Output:\\\n",
    "9\n",
    "\n",
    "===================================================================\n"
   ]
  },
  {
   "cell_type": "code",
   "execution_count": 36,
   "metadata": {},
   "outputs": [
    {
     "name": "stdout",
     "output_type": "stream",
     "text": [
      "9\n"
     ]
    }
   ],
   "source": [
    "dict_1 = {'A': [1, 2, 3], 'b': ['1', '2'], \"c\": [4, 5, 6, 7]}\n",
    "\n",
    "val = dict_1.values()\n",
    "count= 0\n",
    "for i in val:\n",
    "    for j in i :\n",
    "        count += 1\n",
    "        \n",
    "print(count)"
   ]
  },
  {
   "cell_type": "markdown",
   "metadata": {},
   "source": [
    "***Task 13***\\\n",
    "Suppose you have been given the following list of tuples.\\\n",
    "list_1 = [(\"a\", 1), (\"b\", 2), (\"a\", 3), (\"b\", 1), (\"a\", 2), (\"c\", 1)]\\\n",
    "    \n",
    "Write a Python program that converts this list of tuples into a dictionary and then prints the dictionary.\\\n",
    "<font color=\"red\">[You are not allowed to use set] </font>\n",
    "Hint: Think of membership operators (in and not in).\n",
    "\n",
    "===================================================================\n",
    "\n",
    "Output:\\\n",
    "{'a': [1, 3, 2], 'b': [2, 1], 'c': [1]}\n",
    "\n",
    "==================================================================="
   ]
  },
  {
   "cell_type": "code",
   "execution_count": 39,
   "metadata": {},
   "outputs": [
    {
     "name": "stdout",
     "output_type": "stream",
     "text": [
      "{'a': [1, 3, 2], 'b': [2, 1], 'c': [1]}\n"
     ]
    }
   ],
   "source": [
    "list_1 = [(\"a\", 1), (\"b\", 2), (\"a\", 3), (\"b\", 1), (\"a\", 2), (\"c\", 1)]\n",
    "dict= {}\n",
    "for k, v in list_1:\n",
    "    if k in dict.keys():\n",
    "        dict[k].append(v)\n",
    "    else:\n",
    "        dict[k]=[v]\n",
    "print(dict)\n"
   ]
  },
  {
   "cell_type": "code",
   "execution_count": 1,
   "metadata": {},
   "outputs": [
    {
     "name": "stdout",
     "output_type": "stream",
     "text": [
      "False\n",
      "False\n",
      "False\n",
      "False\n",
      "False\n",
      "True\n",
      "False\n",
      "False\n",
      "False\n",
      "True\n"
     ]
    }
   ],
   "source": [
    "# Task14\n",
    "var1 = var2 = var3 = var4 = var5 = var6 = False\n",
    "result1 = result2 = result3 = result4 = result5 = result6 = result7 = result8 = result9 = result10 = False\n",
    "var1 = 4 < 3 - 1\n",
    "var2 = var1 and False\n",
    "var3 = False\n",
    "var4 = True\n",
    "var5 = False\n",
    "var6 = var3 and True\n",
    "result1 = (var1 or var2) and (8 * 10 > 45)\n",
    "result2 = (var1 or var2) and (result1 and False)\n",
    "result3 = (var1 and result1) or result2\n",
    "result4 = (var1 or var2) or ((var3 and var1) and False)\n",
    "result5 = (var1 and var2) and (result3 or var1)\n",
    "result6 = ((var3 or var2) and not result5) or True\n",
    "result7 = (var4 and result1) and ((result1 and False) or True)\n",
    "result8 = ((var1 and result3) and (var5 or var6)) and True\n",
    "result9 = ((result2 and var2) or (result7 and var1)) and False\n",
    "result10 = not(var1 and True)\n",
    "\n",
    "print(result1)\n",
    "print(result2)\n",
    "print(result3)\n",
    "print(result4)\n",
    "print(result5)\n",
    "print(result6)\n",
    "print(result7)\n",
    "print(result8)\n",
    "print(result9)\n",
    "print(result10)\n"
   ]
  },
  {
   "cell_type": "code",
   "execution_count": 2,
   "metadata": {},
   "outputs": [
    {
     "name": "stdout",
     "output_type": "stream",
     "text": [
      "False\n",
      "False\n",
      "True\n",
      "False\n",
      "True\n",
      "False\n",
      "=========================\n",
      "False\n",
      "False\n",
      "True\n",
      "False\n",
      "False\n",
      "True\n",
      "False\n",
      "False\n",
      "False\n",
      "True\n"
     ]
    }
   ],
   "source": [
    "# TASK15\n",
    "var1 = False\n",
    "var2 = False\n",
    "var3 = False\n",
    "var4 = False\n",
    "var5 = False\n",
    "var6 = False\n",
    "result1 = False\n",
    "result2 = False\n",
    "result3 = False\n",
    "result4 = False\n",
    "result5 = False\n",
    "result6 = False\n",
    "result7 = False\n",
    "result8 = False\n",
    "result9 = False\n",
    "result10 = False\n",
    "var1 = ((not True) or True) and False\n",
    "var2 = var1 and False\n",
    "var3 = True and not False\n",
    "var4 = False\n",
    "var5 = True\n",
    "var6 = var3 and False\n",
    "result1 = (var1 and var2) and (40 % 3) > 45 or (var5 and var6)\n",
    "result2 = (var1 or var2) or (result1 and False)\n",
    "result3 = (var1 and result1) or result2 or var5\n",
    "result4 = (var1 or var2) or ((var3 and var1) and False)\n",
    "result5 = (var1 and var2) and (result3 or var1)\n",
    "result6 = ((var3 or (not var2)) and (result5)) or True\n",
    "result7 = (var4 and result1) and ((result1 and False) or True)\n",
    "result8 = ((var1 and result3) and ((not var5) or var6)) and True\n",
    "result9 = ((result2 and var2) or ((not result7) and var1)) and not False\n",
    "result10 = not(var1 and True)\n",
    "\n",
    "print(var1)\n",
    "print(var2)\n",
    "print(var3)\n",
    "print(var4)\n",
    "print(var5)\n",
    "print(var6)\n",
    "print(\"=========================\")\n",
    "print(result1)\n",
    "print(result2)\n",
    "print(result3)\n",
    "print(result4)\n",
    "print(result5)\n",
    "print(result6)\n",
    "print(result7)\n",
    "print(result8)\n",
    "print(result9)\n",
    "print(result10)\n",
    "\n",
    "\n"
   ]
  },
  {
   "cell_type": "code",
   "execution_count": 4,
   "metadata": {},
   "outputs": [
    {
     "name": "stdout",
     "output_type": "stream",
     "text": [
      "5\n",
      "9\n",
      "15\n",
      "25\n",
      "43\n",
      "77\n",
      "143\n",
      "273\n",
      "531\n"
     ]
    }
   ],
   "source": [
    "#Task116\n",
    "myList = [0, 0, 0, 0, 0, 0, 0, 0, 0, 0]\n",
    "index1 = 0\n",
    "index2 = 0\n",
    "index1 = 1\n",
    "while(index1<10):\n",
    "  myList[index1] = index1+4\n",
    "  index2 = 1\n",
    "  while(index2<index1):\n",
    "      myList[index1] = myList[index1] + myList[index2]-index1\n",
    "      index2 = index2+1\n",
    "  print(myList[index1])\n",
    "  index1 = index1+1\n",
    "\n"
   ]
  },
  {
   "cell_type": "code",
   "execution_count": 1,
   "metadata": {},
   "outputs": [
    {
     "name": "stdout",
     "output_type": "stream",
     "text": [
      "5\n",
      "3\n",
      "-5\n",
      "-12\n",
      "-12\n",
      "-6\n",
      "-1\n",
      "-3\n",
      "-11\n"
     ]
    }
   ],
   "source": [
    "#Task 17\n",
    "myList = [0, 0, 0, 0, 0, 0, 0, 0, 0, 0]\n",
    "index1 = 0\n",
    "index2 = 0\n",
    "index1 = 1\n",
    "while (index1 < 10):\n",
    "  myList[index1] = index1 + 4\n",
    "  index2 = 1\n",
    "  while (index2 < index1):\n",
    "    myList[index1] = myList[index1-1] - myList[index2-1] - index1\n",
    "    index2 = index2 + 1\n",
    "  print(myList[index1])\n",
    "  index1 = index1 + 1\n",
    "\n"
   ]
  },
  {
   "cell_type": "code",
   "execution_count": 2,
   "metadata": {},
   "outputs": [
    {
     "name": "stdout",
     "output_type": "stream",
     "text": [
      "3\n",
      "5\n",
      "7\n",
      "9\n",
      "11\n",
      "13\n",
      "15\n",
      "17\n",
      "19\n"
     ]
    }
   ],
   "source": [
    "#Task 18\n",
    "\n",
    "myList = [0, 0, 0, 0, 0, 0, 0, 0, 0, 0]\n",
    "b = []\n",
    "index1 = 0\n",
    "index2 = 0\n",
    "index1 = 1\n",
    "b = myList\n",
    "while(index1<10):\n",
    "  myList[index1] = index1+2\n",
    "  index2 = 1\n",
    "  while(index2<index1):\n",
    "    myList[index1] = b[index1]+myList[index2]-index1\n",
    "    index2 = index2+1\n",
    "  print(myList[index1])\n",
    "  index1 = index1+1\n",
    "\n"
   ]
  },
  {
   "cell_type": "code",
   "execution_count": 3,
   "metadata": {},
   "outputs": [
    {
     "name": "stdout",
     "output_type": "stream",
     "text": [
      "2\n",
      "0\n",
      "-1\n",
      "-5\n",
      "-11\n",
      "-22\n",
      "-40\n",
      "-70\n",
      "-119\n"
     ]
    }
   ],
   "source": [
    "#Task 19\n",
    "\n",
    "myList = [0, 0, 0, 0, 0, 0, 0, 0, 0, 0]\n",
    "b = []\n",
    "index1 = 0\n",
    "index2 = 0\n",
    "index1 = 1\n",
    "b = myList\n",
    "while (index1 < 10):\n",
    "  myList[index1] = index1 + 1\n",
    "  index2 = 1\n",
    "  while (index2 < index1):\n",
    "    myList[index1] = b[index2-1] + myList[index2] - index1\n",
    "    index2 = index2 + 1\n",
    "  print(myList[index1])\n",
    "  index1 = index1 + 1\n",
    "\n"
   ]
  },
  {
   "cell_type": "markdown",
   "metadata": {},
   "source": [
    "                            ***Optional Tasks (20-25) [Ungraded]*** "
   ]
  },
  {
   "cell_type": "markdown",
   "metadata": {},
   "source": [
    "**Task 20**\\\n",
    "Given a list of tuples, your task is to multiply the elements of the tuple and return a list of multiplied elements as shown below.\n",
    "\n",
    "===================================================================\n",
    "\n",
    "Example 1:\\\n",
    "Given:\\\n",
    "[(2, 3), (4, 5), (6, 7), (2, 8)]\\\n",
    "Output:\\\n",
    "[6, 20, 42, 16]\n",
    "\n",
    "===================================================================\n",
    "\n",
    "Example 2:\\\n",
    "Given:\\\n",
    "[(11, 22), (33, 55), (55, 77), (11, 44)]\\\n",
    "Output:\\\n",
    "[242, 1815, 4235, 484]\n",
    "\n",
    "===================================================================\n"
   ]
  },
  {
   "cell_type": "code",
   "execution_count": null,
   "metadata": {},
   "outputs": [],
   "source": []
  },
  {
   "cell_type": "markdown",
   "metadata": {},
   "source": [
    "**Task 21**\\\n",
    "Assume, you have been given a tuple as below.\\\n",
    "a_tuple = ( [1, 2, 3], [4, 5, 6], [7, 8, 9], [10, 11, 12])\\\n",
    "Write a Python program that asks the user for an input (can be any data type) and replaces the last element of each of the inner lists with the user given value.\n",
    "\n",
    "===================================================================\n",
    "\n",
    "Sample Input 1:\\\n",
    "abc\\\n",
    "Sample Output 1:\\\n",
    "([1, 2, 'abc'], [4, 5, 'abc'], [7, 8, 'abc'], [10, 11, 'abc'])\n",
    "\n",
    "===================================================================\n",
    "\n",
    "Sample Input 1:\\\n",
    "1000\\\n",
    "Sample Output 1:\\\n",
    "([1, 2, '1000'], [4, 5, '1000'], [7, 8, '1000'], [10, 11, '1000'])\n"
   ]
  },
  {
   "cell_type": "code",
   "execution_count": null,
   "metadata": {},
   "outputs": [],
   "source": []
  },
  {
   "cell_type": "markdown",
   "metadata": {},
   "source": [
    "**Task 22**\\\n",
    "Suppose there is a dictionary named my_dictionary.\\\n",
    "my_dictionary = {'c1':'Red', 'c2':'Green', 'c3':None, 'd4':'Blue', 'a5':None}.\\\n",
    "Now write a Python program to remove empty items from the dictionary. [Empty items means keys without any values (None)].\n",
    "\n",
    "===================================================================\n",
    "\n",
    "Output:\\\n",
    "{'c1':'Red', 'c2':'Green', 'd4':'Blue'}\n",
    "\n",
    "===================================================================\n"
   ]
  },
  {
   "cell_type": "markdown",
   "metadata": {},
   "source": [
    "**Task 23**\\\n",
    "Suppose you are given a dictionary as shown below. Write a Python program that takes two inputs from the user representing the lower (inclusive) and upper (exclusive) of a range of values. Your task is to extract all the items from the dictionary whose values lie in the range given as input by the user.\\\n",
    "dict_1 = {'a' : 6, 'b' : 7, 'c' : 9, 'd' : 8, 'e' : 11, 'f' : 12, 'g' : 13}\n",
    "\n",
    "===================================================================\n",
    "\n",
    "Sample Input 1:\\\n",
    "9, 12\\\n",
    "Sample Output 1:\\\n",
    "{'c': 9, 'e': 11}\\\n",
    "Explanation: Keys with values within the range of 9 and 11 are extracted.\n",
    "\n",
    "===================================================================\n",
    "\n",
    "Sample Input 2:\\\n",
    "14, 18\\\n",
    "Sample Output 2:\\\n",
    "{}\\\n",
    "Explanation: No values in range.\n",
    "\n",
    "===================================================================\n"
   ]
  },
  {
   "cell_type": "markdown",
   "metadata": {},
   "source": [
    "**Task 24**\\\n",
    "Given a list of tuples, your task is to group the tuples based on the second element in the tuples as shown in the examples below. We can achieve this using dictionary by checking the second element in each tuple.\\\n",
    "[You do not need to take tuple as input and can assume that it is given as below]\n",
    "\n",
    "===================================================================\n",
    "\n",
    "Example 1:\\\n",
    "Given:\\\n",
    "[(20, 80), (31, 80), (1, 22), (88, 11), (27, 11)]\\\n",
    "Output:\\\n",
    "{80: [(20, 80), (31, 80)],\\\n",
    "11: [(88, 11), (27, 11)],\\\n",
    "22: [(1, 22)]}\n",
    "\n",
    "===================================================================\n",
    "\n",
    "Example 2:\\\n",
    "Given:\\\n",
    "[(20, 'Sad'), (31, 'Sad'), (88, 'NotSad'), (27, 'NotSad')]\\\n",
    "Output:\\\n",
    "{'NotSad': [(88, 'NotSad'), (27, 'NotSad')],\\\n",
    "'Sad: [(20, 'Sad'), (31, 'Sad')]}\n",
    "\n",
    "===================================================================\n",
    "\n"
   ]
  },
  {
   "cell_type": "code",
   "execution_count": null,
   "metadata": {},
   "outputs": [],
   "source": []
  },
  {
   "cell_type": "markdown",
   "metadata": {},
   "source": [
    "#task25\n",
    "https://docs.google.com/document/d/1ajHsGqAoG5pkKAXrHxtRP18smBVd2qJY/edit"
   ]
  }
 ],
 "metadata": {
  "kernelspec": {
   "display_name": "Python 3.9.5 64-bit",
   "language": "python",
   "name": "python3"
  },
  "language_info": {
   "codemirror_mode": {
    "name": "ipython",
    "version": 3
   },
   "file_extension": ".py",
   "mimetype": "text/x-python",
   "name": "python",
   "nbconvert_exporter": "python",
   "pygments_lexer": "ipython3",
   "version": "3.9.5"
  },
  "orig_nbformat": 4,
  "vscode": {
   "interpreter": {
    "hash": "b671c20432fcd147198c92e7f072af9e705f087eb990bee22b07f08caab9f630"
   }
  }
 },
 "nbformat": 4,
 "nbformat_minor": 2
}
