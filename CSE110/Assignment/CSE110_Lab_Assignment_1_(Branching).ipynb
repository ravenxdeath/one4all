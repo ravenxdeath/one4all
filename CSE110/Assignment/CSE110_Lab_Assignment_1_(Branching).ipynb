{
  "cells": [
    {
      "cell_type": "markdown",
      "metadata": {
        "id": "uyPy6C3yGxw7"
      },
      "source": [
        "# CSE110 Lab Assignment 1 (Branching)\n",
        "\n",
        "This assignment is to guide you to solve basic programming problems in Python. Since this is the first assignment, the first problem is solved for you with explanations. The second problem is partially solved to help you. Please go through them and try to understand each statment. If you can understand the problems and the solutions done for you, you can try to solve the rest of the tasks by yourself. \n",
        "\n",
        "**<font color='red'>Please maintain variable naming conventions for all the tasks.</font>**\\\n",
        "<font color='red'>When you run your code, please make sure your outputs exactly match the sample outputs for each of the sample inputs given. Check if your code works for other valid inputs not given in the samples.</font>\n",
        "\n",
        "## Write the Python code for the following problems:\n"
      ]
    },
    {
      "cell_type": "markdown",
      "metadata": {
        "id": "YuyYBntuGxxB"
      },
      "source": [
        "### Task 1\n",
        "\n",
        "Write the Python code of a program that reads two numbers from the user, and prints their sum, product, and difference.\n",
        "\n",
        "==========================================================\n",
        "\n",
        "*Hint: subtract the second number from the first one*\n",
        "\n",
        "==========================================================\n",
        "\n",
        "**Example 1:**\n",
        "\n",
        "**Sample Input:**\\\n",
        " 4\\\n",
        " 5\n",
        "\n",
        "**Sample Output:**\\\n",
        "Sum = 9\\\n",
        "Product = 20\\\n",
        "Difference = -1\n",
        "\n",
        "==========================================================\n",
        "\n",
        "**Example 2:**\n",
        "\n",
        "**Sample Input:**\\\n",
        " 30\\\n",
        " 2\n",
        "\n",
        "**Sample Output:**\\\n",
        "Sum = 32\\\n",
        "Product = 60\\\n",
        "Difference = 28\n",
        "\n",
        "==========================================================\n",
        "\n",
        "For your explanation, the first question's code is done below. Try relating the block of code with the lessons you have learned and try to understand the significance of each line. You're most welcome to play around with the code. This will strengthen your understanding.\n"
      ]
    },
    {
      "cell_type": "code",
      "execution_count": 23,
      "metadata": {
        "colab": {
          "base_uri": "https://localhost:8080/"
        },
        "id": "Nm8cn6LGGxxB",
        "outputId": "2fc44a26-5ef1-4eaa-afad-bebc1a47725e"
      },
      "outputs": [
        {
          "name": "stdout",
          "output_type": "stream",
          "text": [
            "Sum = 9\n",
            "Product = 20\n",
            "Difference = -1\n"
          ]
        }
      ],
      "source": [
        "# First, we take 2 numbers as input from the user\n",
        "# Read 2 numbers as input from the user means taking 2 numbers as input from the user using the input function\n",
        "# var_1 = input('Please enter the first number: ')\n",
        "# var_2 = input('Please enter the second number: ')\n",
        "\n",
        "#Since input() function converts everything to String,\n",
        "#for performing any kind of mathematical operation we need to convert them to int.\n",
        "#For this conversion, we need to use the int() function\n",
        "\n",
        "\n",
        "#But at first, we may clarify whether the inputs are actually Strings or not. \n",
        "# print(type(var_1))\n",
        "# print(type(var_2))\n",
        "\n",
        "\n",
        "#Then we convert the Strings to integer using the int() function\n",
        "# var_3 = int(var_1)\n",
        "# var_4 = int(var_2)\n",
        "\n",
        "#We may then perform Addition\n",
        "# total = var_3 + var_4\n",
        "\n",
        "# Multiplication \n",
        "# product = var_3 * var_4\n",
        "\n",
        "# Substraction \n",
        "# difference = var_3 - var_4\n",
        "\n",
        "#===============================================================\n",
        "\n",
        "#Input taking and conversion can be done in a single line as shown below\n",
        "\n",
        "var_1 = int(input('Please enter the first number: '))\n",
        "var_2 = int(input('Please enter the second number: '))\n",
        "\n",
        "total = var_1 + var_2 # addition\n",
        "product = var_1 * var_2 # multiplication\n",
        "difference = var_1 - var_2 # difference\n",
        "\n",
        "#And then print all the calculated results\n",
        "\n",
        "print(\"Sum =\", total)\n",
        "print(\"Product =\", product)\n",
        "print(\"Difference =\", difference)\n",
        "\n",
        "\n",
        "#===============================================================\n",
        "\n"
      ]
    },
    {
      "cell_type": "markdown",
      "metadata": {
        "id": "RsWYzW1HGxxM"
      },
      "source": [
        "### Task 2\n",
        "\n",
        "Write the Python code of a program that reads the radius of a circle and prints its circumference and area.\n",
        "\n",
        "==========================================================\n",
        "\n",
        "*hint(1): we may import math and then use **math.pi** for getting the value of pi.\\\n",
        "For details, we can read from https://docs.python.org/3/library/math.html*\n",
        "\n",
        "*hint(2): we can import math and use the math function for making squares with math.pow(number, power) or we can simply use the power operator. For example:  S**2.*\n",
        "\n",
        "==========================================================\n",
        "\n",
        "**Example 1:**\n",
        "\n",
        "**Sample Input:**\\\n",
        "4\n",
        "\n",
        "**Sample Output:**\\\n",
        "Area is 50.26548245743669\\\n",
        "Circumference is 25.132741228718345\n",
        "\n",
        "==========================================================\n",
        "\n",
        "**Example 2:**\n",
        "\n",
        "**Sample Input:**\\\n",
        "3.5\n",
        "\n",
        "**Sample Output:**\\\n",
        "Area is 38.48451000647496\\\n",
        "Circumference is 21.991148575128552\n",
        "\n",
        "==========================================================\n",
        "\n",
        "For your understanding, the the first part of the question(area calculation) is done below."
      ]
    },
    {
      "cell_type": "code",
      "execution_count": 24,
      "metadata": {
        "colab": {
          "base_uri": "https://localhost:8080/"
        },
        "id": "CsvW0BrsGxxM",
        "outputId": "330663e0-f1c0-40d7-d6fb-46f57c4b98da"
      },
      "outputs": [
        {
          "name": "stdout",
          "output_type": "stream",
          "text": [
            "Area is: 38.48451000647496\n",
            "Circumference is: 21.991148575128552\n"
          ]
        }
      ],
      "source": [
        "import math\n",
        "\n",
        "# taking input from the user, then converting it to float\n",
        "# since radius can be a floating point value\n",
        "\n",
        "radius  = float(input(\"Please enter the radius value:\"))\n",
        "\n",
        "# squares can be made using these 3 ways, as give in hints\n",
        "# all 3 ways generates the same result for area\n",
        "\n",
        "area = math.pi * radius ** 2\n",
        "print(\"Area is:\", area)\n",
        "\n",
        "# area = math.pi * math.pow(radius, 2)\n",
        "# print(\"Area is:\", area)\n",
        "\n",
        "# area = math.pi * radius * radius\n",
        "# print(\"Area is:\", area)\n",
        "\n",
        "#==============================================================\n",
        "# TODO\n",
        "# calculate circumference\n",
        "\n",
        "# calculating circumference using 2*pi*r\n",
        "\n",
        "circumference = 2 * math.pi * radius\n",
        "print(\"Circumference is:\", circumference)\n",
        "\n",
        "#=============================================================="
      ]
    },
    {
      "cell_type": "markdown",
      "metadata": {
        "id": "_ix8TYCXGxxU"
      },
      "source": [
        "### Task 3\n",
        "\n",
        "Write the Python code of a program that reads two numbers from the user. The program should then print \"First is greater\" if the first number is greater, \"Second is greater\" if the second number is greater, and \"The numbers are equal\" otherwise.\n",
        "\n",
        "==========================================================\n",
        "\n",
        "**Sample Input 1:**\\\n",
        "7\\\n",
        "3\n",
        "\n",
        "**Sample Output 1:**\\\n",
        "First is greater\n",
        "\n",
        "==========================================================\n",
        "\n",
        "**Sample Input 2:**\\\n",
        "-33\\\n",
        "-3\n",
        "\n",
        "**Sample Output 2:**\\\n",
        "Second is greater\n",
        "\n",
        "==========================================================\n",
        "\n",
        "**Sample Input 1:**\\\n",
        "11\\\n",
        "11\n",
        "\n",
        "**Sample Output 1:**\\\n",
        "The numbers are equal\n"
      ]
    },
    {
      "cell_type": "code",
      "execution_count": 25,
      "metadata": {
        "id": "0cXCOjm0GxxU"
      },
      "outputs": [
        {
          "name": "stdout",
          "output_type": "stream",
          "text": [
            "Second is greater\n"
          ]
        }
      ],
      "source": [
        "#todo\n",
        "# used float instead of int function for fractional calculations\n",
        "\n",
        "var_1 = (float(input(\"Enter Your First Number:\")))\n",
        "var_2 = (float(input(\"Enter Your Second Number:\")))\n",
        "\n",
        "if(var_1 > var_2):\n",
        "    print(\"First is greater\")\n",
        "elif(var_2 > var_1):\n",
        "    print(\"Second is greater\")\n",
        "else:\n",
        "    print(\"The numbers are equal\")"
      ]
    },
    {
      "cell_type": "markdown",
      "metadata": {
        "id": "B-lEymPxGxxZ"
      },
      "source": [
        "### Task 4\n",
        "\n",
        "Write the Python code of a program that reads two numbers, subtracts the smaller number from the larger one, and prints the result.\n",
        "\n",
        "*Hint: First, we may check which number is greater*\n",
        "\n",
        "==========================================================\n",
        "\n",
        "**Sample Input 1:**\\\n",
        "-40\\\n",
        "-4\n",
        "\n",
        "**Sample Output 1:**\\\n",
        "36\n",
        "\n",
        "**Explanation:** -4 > -40 so -4 - (-40) = -4 + 40 = 36\n",
        "\n",
        "==========================================================\n",
        "\n",
        "**Sample Input 2:**\\\n",
        "6\\\n",
        "2\n",
        "\n",
        "**Sample Output 2:**\\\n",
        "4\n",
        "\n",
        "==========================================================\n",
        "\n",
        "\n",
        "**Sample Input 3:**\\\n",
        "5\\\n",
        "5\n",
        "\n",
        "**Sample Output 3:**\\\n",
        "0\n"
      ]
    },
    {
      "cell_type": "code",
      "execution_count": 26,
      "metadata": {
        "id": "XBdXtfEtGxxa"
      },
      "outputs": [
        {
          "name": "stdout",
          "output_type": "stream",
          "text": [
            "4.0\n"
          ]
        }
      ],
      "source": [
        "#todo \n",
        "\n",
        "# First, taking input from the user using 'input' function\n",
        "\n",
        "num1 = float(input(\"Enter First Number:\"))\n",
        "num2 = float(input(\"Enter Second Number\"))\n",
        "\n",
        "if(num1 > num2):\n",
        "    print(num1 - num2)\n",
        "else:\n",
        "    print(num2 - num1)"
      ]
    },
    {
      "cell_type": "markdown",
      "metadata": {
        "id": "jQEW8unEGxxf"
      },
      "source": [
        "### Task 5\n",
        "\n",
        "Write the Python code of a program that reads a number, and prints \"The number is even\" or \"The number is odd\", depending on whether the number is even or odd. \n",
        "\n",
        "*hint(1): we may use the modulus (%) operator to check for even or odd*\n",
        "\n",
        "*hint(2): we can consider the number to be an integer* \n",
        "\n",
        "==========================================================\n",
        "\n",
        "**Sample Input 1:**\\\n",
        "7\n",
        "\n",
        "**Sample Output 1:**\\\n",
        "The number is odd\n",
        "\n",
        "==========================================================\n",
        "\n",
        "**Sample Input 2:**\\\n",
        "10\n",
        "\n",
        "**Sample Output 2:**\\\n",
        "The number is even\n",
        "\n",
        "==========================================================\n",
        "\n",
        "**Sample Input 3:**\\\n",
        "-44\n",
        "\n",
        "**Sample Output 3:**\\\n",
        "The number is even\n"
      ]
    },
    {
      "cell_type": "code",
      "execution_count": 27,
      "metadata": {
        "id": "SsjHXfW_Gxxg"
      },
      "outputs": [
        {
          "name": "stdout",
          "output_type": "stream",
          "text": [
            "The number is Odd\n"
          ]
        }
      ],
      "source": [
        "#todo\n",
        "\n",
        "num0 = int(input(\"Enter a number to check if it's EVEN Or ODD:\"))\n",
        "\n",
        "if(num0 %2 == 0):\n",
        "    print(\"The number is Even\")\n",
        "else:\n",
        "    print(\"The number is Odd\")\n"
      ]
    },
    {
      "cell_type": "markdown",
      "metadata": {
        "id": "bXNE8TTGGxxn"
      },
      "source": [
        "### Task 6\n",
        "\n",
        "Write the Python code of a program that reads an integer as input from the user, and prints the integer if it is a multiple of **2 OR 5** and prints \"Not a multiple of 2 OR 5\" otherwise.\n",
        "\n",
        "For example, 2, 4, 5, 6, 8, 10, 12, 14, 15, 16, 18, 20, 22 … i.e. this includes multiples of 2 only, multiples of 5 only and multiples of 2 and 5 both.\n",
        "\n",
        "==========================================================\n",
        "\n",
        "*hint(1): we may use the modulus (%) operator for checking the divisibility*\n",
        "\n",
        "*hint(2): we can consider the number to be an integer* \n",
        "\n",
        "==========================================================\n",
        "\n",
        "**Sample Input 1:**\\\n",
        "5\n",
        "\n",
        "**Sample Output 1:**\\\n",
        "5\n",
        "\n",
        "==========================================================\n",
        "\n",
        "**Sample Input 2:**\\\n",
        "10\n",
        "\n",
        "**Sample Output 2:**\\\n",
        "10\n",
        "\n",
        "==========================================================\n",
        "\n",
        "**Sample Input 3:**\\\n",
        "3\n",
        "\n",
        "**Sample Output 3:**\\\n",
        "Not a multiple of 2 OR 5\n"
      ]
    },
    {
      "cell_type": "code",
      "execution_count": 66,
      "metadata": {
        "id": "J2siE5HRGxxo"
      },
      "outputs": [
        {
          "name": "stdout",
          "output_type": "stream",
          "text": [
            "44\n"
          ]
        }
      ],
      "source": [
        "#todo\n",
        "\n",
        "Given_Val = int(input(\"Enter a number\"))\n",
        "\n",
        "if(Given_Val %2 !=0 and Given_Val %5 !=0):\n",
        "     print(\"Not a multiple of 2 or 5\")\n",
        "     \n",
        "else:\n",
        "     print(Given_Val)\n",
        "     \n",
        "     \n",
        "   "
      ]
    },
    {
      "cell_type": "markdown",
      "metadata": {
        "id": "W0VUh6LyGxxr"
      },
      "source": [
        "### Task 7\n",
        "Write the Python code of a program that reads an integer, and prints the integer  it is a multiple of **either 2 or 5 but not both.** If the number is a multiple of 2 and 5 both, then print \"Multiple of 2 and 5 both\". For all other numbers, the program prints \"Not a multiple we want\".\n",
        "\n",
        "For example, 2, 4, 5, 6, 8, 12, 14, 15, 16, 18, 22 … i.e. this includes multiples of 2 only and multiples of 5 only, NOT multiples of 2 and 5 both or other numbers.\n",
        "\n",
        "==========================================================\n",
        "\n",
        "*hint(1): we may use the modulus (%) operator for checking the divisibility*\n",
        "\n",
        "*hint(2): we can consider the number to be an integer* \n",
        "\n",
        "==========================================================\n",
        "\n",
        "**Sample Input 1:**\\\n",
        "6\n",
        "\n",
        "**Sample Output 1:**\\\n",
        "6\n",
        "\n",
        "==========================================================\n",
        "\n",
        "**Sample Input 2:**\\\n",
        "15\n",
        "\n",
        "**Sample Output 2:**\\\n",
        "15\n",
        "\n",
        "==========================================================\n",
        "\n",
        "**Sample Input 3:**\\\n",
        "10\n",
        "\n",
        "**Sample Output 3:**\\\n",
        "Multiple of 2 and 5 both\n",
        "\n",
        "==========================================================\n",
        "\n",
        "**Sample Input 4:**\\\n",
        "17\n",
        "\n",
        "**Sample Output 4:**\\\n",
        "Not a multiple we want"
      ]
    },
    {
      "cell_type": "code",
      "execution_count": 37,
      "metadata": {
        "id": "O_kEf_WsGxxr"
      },
      "outputs": [
        {
          "name": "stdout",
          "output_type": "stream",
          "text": [
            "Not a multiple we want\n"
          ]
        }
      ],
      "source": [
        "#todo\n",
        "\n",
        "val = int(input(\"Enter a Number\"))\n",
        "\n",
        "if(val %2 ==0 and val %5 ==0):\n",
        "    print(\"Multiple of both 2 and 5 both\")\n",
        "elif(val %2 ==0 or val %5 ==0):\n",
        "    print(val)\n",
        "else:\n",
        "    print(\"Not a multiple we want\")\n"
      ]
    },
    {
      "cell_type": "markdown",
      "metadata": {
        "id": "w6Yoi7DfGxxw"
      },
      "source": [
        "### Task 8\n",
        "Write the Python code of a program that reads an integer, and prints the integer if it is a multiple of **2 AND 5** and prints \"Not multiple of 2 and 5 both\" otherwise.\n",
        "\n",
        "==========================================================\n",
        "\n",
        "For example, 10, 20, 30, 40, 50 … i.e. this only includes numbers which are multiples of both 2 and 5.\n",
        "\n",
        "*hint(1): we may use the modulus (%) operator for checking the divisibility*\n",
        "\n",
        "*hint(2): we can consider the number to be an integer* \n",
        "\n",
        "==========================================================\n",
        "\n",
        "**Sample Input 1:**\\\n",
        "30\n",
        "\n",
        "**Sample Output 1:**\\\n",
        "30\n",
        "\n",
        "==========================================================\n",
        "\n",
        "**Sample Input 2:**\\\n",
        "15\n",
        "\n",
        "**Sample Output 2:**\\\n",
        "Not multiple of 2 and 5 both\n",
        "\n",
        "\n",
        "==========================================================\n",
        "\n",
        "**Sample Input 3:**\\\n",
        "6\n",
        "\n",
        "**Sample Output 3:**\\\n",
        "Not multiple of 2 and 5 both"
      ]
    },
    {
      "cell_type": "code",
      "execution_count": 42,
      "metadata": {
        "id": "-Zjnff92Gxxx"
      },
      "outputs": [
        {
          "name": "stdout",
          "output_type": "stream",
          "text": [
            "Not multiple of 2 and 5\n"
          ]
        }
      ],
      "source": [
        "#todo\n",
        "\n",
        "val = int(input(\"user put your number here:\"))\n",
        "\n",
        "if(val %2 ==0 and val %5 ==0):\n",
        "    print(val)\n",
        "else:\n",
        "    print(\"Not multiple of 2 and 5\")\n"
      ]
    },
    {
      "cell_type": "markdown",
      "metadata": {
        "id": "_6lrd5lZGxyJ"
      },
      "source": [
        "### Task 9\n",
        "Write the Python code of a program that finds the number of hours, minutes, and seconds in a **given number of seconds.** The number of seconds is taken as input from the user.\n",
        "\n",
        "==========================================================\n",
        "\n",
        "*hint(1): we may consider our user input to be an integer value and use // and % operators to solve the problem* \n",
        "\n",
        "*hint(2): 1 hour = 60 mins = 3600 seconds* and *1 min = 60 seconds* \n",
        "\n",
        "==========================================================\n",
        "\n",
        "**Sample Input 1:**\\\n",
        "10000\n",
        "\n",
        "**Sample Output 1:**\\\n",
        "Hours: 2  Minutes: 46  Seconds: 40\n",
        "\n",
        "**Explanation:**\\\n",
        "10000 seconds = 10000 // 3600 = 2 hours and 10000 % 3600 = 2800 seconds.\\\n",
        "Then again, 2800 // 60 = 46 minutes and 2800 % 60 = 40 seconds.\\\n",
        "And hence we have arrived at our answer.\n",
        "\n",
        "==========================================================\n",
        "\n",
        "**Sample Input 2:**\\\n",
        "500\n",
        "\n",
        "**Sample Output 2:**\\\n",
        "Hours: 0  Minutes: 8  Seconds: 20\n"
      ]
    },
    {
      "cell_type": "code",
      "execution_count": 1,
      "metadata": {
        "id": "xd9l2gQvGxyN"
      },
      "outputs": [
        {
          "name": "stdout",
          "output_type": "stream",
          "text": [
            "Hour: 2 Min: 46 Seconds: 40\n"
          ]
        }
      ],
      "source": [
        "#todo \n",
        "\n",
        "Seconds_Per_Hour = 3600\n",
        "Seconds_Per_Min = 60\n",
        "\n",
        "#Taking user input\n",
        "Num_Of_Sec = int(input(\"Input a number of seconds:\"))\n",
        "\n",
        "#Finding Hours and remaining seconds\n",
        "Hours = Num_Of_Sec // Seconds_Per_Hour\n",
        "Seconds = Num_Of_Sec % Seconds_Per_Hour\n",
        "print(\"Hour:\",Hours, end=\" \")\n",
        "\n",
        "#Lastly, Converted remaining seconds into min and remaining seconds\n",
        "Mins = Seconds // Seconds_Per_Min\n",
        "Seconds = Seconds % Seconds_Per_Min\n",
        "print(\"Min:\",Mins, end=\" \")\n",
        "print(\"Seconds:\", Seconds)"
      ]
    },
    {
      "cell_type": "markdown",
      "metadata": {
        "id": "2LC9or6kGxyD"
      },
      "source": [
        "### Task 10\n",
        "\n",
        "Write a Python program to compute and display a person’s weekly salary as determined by the following conditions:\n",
        "\n",
        "* If the hours worked is less than or equal to 40, then the person receives Tk 200 per hour.\n",
        "* If the hours worked is greater than 40, then the person receives Tk 8000 plus Tk 300 for each hour worked over 40 hours.\n",
        "\n",
        "The program should request the hours worked as an input from the user and display the salary as output. You need to make sure that user input is valid. For example, a person cannot work for -5 hours or more than 168 hours in a week. So, the valid hours range is 0 to 168. For invalid hours, print outputs as given in the samples below.\n",
        "\n",
        "==========================================================\n",
        "\n",
        "*Hint: you can consider the hour (user input) to be an integer* \n",
        "\n",
        "==========================================================\n",
        "\n",
        "**Sample Input 1:**\\\n",
        "100\n",
        "\n",
        "**Sample Output 1:**\\\n",
        "26000\n",
        "\n",
        "**Explanation:** Since, the number of hours worked is 100 > 40, therefore salary = 8000 + (100 - 40) * 300 = 26000.\n",
        "\n",
        "==========================================================\n",
        "\n",
        "**Sample Input 2:**\\\n",
        "30\n",
        "\n",
        "**Sample Output 2:**\\\n",
        "6000\n",
        "\n",
        "**Explanation:** Since, the number of hours worked is 30 < 40, therefore salary = 30 * 200 = 6000.\n",
        "\n",
        "==========================================================\n",
        "\n",
        "**Sample Input 3:**\\\n",
        "-30\n",
        "\n",
        "**Sample Output 3:**\\\n",
        "Hour cannot be negative\n",
        "\n",
        "==========================================================\n",
        "\n",
        "**Sample Input 4:**\\\n",
        "170\n",
        "\n",
        "**Sample Output 4:**\\\n",
        "Impossible to work more than 168 hours weekly"
      ]
    },
    {
      "cell_type": "code",
      "execution_count": 46,
      "metadata": {
        "id": "L5JmB1bDGxyD"
      },
      "outputs": [
        {
          "name": "stdout",
          "output_type": "stream",
          "text": [
            "Your Salary: 26000\n"
          ]
        }
      ],
      "source": [
        "#todo\n",
        "\n",
        "HoursWork = int(input(\"How many hours have you worked?:\"))\n",
        "\n",
        "# Sorting out the invalid user inputs\n",
        "\n",
        "if(HoursWork <= 0):\n",
        "    print(\"Hour cannot be negative\")\n",
        "elif(HoursWork >= 168):\n",
        "     print(\"Impossible to work more than 168 hours weekly\")\n",
        "    \n",
        "elif(HoursWork <= 40):\n",
        "    print(\"Your Salary:\",HoursWork*200)\n",
        "else:\n",
        "    print(\"Your Salary:\", 8000 + (HoursWork-40) *300)"
      ]
    },
    {
      "cell_type": "markdown",
      "metadata": {
        "id": "NQZL_Wh-GxyW"
      },
      "source": [
        "### Task 11\n",
        "Suppose the following expressions are used to calculate the values of L for different values of S:\n",
        "\n",
        "$L =  3000-125S^2$ \n",
        "if     $S<100$\n",
        "\n",
        "$ L =  \\frac{12000}{4+S^2/14900}$\n",
        "if     $S\\geq100$\n",
        "\n",
        "Write the Python code of a program that reads a value of S and then calculates the value of L.\n",
        "\n",
        "==========================================================\n",
        "\n",
        "*hint(1): you can import math and use math function for making squares with math.pow(number, power) or you can simply write S ** 2.*\n",
        "\n",
        "*hint(2): the value of S(user input) will be an integer* \n",
        "\n",
        "==========================================================\n",
        "\n",
        "**Sample Input 1:**\\\n",
        "120\n",
        "\n",
        "**Sample Output 1:**\\\n",
        "2416.2162162162163\n",
        "\n",
        "**Explanation:** Since S (user input) given here is 120 >= 100, so L = 12000 / (4 + (120 * 120)/14900) = 2416.2162162162163\n",
        "\n",
        "==========================================================\n",
        "\n",
        "**Sample Input 2:**\\\n",
        "3\n",
        "\n",
        "**Sample Output 2:**\\\n",
        "1875\n",
        "\n",
        "**Explanation:** Since S (user input) given here is 3 < 100, so L = 3000 - 125 * 3 * 3 = 1875\n"
      ]
    },
    {
      "cell_type": "code",
      "execution_count": 48,
      "metadata": {
        "id": "nxgt9wlFGxyY"
      },
      "outputs": [
        {
          "name": "stdout",
          "output_type": "stream",
          "text": [
            "2416.2162162162163\n"
          ]
        }
      ],
      "source": [
        "#todo\n",
        "S = int(input(\"Put a value\"))\n",
        "\n",
        "if(S < 100):\n",
        "    print(3000 - 125*S**2)\n",
        "else:(S >= 100,print(12000/(4+S**2/14900)))\n",
        "    "
      ]
    },
    {
      "cell_type": "markdown",
      "metadata": {
        "id": "WykwxxMBGxyd"
      },
      "source": [
        "### Task 12\n",
        "\n",
        "Write a Python program that takes an hour from the user as input and tells it is time for which meal.\n",
        "\n",
        "•\tThe user will input the number in a 24-hour format. So, 14 means 2 pm, 3 means 3 am, 18 means 6 pm, etc.\\\n",
        "•\tValid inputs are 0 to 23. Inputs less than 0 or more than 23 are invalid in 24-hour clock.\\\n",
        "•\tAssume, input will be whole numbers. For example, 3.5 will NOT be given as input.\n",
        "\n",
        "==========================================================\n",
        "\n",
        "**Input range: Message to be printed**\\\n",
        "4 to 6: Breakfast\\\n",
        "12 to 13: Lunch\\\n",
        "16 to 17: Snacks\\\n",
        "19 to 20: Dinner\\\n",
        "For all other valid inputs, say \"Patience is a virtue\"\\\n",
        "For all other invalid inputs, say \"Wrong time\"\n",
        "\n",
        "==========================================================\n",
        "\n",
        "For example,\\\n",
        "If the user enters 4, your program should print the message \"Breakfast\".\\\n",
        "If the user enters 5, your program should print the message \"Breakfast\".\\\n",
        "If the user enters 6, your program should print the message \"Breakfast\".\\\n",
        "If the user enters 0, your program should print the message \"Patience is a virtue\".\\\n",
        "If the user enters 1, your program should print the message \"Patience is a virtue\".\\\n",
        "If the user enters 18, your program should print the message \"Patience is a virtue\".\\\n",
        "If the user enters 23, your program should print the message \"Patience is a virtue\".\\\n",
        "If the user enters 24, your program should print the message \"Wrong Time\".\\\n",
        "If the user enters -1, your program should print the message \"Wrong Time\".\\\n",
        "If the user enters 27, your program should print the message \"Wrong time\".\n",
        "\n",
        "==========================================================\n",
        "\n",
        "Hints: You can use nested conditionals (if-else) or chained conditions (if-elif-else) to solve this problem.\n",
        "\n"
      ]
    },
    {
      "cell_type": "code",
      "execution_count": 49,
      "metadata": {
        "id": "0qbV5e33Gxye"
      },
      "outputs": [
        {
          "name": "stdout",
          "output_type": "stream",
          "text": [
            "Patience is a virtue\n"
          ]
        }
      ],
      "source": [
        "#todo\n",
        "\n",
        "time = int(input('What time is it?:'))\n",
        "\n",
        "\n",
        "if(0> time or 23< time ):\n",
        "    print(\"Wrong Time\")\n",
        "        \n",
        "else:\n",
        "    if(time >= 4 and time <= 6):\n",
        "        print(\"Breakfast\")\n",
        "    elif(time >= 12 and time <= 13):\n",
        "        print(\"Lunch\")\n",
        "    elif(time >= 16 and time <= 17):\n",
        "        print(\"Snacks\")\n",
        "    elif(time >= 19 and time <= 20):\n",
        "        print(\"Dinner\")\n",
        "    else:\n",
        "        print(\"Patience is a virtue\")\n",
        "    \n",
        "    \n"
      ]
    },
    {
      "cell_type": "markdown",
      "metadata": {
        "id": "KV1hMmd2Gxx9"
      },
      "source": [
        "### Task 13\n",
        "\n",
        "Write the Python code of a program that reads a student’s mark for a single subject, and prints out the corresponding grade for that mark. The mark ranges and corresponding grades are shown in the table below. You need to make sure that the mark is valid. For example, a student cannot receive -5 or 110 marks. So, the valid marks range is 0 to 100.\n",
        "\n",
        "*hint(1): you can consider the number to be an integer* \n",
        "\n",
        "*hint(2): this problem can be solved in two ways: top-down (starts from A) and bottom-up (starts from F)*\n",
        "\n",
        "\n",
        "| Marks | Grade|\n",
        "| --- | --- | \n",
        "|90 or above| A |\n",
        "|  |  | \n",
        "|80-89| B |\n",
        "|  |  | \n",
        "|70-79| C |\n",
        "|  |  | \n",
        "|60-69| D |\n",
        "|  |  | \n",
        "|50-59| E |\n",
        "|  |  | \n",
        "|Below 50| F |\n",
        "|  |  |\n"
      ]
    },
    {
      "cell_type": "code",
      "execution_count": 50,
      "metadata": {
        "id": "9sr1xTkMGxx_"
      },
      "outputs": [
        {
          "name": "stdout",
          "output_type": "stream",
          "text": [
            "C\n"
          ]
        }
      ],
      "source": [
        "#todo\n",
        "marks = int(input(\"Marks achieved:\"))\n",
        "\n",
        "if(marks <0 or 100< marks):\n",
        "    print(\"Invalid Marks\")\n",
        "elif(marks >= 90):\n",
        "    print(\"A\")\n",
        "elif(marks >= 80 and marks <= 89):\n",
        "    print(\"B\")\n",
        "elif(marks >= 70 and marks <= 79):\n",
        "    print(\"C\")\n",
        "elif(marks >= 60 and marks <= 69):\n",
        "    print(\"D\")\n",
        "elif(marks >= 50 and marks <= 59):\n",
        "    print(\"E\")\n",
        "elif(marks < 50):\n",
        "    print(\"F\")\n",
        "\n"
      ]
    },
    {
      "cell_type": "markdown",
      "metadata": {
        "id": "hHzKxtvDJCy3"
      },
      "source": [
        "### Task 14\n",
        "\n",
        "You are designing a robot that can calculate the temperature and guess the season. Write a Python program that takes a number as input, representing the temperature in degrees Fahrenheit, and converts it into degrees Celsius, and then prints the season based on the following table:\n",
        "\n",
        "\n",
        "| Temperature (degrees Celsius) | Season|\n",
        "| --- | --- | \n",
        "|Less than 20 degrees| Winter |\n",
        "|  |  | \n",
        "|Between 20 degrees and 25 degrees (inclusive)| Autumn |\n",
        "|  |  | \n",
        "|Greater than 25 degrees and less than 30 degrees| Spring |\n",
        "|  |  | \n",
        "|Greater than or equal to 30 degrees| Summer |\n",
        "|  |  | \n",
        "\n",
        "\n",
        "Use the following formula to convert the temperature:\\\n",
        "(degrees Celsius) = ((degrees Fahrenheit) - 32) * 0.56\n",
        "\n",
        "==========================================================\n",
        "\n",
        "**Sample Input 1:**\\\n",
        "82\n",
        "\n",
        "**Sample Output 1:**\\\n",
        "28 degrees C\\\n",
        "Spring\n",
        "\n",
        "**Explanation:** The temperature in Celsius is (82 - 32) * 0.56 = 28 degrees, which is printed. This is between 25 and 30 degrees, so “Spring” is printed after that.\n",
        "\n",
        "==========================================================\n",
        "\n",
        "**Sample Input 2:**\\\n",
        "32\n",
        "\n",
        "**Sample Output 2:**\\\n",
        "0 degrees C\\\n",
        "Winter\n",
        "\n",
        "**Explanation:** The temperature in Celsius is (32 - 32) * 0.56 = 0 degrees, which is printed. This is less than 20 degrees, so “Winter” is printed after that.\n",
        "\n",
        "==========================================================\n",
        "\n",
        "**Sample Input 3:**\\\n",
        "76\n",
        "\n",
        "**Sample Output 3:**\\\n",
        "24.64 degrees C\\\n",
        "Autumn\n",
        "\n",
        "**Explanation:** The temperature in Celsius is (76 - 32) * 0.56 = 24.64 degrees, which is printed. This is between 20 degrees and 25 degrees (inclusive), so “Autumn” is printed after that.\n",
        "\n",
        "==========================================================\n",
        "\n",
        "**Sample Input 4:**\\\n",
        "77\n",
        "\n",
        "**Sample Output 3:**\\\n",
        "25.2 degrees C\\\n",
        "Spring\n",
        "\n",
        "**Explanation:** The temperature in Celsius is (77 - 32) * 0.56 = 25.2 degrees, which is printed. This is greater than 25 degrees and less than 30 degrees, so “Spring” is printed after that.\n"
      ]
    },
    {
      "cell_type": "code",
      "execution_count": 51,
      "metadata": {
        "id": "PBYbvcITLYHL"
      },
      "outputs": [
        {
          "name": "stdout",
          "output_type": "stream",
          "text": [
            "25.2 degrees C\n",
            "Spring\n"
          ]
        }
      ],
      "source": [
        "#todo\n",
        "\n",
        "temp = float(input(\"Enter Current Temperater:\"))\n",
        "\n",
        "# tempCel =print((temp - 32)*0.56,\"degrees C\") \n",
        "# can be used but returens a long floating point output\n",
        "\n",
        "tempCel = (temp - 32)*0.56\n",
        "\n",
        "# using round() function for specified floating point number output\n",
        "roundedCel = round(tempCel, 2)\n",
        "print(roundedCel, \"degrees C\")\n",
        "\n",
        "if(roundedCel < 20):\n",
        "    print(\"Winter\")\n",
        "elif(roundedCel > 20 and roundedCel <25):\n",
        "    print(\"Autumn\")\n",
        "elif(roundedCel > 25 and roundedCel <30):\n",
        "    print(\"Spring\")\n",
        "else:(roundedCel >= 30, print(\"Summer\"))\n",
        "\n",
        "\n"
      ]
    },
    {
      "cell_type": "markdown",
      "metadata": {
        "id": "YTpHMi0rLY_U"
      },
      "source": [
        "### Task 15\n",
        "Suppose, your friend is building an automated car called “Besla”. He needs to fix the programming of the car so that it runs at a proper speed. Now, write a python program that takes 2 inputs (distance in meters and time in seconds). The program should then print the velocity in kilometers per hour of that car. Also, it should print whether the car is working properly based on the following chart.\n",
        "\n",
        "|Velocity|Information to be printed|\n",
        "|------|------|\n",
        "|Less than 60 km/h  |Too slow. Needs more changes.\n",
        "|Between 60 km/h to 90 km/h |Velocity is okay. The car is ready!\n",
        "|Greater than 90 km/h|Too fast. Only a few changes should suffice. \n",
        "\n",
        "==========================================\n",
        "\n",
        "**Sample Input 1:**\\\n",
        "160000\\\n",
        "7200\n",
        "\n",
        "\n",
        "**Sample Output 1:**\\\n",
        "80.0 km/h\\\n",
        "Velocity is okay. The car is ready!\n",
        "\n",
        "\n",
        "**Explanation:** After the conversion of distance and time, the velocity is (160/2) km/h = 80 km/h. So the velocity is okay\n",
        "\n",
        " ==========================================\n",
        "\n",
        "**Sample Input 2:**\\\n",
        "25400\\\n",
        "3600\n",
        "\n",
        "\n",
        "**Sample Output 2:**\\\n",
        "25.4 km/h\\\n",
        "Too slow. Needs more changes.\n",
        "\n",
        "**Explanation:** After the conversion of distance and time, the velocity is (25.4/1) km/h = 25.4 km/h. So the speed is too slow."
      ]
    },
    {
      "cell_type": "code",
      "execution_count": 52,
      "metadata": {
        "id": "Gq52rezpLemr"
      },
      "outputs": [
        {
          "name": "stdout",
          "output_type": "stream",
          "text": [
            "25.4 km/h\n",
            "Too slow. Needs more changes\n"
          ]
        }
      ],
      "source": [
        "#todo\n",
        "dis =float(input(\"Distance:\")) # meters\n",
        "time =float(input(\"Time:\"))    # seconds\n",
        "\n",
        "# conversion into km and h\n",
        "d = dis/1000\n",
        "t = time/3600\n",
        "\n",
        "# velocity = distace/time\n",
        "v = d/t\n",
        "print(v, \"km/h\")\n",
        "\n",
        "if(v <60):\n",
        "    print(\"Too slow. Needs more changes\")\n",
        "elif(60< v and v <90):\n",
        "    print(\"Velocity is okay. The car is ready!\")\n",
        "elif(v >90):\n",
        "    print(\"Too fast. Only a few changes should suffice\")\n"
      ]
    },
    {
      "cell_type": "markdown",
      "metadata": {
        "id": "dJVOTwKyLfML"
      },
      "source": [
        "### Task 16\n",
        "Write a python program that takes the CGPA and no of credits completed by a student and prints whether the student is eligible for a waiver and of what percentage. \n",
        "\n",
        "To be eligible for a waiver, a student must have completed at least 30 credits and earned a CGPA greater or equal to 3.8. If not, please print \"The students is not eligible for a waiver\".\n",
        "\n",
        "**CGPA** | **Waiver percentage**\n",
        "--- | ---\n",
        "3.80 - 3.89 | 25 percent\n",
        "3.90 - 3.94 | 50 percent\n",
        "3.95 - 3.99 | 75 percent\n",
        "4.00 | 100 percent\n",
        "\n",
        "\n",
        "**Sample Input 1:** \\\n",
        "3.93 \\\n",
        "78\n",
        "\n",
        "**Sample Output 1:**\\\n",
        "The student is eligible for a waiver of 50 percent.\n",
        "\n",
        "================================================================================\n",
        "\n",
        "**Sample Input 2:** \\\n",
        "3.79 \\\n",
        "24\n",
        "\n",
        "**Sample Output 2:**\\\n",
        "The students is not eligible for a waiver \\\n"
      ]
    },
    {
      "cell_type": "code",
      "execution_count": 53,
      "metadata": {
        "id": "wlVNvKnZLlBL"
      },
      "outputs": [
        {
          "name": "stdout",
          "output_type": "stream",
          "text": [
            "This student is eligible for a waiver of 50 percent\n"
          ]
        }
      ],
      "source": [
        "#todo\n",
        "cgpa =float(input(\"Enter Your CGPA:\"))\n",
        "creditsCom =float(input(\"Credits Completed:\"))\n",
        "\n",
        "if(creditsCom <30 or cgpa < 3.80 ):\n",
        "    print(\"The Student is not eligible for a waivar\")   \n",
        "elif(4.00 == cgpa):\n",
        "    print(\"This student is eligible for a waiver of 100 percent\")\n",
        "elif(cgpa <= 3.99 and cgpa >=3.95):\n",
        "    print(\"This student is eligible for a waiver of 75 percent\")\n",
        "elif(cgpa <= 3.94 and cgpa >=3.90):\n",
        "    print(\"This student is eligible for a waiver of 50 percent\")\n",
        "elif(cgpa <= 3.89 and cgpa >=3.80):\n",
        "    print(\"This student is eligible for a waiver of 25 percent\")\n",
        "\n"
      ]
    },
    {
      "cell_type": "markdown",
      "metadata": {
        "id": "AWbbbs5mSK6O"
      },
      "source": [
        "## Optional Tasks (17 - 19) [Ungraded]"
      ]
    },
    {
      "cell_type": "markdown",
      "metadata": {
        "id": "HHaloARnTY9O"
      },
      "source": [
        "**These tasks are just for practice. No marks will be deducted for not completing them and no bonus marks will be given for solving them. Just try and practice these problems.**"
      ]
    },
    {
      "cell_type": "markdown",
      "metadata": {
        "id": "APBZn5NOGxx0"
      },
      "source": [
        "### Task 17\n",
        "\n",
        "Write the Python code of a program that reads an integer, and prints the integer if it is a multiple of **NEITHER 2 NOR 5.** \n",
        "\n",
        "For example, 1, 3, 7, 9, 11, 13, 17, 19, 21, 23, 27, 29, 31, 33, 37, 39 …\n",
        "\n",
        "==========================================================\n",
        "\n",
        "*hint(1): you may use the modulus (%) operator for checking the divisibility*\n",
        "\n",
        "*hint(2): you can consider the number to be an integer* \n",
        "\n",
        "\n",
        "==========================================================\n",
        "\n",
        "**Sample Input 1:** \\\n",
        "3\n",
        "\n",
        "**Sample Output 1:** \\\n",
        "3\n",
        "\n",
        "\n",
        "==========================================================\n",
        "\n",
        "\n",
        "**Sample Input 2:** \\\n",
        "19\n",
        "\n",
        "**Sample Output 2:** \\\n",
        "19\n",
        "\n",
        "==========================================================\n",
        "\n",
        "\n",
        "**Sample Input 3:** \\\n",
        "5\n",
        "\n",
        "**Sample Output 3:** \\\n",
        "No\n",
        "\n",
        "==========================================================\n",
        "\n",
        "\n",
        "**Sample Input 4:** \\\n",
        "12\n",
        "\n",
        "**Sample Output 4:** \\\n",
        "No\n"
      ]
    },
    {
      "cell_type": "code",
      "execution_count": 9,
      "metadata": {
        "id": "3j7LKP26Gxx2"
      },
      "outputs": [
        {
          "name": "stdout",
          "output_type": "stream",
          "text": [
            "19\n"
          ]
        }
      ],
      "source": [
        "#todo\n",
        "\n",
        "\n",
        "val = int(input(\"user put your number here:\"))\n",
        "\n",
        "if(val %2 !=0 and val %5 !=0):\n",
        "    print(val)\n",
        "else:\n",
        "    print(\"No\")"
      ]
    },
    {
      "cell_type": "markdown",
      "metadata": {
        "id": "rhv6Zkj7Gxx5"
      },
      "source": [
        "### Task 18\n",
        "\n",
        "Write the Python code of a program that reads an integer, and prints the integer if it is **NOT a multiple of 2** OR **NOT a multiple of 5.**\n",
        "\n",
        "For example, 1, 2, 3, 4, 5, 6, 7, 8, 9, 11, 12, 13, 14, 15, 16, 17, 18, 19, 21, 22\n",
        "\n",
        "==========================================================\n",
        "\n",
        "*hint(1): you may use the modulus (%) operator for checking the divisibility*\n",
        "\n",
        "*hint(2): you can consider the number to be an integer* \n",
        "\n",
        "\n",
        "==========================================================\n",
        "\n",
        "**Sample Input 1:** \\\n",
        "3\n",
        "\n",
        "**Sample Output 1:** \\\n",
        "3\n",
        "\n",
        "==========================================================\n",
        "\n",
        "**Sample Input 2:** \\\n",
        "15\n",
        "\n",
        "**Sample Output 2:** \\\n",
        "15\n",
        "\n",
        "==========================================================\n",
        "\n",
        "**Sample Input 3:** \\\n",
        "20\n",
        "\n",
        "**Sample Output 3:** \\\n",
        "No\n",
        "\n",
        "==========================================================\n",
        "\n",
        "**Sample Input 4:** \\\n",
        "14\n",
        "\n",
        "**Sample Output 4:** \\\n",
        "14"
      ]
    },
    {
      "cell_type": "code",
      "execution_count": 64,
      "metadata": {
        "id": "mEjdHcbGGxx5"
      },
      "outputs": [
        {
          "name": "stdout",
          "output_type": "stream",
          "text": [
            "No\n"
          ]
        }
      ],
      "source": [
        "#todo\n",
        "val = int(input(\"user put your number here:\"))\n",
        "\n",
        "if(val %2 !=0 or val %5 !=0):\n",
        "    print(val)\n",
        "else:\n",
        "    print(\"No\")"
      ]
    },
    {
      "cell_type": "markdown",
      "metadata": {
        "id": "_AN4Ne3drEvn"
      },
      "source": [
        "### Task 19\n",
        "Fiona has recently started acrylic painting and she is planning to order a few canvases and paints from an online stationery shop. The price of each 10 x 10 sized canvas is **120 tk** and the price of each 25 ml paint tube is **75 tk**. Depending on the total amount ordered from the shop, she will get some discounts. The table below shows the discount she will get on her total amount.\n",
        "\n",
        "\n",
        "|Total Amount (TK)|Discount (TK)|\n",
        "|------|------|\n",
        "|0 - 299|No Discount|\n",
        "|300 - 499|10|\n",
        "|500 - 749 |20|\n",
        "|750 - 999|50|\n",
        "|>= 1000|150|\n",
        "\n",
        "Write a python program and take two inputs from the user. The first input will be the number of canvases and the second input will be the number of paint tubes ordered. Based on the price of each item, calculate the total amount that Fiona needs to pay including the discount.  \n",
        "\n",
        " ================================\n",
        "\n",
        "\n",
        "**Sample Input 1:**\\\n",
        "5\\\n",
        "8\n",
        "\n",
        "\n",
        "**Sample Output 1:**\\\n",
        "Previous total: 1200\\\n",
        "New total after discount: 1050\n",
        "\n",
        "\n",
        "**Explanation:** 5 * 120 + 8 * 75 = 1200 Tk was her bill without discount.  For 1200 Tk, the discount amount is 150 Tk. So, her new bill with a discount is (1200 - 150) = 1050 Tk.\n",
        "\n",
        "================================\n",
        "\n",
        "**Sample Input 2:**\\\n",
        "0\\\n",
        "3\n",
        "\n",
        "\n",
        "**Sample Output 2:**\\\n",
        "Previous total: 225\\\n",
        "New total after discount: 225\n",
        "\n",
        "\n",
        "\n",
        "**Explanation:** 0 * 120 + 3 * 75 = 225 Tk was her bill without discount.  For 225 Tk, the discount amount is 0 Tk. So, her new bill with a discount is (225 - 0) = 225 Tk.\n"
      ]
    },
    {
      "cell_type": "code",
      "execution_count": 22,
      "metadata": {
        "id": "0C_5PeeyrDtk"
      },
      "outputs": [
        {
          "name": "stdout",
          "output_type": "stream",
          "text": [
            "Previous total: 225\n",
            "New total after discount: 225\n"
          ]
        }
      ],
      "source": [
        "#todo\n",
        "\n",
        "Canvas =int(input(\"Number of Canvases:\"))\n",
        "Brush =int(input(\"Number of Paint Brushes:\"))\n",
        "\n",
        "can_in = Canvas * 120\n",
        "bru_in = Brush *75\n",
        "\n",
        "Total=( can_in + bru_in)\n",
        "print(\"Previous total:\", Total)\n",
        "\n",
        "if(Total >=0 and Total <=299):\n",
        "    print(\"New total after discount:\", Total)\n",
        "elif(Total >=300 and Total <=499):\n",
        "    print(\"New total after discount:\", Total-10)\n",
        "elif(Total >=500 and Total <=749):\n",
        "    print(\"New total after discount:\", Total-20)\n",
        "elif(Total >=750 and Total <=999):\n",
        "    print(\"New total after discount:\", Total-50)    \n",
        "elif(Total >=1000):\n",
        "    print(\"New total after discount:\", Total-150)\n",
        "\n"
      ]
    }
  ],
  "metadata": {
    "colab": {
      "collapsed_sections": [],
      "name": "CSE110 Lab Assignment 1 (Branching).ipynb",
      "provenance": []
    },
    "kernelspec": {
      "display_name": "Python 3.9.5 64-bit",
      "language": "python",
      "name": "python3"
    },
    "language_info": {
      "codemirror_mode": {
        "name": "ipython",
        "version": 3
      },
      "file_extension": ".py",
      "mimetype": "text/x-python",
      "name": "python",
      "nbconvert_exporter": "python",
      "pygments_lexer": "ipython3",
      "version": "3.9.5"
    },
    "vscode": {
      "interpreter": {
        "hash": "b671c20432fcd147198c92e7f072af9e705f087eb990bee22b07f08caab9f630"
      }
    }
  },
  "nbformat": 4,
  "nbformat_minor": 0
}
