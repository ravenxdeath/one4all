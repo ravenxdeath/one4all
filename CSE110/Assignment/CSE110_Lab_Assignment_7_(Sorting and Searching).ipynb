{
 "cells": [
  {
   "cell_type": "markdown",
   "metadata": {},
   "source": [
    "# CSE110 Lab Assignment 7 (Sorting & Searching)\n",
    "## Write the code in Python to do the following tasks:\n",
    "\n",
    "#Write your name, student ID and theory section number below:\\\n",
    "#tudent Name: Md. Tahmid Iqbal\\\n",
    "#Student ID: 21201701   \\\n",
    "#CSE110 Theory Section No: 09"
   ]
  },
  {
   "cell_type": "markdown",
   "metadata": {},
   "source": [
    "### Task 1\n",
    "\n",
    "Suppose you have a list named my_list as given below.\\\n",
    "my_list = [10, 1, 20, 3, 6, 2, 5, 11, 15, 2, 12, 14, 17, 18, 29]\\\n",
    "Now use bubble sort to sort my_list into ascending order.\n",
    "\n",
    "===============================================================\n",
    "\n",
    "Output:\\\n",
    "[1, 2, 2, 3, 5, 6, 10, 11, 12, 14, 15, 17, 18, 20, 29]\n"
   ]
  },
  {
   "cell_type": "code",
   "execution_count": 1,
   "metadata": {},
   "outputs": [
    {
     "name": "stdout",
     "output_type": "stream",
     "text": [
      "[1, 2, 2, 3, 5, 6, 10, 11, 12, 14, 15, 17, 18, 20, 29]\n"
     ]
    }
   ],
   "source": [
    "#todo\n",
    "my_list = [10, 1, 20, 3, 6, 2, 5, 11, 15, 2, 12, 14, 17, 18, 29]\n",
    "n = len(my_list)\n",
    "\n",
    "for i in range(n-1):\n",
    "    for j in range(0, n-i-1):\n",
    "        if my_list[j] > my_list[j + 1] :\n",
    "            tmp = my_list[j]\n",
    "            my_list[j] = my_list[j+1]\n",
    "            my_list[j+1] = tmp\n",
    "\n",
    "\n",
    "print(my_list)"
   ]
  },
  {
   "cell_type": "markdown",
   "metadata": {},
   "source": [
    "### Task 2\n",
    "\n",
    "Suppose you have a list named my_list as given below\\\n",
    "my_list= [10, 1, 20, 3, 6, 2, 5, 11, 15, 2, 12, 14, 17, 18, 29]\\\n",
    "Now use selection sort to sort my_list into ascending order.\n",
    "\n",
    "===============================================================\n",
    "\n",
    "Output:\\\n",
    "[1, 2, 2, 3, 5, 6, 10, 11, 12, 14, 15, 17, 18, 20, 29]\n"
   ]
  },
  {
   "cell_type": "code",
   "execution_count": 22,
   "metadata": {},
   "outputs": [
    {
     "name": "stdout",
     "output_type": "stream",
     "text": [
      "[1, 2, 2, 3, 5, 6, 10, 11, 12, 14, 15, 17, 18, 20, 29]\n"
     ]
    }
   ],
   "source": [
    "#todo\n",
    "\n",
    "def selection_sort(mylist):\n",
    "   \n",
    "    for i in range(len(mylist)):\n",
    "        min = i\n",
    "        for n in range(i+1,len(mylist)):\n",
    "            if mylist[n] < mylist[min]:\n",
    "                min = n\n",
    "        if min != i:\n",
    "            mylist[i],mylist[min] = mylist[min],mylist[i]\n",
    "    return mylist\n",
    "print(selection_sort([10,1,20,3,6,2,5,11,15,2,12,14,17,18,29]))\n"
   ]
  },
  {
   "cell_type": "markdown",
   "metadata": {},
   "source": [
    "### Task 3\n",
    "\n",
    "Suppose you have a list named my_list as given below.\\\n",
    "my_list = [10, 1, 20, 3, 6, 2, 5, 11, 15, 2, 12, 14, 17, 18, 29]\\\n",
    "Now use any of the two sorting techniques you have used above to sort the list in descending order.\n",
    "\n",
    "===============================================================\n",
    "\n",
    "Output:\\\n",
    "[29, 20, 18, 17, 15, 14, 12, 11, 10, 6, 5, 3, 2, 2, 1]\n"
   ]
  },
  {
   "cell_type": "code",
   "execution_count": 23,
   "metadata": {},
   "outputs": [
    {
     "name": "stdout",
     "output_type": "stream",
     "text": [
      "[29, 20, 18, 17, 15, 14, 12, 11, 10, 6, 5, 3, 2, 2, 1]\n"
     ]
    }
   ],
   "source": [
    "#todo\n",
    "my_list = [10, 1, 20, 3, 6, 2, 5, 11, 15, 2, 12, 14, 17, 18, 29]\n",
    "n = len(my_list)\n",
    "\n",
    "for i in range(n-1):\n",
    "    for j in range(0, n-i-1):\n",
    "        if my_list[j] < my_list[j + 1] :\n",
    "            tmp = my_list[j]\n",
    "            my_list[j] = my_list[j+1]\n",
    "            my_list[j+1] = tmp\n",
    "print(my_list)"
   ]
  },
  {
   "cell_type": "markdown",
   "metadata": {},
   "source": [
    "### Task 4\n",
    "\n",
    "Suppose you have a sitting arrangement of the students who will give the final exam in a list. The list contains the last two digits of their student ID as given below.\\\n",
    "\n",
    "sitting_list = [10,30,20,70,11,15,22,16,58,100,12,56,70,80]\n",
    "\n",
    "Now you want to organize the sitting arrangement of the students in your own way. You decide to sort all the students in the even indices of the list in ascending order and all the students in the odd indices of the list in descending order.\\\n",
    "So, write a python program that organizes the list for you in this way.\n",
    "\n",
    "===============================================================\n",
    "\n",
    "Output:\\\n",
    "[10, 100, 11, 80, 12, 70, 20, 56, 22, 30, 58, 16, 70, 15]\n",
    " \n"
   ]
  },
  {
   "cell_type": "code",
   "execution_count": 24,
   "metadata": {},
   "outputs": [
    {
     "name": "stdout",
     "output_type": "stream",
     "text": [
      "Output: [10, 100, 11, 80, 12, 70, 20, 56, 22, 30, 58, 16, 70, 15]\n"
     ]
    }
   ],
   "source": [
    "#todo\n",
    "sitting_list = [10,30,20,70,11,15,22,16,58,100,12,56,70,80]\n",
    "\n",
    "def selection_sort(lis, back=False):\n",
    "    if back == False:\n",
    "        lent = len(lis)\n",
    "        for i in range(lent-1):\n",
    "            for n in range(i, lent):\n",
    "                if lis[i] > lis[n]: lis[i], lis[n] = lis[n], lis[i]\n",
    "    else:\n",
    "        lent = len(lis)\n",
    "        for i in range(lent-1):\n",
    "            for n in range(i, lent):\n",
    "                if lis[i] < lis[n]: lis[i], lis[n] = lis[n], lis[i]\n",
    "    return lis\n",
    "def organize(lis):\n",
    "    lis_1 = []\n",
    "    even = selection_sort([lis[a] for a in range(len(lis)) if a%2==0])\n",
    "    odds = selection_sort([lis[a] for a in range(len(lis)) if a%2==1], back=True)\n",
    "    for x,y in zip(even, odds):\n",
    "        lis_1.append(x)\n",
    "        lis_1.append(y)\n",
    "    return lis_1\n",
    "print('Output:',organize(sitting_list))"
   ]
  },
  {
   "cell_type": "markdown",
   "metadata": {},
   "source": [
    "\n",
    "### Task 5\n",
    "\n",
    "Suppose a list contains marks earned in the courses CSE110, PHY111, and MAT110 of each student consecutively in a nested list form. Your task is to take a \\course name as input from the user and sort the list based on the marks obtained in that course to finally print the names of the students in descending \\order of marks obtained i.e. from the student who earned the highest marks to the student who earned the lowest.\\\n",
    "\n",
    "For example, the list may look like\\\n",
    "\n",
    "lst = [ [\"Alan\", 95, 87, 91], [\"Turing\", 92, 90, 83], [\"Elon\", 87, 92, 80], [\"Musk\", 85, 94, 90] ]\\\n",
    "where for each nested list, 1st index holds the name of the student, 2nd index is total marks earned in the CSE110 course, 3rd index is PHY111 marks and \\4th index is MAT110 marks.\n",
    "\n",
    "===============================================================\n",
    "\n",
    "Hint:\\\n",
    "You may create a function for sorting, then call it whenever needed instead of rewriting the code.\\\n",
    "You may get the data in the individual lists from the given nested list.\n",
    "\n",
    "===============================================================\n",
    "\n",
    "Sample Input 1\\\n",
    "MAT110\\\n",
    "Sample Output 1\\\n",
    "Alan\\\n",
    "Musk\\\n",
    "Turing\\\n",
    "Elon\\\n",
    "Explanation:\\\n",
    "Here the user gives us \"MAT110\" as the course name. Now, the students Alan, Turing, Elon, and Musk earned 91, 83, 80, and 90 marks respectively in this \\course. If we sort it, Alan got the highest marks of 91 followed by Musk with 90 marks and Turing with 83 marks. Among these 4 students, Elon obtained the lowest marks in the MAT110 course with 80 marks. All of these have been illustrated in our sample output.\n",
    "\n",
    "===============================================================\n",
    "\n",
    "Sample Input 2\\\n",
    "PHY111\\\n",
    "Sample Output 2\\\n",
    "Musk\\\n",
    "Elon\\\n",
    "Turing\\\n",
    "Alan\n",
    "\n",
    "\n"
   ]
  },
  {
   "cell_type": "code",
   "execution_count": 3,
   "metadata": {},
   "outputs": [
    {
     "name": "stdout",
     "output_type": "stream",
     "text": [
      "Musk\n",
      "Elon\n",
      "Turing\n",
      "Alan\n"
     ]
    }
   ],
   "source": [
    "#todo\n",
    "course_name = input(\"Please enter the course name: \")\n",
    "def marks(course, list1):\n",
    "    course = course.strip().upper()\n",
    "    temp = {}\n",
    "\n",
    "    if course == 'CSE110': \n",
    "        no = 1\n",
    "    elif course == 'PHY111': \n",
    "        no = 2\n",
    "    elif course == 'MAT110': \n",
    "        no = 3\n",
    "    else: \n",
    "        no = None\n",
    "\n",
    "    if no:\n",
    "        for i in list1: \n",
    "            temp[i[no]] = i[0]\n",
    "        for n in sorted(list(temp.keys()), reverse=True): \n",
    "            print(temp[n])\n",
    "    else:\n",
    "        print(\"Enter a valid course\")\n",
    "\n",
    "lis = [ [\"Alan\", 95, 87, 91], [\"Turing\", 92, 90, 83], [\"Elon\", 87, 92, 80], [\"Musk\", 85, 94, 90] ]\n",
    "\n",
    "marks(course_name, lis)"
   ]
  },
  {
   "cell_type": "markdown",
   "metadata": {},
   "source": [
    "\n",
    "### Task 6\n",
    "\n",
    "Suppose you have a list named my_list as given below. Your task is to sort the list in ascending order and print the count of numbers that have changed \\their positions in the process of sorting.\n",
    "\n",
    "my_list = [4, 2, 3, 1, 6, 5]\n",
    "\n",
    "The sorted list would be [1, 2, 3, 4, 5, 6] where 4 numbers (4, 1, 6, and 5) have changed their positions. Therefore our sample output here would be 4. Please check if your code is working correctly by changing the above list and using the knowledge given here to verify whether your code gives the correct output for all different lists.\\\n",
    "Sample Output for the above list\\\n",
    "4\n",
    "\n",
    " \n"
   ]
  },
  {
   "cell_type": "code",
   "execution_count": 2,
   "metadata": {},
   "outputs": [
    {
     "name": "stdout",
     "output_type": "stream",
     "text": [
      "4\n"
     ]
    }
   ],
   "source": [
    "#todo\n",
    "my_list = [4, 2, 3, 1, 6, 5]\n",
    "sorted_list=sorted(my_list).copy()\n",
    "count=0\n",
    "for i in range(len(my_list)):\n",
    "    if my_list[i]!=sorted_list[i]:\n",
    "        count=count+1\n",
    "print(count)"
   ]
  },
  {
   "cell_type": "markdown",
   "metadata": {},
   "source": [
    "### Task 7\n",
    "\n",
    "Write a python program that takes two lists from the user, merges the two lists, sorts the resulting list, and then finds the median of the elements in the two lists.\n",
    "\n",
    "=====================================================\n",
    "\n",
    "Sample Input 1\\\n",
    "list_one = [1, 2, 1, 4]\\\n",
    "list_two = [5, 4, 1]\\\n",
    "Sample Output 1\\\n",
    "Sorted list = [1, 1, 1, 2, 4, 4, 5]\\\n",
    "Median = 2\n",
    "\n",
    "=====================================================\n",
    "\n",
    "Sample Input 2\\\n",
    "list_one = [1, 7, 9, 10]\\\n",
    "list_two = [2, 7, 6, 5]\\\n",
    "Sample Output 2\\\n",
    "Sorted list = [1, 2, 5, 6, 7, 7, 9, 10]\\\n",
    "Median = 6.5"
   ]
  },
  {
   "cell_type": "code",
   "execution_count": 27,
   "metadata": {},
   "outputs": [
    {
     "name": "stdout",
     "output_type": "stream",
     "text": [
      "Sorted List = [1, 2, 5, 6, 7, 7, 9, 10]\n",
      "Median = 6.5\n"
     ]
    }
   ],
   "source": [
    "list_one = [1,7,9,10]\n",
    "list_two = [2,7,6,5]\n",
    "list_three = list_one + list_two\n",
    "sorted_list = sorted(list_three)\n",
    "lent = len(sorted_list)\n",
    "if (lent % 2 == 0):\n",
    "    median = (sorted_list[lent//2]+sorted_list[lent//2 - 1])/2\n",
    "else:\n",
    "    sorted_list(n//2)\n",
    "print('Sorted List =', sorted_list)\n",
    "print('Median =', median)"
   ]
  },
  {
   "cell_type": "markdown",
   "metadata": {},
   "source": [
    "### Task 8\n",
    "\n",
    "Write a python program that takes a list from a user containing both positive and negative numbers. The program then finds two pairs of values whose summation is closest to zero.\n",
    "\n",
    "=====================================================\n",
    "\n",
    "Sample Input 1\\\n",
    "list_one = [-10, 15, 2, 4, -4, 7, -8]\\\n",
    "Sample Output 1\\\n",
    "Two pairs which have the smallest sum = 4 and -4\n",
    "\n",
    "=====================================================\n",
    "\n",
    "Sample Input 2\\\n",
    "list_one = [1, -8, 4, -7, -20, 26, 70, -85]\\\n",
    "Sample Output 2\\\n",
    "Two pairs which have the smallest sum = 4 and -7\n"
   ]
  },
  {
   "cell_type": "code",
   "execution_count": 28,
   "metadata": {},
   "outputs": [
    {
     "name": "stdout",
     "output_type": "stream",
     "text": [
      "[-10, 15, 2, 4, -4, 7, -8]\n",
      "Two pairs which have the smallest sum = 4 and -4\n"
     ]
    }
   ],
   "source": [
    "r = input()\n",
    "r=r.split(\",\")\n",
    "list_one = [int(i)for i in r]\n",
    "print(list_one)\n",
    "\n",
    "min_sum =abs(list_one[0]+list_one[1])\n",
    "a=0\n",
    "b=1\n",
    "sum=69696969\n",
    "for x in range(len(list_one)):\n",
    "    for y in range(len(list_one)-1):\n",
    "        if (x!=y):\n",
    "            sum=abs(list_one[x]+list_one[y])           \n",
    "            \n",
    "        if (sum<min_sum):\n",
    "            min_sum=sum\n",
    "            a=list_one[x]\n",
    "            b=list_one[y]\n",
    "            \n",
    "print(\"Two pairs which have the smallest sum =\",a,\"and\",b)"
   ]
  },
  {
   "cell_type": "markdown",
   "metadata": {},
   "source": [
    "### Task 9\n",
    "\n",
    "You will be given a list of tuples where each tuple indicates a point i.e. (x, y) in a 2-dimensional coordinate system. \n",
    "You need to write a python program to find the minimum distance and the point that is closest to the origin i.e. (0,0)\n",
    "\n",
    "=====================================================\n",
    "\n",
    "Hint:\\\n",
    "The formula of distance = √((Δx)^2+(Δy)^2)\\\n",
    "As you are calculating the distance from the origin (0,0), you can simply use \\\n",
    "distance = √(x^2+y^2)\\\n",
    "You can create a list of distances from each point and sort that list using your personal favorite sorting algorithm.\n",
    "\n",
    "=====================================================\n",
    "\n",
    "Sample Input 1\\\n",
    "points = [(5,3), (2,9), (-2,7), (-3,-4), (0,6), (7,-2)]\\\n",
    "Sample Output 1\\\n",
    "Minimum distance = 5.0\\\n",
    "Here the closest point is (-3,-4) which has a distance of 5.0 from the origin.\n",
    "\n",
    "=====================================================\n",
    "\n",
    "Sample Input 1\\\n",
    "points = [(1,7), (4,5), (-1,7), (-2,0), (1,1), (5,-1)]\\\n",
    "Sample Output 1\\\n",
    "Minimum distance = 1.4142135623730951\\\n",
    "Here the closest point is (1,1) which has a distance of 1.4142135623730951 from the origin.\n"
   ]
  },
  {
   "cell_type": "code",
   "execution_count": 29,
   "metadata": {},
   "outputs": [
    {
     "name": "stdout",
     "output_type": "stream",
     "text": [
      "Minimum distance: 5.0 \n",
      "Here the closest point is (-3, -4) which has a distance of 5.0 from the origin\n"
     ]
    }
   ],
   "source": [
    "import math\n",
    "def distance(ls_tuple):\n",
    "    x = ls_tuple[0][0]\n",
    "    y = ls_tuple[0][1]\n",
    "\n",
    "    minimumDistance = math.sqrt(x**2+y**2)\n",
    "    for i in ls_tuple:\n",
    "        a,b = i\n",
    "        distance= math.sqrt(a**2+b**2)\n",
    "        if distance<minimumDistance:\n",
    "            minimumDistance = distance\n",
    "            point = i\n",
    "            \n",
    "    print(f'Minimum distance: {minimumDistance} \\nHere the closest point is {point} which has a distance of {minimumDistance} from the origin')\n",
    "\n",
    "\n",
    "points = [(5,3), (2,9), (-2,7), (-3,-4), (0,6), (7,-2)]\n",
    "distance(points)"
   ]
  },
  {
   "cell_type": "code",
   "execution_count": null,
   "metadata": {},
   "outputs": [],
   "source": []
  }
 ],
 "metadata": {
  "interpreter": {
   "hash": "a12d694c3ccac42055183a0ad11e659c6a2db5c6555ad2c8919d5814fd4e404f"
  },
  "kernelspec": {
   "display_name": "Python 3.9.5 64-bit (system)",
   "language": "python",
   "name": "python3"
  },
  "language_info": {
   "codemirror_mode": {
    "name": "ipython",
    "version": 3
   },
   "file_extension": ".py",
   "mimetype": "text/x-python",
   "name": "python",
   "nbconvert_exporter": "python",
   "pygments_lexer": "ipython3",
   "version": "3.9.5"
  },
  "orig_nbformat": 4
 },
 "nbformat": 4,
 "nbformat_minor": 2
}
