{
 "cells": [
  {
   "cell_type": "code",
   "execution_count": 21,
   "metadata": {},
   "outputs": [
    {
     "name": "stdout",
     "output_type": "stream",
     "text": [
      "global var a\n",
      "global var a\n"
     ]
    }
   ],
   "source": [
    "a = \"global var a\"\n",
    "def my_func():\n",
    "    # a = \"local var a\"\n",
    "    print(a)\n",
    "my_func()\n",
    "# print(a) here it's not defined cause it's outside the local function\n",
    "print(a)"
   ]
  },
  {
   "cell_type": "code",
   "execution_count": 20,
   "metadata": {},
   "outputs": [
    {
     "name": "stdout",
     "output_type": "stream",
     "text": [
      "local a which is a var\n",
      "global var a\n"
     ]
    }
   ],
   "source": [
    "a = \"global var a\"\n",
    "\n",
    "def my_func():\n",
    "    a = \"local a\"\n",
    "    a = a + \" which is a var\"\n",
    "    print(a)\n",
    "my_func()\n",
    "print(a)"
   ]
  },
  {
   "cell_type": "code",
   "execution_count": 23,
   "metadata": {},
   "outputs": [
    {
     "name": "stdout",
     "output_type": "stream",
     "text": [
      "global var a which is a var\n",
      "global var a which is a var\n"
     ]
    }
   ],
   "source": [
    "a = \"global var a\"\n",
    "\n",
    "def my_func():\n",
    "    global a\n",
    "    a = a + \" which is a var\"\n",
    "    print(a)\n",
    "my_func()\n",
    "print(a)"
   ]
  },
  {
   "cell_type": "code",
   "execution_count": 30,
   "metadata": {},
   "outputs": [
    {
     "name": "stdout",
     "output_type": "stream",
     "text": [
      "local b\n"
     ]
    }
   ],
   "source": [
    "a = \"global a\"\n",
    "def my_func(b):\n",
    "    print(b)\n",
    "my_func(\"local b\")"
   ]
  },
  {
   "cell_type": "code",
   "execution_count": 3,
   "metadata": {},
   "outputs": [
    {
     "name": "stdout",
     "output_type": "stream",
     "text": [
      "global a\n",
      "global a\n",
      "global a\n"
     ]
    }
   ],
   "source": [
    "#*** Nested Functions\n",
    "\n",
    "a = \"global a\"\n",
    "\n",
    "def outer_f():\n",
    "    #! looks outside it's scope for var and prints the global a\n",
    "    # a = \"outer a\" \n",
    "    \n",
    "    def inner_f():\n",
    "        # a = \"inner a\"\n",
    "        print(a)\n",
    "    inner_f()\n",
    "\n",
    "    print(a)\n",
    "outer_f()\n",
    "\n",
    "print(a)    "
   ]
  },
  {
   "cell_type": "code",
   "execution_count": 15,
   "metadata": {},
   "outputs": [
    {
     "name": "stdout",
     "output_type": "stream",
     "text": [
      "outer a test\n",
      "arg for outer_f\n",
      "global a\n"
     ]
    }
   ],
   "source": [
    "# NONLOCAL\n",
    "a = \"global a\"\n",
    "\n",
    "def outer_f(b):\n",
    "    a = \"outer a\"\n",
    "    \n",
    "    def inner_f():\n",
    "        nonlocal a\n",
    "        a = a+ \" test\"\n",
    "        print(a)\n",
    "    inner_f()\n",
    "    \n",
    "    print(b)\n",
    "\n",
    "outer_f(\"arg for outer_f\")\n",
    "print(a)\n",
    "        "
   ]
  }
 ],
 "metadata": {
  "interpreter": {
   "hash": "a12d694c3ccac42055183a0ad11e659c6a2db5c6555ad2c8919d5814fd4e404f"
  },
  "kernelspec": {
   "display_name": "Python 3.9.5 64-bit (system)",
   "language": "python",
   "name": "python3"
  },
  "language_info": {
   "codemirror_mode": {
    "name": "ipython",
    "version": 3
   },
   "file_extension": ".py",
   "mimetype": "text/x-python",
   "name": "python",
   "nbconvert_exporter": "python",
   "pygments_lexer": "ipython3",
   "version": "3.9.5"
  },
  "orig_nbformat": 4
 },
 "nbformat": 4,
 "nbformat_minor": 2
}
