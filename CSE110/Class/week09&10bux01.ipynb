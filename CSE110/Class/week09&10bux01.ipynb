{
 "cells": [
  {
   "cell_type": "code",
   "execution_count": null,
   "metadata": {},
   "outputs": [],
   "source": [
    "def my_function():\n",
    "    print(\"hello raven it's your function\")\n",
    "my_function()\n",
    "\n",
    "#this was a fruitful func; if the fuc doesn't return any value then it's a void func"
   ]
  },
  {
   "cell_type": "code",
   "execution_count": 1,
   "metadata": {},
   "outputs": [
    {
     "name": "stdout",
     "output_type": "stream",
     "text": [
      "69\n"
     ]
    }
   ],
   "source": [
    "def newCode(raven, mochi):\n",
    "    max = None\n",
    "    if raven > mochi:\n",
    "        max = raven\n",
    "    else:\n",
    "        max = mochi\n",
    "    return max\n",
    "print(newCode(69,59))\n",
    "    \n",
    "    "
   ]
  },
  {
   "cell_type": "code",
   "execution_count": 2,
   "metadata": {},
   "outputs": [
    {
     "name": "stdout",
     "output_type": "stream",
     "text": [
      "How's it going TAHMID\n"
     ]
    }
   ],
   "source": [
    "def nameFunc(fname):\n",
    "    print(\"How's it going\",fname)\n",
    "nameFunc(\"TAHMID\")"
   ]
  },
  {
   "cell_type": "code",
   "execution_count": 1,
   "metadata": {},
   "outputs": [
    {
     "name": "stdout",
     "output_type": "stream",
     "text": [
      "Tahmid went to Jamuna Future Park to shop \n"
     ]
    }
   ],
   "source": [
    "def shopping(name, place):\n",
    "    print(name+\" went to \"+place+\" to shop \")\n",
    "shopping(\"Tahmid\", \"Jamuna Future Park\")"
   ]
  },
  {
   "cell_type": "code",
   "execution_count": 1,
   "metadata": {},
   "outputs": [
    {
     "name": "stdout",
     "output_type": "stream",
     "text": [
      "Corona Positive: male: 999 female: 777\n"
     ]
    }
   ],
   "source": [
    "def CovidStat(*update):\n",
    "    print(\"Corona Positive:\",update[0],update[1],update[2],update[3])\n",
    "CovidStat(\"male:\",999,\"female:\",777)"
   ]
  },
  {
   "cell_type": "code",
   "execution_count": 1,
   "metadata": {},
   "outputs": [
    {
     "name": "stdout",
     "output_type": "stream",
     "text": [
      "Corona Positive: male: 999 female: 777\n"
     ]
    }
   ],
   "source": [
    "def CovidStat(*update):\n",
    "    print(\"Corona Positive:\",update[0],update[1],update[2],update[3])\n",
    "CovidStat(\"male:\",999,\"female:\",777)\n"
   ]
  },
  {
   "cell_type": "code",
   "execution_count": 2,
   "metadata": {},
   "outputs": [
    {
     "name": "stdout",
     "output_type": "stream",
     "text": [
      "3\n"
     ]
    }
   ],
   "source": [
    "def multiply(x,y=2):\n",
    "    print(x*y)\n",
    "multiply(3,1)"
   ]
  },
  {
   "cell_type": "code",
   "execution_count": 5,
   "metadata": {},
   "outputs": [
    {
     "name": "stdout",
     "output_type": "stream",
     "text": [
      "101.11\n"
     ]
    }
   ],
   "source": [
    "def sum(first,second):\n",
    "    print(float(first+second))\n",
    "sum(100,1.11)"
   ]
  },
  {
   "cell_type": "code",
   "execution_count": 8,
   "metadata": {},
   "outputs": [
    {
     "name": "stdout",
     "output_type": "stream",
     "text": [
      "(3, 6, 9)\n",
      "3\n"
     ]
    }
   ],
   "source": [
    "def find(*values):\n",
    "    print(values)\n",
    "    print(values[0])\n",
    "    \n",
    "find(3,6,9)"
   ]
  },
  {
   "cell_type": "code",
   "execution_count": 8,
   "metadata": {},
   "outputs": [
    {
     "name": "stdout",
     "output_type": "stream",
     "text": [
      "my favorite manga is Monster \n"
     ]
    }
   ],
   "source": [
    "def myManga(top1,top2,top3):\n",
    "    print(\"my favorite manga is\"+ top1)\n",
    "myManga(top1= \" Monster\",top2=\" BillyBat\",top3=\" 21st Century Boys\")"
   ]
  },
  {
   "cell_type": "code",
   "execution_count": 1,
   "metadata": {},
   "outputs": [
    {
     "name": "stdout",
     "output_type": "stream",
     "text": [
      "my favorite manga is Monster\n"
     ]
    }
   ],
   "source": [
    "def myManga(**top):\n",
    "    print(\"my favorite manga is\"+ top[\"top1\"])\n",
    "myManga(top1= \" Monster\",top2=\" BillyBat\",top3=\" 21st Century Boys\")"
   ]
  },
  {
   "cell_type": "code",
   "execution_count": 11,
   "metadata": {},
   "outputs": [
    {
     "name": "stdout",
     "output_type": "stream",
     "text": [
      "The square of the sum of x and y is: 9\n"
     ]
    }
   ],
   "source": [
    "def nsquare(x, y =2):\n",
    "    return(x*x+2*x*y+y*y)\n",
    "print(\"The square of the sum of x and y is:\",nsquare(2,1))"
   ]
  },
  {
   "cell_type": "code",
   "execution_count": 12,
   "metadata": {},
   "outputs": [
    {
     "name": "stdout",
     "output_type": "stream",
     "text": [
      "15,25,45\n"
     ]
    }
   ],
   "source": [
    "def multiply(x):\n",
    "    return(5*x)\n",
    "print(multiply(3),end=\",\")\n",
    "print(multiply(5),end=\",\")\n",
    "print(multiply(9))\n"
   ]
  },
  {
   "cell_type": "code",
   "execution_count": 32,
   "metadata": {},
   "outputs": [],
   "source": [
    "def a_function():\n",
    "    pass\n",
    "a_function()"
   ]
  },
  {
   "cell_type": "code",
   "execution_count": 14,
   "metadata": {},
   "outputs": [
    {
     "name": "stdout",
     "output_type": "stream",
     "text": [
      "this is the first argument 1\n",
      "returns a tuple (2, 3, 4)\n",
      "2 3 4\n"
     ]
    }
   ],
   "source": [
    "#! *args\n",
    "def find(value, *values):\n",
    "    print(\"this is the first argument\", value)\n",
    "    print(\"returns a tuple\", values)\n",
    "    print(*values)\n",
    "find(1,2,3,4)"
   ]
  },
  {
   "cell_type": "code",
   "execution_count": 15,
   "metadata": {},
   "outputs": [
    {
     "name": "stdout",
     "output_type": "stream",
     "text": [
      "Favorite Manga genre is Psychological Thriller\n"
     ]
    }
   ],
   "source": [
    "#! **Kwargs\n",
    "def myManga(**manga):\n",
    "    print(\"Favorite Manga genre is\",manga[\"genre\"])\n",
    "myManga(name=\"Monster\", genre=\"Psychological Thriller\")"
   ]
  },
  {
   "cell_type": "code",
   "execution_count": 21,
   "metadata": {},
   "outputs": [
    {
     "name": "stdout",
     "output_type": "stream",
     "text": [
      "first == Geeks\n",
      "mid == for\n",
      "last == Geeks\n"
     ]
    }
   ],
   "source": [
    "\n",
    "# Python program to illustrate \n",
    "# *kwargs for variable number of keyword arguments\n",
    " \n",
    "def myFun(**kwargs):\n",
    "    for key, value in kwargs.items():\n",
    "        print (\"%s == %s\" %(key, value))\n",
    " \n",
    "# Driver code\n",
    "myFun(first ='Geeks', mid ='for', last='Geeks')"
   ]
  },
  {
   "cell_type": "code",
   "execution_count": 7,
   "metadata": {},
   "outputs": [
    {
     "name": "stdout",
     "output_type": "stream",
     "text": [
      "('Inuyashiki', 'Dai Dark', 'I am a hero')\n",
      "{'no1': 'Inuyashiki', 'no2': 'Dai Dark', 'no3': 'I am a hero'}\n"
     ]
    }
   ],
   "source": [
    "def manga2read(*manga, **mangas):\n",
    "    print(manga)\n",
    "    print(mangas)\n",
    "manga2read(\"Inuyashiki\", \"Dai Dark\", \"I am a hero\", no1 = \"Inuyashiki\", no2 = \"Dai Dark\", no3= \"I am a hero\")\n",
    "\n",
    "    "
   ]
  },
  {
   "cell_type": "code",
   "execution_count": 8,
   "metadata": {},
   "outputs": [
    {
     "name": "stdout",
     "output_type": "stream",
     "text": [
      "625\n"
     ]
    }
   ],
   "source": [
    "def returnfunction(x):\n",
    "    return(5**x)\n",
    "print(returnfunction(4))\n"
   ]
  },
  {
   "cell_type": "code",
   "execution_count": 16,
   "metadata": {},
   "outputs": [],
   "source": [
    "def usingPass():\n",
    "    pass\n",
    "usingPass()"
   ]
  },
  {
   "cell_type": "code",
   "execution_count": null,
   "metadata": {},
   "outputs": [],
   "source": []
  }
 ],
 "metadata": {
  "interpreter": {
   "hash": "a12d694c3ccac42055183a0ad11e659c6a2db5c6555ad2c8919d5814fd4e404f"
  },
  "kernelspec": {
   "display_name": "Python 3.9.5 64-bit (system)",
   "language": "python",
   "name": "python3"
  },
  "language_info": {
   "codemirror_mode": {
    "name": "ipython",
    "version": 3
   },
   "file_extension": ".py",
   "mimetype": "text/x-python",
   "name": "python",
   "nbconvert_exporter": "python",
   "pygments_lexer": "ipython3",
   "version": "3.9.12"
  },
  "orig_nbformat": 4
 },
 "nbformat": 4,
 "nbformat_minor": 2
}
