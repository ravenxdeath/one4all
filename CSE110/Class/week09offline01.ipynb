{
 "cells": [
  {
   "cell_type": "code",
   "execution_count": 10,
   "metadata": {},
   "outputs": [
    {
     "name": "stdout",
     "output_type": "stream",
     "text": [
      "name Tahmid\n",
      "age 21\n",
      "cgpa 3.something\n",
      "name Tahmid\n",
      "age 20\n",
      "cgpa Dunno\n"
     ]
    }
   ],
   "source": [
    "def st(name, age , cgpa):\n",
    "    print(\"name\", name)\n",
    "    print(\"age\", age)\n",
    "    print(\"cgpa\",cgpa)\n",
    "st(\"Tahmid\", 21, \"3.something\")\n",
    "\n",
    "def st(name, age=21 , cgpa=\"Dunno\"):\n",
    "    print(\"name\", name)\n",
    "    print(\"age\", age)\n",
    "    print(\"cgpa\",cgpa)\n",
    "st(\"Tahmid\", 20)\n",
    "\n"
   ]
  },
  {
   "cell_type": "code",
   "execution_count": 11,
   "metadata": {},
   "outputs": [
    {
     "data": {
      "text/plain": [
       "('Tahmid', 20, 'Dunno')"
      ]
     },
     "execution_count": 11,
     "metadata": {},
     "output_type": "execute_result"
    }
   ],
   "source": [
    "def st(name, age=21 , cgpa=\"Dunno\"):\n",
    "    return name, age, cgpa\n",
    "st(\"Tahmid\", 20)"
   ]
  },
  {
   "cell_type": "code",
   "execution_count": 25,
   "metadata": {},
   "outputs": [
    {
     "ename": "SyntaxError",
     "evalue": "expression cannot contain assignment, perhaps you meant \"==\"? (3619962327.py, line 22)",
     "output_type": "error",
     "traceback": [
      "\u001b[1;36m  Input \u001b[1;32mIn [25]\u001b[1;36m\u001b[0m\n\u001b[1;33m    print(\"cgpa\" = info[i+2])\u001b[0m\n\u001b[1;37m          ^\u001b[0m\n\u001b[1;31mSyntaxError\u001b[0m\u001b[1;31m:\u001b[0m expression cannot contain assignment, perhaps you meant \"==\"?\n"
     ]
    }
   ],
   "source": [
    "def stinfo(*info):\n",
    "    print(info)\n",
    "     \n",
    "stinfo(\"Tahmid\", 21, \"Raven\", 21)  \n",
    "\n",
    "def stinfo(*info):\n",
    "    for i in range(len(info)):\n",
    "        if i % 2 == 0:\n",
    "            print(\"name=\", info[i])\n",
    "        else:\n",
    "            print(\"age=\", info[i])\n",
    "            \n",
    "stinfo(\"Tahmid\", 21, \"Raven\", 21)   \n",
    "\n",
    "def stinfo(*info):\n",
    "    for i in range(0, len(info), 2):\n",
    "        \n",
    "        print(\"name=\", info[i], end=\" ,\")\n",
    "        \n",
    "        print(\"age=\", info[i+1], end= \" ,\")\n",
    "        \n",
    "        print(\"cgpa\" = info[i+2])\n",
    "            \n",
    "stinfo(\"Tahmid\", 21, 4.0 \"Raven\", 21, 3.9)   "
   ]
  },
  {
   "cell_type": "code",
   "execution_count": null,
   "metadata": {},
   "outputs": [],
   "source": []
  }
 ],
 "metadata": {
  "interpreter": {
   "hash": "a12d694c3ccac42055183a0ad11e659c6a2db5c6555ad2c8919d5814fd4e404f"
  },
  "kernelspec": {
   "display_name": "Python 3.9.5 64-bit (system)",
   "language": "python",
   "name": "python3"
  },
  "language_info": {
   "codemirror_mode": {
    "name": "ipython",
    "version": 3
   },
   "file_extension": ".py",
   "mimetype": "text/x-python",
   "name": "python",
   "nbconvert_exporter": "python",
   "pygments_lexer": "ipython3",
   "version": "3.9.5"
  },
  "orig_nbformat": 4
 },
 "nbformat": 4,
 "nbformat_minor": 2
}
