{
 "cells": [
  {
   "cell_type": "markdown",
   "metadata": {},
   "source": [
    "#******************* LIST *************#"
   ]
  },
  {
   "cell_type": "code",
   "execution_count": 5,
   "metadata": {},
   "outputs": [
    {
     "name": "stdout",
     "output_type": "stream",
     "text": [
      "[1, 2, 3, 4, 'CSE110', ['Tahmid']]\n",
      "['Tahmid']\n",
      "MONSTER\n",
      "Naoki Urasawa is GOAT= ['Monster', '21st Century Boys', 'Billy Bat', 'Pluto']\n",
      "appended Urasawa: ['Monster', '21st Century Boys', 'Billy Bat', 'Pluto', 'Asadora!']\n",
      "extended Urasawa: ['Monster', '21st Century Boys', 'Billy Bat', 'Pluto', 'Asadora!', 'Happy!', 'Yawara!']\n",
      "inserted Urasawa: ['Monster', '21st Century Boys', 'Billy Bat', 'Pluto', 'Asadora!', 'Mujirushi', 'Happy!', 'Yawara!']\n"
     ]
    }
   ],
   "source": [
    "create_list=[]\n",
    "create_list=[1,2,3,4,\"CSE110\",['Tahmid']]\n",
    "print(create_list)\n",
    "print(create_list[-1])\n",
    "\n",
    "#! list inside a list\n",
    "some_list = ['seinen','shonen','shojo',['ONE PIECE',\"AcchiKocchi\",'MONSTER']]\n",
    "print(some_list[3][-1])\n",
    "\n",
    "#! List mutability\n",
    "seinen_mannga=[\"Monster\",\"21st Century Boys\",\"Billy Bat\",\"Vagabond\"]\n",
    "seinen_mannga[3] = \"Pluto\"\n",
    "print(\"Naoki Urasawa is GOAT=\",seinen_mannga)\n",
    "\n",
    "#! Add elements---append(value)---extend([value])----insert(location,value)\n",
    "seinen_mannga.append(\"Asadora!\")\n",
    "print(\"appended Urasawa:\",seinen_mannga)\n",
    "seinen_mannga.extend([\"Happy!\",\"Yawara!\"])\n",
    "print(\"extended Urasawa:\",seinen_mannga)\n",
    "seinen_mannga.insert(5,\"Mujirushi\")\n",
    "print(\"inserted Urasawa:\",seinen_mannga)"
   ]
  },
  {
   "cell_type": "markdown",
   "metadata": {},
   "source": [
    "#******************* DELETE FROM LIST *************#"
   ]
  },
  {
   "cell_type": "code",
   "execution_count": 1,
   "metadata": {},
   "outputs": [
    {
     "name": "stdout",
     "output_type": "stream",
     "text": [
      "['Dressup Darling', 'Boruto', 'jujustu kaisen01', 'gokushufudou']\n",
      "['Dressup Darling', 'Boruto', 'jujustu kaisen01']\n",
      "['Dressup Darling', 'jujustu kaisen01']\n",
      "['Dressup Darling']\n",
      "[]\n"
     ]
    }
   ],
   "source": [
    "# deleting elements -- clear()-----remove(val)-----pop([index])\n",
    "\n",
    "watchingAnime = ['Dressup Darling',\"Boruto\",\"jujustu kaisen01\",\"gokushufudou\",'gokushufudou']\n",
    "watchingAnime.remove(\"gokushufudou\")\n",
    "print(watchingAnime)\n",
    "\n",
    "watchingAnime.pop()      #removes the last index\n",
    "print((watchingAnime))\n",
    "watchingAnime.pop(-2)\n",
    "print(watchingAnime)\n",
    "\n",
    "del watchingAnime[1]\n",
    "print(watchingAnime)\n",
    "# del(watchingAnime) #deletes the list from the memory\n",
    "# print(watchingAnime)\n",
    "\n",
    "watchingAnime.clear()\n",
    "print(watchingAnime)"
   ]
  },
  {
   "cell_type": "markdown",
   "metadata": {},
   "source": [
    "#************ OtherFunctions ***********!#"
   ]
  },
  {
   "cell_type": "code",
   "execution_count": 16,
   "metadata": {},
   "outputs": [
    {
     "name": "stdout",
     "output_type": "stream",
     "text": [
      "1\n",
      "3\n",
      "[1, 2, 3, 3, 3, 4]\n",
      "[4, 3, 3, 3, 2, 1]\n"
     ]
    }
   ],
   "source": [
    "#!  list.index(element[,start,end])\n",
    "val =[4,3,3,3,2,1]\n",
    "print(val.index(3)) #! returns the locarionof the first index of input\n",
    "\n",
    "#!  list.count(element) \n",
    "print(val.count(3))\n",
    "\n",
    "#! list.sort([reverse=])\n",
    "val.sort()\n",
    "print(val)\n",
    "\n",
    "#! list.reverse()\n",
    "val.reverse()\n",
    "print(val)"
   ]
  },
  {
   "cell_type": "code",
   "execution_count": 21,
   "metadata": {},
   "outputs": [
    {
     "name": "stdout",
     "output_type": "stream",
     "text": [
      "[1, 2, 3, 4, 5, 6, 7, 8, 9]\n",
      "[1, 2, 3, 4, 1, 2, 3, 4, 1, 2, 3, 4]\n",
      "1\n",
      "2\n",
      "3\n",
      "4\n",
      "True\n"
     ]
    }
   ],
   "source": [
    "list01 = [1,2,3,4]\n",
    "list02 = [5,6,7,8,9]\n",
    "print(list01+list02)\n",
    "\n",
    "print(list01*3)\n",
    "\n",
    "for i in list01:\n",
    "    print(i)\n",
    "    \n",
    "print(5 in list02)"
   ]
  },
  {
   "cell_type": "code",
   "execution_count": 26,
   "metadata": {},
   "outputs": [
    {
     "name": "stdout",
     "output_type": "stream",
     "text": [
      "['Dressup Darling', 'Boruto', 'jujustu kaisen01', 'AcchiKoccchi', 'gokushufudou']\n",
      "['Dressup Darling', 'Boruto']\n",
      "['jujustu kaisen01', 'AcchiKoccchi', 'gokushufudou']\n",
      "['Dressup Darling', 'jujustu kaisen01', 'gokushufudou']\n"
     ]
    }
   ],
   "source": [
    "watchingAnime = ['Dressup Darling',\"Boruto\",\"jujustu kaisen01\",\"AcchiKoccchi\",'gokushufudou']\n",
    "print(watchingAnime[:])\n",
    "print(watchingAnime[:2])\n",
    "print(watchingAnime[2:])\n",
    "print(watchingAnime[::2])"
   ]
  },
  {
   "cell_type": "code",
   "execution_count": 28,
   "metadata": {},
   "outputs": [
    {
     "name": "stdout",
     "output_type": "stream",
     "text": [
      "9\n",
      "9\n",
      "1\n",
      "45\n"
     ]
    }
   ],
   "source": [
    "listx=[1,2,3,4,5,6,7,8,9]\n",
    "print(len(listx))\n",
    "print(max(listx))\n",
    "print(min(listx))\n",
    "print(sum(listx))"
   ]
  },
  {
   "cell_type": "code",
   "execution_count": 3,
   "metadata": {},
   "outputs": [
    {
     "name": "stdout",
     "output_type": "stream",
     "text": [
      "[1, 2, 699, 6, 7, 458, 9857934, 5, 246, 4]\n"
     ]
    }
   ],
   "source": [
    "n= [1,2,5,6,7,458,9857934,5,246,4]\n",
    "n2= n\n",
    "n2[2]=699\n",
    "print(n2)"
   ]
  },
  {
   "cell_type": "code",
   "execution_count": null,
   "metadata": {},
   "outputs": [],
   "source": []
  }
 ],
 "metadata": {
  "interpreter": {
   "hash": "a12d694c3ccac42055183a0ad11e659c6a2db5c6555ad2c8919d5814fd4e404f"
  },
  "kernelspec": {
   "display_name": "Python 3.9.5 64-bit (system)",
   "language": "python",
   "name": "python3"
  },
  "language_info": {
   "codemirror_mode": {
    "name": "ipython",
    "version": 3
   },
   "file_extension": ".py",
   "mimetype": "text/x-python",
   "name": "python",
   "nbconvert_exporter": "python",
   "pygments_lexer": "ipython3",
   "version": "3.9.5"
  },
  "orig_nbformat": 4
 },
 "nbformat": 4,
 "nbformat_minor": 2
}
