{
 "cells": [
  {
   "cell_type": "code",
   "execution_count": 1,
   "metadata": {},
   "outputs": [
    {
     "name": "stdout",
     "output_type": "stream",
     "text": [
      "{'course': 'CSE110', 3: {1: 'neko', 2: 'inu', 3: 'tori'}}\n"
     ]
    }
   ],
   "source": [
    "# creating a dictionary\n",
    "create_dic = {}\n",
    "\n",
    "# create a dictionary using dic()\n",
    "create_dic = dict({1:\"neko\",2:\"inu\",3:\"tori\"})\n",
    "\n",
    "# Dictionary with mixed dataTypes\n",
    "create_dic ={\"course\":\"CSE110\",3:[110,111,120]}\n",
    "\n",
    "create_dic ={\"course\":\"CSE110\",3:{1:\"neko\",2:\"inu\",3:\"tori\"}}\n",
    "print(create_dic)"
   ]
  },
  {
   "cell_type": "code",
   "execution_count": 9,
   "metadata": {},
   "outputs": [
    {
     "name": "stdout",
     "output_type": "stream",
     "text": [
      "{'cat': 'neko', 'dog': 'inu', 'bird': 'tori'}\n",
      "neko\n",
      "inu\n",
      "None\n",
      "kuma\n",
      "{'Name': 'Chopper', 'Ocupation': 'Pirate/Doc', 'Form': 'Dear'}\n",
      "Chopper\n"
     ]
    }
   ],
   "source": [
    "#get(key,[value])\n",
    "animalsInJap = {\"cat\":\"neko\",\"dog\":\"inu\",\"bird\":\"tori\"}\n",
    "\n",
    "print(animalsInJap)\n",
    "print(animalsInJap[\"cat\"])\n",
    "print(animalsInJap.get(\"dog\"))\n",
    "\n",
    "print(animalsInJap.get(\"bear\"))\n",
    "print(animalsInJap.get(\"bear\",\"kuma\"))\n",
    "\n",
    "animalsInJapx = {\"cat\":\"neko\",\"dog\":\"inu\",\"aniInAnime\":{\"Name\":\"Chopper\",\"Ocupation\":\"Pirate/Doc\",\"Form\":\"Dear\"},\"bird\":\"tori\"}\n",
    "print(animalsInJapx[\"aniInAnime\"])\n",
    "print(animalsInJapx[\"aniInAnime\"][\"Name\"])\n",
    "\n"
   ]
  },
  {
   "cell_type": "code",
   "execution_count": 14,
   "metadata": {},
   "outputs": [
    {
     "name": "stdout",
     "output_type": "stream",
     "text": [
      "{'cat': 'neko', 'dog': 'inu', 'aniAnime': {'Name': 'Chopper', 'Ocupation': 'Pirate/Doc', 'Form': 'Dear'}, 'bird': 'tori'}\n",
      "{'cat': 'neko', 'dog': 'inu', 'aniAnime': {'Name': 'Chopper', 'Ocupation': 'Pirate/Doc', 'Form': 'Hito hito no mi'}, 'bird': 'tori'}\n",
      "{'cat': 'neko', 'dog': 'inu', 'aniAnime': {'Name': 'Chopper', 'Ocupation': 'Pirate/Doc', 'Form': 'Hito hito no mi'}, 'bird': 'tori', 'bear': 'kuma'}\n",
      "{1: 'my dress up darling', 2: 'Ranking of kings'}\n",
      "{1: 'my dress up darling', 2: 'Ranking of kings', 3: 'Sonny Boy'}\n",
      "{}\n",
      "(2, 'Ousama Ranking')\n",
      "{}\n"
     ]
    }
   ],
   "source": [
    "animals = {\"cat\":\"neko\",\"dog\":\"inu\",\"aniAnime\":{\"Name\":\"Chopper\",\"Ocupation\":\"Pirate/Doc\",\"Form\":\"Dear\"},\"bird\":\"tori\"}\n",
    "print(animals)\n",
    "animals[\"aniAnime\"] [\"Form\"]=\"Hito hito no mi\"   #! changing value\n",
    "print(animals)\n",
    "animals[\"bear\"]=\"kuma\"          #! adding a value\n",
    "print(animals)\n",
    "\n",
    "animeWatching = {1:\"my dress up darling\", 2:\"Ousama Ranking\"}\n",
    "animeWatching.update({2:\"Ranking of kings\"})\n",
    "print(animeWatching)\n",
    "animeWatching.update({3:\"Sonny Boy\"})\n",
    "print(animeWatching)\n",
    "\n",
    "\n",
    "#!                            DELETING ELEMETNS\n",
    "animeWatching.clear()\n",
    "print(animeWatching)\n",
    "\n",
    "animeWatching = {1:\"my dress up darling\", 2:\"Ousama Ranking\"}\n",
    "remove=animeWatching.popitem()\n",
    "print(remove)\n",
    "\n",
    "del animeWatching[1]\n",
    "print(animeWatching)\n",
    "\n",
    "# del animeWatching\n",
    "# print(animeWatching)\n"
   ]
  },
  {
   "cell_type": "code",
   "execution_count": 2,
   "metadata": {},
   "outputs": [
    {
     "name": "stdout",
     "output_type": "stream",
     "text": [
      "dict_keys(['no1', 'no2', 'no3'])\n",
      "dict_values(['my dress up darling', 'Ousama Ranking', 'Sonny Boy'])\n",
      "dict_items([('no1', 'my dress up darling'), ('no2', 'Ousama Ranking'), ('no3', 'Sonny Boy')])\n"
     ]
    }
   ],
   "source": [
    "animeWatching = {\"no1\":\"my dress up darling\", \"no2\":\"Ousama Ranking\", \"no3\":\"Sonny Boy\"}\n",
    "print(animeWatching.keys())\n",
    "print(animeWatching.values())\n",
    "print(animeWatching.items())\n",
    "\n",
    "\n",
    "# dir()\n"
   ]
  },
  {
   "cell_type": "code",
   "execution_count": 14,
   "metadata": {},
   "outputs": [
    {
     "name": "stdout",
     "output_type": "stream",
     "text": [
      "no1\n",
      "no2\n",
      "no3\n",
      "my dress up darling\n",
      "Ousama Ranking\n",
      "Sonny Boy\n",
      "no1 is key and the next one is value my dress up darling\n",
      "no2 is key and the next one is value Ousama Ranking\n",
      "no3 is key and the next one is value Sonny Boy\n",
      "('no1', 'my dress up darling')\n",
      "('no2', 'Ousama Ranking')\n",
      "('no3', 'Sonny Boy')\n",
      "my dress up darling\n",
      "['Ousama Ranking', 'Sonny Boy', 'my dress up darling']\n",
      "['no1', 'no2', 'no3']\n"
     ]
    }
   ],
   "source": [
    "animeWatching = {\"no1\":\"my dress up darling\", \"no2\":\"Ousama Ranking\", \"no3\":\"Sonny Boy\"}\n",
    "for keys in animeWatching.keys():\n",
    "    print(keys)\n",
    "for values in animeWatching.values():\n",
    "    print(values)\n",
    "for key,value in animeWatching.items():\n",
    "    print(key +\" is key and the next one is value \"+ value)\n",
    "    \n",
    "for items in animeWatching.items():\n",
    "    print(items)\n",
    "    \n",
    "print(max(animeWatching.values()))\n",
    "print(sorted(animeWatching.values()))\n",
    "print(sorted(animeWatching.keys()))\n"
   ]
  },
  {
   "cell_type": "code",
   "execution_count": 5,
   "metadata": {},
   "outputs": [
    {
     "name": "stdout",
     "output_type": "stream",
     "text": [
      "rising of the shield hero S02\n",
      "no other anime is being watched\n",
      "{'no3': 'sonny boy', 'no4': 'Log Horizon S02'}\n",
      "Log Horizon S02\n"
     ]
    }
   ],
   "source": [
    "animeWatching = {\"no1\":\"rising of the shield hero S02\", \"no2\":\"Ousama Ranking\", \"no3\":\"Sonny Boy\"}\n",
    "\n",
    "print(animeWatching.get(\"no1\"))\n",
    "print(animeWatching.get(\"no4\",\"no other anime is being watched\"))\n",
    "\n",
    "animeWatching = {\"no1\":\"rising of the shield hero S02\", \"no2\":\"Ousama Ranking\", \"on_hold\" :{\"no3\":\"sonny boy\", \"no4\":\"Log Horizon S02\"}}\n",
    "print(animeWatching[\"on_hold\"])\n",
    "print(animeWatching[\"on_hold\"]['no4'])\n",
    "\n",
    "\n",
    "\n",
    "\n"
   ]
  },
  {
   "cell_type": "code",
   "execution_count": 31,
   "metadata": {},
   "outputs": [
    {
     "name": "stdout",
     "output_type": "stream",
     "text": [
      "{'no1': 'rising of the shield hero S02', 'no2': 'Ousama Ranking', 'on_hold': 'nothing'}\n",
      "{'no1': 'rising of the shield hero S02', 'no2': 'Ousama Ranking', 'on_hold': 'Gonna watch something new', 'no3': 'a movie', 'no4': 'just get some sleep'}\n"
     ]
    }
   ],
   "source": [
    "                                        #! Adding or updating values\n",
    "                                        \n",
    "animeWatching = {\"no1\":\"rising of the shield hero S02\", \"no2\":\"Ousama Ranking\", \"on_hold\" :{\"no3\":\"sonny boy\", \"no4\":\"Log Horizon S02\"}}\n",
    "\n",
    "animeWatching[\"on_hold\"]=\"nothing\"\n",
    "print(animeWatching)\n",
    "\n",
    "animeWatchingx = {\"on_hold\":\"Gonna watch something new\"}\n",
    "animeWatching.update(animeWatchingx)\n",
    "animeWatching.update(no3 =\"a movie\")\n",
    "animeWatching.update({\"no4\":\"just get some sleep\"})\n",
    "print(animeWatching)"
   ]
  },
  {
   "cell_type": "code",
   "execution_count": 29,
   "metadata": {},
   "outputs": [
    {
     "name": "stdout",
     "output_type": "stream",
     "text": [
      "rising of the shield hero S02\n",
      "['not found']\n",
      "{'no2': 'Ousama Ranking'}\n"
     ]
    }
   ],
   "source": [
    "#                          DELETING ITEMS/ Removing items\n",
    "\n",
    "animeWatching = {\"no1\":\"rising of the shield hero S02\", \"no2\":\"Ousama Ranking\", \"on_hold\" :{\"no3\":\"sonny boy\", \"no4\":\"Log Horizon S02\"}}\n",
    "animeWatching.popitem()\n",
    "\n",
    "remove =animeWatching.pop(\"no1\")\n",
    "print(remove)\n",
    "remove2 =animeWatching.pop(\"no6\",[\"not found\"])\n",
    "print(remove2)\n",
    "print(animeWatching)\n",
    "\n",
    "animeWatching.clear()\n",
    "del animeWatching\n",
    "\n",
    "# animeWatching.pop(\"no1\"[\"deleted\"])"
   ]
  },
  {
   "cell_type": "code",
   "execution_count": 18,
   "metadata": {},
   "outputs": [
    {
     "name": "stdout",
     "output_type": "stream",
     "text": [
      "Original Dictionary:\n",
      "{'A': 'Geeks'}\n",
      "Dictionary after updation:\n",
      "{'A': 'Geeks', 'B': 'For', 'C': 'Geeks'}\n"
     ]
    }
   ],
   "source": [
    "\n",
    "# Python program to show working\n",
    "# of update() method in Dictionary\n",
    " \n",
    "# Dictionary with single item\n",
    "Dictionary1 = {'A': 'Geeks'}\n",
    " \n",
    "# Dictionary before Updation\n",
    "print(\"Original Dictionary:\")\n",
    "print(Dictionary1)\n",
    " \n",
    "# update the Dictionary with iterable\n",
    "Dictionary1.update(B='For', C='Geeks')\n",
    "print(\"Dictionary after updation:\")\n",
    "print(Dictionary1)"
   ]
  },
  {
   "cell_type": "code",
   "execution_count": 1,
   "metadata": {},
   "outputs": [
    {
     "name": "stdout",
     "output_type": "stream",
     "text": [
      "{'x': 2, 'y': 3, 'z': 0}\n"
     ]
    }
   ],
   "source": [
    "d = {'x': 2}\n",
    "\n",
    "d.update(y = 3, z = 0)\n",
    "\n",
    "print(d)"
   ]
  },
  {
   "cell_type": "code",
   "execution_count": null,
   "metadata": {},
   "outputs": [],
   "source": []
  },
  {
   "cell_type": "code",
   "execution_count": 12,
   "metadata": {},
   "outputs": [
    {
     "name": "stdout",
     "output_type": "stream",
     "text": [
      "6\n"
     ]
    }
   ],
   "source": [
    "x = {\"a\":1, \"b\":2, \"c\":3}\n",
    "sum = 0\n",
    "\n",
    "for i in x:\n",
    "    y = x.get(i)\n",
    "    \n",
    "    sum += y\n",
    "print(sum)"
   ]
  }
 ],
 "metadata": {
  "interpreter": {
   "hash": "b671c20432fcd147198c92e7f072af9e705f087eb990bee22b07f08caab9f630"
  },
  "kernelspec": {
   "display_name": "Python 3.9.5 64-bit (system)",
   "language": "python",
   "name": "python3"
  },
  "language_info": {
   "codemirror_mode": {
    "name": "ipython",
    "version": 3
   },
   "file_extension": ".py",
   "mimetype": "text/x-python",
   "name": "python",
   "nbconvert_exporter": "python",
   "pygments_lexer": "ipython3",
   "version": "3.9.5"
  },
  "orig_nbformat": 4
 },
 "nbformat": 4,
 "nbformat_minor": 2
}
