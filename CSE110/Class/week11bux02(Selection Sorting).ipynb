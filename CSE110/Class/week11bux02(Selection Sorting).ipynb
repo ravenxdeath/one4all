{
 "cells": [
  {
   "cell_type": "code",
   "execution_count": 2,
   "metadata": {},
   "outputs": [
    {
     "name": "stdout",
     "output_type": "stream",
     "text": [
      "[-1, 2, 5, 7]\n"
     ]
    }
   ],
   "source": [
    "list = [7, 2, 5, -1]\n",
    "\n",
    "for i in range(len(list)):\n",
    "    min_index = i\n",
    "    \n",
    "    for j in range(i+1, len(list)):\n",
    "        if list[j] < list[min_index]:\n",
    "            min_index = j\n",
    "    \n",
    "    temp = list[min_index]\n",
    "    list[min_index] = list[i]\n",
    "    list[i]= temp\n",
    "    \n",
    "print(list)\n",
    "    "
   ]
  },
  {
   "cell_type": "markdown",
   "metadata": {},
   "source": [
    "## selection sort"
   ]
  },
  {
   "cell_type": "code",
   "execution_count": 5,
   "metadata": {},
   "outputs": [
    {
     "name": "stdout",
     "output_type": "stream",
     "text": [
      "[-4, 3, 5, 7, 9, 10, 100]\n"
     ]
    }
   ],
   "source": [
    "ls = [7, 100, 3, 10 , -4, 9, 5]\n",
    "\n",
    "for i in range(len(ls)-1):\n",
    "    ## find min and swap with i\n",
    "    minVal = ls[i]\n",
    "    minIn = i\n",
    "    \n",
    "    for j in range(i+1, len(ls)):\n",
    "        if ls[j]< minVal:\n",
    "            minVal = ls[j]\n",
    "            minIn = j\n",
    "            \n",
    "            ls[i],ls[minIn] = ls[minIn],ls[i]\n",
    "            \n",
    "            # temp = ls[i]\n",
    "            # ls[i] = ls[minIn]\n",
    "            # ls[minIn] = temp\n",
    "print(ls)\n",
    "            "
   ]
  },
  {
   "cell_type": "code",
   "execution_count": 27,
   "metadata": {},
   "outputs": [
    {
     "name": "stdout",
     "output_type": "stream",
     "text": [
      "[-4, 3, 5, 7, 9, 10, 100]\n"
     ]
    }
   ],
   "source": [
    "def selection_sort(SOMETHING):\n",
    "    for i in range(len(ls)-1):\n",
    "        minVal = ls[i]    \n",
    "        minIn = i\n",
    "         \n",
    "        for j in range(i+1, len(ls)):\n",
    "            if ls[j]< minVal:\n",
    "                minVal = ls[j]\n",
    "                minIn = j\n",
    "                \n",
    "                #swap\n",
    "                temp = ls[i]\n",
    "                ls[i] = ls[minIn]\n",
    "                ls[minIn] = temp\n",
    "    return ls\n",
    "ls = [7, 100, 3, 10 , -4, 9, 5]\n",
    "sorted_ls = selection_sort(ls)\n",
    "print(sorted_ls)"
   ]
  },
  {
   "cell_type": "code",
   "execution_count": 33,
   "metadata": {},
   "outputs": [
    {
     "name": "stdout",
     "output_type": "stream",
     "text": [
      "[100, 10, 9, 7, 5, 3, -4]\n"
     ]
    }
   ],
   "source": [
    "def selection_sort(ls, reverse = False):\n",
    "    if reverse == False:\n",
    "        for i in range(len(ls)-1):\n",
    "            minVal = ls[i]    \n",
    "            minIn = i\n",
    "            for j in range(i+1, len(ls)):\n",
    "                if ls[j]< minVal:\n",
    "                    minVal = ls[j]\n",
    "                    minIn = j\n",
    "\n",
    "                    temp = ls[i]\n",
    "                    ls[i] = ls[minIn]\n",
    "                    ls[minIn] = temp\n",
    "\n",
    "    else:\n",
    "        for i in range(len(ls)-1):\n",
    "            maxVal = ls[i]    \n",
    "            maxIn = i\n",
    "            for j in range(i+1, len(ls)):\n",
    "                if ls[j]> maxVal:\n",
    "                    maxVal = ls[j]\n",
    "                    maxIn = j\n",
    "\n",
    "                    temp = ls[i]\n",
    "                    ls[i] = ls[maxIn]\n",
    "                    ls[maxIn] = temp \n",
    "    return ls                       \n",
    "         \n",
    "\n",
    "ls = [7, 100, 3, 10 , -4, 9, 5]\n",
    "sorted_ls = selection_sort(ls, reverse = True)\n",
    "print(sorted_ls)"
   ]
  },
  {
   "cell_type": "markdown",
   "metadata": {},
   "source": [
    "## Bubble Sort\n"
   ]
  },
  {
   "cell_type": "code",
   "execution_count": 1,
   "metadata": {},
   "outputs": [
    {
     "name": "stdout",
     "output_type": "stream",
     "text": [
      "[-4, 3, 5, 7, 9, 10, 100]\n"
     ]
    }
   ],
   "source": [
    "ls = [7, 100, 3, 10 , -4, 9, 5]\n",
    "\n",
    "for i in range(len(ls)-1):\n",
    "    for j in range(0, len(ls)-i-1):\n",
    "        if ls[j]> ls[j+1]:\n",
    "            temp = ls[j]\n",
    "            ls[j] = ls[j+1]\n",
    "            ls[j+1] = temp\n",
    "print(ls)"
   ]
  },
  {
   "cell_type": "code",
   "execution_count": 8,
   "metadata": {},
   "outputs": [
    {
     "name": "stdout",
     "output_type": "stream",
     "text": [
      "[-4, 3, 5, 7, 9, 10, 100]\n"
     ]
    }
   ],
   "source": [
    "def bubble_sort(ls):\n",
    "    for i in range(len(ls)-1):\n",
    "        for j in range(0, len(ls)-i-1):\n",
    "            if ls[j]> ls[j+1]:\n",
    "                temp = ls[j]\n",
    "                ls[j] = ls[j+1]\n",
    "                ls[j+1] = temp\n",
    "    return ls\n",
    "ls = [7, 100, 3, 10 , -4, 9, 5]\n",
    "sorted_ls = bubble_sort(ls)\n",
    "print(ls)\n",
    "        "
   ]
  },
  {
   "cell_type": "markdown",
   "metadata": {},
   "source": [
    "## Linear Search\n"
   ]
  },
  {
   "cell_type": "code",
   "execution_count": 7,
   "metadata": {},
   "outputs": [
    {
     "name": "stdout",
     "output_type": "stream",
     "text": [
      "5\n"
     ]
    }
   ],
   "source": [
    "def linear_search(ls, x):\n",
    "    for i in ls:\n",
    "        if i == x:\n",
    "            return ls.index(i)\n",
    "    return -1\n",
    "\n",
    "ls = [-4, 3, 5, 7, 9, 10, 100]\n",
    "x = 10\n",
    "seachedVal_index = linear_search(ls, x)\n",
    "print(seachedVal_index)\n"
   ]
  },
  {
   "cell_type": "markdown",
   "metadata": {},
   "source": [
    "## Binary Sort\n"
   ]
  },
  {
   "cell_type": "code",
   "execution_count": null,
   "metadata": {},
   "outputs": [],
   "source": [
    "def binary_sort(sortedSeq, x):\n",
    "    l = 0\n",
    "    r = len(sortedSeq)-1\n",
    "    \n",
    "    while l<=r:\n",
    "        mid_index = l+(r-1)//2 #(l+r)//2\n",
    "        if sortedSeq(mid_index) == x:\n",
    "            return mid_index\n",
    "        elif sortedSeq(mid_index) > x:\n",
    "            r = mid_index-1\n",
    "        else:\n",
    "            l = mid_index+1\n",
    "            \n",
    "    return None"
   ]
  }
 ],
 "metadata": {
  "interpreter": {
   "hash": "b671c20432fcd147198c92e7f072af9e705f087eb990bee22b07f08caab9f630"
  },
  "kernelspec": {
   "display_name": "Python 3.9.5 64-bit (system)",
   "language": "python",
   "name": "python3"
  },
  "language_info": {
   "codemirror_mode": {
    "name": "ipython",
    "version": 3
   },
   "file_extension": ".py",
   "mimetype": "text/x-python",
   "name": "python",
   "nbconvert_exporter": "python",
   "pygments_lexer": "ipython3",
   "version": "3.9.5"
  },
  "orig_nbformat": 4
 },
 "nbformat": 4,
 "nbformat_minor": 2
}
