{
 "cells": [
  {
   "cell_type": "code",
   "execution_count": 1,
   "metadata": {},
   "outputs": [
    {
     "name": "stdout",
     "output_type": "stream",
     "text": [
      "{1: 1, 3: 9, 5: 25, 7: 49, 9: 81}\n"
     ]
    }
   ],
   "source": [
    "oddSquare ={}\n",
    "for i in range(11):\n",
    "    if i % 2 ==1:\n",
    "        oddSquare[i] =i*i\n",
    "print(oddSquare)"
   ]
  },
  {
   "cell_type": "code",
   "execution_count": 1,
   "metadata": {},
   "outputs": [
    {
     "name": "stdout",
     "output_type": "stream",
     "text": [
      "{1: 1, 3: 9, 5: 25, 7: 49, 9: 81}\n",
      "True\n",
      "False\n",
      "9\n",
      "1\n",
      "81\n",
      "1\n",
      "{1: 1, 3: 9, 5: 25, 7: 49, 9: 81}\n"
     ]
    }
   ],
   "source": [
    "oddSquare ={x: x*x for x in range(11) if x%2 ==1}\n",
    "print(oddSquare)\n",
    "print(9 in oddSquare)\n",
    "print(81 in oddSquare)\n",
    "print(max(oddSquare))\n",
    "print(min(oddSquare))\n",
    "print(max(oddSquare.values()))\n",
    "print(min(oddSquare.values()))\n",
    "\n",
    "x = {1: 1, 3: 9, 5: 25, 7: 49, 9: 81}\n",
    "# print(x.has_key(3))\n",
    "\n",
    "print(str(x))\n",
    "\n",
    "\n",
    "\n"
   ]
  },
  {
   "cell_type": "code",
   "execution_count": 24,
   "metadata": {},
   "outputs": [
    {
     "name": "stdout",
     "output_type": "stream",
     "text": [
      "('Tahmid', 21, (4.0, 3.5, 3.2))\n",
      "(4.0, 3.5, 3.2)\n",
      "3\n",
      "3.5\n",
      "Tahmid, 21, (4.0, 3.5, 3.2), ('Tahmid', 21, [4.0, 3.8, 3.2])\n"
     ]
    }
   ],
   "source": [
    "studenInfo = (\"Tahmid\",21, (4.0, 3.5, 3.2))\n",
    "print(studenInfo)\n",
    "print(studenInfo[-1])\n",
    "print(len(studenInfo))\n",
    "print(studenInfo[-1][1])\n",
    "\n",
    "for i in studenInfo:\n",
    "    print(i, end=\", \")\n",
    "\n",
    "\n",
    "studenInfo = (\"Tahmid\",21, [4.0, 3.5, 3.2])\n",
    "studenInfo[-1][1] = 3.8\n",
    "print(studenInfo)\n"
   ]
  },
  {
   "cell_type": "code",
   "execution_count": 28,
   "metadata": {},
   "outputs": [
    {
     "name": "stdout",
     "output_type": "stream",
     "text": [
      "name=  Tahmid\n",
      "age=  21\n",
      "cga=  (4.0, 3.5, 3.2)\n"
     ]
    }
   ],
   "source": [
    "studenInfo = \"Tahmid\",21, (4.0, 3.5, 3.2)  #tuple packing\n",
    "# del studenInfo[-1]  #inmutable can't be changed or deleted\n",
    "name, age , gpa = studenInfo    #tuple unpacking\n",
    "print(\"name= \" ,name)\n",
    "print(\"age= \" ,age)\n",
    "print(\"cga= \" ,gpa)\n",
    "\n",
    "\n",
    "\n"
   ]
  },
  {
   "cell_type": "code",
   "execution_count": 37,
   "metadata": {},
   "outputs": [
    {
     "name": "stdout",
     "output_type": "stream",
     "text": [
      "1 is my dress up darling\n",
      "2 is Ousama Ranking\n",
      "dict_items([(1, 'my dress up darling'), (2, 'Ousama Ranking')])\n",
      "1 is my dress up darling\n",
      "2 is Ousama Ranking\n"
     ]
    }
   ],
   "source": [
    "animeWatching = {1:\"my dress up darling\", 2:\"Ousama Ranking\"}\n",
    "\n",
    "for i in animeWatching:\n",
    "    print(f\"{i} is {animeWatching[i]}\")\n",
    "\n",
    "print(animeWatching.items())\n",
    "for k,v in animeWatching.items():\n",
    "    print(f\"{k} is {v}\")\n",
    "    "
   ]
  },
  {
   "cell_type": "code",
   "execution_count": null,
   "metadata": {},
   "outputs": [],
   "source": []
  },
  {
   "cell_type": "code",
   "execution_count": 1,
   "metadata": {},
   "outputs": [
    {
     "name": "stdout",
     "output_type": "stream",
     "text": [
      "{'fd': 'f'}\n"
     ]
    }
   ],
   "source": [
    "\n",
    "stInfo = {}\n",
    "itemno = int(input(\"enter item number for dict\"))\n",
    "for i in range(itemno):\n",
    "    key= input(\"enter a key:\")\n",
    "    val = input(\"enter a value:\")\n",
    "    # stInfo[key]=  val\n",
    "    stInfo.update({key:val})\n",
    "print(stInfo)"
   ]
  },
  {
   "cell_type": "code",
   "execution_count": null,
   "metadata": {},
   "outputs": [],
   "source": [
    "studenInfo = input(\"Please input dict in string format:\")\n"
   ]
  }
 ],
 "metadata": {
  "interpreter": {
   "hash": "a12d694c3ccac42055183a0ad11e659c6a2db5c6555ad2c8919d5814fd4e404f"
  },
  "kernelspec": {
   "display_name": "Python 3.9.5 64-bit (system)",
   "language": "python",
   "name": "python3"
  },
  "language_info": {
   "codemirror_mode": {
    "name": "ipython",
    "version": 3
   },
   "file_extension": ".py",
   "mimetype": "text/x-python",
   "name": "python",
   "nbconvert_exporter": "python",
   "pygments_lexer": "ipython3",
   "version": "3.9.5"
  },
  "orig_nbformat": 4
 },
 "nbformat": 4,
 "nbformat_minor": 2
}
