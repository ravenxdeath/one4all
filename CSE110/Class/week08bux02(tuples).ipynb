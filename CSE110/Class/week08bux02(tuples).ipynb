{
 "cells": [
  {
   "cell_type": "code",
   "execution_count": 19,
   "metadata": {},
   "outputs": [
    {
     "name": "stdout",
     "output_type": "stream",
     "text": [
      "()\n",
      "('raven', {1, 3, 5}, (12, 45, 6, 44), ['Tahmid', 'Raven'])\n",
      "Raven\n"
     ]
    }
   ],
   "source": [
    "my_tup = ()\n",
    "print(my_tup)\n",
    "\n",
    "tup = (\"raven\",{1,3,5,},(12,45,6,44),[\"Tahmid\",\"Raven\"])\n",
    "print(tup)\n",
    "\n",
    "print(tup[-1][1])\n"
   ]
  },
  {
   "cell_type": "code",
   "execution_count": 18,
   "metadata": {},
   "outputs": [
    {
     "name": "stdout",
     "output_type": "stream",
     "text": [
      "('naofumi', 'raphtalia', 'filo')\n",
      "naofumi raphtalia\n"
     ]
    }
   ],
   "source": [
    "\n",
    "#! tuple packing and unpacking\n",
    "\n",
    "shield_heroes = \"naofumi\",\"raphtalia\",\"filo\"\n",
    "print(shield_heroes)\n",
    "\n",
    "hero, slave, pet = shield_heroes\n",
    "print(hero, slave)\n",
    "\n",
    "\n"
   ]
  },
  {
   "cell_type": "code",
   "execution_count": 21,
   "metadata": {},
   "outputs": [
    {
     "name": "stdout",
     "output_type": "stream",
     "text": [
      "('naofumi', 'raphtalia', 'filo', ['naofumi', 'raphtalia', 'pet filo'])\n"
     ]
    }
   ],
   "source": [
    "\n",
    "#! Mutability of tuple even though it's immutabel\n",
    "\n",
    "shield_heroes_tuple = (\"naofumi\",\"raphtalia\",\"filo\" ,[hero, slave, pet])\n",
    "\n",
    "shield_heroes_tuple[-1][2]= \"pet filo\"\n",
    "print(shield_heroes_tuple)\n"
   ]
  },
  {
   "cell_type": "code",
   "execution_count": 38,
   "metadata": {},
   "outputs": [
    {
     "name": "stdout",
     "output_type": "stream",
     "text": [
      "messi\n",
      "10\n",
      "FCB\n",
      "\n",
      "messi\t10\tFCB\t\n",
      "messi, 10, FCB\n"
     ]
    }
   ],
   "source": [
    "player = (\"messi\",\"10\",\"FCB\")\n",
    "for i in player:\n",
    "    # print(i, end=\"\\t\")\n",
    "\n",
    "    print(i, end=\"\\n\")\n",
    "print()\n",
    "\n",
    "count = 0\n",
    "while count<len(player):\n",
    "    print(player[count], end=\"\\t\")\n",
    "    count +=1\n",
    "    \n",
    "print()\n",
    "\n",
    "count = 0 \n",
    "while count< len(player):\n",
    "    if count == len(player)-1:\n",
    "        print(player[count])\n",
    "    else:\n",
    "        print(player[count], end=\", \")\n",
    "    count += 1\n",
    "        "
   ]
  },
  {
   "cell_type": "code",
   "execution_count": 45,
   "metadata": {},
   "outputs": [
    {
     "name": "stdout",
     "output_type": "stream",
     "text": [
      "('all star', 'beyond', 'ultimate', ['Detective comics', '2016 run', 'White Knight'])\n",
      "('all star', 'beyond', 'ultimate', ['Detective comics', 'White Knight'])\n"
     ]
    }
   ],
   "source": [
    "batman_comics = (\"all star\", \"beyond\", \"ultimate\", [\"Detective comics\", \"2016 run\"])\n",
    "batman_comics[-1].append(\"White Knight\")\n",
    "print(batman_comics)\n",
    "\n",
    "batman_comics[3].remove(\"2016 run\")\n",
    "print(batman_comics)"
   ]
  }
 ],
 "metadata": {
  "interpreter": {
   "hash": "a12d694c3ccac42055183a0ad11e659c6a2db5c6555ad2c8919d5814fd4e404f"
  },
  "kernelspec": {
   "display_name": "Python 3.9.5 64-bit (system)",
   "language": "python",
   "name": "python3"
  },
  "language_info": {
   "codemirror_mode": {
    "name": "ipython",
    "version": 3
   },
   "file_extension": ".py",
   "mimetype": "text/x-python",
   "name": "python",
   "nbconvert_exporter": "python",
   "pygments_lexer": "ipython3",
   "version": "3.9.5"
  },
  "orig_nbformat": 4
 },
 "nbformat": 4,
 "nbformat_minor": 2
}
