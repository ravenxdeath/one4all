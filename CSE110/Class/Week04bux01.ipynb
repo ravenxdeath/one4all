{
 "cells": [
  {
   "cell_type": "code",
   "execution_count": 11,
   "metadata": {},
   "outputs": [
    {
     "name": "stdout",
     "output_type": "stream",
     "text": [
      "12\n",
      "Last Character: e\n",
      "Last character: e\n",
      "helloBaymax\n"
     ]
    }
   ],
   "source": [
    "sentence = \"I love anime\"\n",
    "print(len(sentence))\n",
    "\n",
    "\n",
    "sentence = \"Hello There\"\n",
    "# print(len(sentence))\n",
    "print(\"Last Character:\", sentence[10])\n",
    "\n",
    "# we can also use negative indexing with starting from (neg one)\n",
    "print(\"Last character:\", sentence[-1])\n",
    "\n",
    "print(\"hello\"+\"Baymax\")"
   ]
  },
  {
   "cell_type": "code",
   "execution_count": 30,
   "metadata": {},
   "outputs": [
    {
     "name": "stdout",
     "output_type": "stream",
     "text": [
      "hellohellohellohellohello\n",
      "Kenobi\n",
      "Kenobi\n",
      "helloKenobi\n",
      "helloKenobi\n",
      "helloKenobi\n",
      "helloKenobi\n",
      "helloKenobi\n",
      "\n",
      "110\n",
      "110\n",
      "CSE\n",
      "CE1\n"
     ]
    },
    {
     "data": {
      "text/plain": [
       "True"
      ]
     },
     "execution_count": 30,
     "metadata": {},
     "output_type": "execute_result"
    }
   ],
   "source": [
    "print(\"hello\"*5)\n",
    "for iteration in range(1,5,2):\n",
    "    print(\"Kenobi\")\n",
    "    \n",
    "print(\"helloKenobi\\n\"*5)\n",
    "\n",
    "#! String Slicing\n",
    "course = 'CSE110'\n",
    "for index in range(3,6):\n",
    "    print(course[index],end=\"\")\n",
    "print()\n",
    "     \n",
    "print(course[3:])\n",
    "\n",
    "print(course[0:3])\n",
    "\n",
    "print(course[::2])\n",
    "\n",
    "#! in logical operator\n",
    "\"bay\" in \"baymax\""
   ]
  },
  {
   "cell_type": "code",
   "execution_count": 31,
   "metadata": {},
   "outputs": [
    {
     "name": "stdout",
     "output_type": "stream",
     "text": [
      "I\n",
      " \n",
      "a\n",
      "m\n",
      " \n",
      "B\n",
      "a\n",
      "y\n",
      "m\n",
      "a\n",
      "x\n"
     ]
    }
   ],
   "source": [
    "#* Iterating Over A string\n",
    "\n",
    "index = 0\n",
    "s = \"I am Baymax\"\n",
    "\n",
    "while index < len(s):\n",
    "    print(s[index])\n",
    "    index +=1"
   ]
  },
  {
   "cell_type": "code",
   "execution_count": 12,
   "metadata": {},
   "outputs": [
    {
     "name": "stdout",
     "output_type": "stream",
     "text": [
      "I\n",
      " \n",
      "a\n",
      "m\n",
      " \n",
      "B\n",
      "a\n",
      "y\n",
      "m\n",
      "a\n",
      "x\n",
      "\n",
      "\n",
      "I\n",
      " \n",
      "a\n",
      "m\n",
      " \n",
      "B\n",
      "a\n",
      "y\n",
      "m\n",
      "a\n",
      "x\n"
     ]
    }
   ],
   "source": [
    "s = \"I am Baymax\\n\"\n",
    "#no need to maintain indexing\n",
    "for char in s:\n",
    "    print(char)\n",
    "    print\n",
    "    \n",
    "s = \"I am Baymax\"\n",
    "index = 0\n",
    "while index < len(s):\n",
    "    print(s [index])\n",
    "    index += 1"
   ]
  },
  {
   "cell_type": "code",
   "execution_count": 1,
   "metadata": {},
   "outputs": [
    {
     "name": "stdout",
     "output_type": "stream",
     "text": [
      "84\n",
      "T\n",
      "bracu     cse110\n",
      "2\n"
     ]
    },
    {
     "data": {
      "text/plain": [
       "['__add__',\n",
       " '__class__',\n",
       " '__contains__',\n",
       " '__delattr__',\n",
       " '__dir__',\n",
       " '__doc__',\n",
       " '__eq__',\n",
       " '__format__',\n",
       " '__ge__',\n",
       " '__getattribute__',\n",
       " '__getitem__',\n",
       " '__getnewargs__',\n",
       " '__gt__',\n",
       " '__hash__',\n",
       " '__init__',\n",
       " '__init_subclass__',\n",
       " '__iter__',\n",
       " '__le__',\n",
       " '__len__',\n",
       " '__lt__',\n",
       " '__mod__',\n",
       " '__mul__',\n",
       " '__ne__',\n",
       " '__new__',\n",
       " '__reduce__',\n",
       " '__reduce_ex__',\n",
       " '__repr__',\n",
       " '__rmod__',\n",
       " '__rmul__',\n",
       " '__setattr__',\n",
       " '__sizeof__',\n",
       " '__str__',\n",
       " '__subclasshook__',\n",
       " 'capitalize',\n",
       " 'casefold',\n",
       " 'center',\n",
       " 'count',\n",
       " 'encode',\n",
       " 'endswith',\n",
       " 'expandtabs',\n",
       " 'find',\n",
       " 'format',\n",
       " 'format_map',\n",
       " 'index',\n",
       " 'isalnum',\n",
       " 'isalpha',\n",
       " 'isascii',\n",
       " 'isdecimal',\n",
       " 'isdigit',\n",
       " 'isidentifier',\n",
       " 'islower',\n",
       " 'isnumeric',\n",
       " 'isprintable',\n",
       " 'isspace',\n",
       " 'istitle',\n",
       " 'isupper',\n",
       " 'join',\n",
       " 'ljust',\n",
       " 'lower',\n",
       " 'lstrip',\n",
       " 'maketrans',\n",
       " 'partition',\n",
       " 'removeprefix',\n",
       " 'removesuffix',\n",
       " 'replace',\n",
       " 'rfind',\n",
       " 'rindex',\n",
       " 'rjust',\n",
       " 'rpartition',\n",
       " 'rsplit',\n",
       " 'rstrip',\n",
       " 'split',\n",
       " 'splitlines',\n",
       " 'startswith',\n",
       " 'strip',\n",
       " 'swapcase',\n",
       " 'title',\n",
       " 'translate',\n",
       " 'upper',\n",
       " 'zfill']"
      ]
     },
     "execution_count": 1,
     "metadata": {},
     "output_type": "execute_result"
    }
   ],
   "source": [
    "print(ord(\"T\"))\n",
    "print(chr(84))\n",
    "\n",
    "print(\"  bracu     cse110     \".strip())\n",
    "\n",
    "print(\"Bangladesh\".count(\"a\"))\n",
    "(\"Tahmid\".find(\"a\"))\n",
    "\n",
    "(\"Buttercop\".replace('o',\"u\"))\n",
    "\n",
    "dir(\"string goes here\")\n",
    "\n"
   ]
  },
  {
   "cell_type": "code",
   "execution_count": 13,
   "metadata": {},
   "outputs": [
    {
     "name": "stdout",
     "output_type": "stream",
     "text": [
      "I love the movie \"Big Hero 6\"\n"
     ]
    }
   ],
   "source": [
    "x = \"I love the movie \\\"Big Hero 6\\\"\"\n",
    "print(x) "
   ]
  },
  {
   "cell_type": "code",
   "execution_count": 18,
   "metadata": {},
   "outputs": [
    {
     "name": "stdout",
     "output_type": "stream",
     "text": [
      "Enter the count of apples you have:  dd\n",
      "Enter the count of oranges you have:  gg\n"
     ]
    }
   ],
   "source": [
    "\n",
    "#collecting multiple inputs in Python using map () function\n",
    "a, b = map (str, input(\"Enter the count of fruits you have:\").split())\n",
    "\n",
    "print(\"Enter the count of apples you have: \", a)\n",
    "\n",
    "print(\"Enter the count of oranges you have: \", b)\n"
   ]
  },
  {
   "cell_type": "code",
   "execution_count": 51,
   "metadata": {},
   "outputs": [
    {
     "name": "stdout",
     "output_type": "stream",
     "text": [
      "\n",
      "The value of a is 1 and b is 3\n"
     ]
    }
   ],
   "source": [
    "# Python program to take a comma\n",
    "# separated string as input\n",
    "  \n",
    "  \n",
    "# Taking input when the numbers \n",
    "# of input are known and storing\n",
    "# in different variables\n",
    "  \n",
    "# Taking 2 inputs\n",
    "a, b = [int(x) for x in input(\"Enter two values\\n\").split(', ')]\n",
    "print(\"\\nThe value of a is {} and b is {}\".format(a, b))\n",
    "  \n",
    "# # Taking 3 inputs\n",
    "# a, b, c = [int(x) for x in input(\"Enter three values\\n\").split(', ')]\n",
    "# print(\"\\nThe value of a is {}, b is {} and c is {}\".format(a, b, c))\n",
    "  \n",
    "# # Taking multiple inputs\n",
    "# L = [int(x) for x in input(\"Enter multiple values\\n\").split(', ')]\n",
    "# print(\"\\nThe values of input are\", L) "
   ]
  },
  {
   "cell_type": "code",
   "execution_count": null,
   "metadata": {},
   "outputs": [],
   "source": [
    "# Taking 2 inputs\n",
    "a, b = map(int, input(\"Enter two values\\n\").split(', '))\n",
    "print(\"\\nThe value of a is {} and b is {}\".format(a, b))\n",
    "  \n",
    "# Taking 3 inputs\n",
    "a, b, c = map(int, input(\"Enter three values\\n\").split(', '))\n",
    "print(\"\\nThe value of a is {}, b is {} and c is {}\".format(a, b, c))\n",
    "  \n",
    "# Taking multiple inputs\n",
    "L = list(map(int, input(\"Enter multiple values\\n\").split(', ')))\n",
    "print(\"\\nThe values of input are\", L)"
   ]
  }
 ],
 "metadata": {
  "interpreter": {
   "hash": "a12d694c3ccac42055183a0ad11e659c6a2db5c6555ad2c8919d5814fd4e404f"
  },
  "kernelspec": {
   "display_name": "Python 3.9.5 64-bit (system)",
   "language": "python",
   "name": "python3"
  },
  "language_info": {
   "codemirror_mode": {
    "name": "ipython",
    "version": 3
   },
   "file_extension": ".py",
   "mimetype": "text/x-python",
   "name": "python",
   "nbconvert_exporter": "python",
   "pygments_lexer": "ipython3",
   "version": "3.9.5"
  },
  "orig_nbformat": 4
 },
 "nbformat": 4,
 "nbformat_minor": 2
}
