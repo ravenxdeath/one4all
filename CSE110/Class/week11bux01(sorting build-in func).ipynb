{
 "cells": [
  {
   "cell_type": "code",
   "execution_count": 6,
   "metadata": {},
   "outputs": [
    {
     "name": "stdout",
     "output_type": "stream",
     "text": [
      "Numbers list: BRAC UNI\n",
      "sorted numbers: [' ', 'A', 'B', 'C', 'I', 'N', 'R', 'U']\n",
      "sorted numbers rev: ['U', 'R', 'N', 'I', 'C', 'B', 'A', ' ']\n"
     ]
    }
   ],
   "source": [
    "# numbers= [1, 2 , 4, 5 , 76 , 1566, 36, 3, -11]\n",
    "numbers = \"BRAC UNI\"\n",
    "numbers_sorted = sorted(numbers) # it will return a new sorted list\n",
    "numbers_sorted_rev = sorted(numbers, reverse=True)\n",
    "\n",
    "print(\"Numbers list:\", numbers)\n",
    "print(\"sorted numbers:\", numbers_sorted)\n",
    "print(\"sorted numbers rev:\", numbers_sorted_rev)\n"
   ]
  },
  {
   "cell_type": "code",
   "execution_count": 20,
   "metadata": {},
   "outputs": [
    {
     "name": "stdout",
     "output_type": "stream",
     "text": [
      "['Alooz', 'Mr, Twist', 'Potato Crackers', 'Sun', 'lays']\n",
      "Alooz : 5\n",
      "Mr, Twist : 30\n",
      "Potato Crackers : 50\n",
      "Sun : 3\n",
      "lays : 10\n",
      "{'Alooz': 5, 'Mr, Twist': 30, 'Potato Crackers': 50, 'Sun': 3, 'lays': 10}\n"
     ]
    }
   ],
   "source": [
    "inventory = {\"lays\":10, \"Alooz\":5,\"Mr, Twist\":30,\"Potato Crackers\":50, \"Sun\":3 }\n",
    "sorted_inventory = sorted(inventory)\n",
    "\n",
    "print(sorted_inventory)\n",
    "\n",
    "dic = {}\n",
    "for key in sorted_inventory: \n",
    "    print(key, \":\", inventory[key]) \n",
    "    dic[key]= inventory[key]\n",
    "print(dic)"
   ]
  },
  {
   "cell_type": "code",
   "execution_count": 23,
   "metadata": {},
   "outputs": [
    {
     "name": "stdout",
     "output_type": "stream",
     "text": [
      "num: [1566, 76, 36, 5, 4, 3, 2, 1, -11]\n",
      "sorted nums: None\n"
     ]
    }
   ],
   "source": [
    "#! sort() \n",
    "#! returns NONE\n",
    "#! it sorts a list in place\n",
    "\n",
    "numbers= [1, 2 , 4, 5 , 76 , 1566, 36, 3, -11]\n",
    "sorted_num = numbers.sort(reverse=True)\n",
    " \n",
    "print(\"num:\", numbers)\n",
    "print(\"sorted nums:\", sorted_num)"
   ]
  }
 ],
 "metadata": {
  "interpreter": {
   "hash": "a12d694c3ccac42055183a0ad11e659c6a2db5c6555ad2c8919d5814fd4e404f"
  },
  "kernelspec": {
   "display_name": "Python 3.9.5 64-bit (system)",
   "language": "python",
   "name": "python3"
  },
  "language_info": {
   "codemirror_mode": {
    "name": "ipython",
    "version": 3
   },
   "file_extension": ".py",
   "mimetype": "text/x-python",
   "name": "python",
   "nbconvert_exporter": "python",
   "pygments_lexer": "ipython3",
   "version": "3.9.5"
  },
  "orig_nbformat": 4
 },
 "nbformat": 4,
 "nbformat_minor": 2
}
