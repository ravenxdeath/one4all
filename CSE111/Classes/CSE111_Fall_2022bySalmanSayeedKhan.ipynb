{
  "cells": [
    {
      "cell_type": "code",
      "execution_count": null,
      "metadata": {
        "id": "iixHTKi3sZ13"
      },
      "outputs": [],
      "source": [
        "#Class 1 Part 1: String\n",
        "s = input() #Whatever input is given it will always be in String\n",
        "#s = s.split() # Converts the input into a list of strings while splitting it based on space. \n",
        "#s = s.split(\",\")#We can also pass characters inside of split function to split a string based on the character we want.\n",
        "print(len(s)) # len function gives length of String s\n",
        "print(\"1--------------------------------------\")\n",
        "#Forward traversal contentwise\n",
        "for i in s:\n",
        "  print(i,end=\"\")\n",
        "print(\"\\n2--------------------------------------\")\n",
        "#Forward traversal indexwise\n",
        "for i in range(0,len(s)): #Range function generates integers from 0 to len(s)-1 which we can use as index.\n",
        "  print(s[i],end=\"\")\n",
        "print(\"\\n3--------------------------------------\")\n",
        "#backward traversal indexwise using positive index\n",
        "for i in range(len(s)-1,-1,-1):\n",
        "  print(s[i],end=\"\")\n",
        "print(\"\\n4--------------------------------------\")\n",
        "#backward traversal index using negative index\n",
        "for i in range(-1,-len(s)-1,-1):\n",
        "  print(s[i],end=\"\")\n",
        "print(\"\\n5--------------------------------------\")\n",
        "#find function finds the index of the first appearance of the string given as argument inside the String s .\n",
        "spaceIndex = s.find(\" \")\n",
        "#spaceIndex = s.find(\"a\") #If the string you are searching for is not present inside string s, find function will return -1.\n",
        "print(spaceIndex)\n",
        "print(\"6---------------------------------------\")\n",
        "#Slicing \n",
        "s = s[0:spaceIndex:1]\n",
        "#s = s[:spaceIndex:]\n",
        "print(s)\n",
        "print(\"7---------------------------------------\")\n",
        "#replace function replaces all the appearances of the first character given as argument with the second character given as argument inside String s and returns a new String. It never changes the original string. \n",
        "#s.replace(\"l\",\"L\")\n",
        "s = s.replace(\"l\",\"L\")\n",
        "print(s)\n",
        "print(\"8--------------------------------------\")\n",
        "#ASCII Value\n",
        "print(ord(s[0]))#ord function returns the ASCII value of the chracter passed to it as argument.\n",
        "print(\"9--------------------------------------\")\n",
        "#Its better to remember the following ASCII values\n",
        "#A:65 , Z=:90, a:97, z=122, 0:48, 9:57, Space:32\n",
        "for i in s:\n",
        "  print(f\"ACSII value of {i} is {ord(i)}\")\n",
        "print(\"10--------------------------------------\")\n",
        "#Finding whether a character is in Uppercase or Lowercase\n",
        "for i in s:\n",
        "  if i.isupper(): #if i is in uppercase isuppercase function will return True; otherwise it will return False\n",
        "    print(f\"{i} is in uppercase.\")\n",
        "  else:\n",
        "    print(f\"{i} is in lowercase.\")\n",
        "print(\"11--------------------------------------\")\n",
        "#Converting a string to uppercase or lowercase\n",
        "print(s.upper()) #Converts all the characters in string s in uppercase and returns a new string\n",
        "print(s.lower()) #Converts all the chracters in string s in lowercase and returns a new string\n",
        "print(s) #But upper() and lower() function never changes the original String s\n",
        "print(\"12--------------------------------------\")\n",
        "#Finding whether a character is a number or not\n",
        "x = \"123\"\n",
        "print(x.isdigit()) #isdigit function returns True if x is a number ; otherwise it will return False.\n",
        "print(\"13--------------------------------------\")\n",
        "#Sorting a string in ascending order based on ASCII value \n",
        "#print(\"\".join(sorted(s)))\n",
        "s=\"\".join(sorted(s)) #sorted function return a sorted(based on ASCII value) LIST of characters present inside string s. \n",
        "print(s)\n",
        "print(\"14--------------------------------------\")\n",
        "#Sorting a string in descending order based on ASCII value\n",
        "s=\"\".join(sorted(s, reverse=True))\n",
        "print(s)\n",
        "print(\"15--------------------------------------\")\n",
        "#Frequency count of a particular character inside a string\n",
        "print(s.count(\"L\"))\n",
        "print(\"16--------------------------------------\")\n",
        "#Membership check\n",
        "if \"a\" in s:\n",
        "  print(\"'a' is present in s\")\n",
        "else:\n",
        "  print(\"'a' is not present in s\")"
      ]
    },
    {
      "cell_type": "code",
      "execution_count": null,
      "metadata": {
        "id": "nAtHj5zvHrvq"
      },
      "outputs": [],
      "source": [
        "#Class 1 Part 2: List\n",
        "l = [1,2,3,4]\n",
        "#s = input()\n",
        "#l = s.split()\n",
        "#Appending an element at the end of the list\n",
        "l.append(5)\n",
        "print(l)\n",
        "print(\"1--------------------------------------\")\n",
        "#Merging two lists\n",
        "l.extend([6,7,8])\n",
        "#l = l+[6,7,8]\n",
        "print(l)\n",
        "print(\"2--------------------------------------\")\n",
        "#Insert a value in particular index of a list\n",
        "l.insert(1,1.5)# insert function inserts the value given as the second argument at the index given as the first argument inside l.\n",
        "print(l)\n",
        "print(\"3--------------------------------------\")\n",
        "print(len(l)) # len function gives length of list l.\n",
        "print(\"4--------------------------------------\")\n",
        "#Forward traversal contentwise\n",
        "for i in l:\n",
        "  print(i,end=\" \")\n",
        "print(\"\\n5--------------------------------------\")\n",
        "#Forward traversal indexwise\n",
        "for i in range(0,len(l)): #Range function generates integers from 0 to len(s)-1 which we can use as index.\n",
        "  print(l[i],end=\" \")\n",
        "print(\"\\n6--------------------------------------\")\n",
        "#backward traversal indexwise using positive index\n",
        "for i in range(len(l)-1,-1,-1):\n",
        "  print(l[i],end=\" \")\n",
        "print(\"\\n7--------------------------------------\")\n",
        "#backward traversal index using negative index\n",
        "for i in range(-1,-len(l)-1,-1):\n",
        "  print(l[i],end=\" \")\n",
        "print(\"\\n8-------------------------------------------\")\n",
        "#Frequency count of a particular element inside a list\n",
        "l.extend([2,4,6,2])\n",
        "print(l)\n",
        "print(l.count(2)) # Count the number of appearances of 2 in list l.\n",
        "print(\"9--------------------------------------\")\n",
        "print(l.index(2)) #Returns the index of the first appearance of 2. If the value given as argument is not present is list l, it will generate an error.\n",
        "print(\"10--------------------------------------\")\n",
        "print(l.pop(1)) #pops the value of index 1 and returns it. If the index given as argument is out of range, it will generate an error.\n",
        "print(l)\n",
        "print(\"11--------------------------------------\")\n",
        "l.remove(2) #Removes the first appearance of 2 from list l. If the value to be removed is not present in the list l, it will generate an error.\n",
        "print(l)\n",
        "print(\"12--------------------------------------\")\n",
        "l.reverse() #Reverses the list l.\n",
        "print(l)\n",
        "print(\"13--------------------------------------\")\n",
        "#Sorting a list in ascending order\n",
        "l.sort()\n",
        "print(l)\n",
        "print(\"14--------------------------------------\")\n",
        "#Sorting a list in descending order\n",
        "l.sort(reverse = True)\n",
        "print(l)\n",
        "print(\"15--------------------------------------\")\n",
        "x = l.copy() #Creates a copy of the list l and returns it which gets stored in x.\n",
        "print(x)\n",
        "print(\"16--------------------------------------\")\n",
        "l.clear() #Removes all the elements of list l.\n",
        "print(l)\n",
        "print(x)\n",
        "print(\"17--------------------------------------\")\n",
        "#Slicing in list is same as slicing in string.\n",
        "studentList = [16201118,\"Alice\",18101358,\"Bob\",21202254,\"John\"] \n",
        "#Traversing the odd indices\n",
        "for i in range(1,len(studentList),2):\n",
        "  print(studentList[i])\n",
        "print(\"18--------------------------------------\")\n",
        "#Traversing the even indices\n",
        "for i in range(0,len(studentList),2):\n",
        "  print(studentList[i])\n",
        "print(\"19--------------------------------------\")\n",
        "#Membership check\n",
        "if \"John\" in studentList:\n",
        "  print(\"John is present in studentList\")\n",
        "else:\n",
        "  print(\"John is not present in studentList\")"
      ]
    },
    {
      "cell_type": "code",
      "execution_count": null,
      "metadata": {
        "colab": {
          "base_uri": "https://localhost:8080/"
        },
        "id": "U1UYvLRhQr7L",
        "outputId": "03ceb811-643d-417e-9aa8-d6c7a5b1911b"
      },
      "outputs": [
        {
          "name": "stdout",
          "output_type": "stream",
          "text": [
            "{16102439: 'Alice', 18301965: 'Bob', 22102834: 'John'}\n",
            "1.----------------------------------------------\n",
            "Bob\n",
            "2.----------------------------------------------\n",
            "Name:John  Department:EEE  CGPA:3.81\n",
            "3.----------------------------------------------\n",
            "Name:John   Department:EEE   CGPA:3.81\n",
            "4.----------------------------------------------\n",
            "{'Action': ['The Outpost', 'Greyhound'], 'Animated': ['Onward'], 'Comedy': ['Saint Francis', 'Extra ordinary']}\n",
            "5.----------------------------------------------\n",
            "dict_keys(['Key1', 'Key2', 'Key3'])\n",
            "dict_values(['Value1', 'Value2', 'Value3'])\n",
            "dict_items([('Key1', 'Value1'), ('Key2', 'Value2'), ('Key3', 'Value3')])\n",
            "6.----------------------------------------------\n",
            "Keys:\n",
            "Key1 Key2 Key3 \n",
            "7.----------------------------------------------\n",
            "Values:\n",
            "Value1 Value2 Value3 \n",
            "8.----------------------------------------------\n",
            "Items:\n",
            "Key1:Value1\n",
            "Key2:Value2\n",
            "Key3:Value3\n",
            "9.----------------------------------------------\n",
            "SORT BASED ON KEYS:\n",
            "{'Aeron': '01821323311', 'Alice': '01762103434', 'Berlin': '01621345234', 'Bob': '01890123123', 'Polin': '0174678761'}\n",
            "10.----------------------------------------------\n",
            "SORT BASED ON VALUES:\n",
            "Sorted Tuple:[('Berlin', '01621345234'), ('Polin', '0174678761'), ('Alice', '01762103434'), ('Aeron', '01821323311'), ('Bob', '01890123123')]\n",
            "{'Berlin': '01621345234', 'Polin': '0174678761', 'Alice': '01762103434', 'Aeron': '01821323311', 'Bob': '01890123123'}\n",
            "11.----------------------------------------------\n"
          ]
        }
      ],
      "source": [
        "#Class 2 Part 1 : DICTIONARY\n",
        "#Dictionary stores values in (key,value) pair. Each pair is known as an item.\n",
        "#It means in order to store a value 'X' in a dictionary you need to have a unique characteristic related to X that needs to be used as KEY and X will be the value stored against that KEY.\n",
        "#Dictionary is used if you need to store multiple values.\n",
        "#Keys are used to retrieve values from Dictionary. So the values you want to store in a dictionary must have a unique charactersic using which you can identify each value and that unique characteristic will be used as the key.\n",
        "#For example, if you want to store information of students, the unique characteristic using which you can identify the students is their student IDs. So student ID will be the KEY and other student information will be stored using that ID.  \n",
        "#Keys in a dictionary must be unique. A dictionary cannot have duplicate keys. Keys must be immutable which means keys can be strings, numbers or tuples while values can be of any data type.\n",
        "dict1 = {} #Empty dictionary\n",
        "#dict1 = dict() #Empty dictionary\n",
        "dict1[16102439] = \"Alice\" #{16102439:\"Alice\"}\n",
        "dict1[18301965] = \"Bob\" #{16102439:\"Alice\",18301965:\"Bob\"}\n",
        "dict1.update({22102834:\"John\"})#{16102439:\"Alice\",18301965:\"Bob\",22102834:\"John\"}\n",
        "print(dict1) #Printing whole dictionary at once.\n",
        "print(\"1.----------------------------------------------\")\n",
        "#You need to use keys to access values in a dictionary.\n",
        "#Lets say I want to print 'Bob' from dict1. In other words I want to print the name of the student whose ID is 18301965.\n",
        "print(dict1[18301965])\n",
        "print(\"2.----------------------------------------------\")\n",
        "\n",
        "#Why use dictionary if you know lists?\n",
        "\n",
        "#Example 1: WITH LIST: Lets say you want to store information of 100000 students. Information means student ID, name, cgpa, department.\n",
        "#How will you store them using a list?\n",
        "studentList = [[16102439,\"Alice\",3.98,\"CSE\"],[18301965,\"Bob\",3.74,\"CS\"],[22102834,\"John\",3.81,\"EEE\"]] #I have used 3 students for reference.\n",
        "#Lets say I want to print the name, department and CGPA of the student whose ID is 22102834. How can we do that?\n",
        "for i in studentList:\n",
        "  if i[0] == 22102834:\n",
        "    print(f\"Name:{i[1]}  Department:{i[3]}  CGPA:{i[2]}\")\n",
        "\n",
        "print(\"3.----------------------------------------------\")\n",
        "\n",
        "#Example 1: WITH DICTIONARY: Lets say you want to store information of 100000 students. Information means student ID, name, cgpa, department.\n",
        "#How will you store them using a Dictionary?\n",
        "studentDict = {}\n",
        "studentDict[16102439] = [\"Alice\",3.98,\"CSE\"] #We are using student ID as key because its unique for every student.\n",
        "studentDict[18301965] = [\"Bob\",3.74,\"CS\"]\n",
        "studentDict[22102834] = [\"John\",3.81,\"EEE\"]\n",
        "#Lets say I want to print the name, department and CGPA of the student whose ID is 22102834. How can we do that?\n",
        "print(f\"Name:{studentDict[22102834][0]}   Department:{studentDict[22102834][2]}   CGPA:{studentDict[22102834][1]}\") #No need to use loop\n",
        "print(\"4.----------------------------------------------\")\n",
        "\n",
        "#Example 2: CATEGORICAL data storage\n",
        "#Lets say I want to store a list of movies based on their genre. How can we do that using a dictionary?\n",
        "movieList = [\"The Outpost\",\"Action\", \"Onward\",\"Animated\",\"Saint Francis\",\"Comedy\",\"Greyhound\",\"Action\",\"Extra ordinary\",\"Comedy\"]\n",
        "#The movies given above are in this format:[movie,genre,movie,genre,movie,genre,....................]\n",
        "#Now lets store them in a dictionary\n",
        "movieDict = {}\n",
        "for i in range(0,len(movieList),2):#0,2,4,6,8\n",
        "  if movieList[i+1] not in movieDict: #Checking whether the genre is present in the dictionary or not. If not need to create the genre as KEY first. \n",
        "    movieDict[movieList[i+1]] = [movieList[i]] #Using a list in values because a genre can have multiple number of books.\n",
        "  else:\n",
        "    movieDict[movieList[i+1]].append(movieList[i]) #If the genre is already present in the dictionary, we will append the current book in the list under that genre.\n",
        "print(movieDict)\n",
        "print(\"5.----------------------------------------------\")\n",
        "\n",
        "#There are 3 important functions that you need to use to iterate over a dictionary.\n",
        "#Those are: dict.keys(),dict.values(),dict.items()\n",
        "dict2= {\"Key1\":\"Value1\",\"Key2\":\"Value2\",\"Key3\":\"Value3\"}\n",
        "print(dict2.keys()) #It gives the list of keys.\n",
        "print(dict2.values()) #It gives the list of values.\n",
        "print(dict2.items())#It gives the items in key,value pair.\n",
        "print(\"6.----------------------------------------------\")\n",
        "print(\"Keys:\")\n",
        "for k in dict2.keys():\n",
        "  print(k,end=\" \")\n",
        "print(\"\\n7.----------------------------------------------\")\n",
        "print(\"Values:\")\n",
        "for v in dict2.values():\n",
        "  print(v,end=\" \")\n",
        "print(\"\\n8.----------------------------------------------\")\n",
        "print(\"Items:\")\n",
        "for k,v in dict2.items(): #We need 2 variables k,v because items fuction returns a list of tuples where the first value in the tuple is the KEY and second value of the tuple is VALUE.\n",
        "  print(f\"{k}:{v}\")\n",
        "print(\"9.----------------------------------------------\")\n",
        "print(\"SORT BASED ON KEYS:\")\n",
        "#Sorting a dictionary based on Keys:\n",
        "#Lets say we have a phonebook and we want to sort it alphabetically based on Name.\n",
        "dict3 = {\"Alice\":\"01762103434\",\"Bob\":\"01890123123\",\"Aeron\":\"01821323311\",\"Berlin\":\"01621345234\",\"Polin\":\"0174678761\"}\n",
        "phoneBook={}\n",
        "for k in sorted(dict3.keys()):#sorted function returns a list of keys in sorted order.\n",
        "  phoneBook[k] = dict3[k]\n",
        "print(phoneBook)\n",
        "print(\"10.----------------------------------------------\")\n",
        "#Sorting a dictionary based on values:\n",
        "print(\"SORT BASED ON VALUES:\")\n",
        "phoneBook = {}\n",
        "#items function returns a list of tuples where each tuple contains key,value pair and the lamba function determine based on what the list of tuples will be sorted. \n",
        "sortedListofTuples=sorted(dict3.items(), key=lambda item: item[1])\n",
        "print(f\"Sorted Tuple:{sortedListofTuples}\")\n",
        "for k,v in sortedListofTuples:\n",
        "  phoneBook[k]=v\n",
        "print(phoneBook)\n",
        "print(\"11.----------------------------------------------\")\n"
      ]
    },
    {
      "cell_type": "code",
      "execution_count": null,
      "metadata": {
        "id": "BgPSgrDmD3up"
      },
      "outputs": [],
      "source": [
        "#Class 3: Function\n",
        "#A function is a block of code that gets executed when it is called.\n",
        "#A function has 4  parts. They are: 1. Function name  2. Parameter list(Optional)   3.Body of the function.   4.return statement(Optional)\n",
        "#Function Name: Function name is used to identify a function and call it. It should be meaningful which means from the name of the function we should be able to tell whats written inside the function.\n",
        "#Parameter list(Optional): Parameter list is basically a set of variables that receives values from outside of the function when it is called.\n",
        "#Parameter list is optional. You need to declare parameters only if you need to receive any information from outside of the function to inside of the function.\n",
        "#The number of parameters should be exactly equal to the number of arguments passed to the function while calling it.\n",
        "#Body of the function: The body of a function is basically the reason why we write a function. The body is a set of statements that gets executed when a function is called.\n",
        "#Return statement(Optional): If you need to pass something/some value(Mostly the result of the body of a function) to outside of the function you can write that value in the return statement.\n",
        "#The returned value replaces the call to the function which means the returned value is returned to the place from where the function was called. \n",
        "#The return statement is the termination of a function. If a return statement is executed inside a function, that flags the termination of the function. No line inside the function gets executed after the execution of the return statement.\n",
        "#If you have nothing to return there no need to write return statement.\n",
        "#Basic structure of a function:\n",
        "def sampleFunction(param1,param2):\n",
        "  print(\"This is a sample function with 2 parameters.\")\n",
        "  print(\"Function Name: sampleFunction\")\n",
        "  print(\"Number of parameters: 2 (param1,param2)\")\n",
        "  print(\"The print statements represent the body of the function.\")\n",
        "  return param1*param2  #This is the return statement.\n",
        "  #print(\"Hello World\")\n",
        "#sampleFunction(10,20)#You call a function with the function name. Since there are 2 parameters in the function, we need to pass exactly 2 arguments while calling the function.\n",
        "print(sampleFunction(10.5,20))\n",
        "#Function increases code reusability and readability. That's why we need to learn functions.\n",
        "#Let's say we have a String \"a2B1A3b6C5\". Now we want to sort this string in such a way that we get the following string: \"abABC13526\".\n",
        "#First we have to separate the lowercase, uppercase, odd digits and even digits in separate lists, then sort each of the 4 lists. \n",
        "#You are not allowed to use any build in function like sort or sorted. So you have to write your own code of sorting.\n",
        "#In stead of writing the codes of sorting 4 times, just write a function that can sort a list passed to it and call it whenever needed. This shows how function increases code reusability.\n",
        "print(\"1-----------------------------------------------------\")\n",
        "#Local and Global Variables\n",
        "x = \"This is global X.\"\n",
        "\n",
        "def f1():\n",
        "  #global x\n",
        "  x = \"This is local X.\" \n",
        "  print(\"Inside the function:\",x)#function will search if there is any local variable named 'x' , if not then it will look for a global variable named 'x'.\n",
        "\n",
        "f1()\n",
        "print(\"Outside the function:\",x)\n",
        "#parameters in a function are local variables to that function.\n",
        "print(\"2-----------------------------------------------------\")\n",
        "\n",
        "#Pass by value and pass by reference\n",
        "#Pass by value: int,string,float\n",
        "#Pass by reference/address: List, Dictionary, User defined object\n",
        "\n",
        "def f2(x):\n",
        "  x=20\n",
        "  #x=\"World\"\n",
        "  #x[0]=100\n",
        "  print(x)\n",
        "n=30 #Pass by value\n",
        "#n = \"Hello\" #Pass by value\n",
        "#n=[10,20,30,40] #Pass by reference\n",
        "f2(n)\n",
        "#f2(n,n[1])\n",
        "print(n)\n",
        "print(\"3-----------------------------------------------------\")\n",
        "#Dynamic argument (*args)\n",
        "#If the number of arguments passed to a function is variable, then we use *args as the function parameter.\n",
        "#No matter how many arguments are passed to the function, those will be received as a tuple in args.\n",
        "#\"args\" is the name of a tuple. So it does not have to be named \"args\" all the time. You can use any name you want.\n",
        "#Dynamic argument mechanism(*args) is used when you do not know the number of arguments to be passed to a function.\n",
        "#Also it is used when the number of arguments passed to a function is too many.\n",
        "def add(*args):  \n",
        "  print(f\"Summation of {args} is {sum(args)}\")\n",
        "\n",
        "add(10,20)\n",
        "add(10,20,30)\n",
        "add(10,20,30,40)\n",
        "print(\"4-----------------------------------------------------\")\n",
        "#Default Value\n",
        "#Default value is used in parameters. \n",
        "#When you do not pass a value for a parameter while calling the function, that parameter takes the default value assigned for it in the parameter list.\n",
        "#In order to handle variable number of arguments passed to a function, you can use default value technique. However for that you must know the maximum number of arguments passed to the function.\n",
        "def add(a,b,c=0,d=0):\n",
        "  print(a,b,c,d)\n",
        "  print(f\"Sum:{a+b+c+d}\")\n",
        "\n",
        "add(10,20)\n",
        "add(10,20,30)\n",
        "add(10,20,30,40)\n",
        "\n",
        "print(\"5-----------------------------------------------------\")\n",
        "\n",
        "#Returning multiple variables\n",
        "#You can return multiple variables from a function by separating them using comma(,).\n",
        "#The values will be returned in the form of a tuple.\n",
        "def returnMultipleVariables():\n",
        "  x = 10\n",
        "  y = 20\n",
        "  z = 5\n",
        "  return x,y,z\n",
        "\n",
        "print(returnMultipleVariables())"
      ]
    },
    {
      "cell_type": "code",
      "execution_count": null,
      "metadata": {
        "colab": {
          "base_uri": "https://localhost:8080/"
        },
        "id": "kO9SrEM25Ows",
        "outputId": "9d42d6aa-6fb7-47bd-b8de-6a8973a5c993"
      },
      "outputs": [
        {
          "name": "stdout",
          "output_type": "stream",
          "text": [
            "1-----------------------------------------------------\n",
            "<__main__.Student object at 0x7f0a01d06590>\n",
            "2-----------------------------------------------------\n",
            "XYZ 12345 CSE 3.99\n",
            "3-----------------------------------------------------\n",
            "Sakib Al Hasan 9867 CSE 3.99\n",
            "4-----------------------------------------------------\n",
            "XYZ 12345 CSE 3.99\n",
            "5-----------------------------------------------------\n",
            "Tamim Iqbal 45678 CSE 3.99\n",
            "Sakib Al Hasan 9867 CSE 3.99\n"
          ]
        }
      ],
      "source": [
        "#Class 4 OOP 1 - Class and Objects\n",
        "#Design\n",
        "class Student:\n",
        "    def __init__(self): #Constructor\n",
        "        self.name = \"XYZ\"\n",
        "        self.ID = 12345\n",
        "        self.dept = \"CSE\"\n",
        "        self.cg = 3.99\n",
        "        \n",
        "#Driver code\n",
        "s1 = Student() #Object creation and initialization\n",
        "print(\"1-----------------------------------------------------\")\n",
        "print(s1)#Hexadecimal address where the object is created will be printed.\n",
        "print(\"2-----------------------------------------------------\")\n",
        "print(s1.name,s1.ID,s1.dept,s1.cg)#Before changing\n",
        "s1.name  = \"Sakib Al Hasan\"\n",
        "s1.ID = 9867\n",
        "print(\"3-----------------------------------------------------\")\n",
        "print(s1.name,s1.ID,s1.dept,s1.cg)#After changing name and ID.\n",
        "\n",
        "s2 = Student()#Object creation and initialization\n",
        "print(\"4-----------------------------------------------------\")\n",
        "print(s2.name,s2.ID,s2.dept,s2.cg)\n",
        "\n",
        "#The object referred by s2 is diffrenet from the object referred by s1.\n",
        "#So changing the variables of the object referred to by s2 will have\n",
        "#no effect on s1 and vise versa.\n",
        "s2.name = \"Tamim Iqbal\"\n",
        "s2.ID = 45678\n",
        "print(\"5-----------------------------------------------------\")\n",
        "print(s2.name,s2.ID,s2.dept,s2.cg)\n",
        "#changing the name and ID of the object referred by s2 has no effect on\n",
        "#the variables of the object referred by s1.\n",
        "print(s1.name,s1.ID,s1.dept,s1.cg)\n",
        "\n",
        "#If we create another object whose location will be referred by s1,\n",
        "#the reference to the previous object referred to by s1 will be lost.\n",
        "#The previous object referred to by s1 will be removed from memory.\n",
        "#Now s1 will refer to the newly created object.\n",
        "#Please uncomment the lines for testing\n",
        "#s1 = Student()\n",
        "#print(\"6-----------------------------------------------------\")\n",
        "#print(s1.name,s1.ID,s1.dept,s1.cg)\n",
        "\n",
        "#if we write s1 = s2 then s1 and s2 both will refer to the same object.\n",
        "#the reference to the previous object referred to by s1 will be lost.\n",
        "#The previous object referred to by s1 will be removed from memory.\n",
        "#Please uncomment the lines for testing\n",
        "#s1 = s2\n",
        "#print(\"7-----------------------------------------------------\")\n",
        "#print(s1.name,s1.ID,s1.dept,s1.cg)\n",
        "#print(s2.name,s2.ID,s2.dept,s2.cg)\n",
        "#print(\"8-----------------------------------------------------\")\n",
        "#s1.name = \"Imrul Kayes\"\n",
        "#print(\"9-----------------------------------------------------\")\n",
        "#print(s1.name,s1.ID,s1.dept,s1.cg)\n",
        "#print(s2.name,s2.ID,s2.dept,s2.cg)\n",
        "#As you can see, the changing the value of s1.name changed the value\n",
        "#of both s1.name and s2.name because they both refer to the same object."
      ]
    },
    {
      "cell_type": "code",
      "execution_count": null,
      "metadata": {
        "id": "8_WchVa662K8"
      },
      "outputs": [],
      "source": [
        "#OOP Class 2\n",
        "#Design\n",
        "class Student:\n",
        "    def __init__(self,n,i,d,c):\n",
        "      #Instance variables\n",
        "        self.name = n\n",
        "        self.ID = i\n",
        "        self.dept = d\n",
        "        self.cg = c\n",
        "    def printDetails(self): #self will receive the address of  the object referred to by s1 or s2 depending which one you are using to call the method \n",
        "      print(f\"Name:{self.name}\")\n",
        "      print(f\"ID:{self.ID}\")\n",
        "      print(f\"Department:{self.dept}\")\n",
        "      print(f\"CGPA:{self.cg}\")\n",
        "\n",
        "s1 = Student(\"Bob\",18301120,\"CSE\",3.97) #Passing arguments to init method instead of setting hardcoded values\n",
        "s2 = Student(\"Alice\",19023103,\"CS\",3.78) #Passing arguments to init method instead of setting hardcoded values\n",
        "\n",
        "s1.printDetails() #Calling printDetails method to print the values of the instance variables of the object referred to by s1\n",
        "print(\"-----------------------------------\")\n",
        "s2.printDetails() #Calling printDetails method to print the values of the instance variables of the object referred to by s2"
      ]
    },
    {
      "cell_type": "code",
      "execution_count": null,
      "metadata": {
        "id": "8qx51Sqf65xS"
      },
      "outputs": [],
      "source": [
        "#OOP Class 3\n",
        "#Example 1\n",
        "class Account:\n",
        "  def __init__(self,ac_no,ac_name,balance):\n",
        "    self.acc_no = ac_no\n",
        "    self.acc_name = ac_name\n",
        "    self.balance = balance\n",
        "  def printDetails(self):\n",
        "    print(f\"Account Number:{self.acc_no}\")\n",
        "    print(f\"Account Name:{self.acc_name}\")\n",
        "    print(f\"Current balance:{self.balance} tk\")\n",
        "  def deposit(self,amount):\n",
        "    self.balance += amount\n",
        "    self.printDetails()\n",
        "  def withdraw(self,amount):\n",
        "    if self.balance-amount>=500.0:\n",
        "      self.balance -= amount\n",
        "      self.printDetails()\n",
        "    else:\n",
        "      print(\"Withdraw unsuccessful. You do not have sufficient balance.\")\n",
        "\n",
        "acc1 = Account(1543563,\"Alice\",500000.0)\n",
        "acc2 = Account(4242342,\"Bob\",30000.0)\n",
        "acc1.printDetails()\n",
        "print(\"1.---------------------------------------\")\n",
        "acc2.printDetails()\n",
        "print(\"2.---------------------------------------\")\n",
        "acc1.deposit(50000.0)\n",
        "print(\"3.---------------------------------------\")\n",
        "acc2.deposit(1000.0)\n",
        "print(\"4.---------------------------------------\")\n",
        "acc1.withdraw(100000.0)\n",
        "print(\"5.---------------------------------------\")\n",
        "acc2.withdraw(100000.0)"
      ]
    },
    {
      "cell_type": "code",
      "execution_count": null,
      "metadata": {
        "colab": {
          "base_uri": "https://localhost:8080/"
        },
        "id": "sJ8azqDxv0oR",
        "outputId": "c1182025-a8ec-44ec-f67b-6c634d1bbf60"
      },
      "outputs": [
        {
          "name": "stdout",
          "output_type": "stream",
          "text": [
            "-----------Section 1--------------------\n",
            "This is a default constructor\n",
            "This is an argumented constructor\n",
            "Default: 10 20\n",
            "Argumented: 30 50\n",
            "-----------Section 2--------------------\n",
            "-----------Section 3--------------------\n",
            "-----------Section 4--------------------\n",
            "-----------Section 5--------------------\n"
          ]
        }
      ],
      "source": [
        "#OOP class 3\n",
        "#Method overloading\n",
        "#Just uncomment the design and driver code of the Section you want to check.\n",
        "class MethodOverloading:\n",
        "#\"-----------Section 1--------------------\"\n",
        "  def __init__(self,x=None,y=None):#(30,50)\n",
        "    if x==None and y==None:\n",
        "      print(\"This is a default constructor\")\n",
        "      self.x = 10\n",
        "      self.y = 20\n",
        "    else:\n",
        "      print(\"This is an argumented constructor\")\n",
        "      self.x = x\n",
        "      self.y = y\n",
        "#\"-----------Section 2--------------------\"  \n",
        "  def m1(self):\n",
        "    print(\"This is default m1\")\n",
        "\n",
        "  def m2(self):\n",
        "    print(\"This is default m2\") \n",
        "#\"-----------Section 3--------------------\"\n",
        "#Number of parameters\n",
        "#Using default value  \n",
        "  # def m1(self,x=None,y=None):\n",
        "  #   if x==None and y == None:\n",
        "  #     print(\"This is default m1\")\n",
        "  #   elif y==None:\n",
        "  #     print(\"This is 1 argumented m1\")\n",
        "  #   else:\n",
        "  #     print(\"This is 2 argumented m1\")\n",
        "\n",
        "#Number of parameters\n",
        "#Using dynamic arguments\n",
        "  # def m1(self,*args):#(),(10),(10,29)\n",
        "  #   if len(args)==0:\n",
        "  #     print(\"This is default m1\")\n",
        "  #   elif len(args)==1:\n",
        "  #     print(\"This is 1 argumented m1\")\n",
        "  #   elif len(args)==2:\n",
        "  #     print(\"This is 2 argumented m1\")\n",
        "\n",
        "#\"-----------Section 4--------------------\" \n",
        "#Types of parameters\n",
        "  # def m1(self,x):\n",
        "  #   if type(x) == int:\n",
        "  #     print(\"This is 1 integer argumented m1\")\n",
        "  #   elif type(x) == str:\n",
        "  #     print(\"This is 1 string argumented m1\")\n",
        " \n",
        "#\"-----------Section 5--------------------\"\n",
        "#Order of parameters \n",
        "  # def m1(self,x,y):\n",
        "  #   if type(x) == int and type(y)==str:\n",
        "  #     print(\"This is 2 argumented m1 and the order is: int , str\")\n",
        "  #   elif type(x) == str and type(y)==int:\n",
        "  #     print(\"This is 2 argumented m1 and the order is: str , int\")\n",
        "\n",
        "\n",
        "print(\"-----------Section 1--------------------\") \n",
        "obj = MethodOverloading()\n",
        "obj1 = MethodOverloading(30,50)\n",
        "print(\"Default:\",obj.x,obj.y)\n",
        "print(\"Argumented:\",obj1.x,obj1.y)\n",
        "print(\"-----------Section 2--------------------\") \n",
        "#obj.m1()\n",
        "#obj.m2()\n",
        "print(\"-----------Section 3--------------------\") \n",
        "#obj.m1()\n",
        "#obj.m1(10)\n",
        "#obj.m1(10,29)\n",
        "print(\"-----------Section 4--------------------\") \n",
        "#obj.m1(10)\n",
        "#obj.m1(\"Hi\")\n",
        "print(\"-----------Section 5--------------------\") \n",
        "#obj.m1(10,\"Hi\")\n",
        "#obj.m1(\"Hi\",10)"
      ]
    },
    {
      "cell_type": "code",
      "execution_count": null,
      "metadata": {
        "colab": {
          "base_uri": "https://localhost:8080/"
        },
        "id": "cJQ90Td-xkMo",
        "outputId": "0a488075-258b-4d1e-e3f4-943349bdde6c"
      },
      "outputs": [
        {
          "name": "stdout",
          "output_type": "stream",
          "text": [
            "Name:Matin Saad Abdullah\n",
            "Designation:Professor\n",
            "List of courses:\n",
            "CSE110:Programming Language I\n",
            "CSE111:Programming Language II\n",
            "-------------------------------\n",
            "Name:Sadia Hamid Kazi\n",
            "Designation:Professor\n",
            "List of courses:\n",
            "CSE230:Discrete Mathematics\n",
            "CSE421:Computer Networks\n",
            "CSE111:Programming Language II\n"
          ]
        }
      ],
      "source": [
        "#OOP Class 4.1\n",
        "#Composition- HAS A Relationship\n",
        "#Example 1: Teacher HAS Courses\n",
        "class Teacher:\n",
        "    def __init__(self,name,des):\n",
        "        self.name = name\n",
        "        self.des = des\n",
        "        self.cList = []\n",
        "    def addCourse(self,*args):\n",
        "        self.cList +=list(args)\n",
        "    def printDetails(self):\n",
        "        print(f\"Name:{self.name}\\nDesignation:{self.des}\\nList of courses:\")\n",
        "        for i in self.cList:\n",
        "            print(f\"{i.code}:{i.title}\")\n",
        "\n",
        "class Course:\n",
        "    def __init__(self,code,title):\n",
        "        self.code = code\n",
        "        self.title = title\n",
        "\n",
        "\n",
        "t1 = Teacher(\"Matin Saad Abdullah\",\"Professor\")\n",
        "t2 = Teacher(\"Sadia Hamid Kazi\",\"Professor\")\n",
        "c1 = Course(\"CSE110\",\"Programming Language I\")\n",
        "c2 = Course(\"CSE111\",\"Programming Language II\")\n",
        "c3 = Course(\"CSE230\",\"Discrete Mathematics\")\n",
        "c4 = Course(\"CSE421\", \"Computer Networks\")\n",
        "t1.addCourse(c1,c2)\n",
        "t2.addCourse(c3)\n",
        "t2.addCourse(c4,c2)\n",
        "t1.printDetails()\n",
        "print(\"-------------------------------\")\n",
        "t2.printDetails()"
      ]
    },
    {
      "cell_type": "code",
      "execution_count": null,
      "metadata": {
        "colab": {
          "base_uri": "https://localhost:8080/"
        },
        "id": "jrUcNHxZHBC0",
        "outputId": "0dac10a0-49b0-45f3-cc97-fa385c196b2f"
      },
      "outputs": [
        {
          "name": "stdout",
          "output_type": "stream",
          "text": [
            "Library name: Ayesha Abed Library\n",
            "Fantasy: Harry Potter,Game of Thrones,American Gods\n",
            "Thriller: Martyr on the ocean express,Gone Girl\n",
            "Fiction: Stephen King\n"
          ]
        }
      ],
      "source": [
        "#OOP Class 4.2\n",
        "#Composition- HAS A Relationship\n",
        "#Example 2: Library HAS Books\n",
        "class Library:\n",
        "  def __init__(self,name):\n",
        "    self.name = name\n",
        "    self.bList = {}\n",
        "  def addBook(self,*args):\n",
        "    for book in args:\n",
        "      if book.genre not in self.bList:\n",
        "        self.bList[book.genre] = []\n",
        "      self.bList[book.genre].append(book.title)\n",
        "  def printDetails(self):\n",
        "    print(\"Library name:\",self.name)\n",
        "    for genre,bookList in self.bList.items():\n",
        "      print(f\"{genre}: {','.join(bookList)}\")\n",
        "  \n",
        "class Book:\n",
        "  def __init__(self,title,genre):\n",
        "    self.title = title\n",
        "    self.genre = genre\n",
        "\n",
        "l = Library(\"Ayesha Abed Library\")\n",
        "b1 = Book(\"Harry Potter\",\"Fantasy\")\n",
        "b2 = Book(\"Game of Thrones\",\"Fantasy\")\n",
        "b3 = Book(\"Martyr on the ocean express\",\"Thriller\")\n",
        "b4 = Book(\"Stephen King\",\"Fiction\")\n",
        "b5 = Book(\"Gone Girl\",\"Thriller\")\n",
        "b6 = Book(\"American Gods\",\"Fantasy\")\n",
        "l.addBook(b1,b2,b3)\n",
        "l.addBook(b4,b5)\n",
        "l.addBook(b6)\n",
        "l.printDetails()"
      ]
    },
    {
      "cell_type": "code",
      "execution_count": null,
      "metadata": {
        "colab": {
          "base_uri": "https://localhost:8080/"
        },
        "id": "MrhoVJ2wrcZv",
        "outputId": "8ace82bb-7827-4c7e-a8a7-2407b355b2a0"
      },
      "outputs": [
        {
          "name": "stdout",
          "output_type": "stream",
          "text": [
            "20\n",
            "20\n",
            "30\n",
            "100\n"
          ]
        }
      ],
      "source": [
        "#OOP Class 5\n",
        "#Operator Overloading\n",
        "#Magic Function:\n",
        "# + : __add__, __radd__\n",
        "# - : __sub__, __rsub__\n",
        "# * : __mul__, __rmul__\n",
        "# / : __truediv__,__floordiv__\n",
        "# == : __eq__\n",
        "# != : __ne__\n",
        "# > : __gt__\n",
        "# >= : __ge__\n",
        "# < : __lt__\n",
        "# <= : __le__\n",
        "class Exam:\n",
        "  def __init__(self,title,typ,mark):\n",
        "    self.title = title\n",
        "    self.typ = typ\n",
        "    self.mark = mark\n",
        "  def __add__(self,other): \n",
        "    if isinstance(other,Exam):\n",
        "      return self.mark+other.mark\n",
        "    else:\n",
        "      return self.mark + other\n",
        "    #In order to solve the commented out driver code, this code needs to be uncommented.\n",
        "    # obj = Exam(\"\",\"\",self.mark+other.mark)\n",
        "    # return obj\n",
        "\n",
        "  def __radd__(self,other):\n",
        "    return self.mark + other\n",
        "\n",
        "\n",
        "q1 = Exam(\"CSE110\",\"Quiz\",10)\n",
        "q2 = Exam(\"CSE110\",\"Quiz\",20)\n",
        "mid = Exam(\"CSE110\",\"Mid\",30)\n",
        "final = Exam(\"CSE110\",\"Fianl\",40)\n",
        "print(q1+10)#q1.__add__(10) # 20\n",
        "print(10+q1) #10.__add__(q1) #20\n",
        "print(q1+q2) # q1.__add__(q2) #30\n",
        "print(q1+q2+mid+final) #100\n",
        "#total = q1+q2+mid+final\n",
        "#print(total.mark) "
      ]
    },
    {
      "cell_type": "code",
      "execution_count": null,
      "metadata": {
        "colab": {
          "base_uri": "https://localhost:8080/"
        },
        "id": "BIGIaCEUrdjZ",
        "outputId": "0e5374d2-782a-410e-e711-9615870ae96d"
      },
      "outputs": [
        {
          "name": "stdout",
          "output_type": "stream",
          "text": [
            "Mohakhali\n",
            "Mohakhali\n",
            "Mohakhali\n",
            "Merul Badda\n",
            "Merul Badda\n",
            "Merul Badda\n"
          ]
        }
      ],
      "source": [
        "#Class Variable- Memory Management\n",
        "#Class method\n",
        "class BracStudents:\n",
        "  address = \"Mohakhali\"\n",
        "  def __init__(self,name,ID):\n",
        "    self.name = name\n",
        "    self.ID = ID\n",
        "  @classmethod\n",
        "  def changeAddress(cls):\n",
        "    cls.address = \"Merul Badda\"\n",
        "\n",
        "s1 = BracStudents(\"Muntasir\",43123123)\n",
        "s2 = BracStudents(\"Zawad Ridwan\",6786534)\n",
        "s3 = BracStudents(\"Fahim Sadik\",1231235)\n",
        "print(s1.address)\n",
        "print(s2.address)\n",
        "print(s3.address)\n",
        "s1.changeAddress()\n",
        "print(s1.address)\n",
        "print(s2.address)\n",
        "print(s3.address)\n"
      ]
    },
    {
      "cell_type": "code",
      "execution_count": null,
      "metadata": {
        "colab": {
          "base_uri": "https://localhost:8080/"
        },
        "id": "6hFpbuevxpAo",
        "outputId": "cae11cdd-2ce9-48c4-c51b-f65619241f55"
      },
      "outputs": [
        {
          "name": "stdout",
          "output_type": "stream",
          "text": [
            "Fahim 20\n"
          ]
        }
      ],
      "source": [
        "#Class method as Factory method\n",
        "from datetime import date\n",
        "class Person:\n",
        "  def __init__(self,name,age):\n",
        "    self.name = name\n",
        "    self.age = age\n",
        "\n",
        "  @classmethod\n",
        "  def createPersonfromDOB(cls,name,YOB):\n",
        "    obj = cls(name,date.today().year-YOB)\n",
        "    return obj\n",
        "p1 = Person (\"Zawad\",20)\n",
        "p2 = Person(\"Mustasir\",21)\n",
        "p3 = Person.createPersonfromDOB(\"Fahim\",2002)\n",
        "print(p3.name,p3.age)"
      ]
    },
    {
      "cell_type": "code",
      "execution_count": null,
      "metadata": {
        "colab": {
          "base_uri": "https://localhost:8080/"
        },
        "id": "MRy07TlgwKgW",
        "outputId": "79e05747-cd77-4d30-c32e-ee6a360168ef"
      },
      "outputs": [
        {
          "name": "stdout",
          "output_type": "stream",
          "text": [
            "153.9384\n",
            "254.4696\n",
            "150\n"
          ]
        }
      ],
      "source": [
        "#Static Method\n",
        "class Shape:\n",
        "  def __init__(self,a,b=None):\n",
        "    self.a = a\n",
        "    self.b =b\n",
        "  @staticmethod\n",
        "  def calculateCircleArea(radius):\n",
        "    return 3.1416*radius*radius\n",
        "  @staticmethod\n",
        "  def calculateRectangleArea(length,width):\n",
        "    return length * width\n",
        "\n",
        "rectangle = Shape(10,15)\n",
        "circle1 = Shape(7)\n",
        "print(Shape.calculateCircleArea(circle1.a))\n",
        "circle2 = Shape(9)\n",
        "print(Shape.calculateCircleArea(circle2.a))\n",
        "print(Shape.calculateRectangleArea(rectangle.a,rectangle.b))"
      ]
    },
    {
      "cell_type": "code",
      "execution_count": null,
      "metadata": {
        "colab": {
          "base_uri": "https://localhost:8080/"
        },
        "id": "TcGqFVcAecM8",
        "outputId": "f19a33c3-210b-4844-831f-055311f952d1"
      },
      "outputs": [
        {
          "name": "stdout",
          "output_type": "stream",
          "text": [
            "3\n",
            "6\n",
            "Dororo\n",
            "Harry\n",
            "He is not experienced.\n",
            "She is experienced.\n"
          ]
        }
      ],
      "source": [
        "#Practice Class method and STATIC method\n",
        "from datetime import date\n",
        "class Employee:\n",
        "  def __init__(self,name,wP):\n",
        "    self.name = name\n",
        "    self.workingPeriod = wP\n",
        "  @classmethod\n",
        "  def employeeByJoiningYear(cls,name,jY):\n",
        "    obj = cls(name,date.today().year-jY)\n",
        "    return obj\n",
        "  @staticmethod\n",
        "  def experienceCheck(wP,gen):\n",
        "    pronoun =\"He\"\n",
        "    exp = \"experienced\"\n",
        "    if gen == \"female\":\n",
        "      pronoun = \"She\"\n",
        "    \n",
        "    if wP <3:\n",
        "      exp = \"not experienced\"\n",
        "    return f\"{pronoun} is {exp}.\"\n",
        "# Write your code here\n",
        "employee1 = Employee('Dororo', 3)\n",
        "employee2 = Employee.employeeByJoiningYear('Harry', 2016)\n",
        "print(employee1.workingPeriod)\n",
        "print(employee2.workingPeriod)\n",
        "print(employee1.name)\n",
        "print(employee2.name)\n",
        "print(Employee.experienceCheck(2, \"male\"))\n",
        "print(Employee.experienceCheck(3, \"female\"))"
      ]
    },
    {
      "cell_type": "code",
      "execution_count": null,
      "metadata": {
        "colab": {
          "base_uri": "https://localhost:8080/"
        },
        "id": "Z1n5uNa7l_19",
        "outputId": "ff50c8f2-2336-4a6b-e203-e2df315a6176"
      },
      "outputs": [
        {
          "name": "stdout",
          "output_type": "stream",
          "text": [
            "<__main__.Book object at 0x7fab303bc040>\n"
          ]
        }
      ],
      "source": [
        "#OOP class 7\n",
        "#Inheritance\n",
        "class Product:\n",
        "  def __init__(self,name,price):\n",
        "    self.name = name\n",
        "    self.price = price\n",
        "  def m1(self):\n",
        "    print(\"This is parent m1\")\n",
        "  def getDetails(self):\n",
        "    return f\"Name:{self.name}\\nPrice per unit:{self.price}\"\n",
        "\n",
        "class Book(Product):\n",
        "  def __init__(self,name,price,author,genre,isbn):\n",
        "    super().__init__(name,price)\n",
        "    self.author = author\n",
        "    self.genre = genre\n",
        "    self.isbn = isbn\n",
        "  def m1(self):\n",
        "    print(\"This is child m1\") \n",
        "\n",
        "  def printDetails(self):\n",
        "    self.m1()\n",
        "    super().m1()\n",
        "    print(f\"Author:{self.author}\\nISBN:{self.isbn}\\nGenre:{self.genre}\")\n",
        "  def __str__(self):\n",
        "    return super().__str__()\n",
        "\n",
        "class Mobile(Product):\n",
        "  def __init__(self,name,price,brand,imei):\n",
        "    super().__init__(name,price)\n",
        "    self.brand = brand\n",
        "    self.imei = imei\n",
        "\n",
        "b1 = Book(\"Himu\",400,\"HA\",\"Fantasy\",5645756756857)\n",
        "m1 = Mobile(\"iPhone 11 Pro Max\",75000,\"Apple\",5645654757568568)\n",
        "\n",
        "print(b1)#b1.__str__()\n"
      ]
    },
    {
      "cell_type": "code",
      "execution_count": null,
      "metadata": {
        "id": "slWiX918MQYz"
      },
      "outputs": [],
      "source": [
        "#Inheritance Basic-1\n",
        "class Vehicle:\n",
        "    def __init__(self):\n",
        "        self.x = 0\n",
        "        self.y = 0\n",
        "    def moveUp(self):\n",
        "        self.y+=1\n",
        "    def moveDown(self):\n",
        "        self.y-=1\n",
        "    def moveRight(self):\n",
        "        self.x+=1\n",
        "    def moveLeft(self):\n",
        "        self.x-=1\n",
        "    def __str__(self):\n",
        "        return '('+str(self.x)+' , '+str(self.y)+')'\n",
        "    \n",
        "#write your code here\n",
        "\n",
        "print('Part 1')\n",
        "print('------')\n",
        "car = Vehicle()\n",
        "print(car) #car.__str__()\n",
        "car.moveUp()\n",
        "print(car)\n",
        "car.moveLeft()\n",
        "print(car)\n",
        "car.moveDown()\n",
        "print(car)\n",
        "car.moveRight()\n",
        "print(car)\n",
        "print('------')\n",
        "print('Part 2')\n",
        "print('------')\n",
        "car1 = Vehicle2010()\n",
        "print(car1)\n",
        "car1.moveLowerLeft()\n",
        "print(car1)\n",
        "car2 = Vehicle2010()\n",
        "car2.moveLeft()\n",
        "print(car1.equals(car2))\n",
        "car2.moveDown()\n",
        "print(car1.equals(car2))"
      ]
    },
    {
      "cell_type": "code",
      "execution_count": null,
      "metadata": {
        "colab": {
          "base_uri": "https://localhost:8080/"
        },
        "id": "5U3V3siG_FWn",
        "outputId": "adf69913-5978-4b35-8c4d-3ef8a452a679"
      },
      "outputs": [
        {
          "name": "stdout",
          "output_type": "stream",
          "text": [
            "default\n",
            "default\n",
            "Humpty Dumpty\n",
            "Name: Humpty Dumpty Department: BBA\n",
            "Little Bo Peep\n",
            "Name: Little Bo Peep Department: BBA\n"
          ]
        }
      ],
      "source": [
        "#Inheritance Basic-2\n",
        "class Student:\n",
        "    def __init__(self, name='Just a student', dept='nothing'):\n",
        "        self._name = name\n",
        "        self._department = dept\n",
        "    def set_department(self, dept):\n",
        "        self._department = dept\n",
        "    def get_name(self):\n",
        "        return self._name\n",
        "    def set_name(self,name):\n",
        "        self._name = name\n",
        "    def __str__(self):\n",
        "        return 'Name: '+self._name+' Department: '+self._department\n",
        "\n",
        "#write your code here\n",
        "\n",
        "print(BBA_Student()._name)\n",
        "print(BBA_Student('Humpty Dumpty'))\n",
        "print(BBA_Student('Little Bo Peep'))"
      ]
    },
    {
      "cell_type": "code",
      "execution_count": null,
      "metadata": {
        "colab": {
          "base_uri": "https://localhost:8080/"
        },
        "id": "A5fnamYVOK6-",
        "outputId": "f316ed6d-a23e-4fc8-9862-25c0e8e0c318"
      },
      "outputs": [
        {
          "name": "stdout",
          "output_type": "stream",
          "text": [
            "This is child m2\n",
            "This is parent m1\n",
            "This is parent m1\n"
          ]
        }
      ],
      "source": [
        "#When self and super() are same and different\n",
        "class Parent:\n",
        "  def m1(self):\n",
        "    print(\"This is parent m1\")\n",
        "class Child(Parent):\n",
        "  def m2(self):\n",
        "    print(\"This is child m2\")\n",
        "    super().m1()\n",
        "    self.m1()\n",
        "  # def m1(self):\n",
        "  #   print(\"This is child m1\")\n",
        "\n",
        "obj = Child()\n",
        "obj.m2()"
      ]
    },
    {
      "cell_type": "code",
      "execution_count": null,
      "metadata": {
        "colab": {
          "base_uri": "https://localhost:8080/"
        },
        "id": "qWVljckMMlaX",
        "outputId": "651d95ca-2b46-4c71-cbad-4e7520a35378"
      },
      "outputs": [
        {
          "name": "stdout",
          "output_type": "stream",
          "text": [
            "This is child m3\n",
            "This is parent m1\n"
          ]
        }
      ],
      "source": [
        "#Multilevel Inheritance #Object-->GrandParent-->Parent-->Child\n",
        "class GrandParent:\n",
        "  def m1(self):\n",
        "    print(\"This is Grand Parent m1\")\n",
        "class Parent(GrandParent): #m1,m2\n",
        "  def m2(self):\n",
        "    print(\"This is parent m2\")\n",
        "  def m1(self):\n",
        "    print(\"This is parent m1\")\n",
        "class Child(Parent): #m1,m2,m3\n",
        "  def m3(self):\n",
        "    print(\"This is child m3\")\n",
        "    super().m1()\n",
        "\n",
        "obj = Child()\n",
        "#obj.m1()\n",
        "#obj.m2()\n",
        "#obj.m3()"
      ]
    },
    {
      "cell_type": "code",
      "execution_count": null,
      "metadata": {
        "colab": {
          "base_uri": "https://localhost:8080/"
        },
        "id": "_rjuCr5tNUaS",
        "outputId": "bfc84a62-d8e8-42d0-a9a2-585cf3b4ea0c"
      },
      "outputs": [
        {
          "name": "stdout",
          "output_type": "stream",
          "text": [
            "This is mother m1\n"
          ]
        }
      ],
      "source": [
        "#Multiple Inheritance\n",
        "class Father:\n",
        "  def m1(self):\n",
        "    print(\"This is father m1\")\n",
        "class Mother:\n",
        "  def m1(self):\n",
        "    print(\"This is mother m1\")\n",
        "  def m2(self):\n",
        "    print(\"This is mother m2\")\n",
        "class Child(Father,Mother): #m1,m2\n",
        "  def m3(self):\n",
        "    Mother.m1(self)\n",
        "\n",
        "obj = Child()\n",
        "#obj.m1()\n",
        "#obj.m2()\n",
        "obj.m3()"
      ]
    },
    {
      "cell_type": "code",
      "execution_count": null,
      "metadata": {
        "colab": {
          "base_uri": "https://localhost:8080/"
        },
        "id": "JaNUVxbhAUOA",
        "outputId": "91f92995-0251-4246-eb11-27f1127fcd18"
      },
      "outputs": [
        {
          "name": "stdout",
          "output_type": "stream",
          "text": [
            "RealPart: 1.0\n",
            "Imaginary Part:1.0\n",
            "---------\n",
            "RealPart: 5.0\n",
            "Imaginary Part:7.0\n"
          ]
        }
      ],
      "source": [
        "#Inheritance Practice-1\n",
        "class RealNumber:\n",
        "    def __init__(self, r=0):\n",
        "        self.__realValue = r  \n",
        "    def getRealValue(self):\n",
        "        return self.__realValue\n",
        "    def setRealValue(self, r):\n",
        "        self.__realValue = r\n",
        "    def __str__(self):\n",
        "        return 'RealPart: '+str(self.getRealValue())    \n",
        "\n",
        "class ComplexNumber(RealNumber):\n",
        "  def __init__(self,r=1.0,im=1.0):\n",
        "    super().__init__(float(r))\n",
        "    self.im = float(im)\n",
        "\n",
        "  def __str__(self):\n",
        "    return f\"{super().__str__()}\\nImaginary Part:{self.im}\"\n",
        "\n",
        "\n",
        "\n",
        "cn1 = ComplexNumber()\n",
        "print(cn1) #cn1.__str__()\n",
        "print('---------')\n",
        "cn2 = ComplexNumber(5,7)\n",
        "print(cn2)"
      ]
    },
    {
      "cell_type": "code",
      "execution_count": null,
      "metadata": {
        "colab": {
          "base_uri": "https://localhost:8080/"
        },
        "id": "zcVcn1WBC1ab",
        "outputId": "67800de2-b326-4566-c540-28100b9ef409"
      },
      "outputs": [
        {
          "name": "stdout",
          "output_type": "stream",
          "text": [
            "8\n",
            "2 + 1i\n",
            "3 + 5i\n",
            "5 + 6i\n",
            "-1\n"
          ]
        }
      ],
      "source": [
        "#Inheritance Practice- 2\n",
        "class RealNumber:\n",
        "    def __init__(self, number=0): #DHK\n",
        "        self.number = number #DHK\n",
        "    def __add__(self, anotherRealNumber):\n",
        "        return self.number + anotherRealNumber.number\n",
        "    def __sub__(self, anotherRealNumber):\n",
        "        return self.number - anotherRealNumber.number\n",
        "    def __str__(self):\n",
        "        return str(self.number)\n",
        "\n",
        "class ComplexNumber(RealNumber):\n",
        "  def __init__(self,r,im): #DHK,5\n",
        "    if type(r)==int:\n",
        "      super().__init__(r)\n",
        "    else:\n",
        "      super().__init__(r.number)\n",
        "    self.imaginaryPart = im\n",
        "  def __str__(self):\n",
        "    return f\"{super().__str__()} + {self.imaginaryPart}i\"\n",
        "\n",
        "  def __add__(self,other):\n",
        "    obj = ComplexNumber(super().__add__(other),self.imaginaryPart+other.imaginaryPart)\n",
        "    return obj\n",
        "r1 = RealNumber(3)#r1= DHK number=3\n",
        "r2 = RealNumber(5) #r2 = RAJ number=5\n",
        "print(r1+r2) #r1.__add__(r2)\n",
        "cn1 = ComplexNumber(2, 1) #cn1 = COM self.number = 2, self.imaginaryPart = 1\n",
        "print(cn1) #cn1.__str__()\n",
        "cn2 = ComplexNumber(r1, 5)#DHK,5\n",
        "print(cn2)\n",
        "cn3 = cn1 + cn2 #cn1.__add__(cn2)\n",
        "print(cn3)\n",
        "cn4 = cn1 - cn2\n",
        "print(cn4)\n"
      ]
    },
    {
      "cell_type": "code",
      "execution_count": null,
      "metadata": {
        "colab": {
          "base_uri": "https://localhost:8080/"
        },
        "id": "I4dQPTbTC8gK",
        "outputId": "1c5c910e-26c9-4c0f-d5e6-e96a7a3ff600"
      },
      "outputs": [
        {
          "name": "stdout",
          "output_type": "stream",
          "text": [
            "----Printing Detail----\n",
            "Do not eat the Mango .\n",
            "Mangos are bad for you\n"
          ]
        }
      ],
      "source": [
        "#Inheritance Practice-3\n",
        "class Fruit:\n",
        "    def __init__(self, formalin=False, name=''):\n",
        "        self.__formalin = formalin\n",
        "        self.name = name\n",
        "    \n",
        "    def getName(self):\n",
        "        return self.name\n",
        "    \n",
        "    def hasFormalin(self):\n",
        "        return self.__formalin\n",
        "    \n",
        "class testFruit:\n",
        "    def test(self, f): #f=m\n",
        "        print('----Printing Detail----')\n",
        "        if f.hasFormalin():\n",
        "            print('Do not eat the',f.name,'.')\n",
        "            print(f)# f.__str__()\n",
        "        else:\n",
        "            print('Eat the',f.getName(),'.')\n",
        "            print(f) #f.__str__()\n",
        "class Mango(Fruit):\n",
        "  def __init__(self):\n",
        "    super().__init__(True,\"Mango\")\n",
        "\n",
        "  def __str__(self):\n",
        "    return f\"{self.name}s are bad for you\"\n",
        "m = Mango()\n",
        "#j = Jackfruit()\n",
        "t1 = testFruit()\n",
        "t1.test(m)\n",
        "#t1.test(j)"
      ]
    },
    {
      "cell_type": "code",
      "execution_count": null,
      "metadata": {
        "colab": {
          "base_uri": "https://localhost:8080/"
        },
        "id": "ttJ6ySNmSKxh",
        "outputId": "561979d6-87c1-47e4-8452-8c76971b1821"
      },
      "outputs": [
        {
          "name": "stdout",
          "output_type": "stream",
          "text": [
            "3 -12 4\n",
            "-6 6 4\n"
          ]
        }
      ],
      "source": [
        "#Tracing Inheritance- 1\n",
        "class A:\n",
        "  temp = 3\n",
        "  def __init__(self):\n",
        "    self.sum = 0\n",
        "    self.y = 0\n",
        "    self.y = self.temp - 1\n",
        "    self.sum = A.temp + 2\n",
        "    A.temp -= 2\n",
        "  \n",
        "  def methodA(self, m, n):\n",
        "    x = 0\n",
        "    n[0] += 1\n",
        "    self.y = self.y + m + A.temp\n",
        "    A.temp += 1\n",
        "    x = x + 2 + n[0]\n",
        "    n[0] = self.sum + 2\n",
        "    print(f\"{x} {self.y} {self.sum}\")\n",
        " \n",
        "class B(A):\n",
        "  x = 1\n",
        "  def __init__(self, b = None):\n",
        "    super().__init__()\n",
        "    self.sum = 2\n",
        "    if b == None:  \n",
        "      self.y = self.temp + 1    \n",
        "      B.x = 3 + A.temp + self.x\n",
        "      A.temp -= 2\n",
        "    else:\n",
        "      self.sum = self.sum + self.sum\n",
        "      b.sum = self.sum - A.temp\n",
        "      B.x = b.x + self.x\n",
        "  def methodB(self, m, n):\n",
        "    y = [0]\n",
        "    self.y = y[0] + self.y + m\n",
        "    B.x = self.y + 2 +  self.temp - n\n",
        "    self.methodA(self.x, y)\n",
        "    self.sum = self.x + y[0] + self.sum\n",
        "    print(f\"{self.x} {y[0]} {self.sum}\")\n",
        "\n",
        "\n",
        "a1 = A()\n",
        "b1 = B()\n",
        "b2 = B(b1)\n",
        "#a1.methodA(1, x)\n",
        "b2.methodB(3, 2)\n",
        "#a1.methodA(1, x)"
      ]
    },
    {
      "cell_type": "code",
      "execution_count": null,
      "metadata": {
        "colab": {
          "base_uri": "https://localhost:8080/"
        },
        "id": "6C6fsBfB_iSP",
        "outputId": "b5c7fbc0-a9a4-4a82-88d3-2684fd06fc53"
      },
      "outputs": [
        {
          "name": "stdout",
          "output_type": "stream",
          "text": [
            "Parent Class Variable\n"
          ]
        }
      ],
      "source": [
        "#Tracing concept clear\n",
        "class Parent:\n",
        "  temp = \"Parent Class Variable\"\n",
        "   def __init__(self):\n",
        "     self.temp = \"Parent Instance Variable\"\n",
        "\n",
        "class Child(Parent):\n",
        "  temp = \"Child Class Variable\"\n",
        "  def __init__(self):\n",
        "    self.temp = \"Child Instance Variable\"\n",
        "  def m1(self):\n",
        "    print(self.temp)\n",
        "\n",
        "obj = Child()\n",
        "obj.m1()\n"
      ]
    }
  ],
  "metadata": {
    "colab": {
      "provenance": []
    },
    "kernelspec": {
      "display_name": "Python 3",
      "language": "python",
      "name": "python3"
    },
    "language_info": {
      "name": "python",
      "version": "3.9.5 (tags/v3.9.5:0a7dcbd, May  3 2021, 17:27:52) [MSC v.1928 64 bit (AMD64)]"
    },
    "vscode": {
      "interpreter": {
        "hash": "b671c20432fcd147198c92e7f072af9e705f087eb990bee22b07f08caab9f630"
      }
    }
  },
  "nbformat": 4,
  "nbformat_minor": 0
}
