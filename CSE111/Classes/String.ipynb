{
 "cells": [
  {
   "cell_type": "code",
   "execution_count": 1,
   "metadata": {},
   "outputs": [
    {
     "name": "stdout",
     "output_type": "stream",
     "text": [
      "Hello\n",
      "Hello?\n",
      "I am Raven.\n",
      "      Baymax\n",
      "x\n",
      "R\n",
      "\u001b[1;32m This text is Bright Green  \n",
      "\n",
      "\u001b[1;31m STRINGS ARE IMMUTABLE \n",
      "\n",
      "I am Baymax\n",
      "I am Batman\n"
     ]
    }
   ],
   "source": [
    "print('Hello')\n",
    "print(\"Hello?\")\n",
    "print('''I am Raven.\n",
    "      Baymax''')\n",
    "print(\"baymax\"[-1])\n",
    "print(\"Raven\"[0])\n",
    "\n",
    "print(\"\\033[1;32m This text is Bright Green  \\n\")\n",
    "print(\"\\033[1;31m STRINGS ARE IMMUTABLE \\n\")\n",
    "\n",
    "s = \"I am Baymax\"\n",
    "print(s)\n",
    "s = \"I am Batman\"\n",
    "print (s)\n"
   ]
  },
  {
   "cell_type": "code",
   "execution_count": null,
   "metadata": {},
   "outputs": [],
   "source": []
  },
  {
   "cell_type": "code",
   "execution_count": 1,
   "metadata": {},
   "outputs": [
    {
     "name": "stdout",
     "output_type": "stream",
     "text": [
      "\u001b[31mThis text is Bright Green\n",
      "\u001b[1;31m STRINGS ARE IMMUTABLE \n",
      "\n",
      "\u001b[39m\n",
      "I am Baymax\n"
     ]
    }
   ],
   "source": [
    "import colorama\n",
    "from colorama import Fore, Back, Style\n",
    "# colorama.init()\n",
    "\n",
    "print(Fore.RED +\"This text is Bright Green\")\n",
    "# print(\"\\033[39m\")\n",
    "print(\"\\033[1;31m STRINGS ARE IMMUTABLE \\n\")\n",
    "print(Fore.RESET)\n",
    "\n",
    "s = \"I am Baymax\"\n",
    "print(s)\n",
    "\n"
   ]
  },
  {
   "cell_type": "code",
   "execution_count": 2,
   "metadata": {},
   "outputs": [
    {
     "name": "stdout",
     "output_type": "stream",
     "text": [
      "\u001b[31m This text is Bright Green\n",
      "hello\n"
     ]
    }
   ],
   "source": [
    "import colorama\n",
    "from colorama import Fore, Back, Style\n",
    "# colorama.init(autoreset=True)\n",
    "\n",
    "print(Fore.RED, 'This text is Bright Green')\n",
    "\n",
    "print(\"hello\")\n"
   ]
  },
  {
   "cell_type": "code",
   "execution_count": null,
   "metadata": {},
   "outputs": [],
   "source": [
    "from textwrap import indent\n",
    "\n",
    "\n",
    "index = 0\n",
    "\n",
    "s = \"I am Vangence\"\n",
    "\n",
    "while index < len(s):\n",
    "    print(f\"index of     {s[index]}     is      {index}\")\n",
    "    index += 1\n",
    "    \n",
    "\n",
    "    \n",
    "    "
   ]
  },
  {
   "cell_type": "code",
   "execution_count": 1,
   "metadata": {},
   "outputs": [
    {
     "name": "stdout",
     "output_type": "stream",
     "text": [
      "0 is the index of I\n",
      "1 is the index of  \n",
      "2 is the index of a\n",
      "3 is the index of m\n",
      "4 is the index of  \n",
      "5 is the index of V\n",
      "6 is the index of a\n",
      "7 is the index of n\n",
      "8 is the index of g\n",
      "9 is the index of e\n",
      "10 is the index of n\n",
      "11 is the index of c\n",
      "12 is the index of e\n",
      "Hello world its been a great day\n"
     ]
    }
   ],
   "source": [
    "s = \"I am Vangence\"\n",
    "\n",
    "for i in range(len(s)):\n",
    "    print(f'{i} is the index of {s[i]}')\n",
    "    \n",
    "print('Hello world its been a great day')"
   ]
  },
  {
   "cell_type": "code",
   "execution_count": 26,
   "metadata": {},
   "outputs": [
    {
     "name": "stdout",
     "output_type": "stream",
     "text": [
      "K\n",
      "\n",
      "o\n",
      "\n",
      "n\n",
      "\n",
      "n\n",
      "\n",
      "i\n",
      "\n",
      "c\n",
      "\n",
      "h\n",
      "\n",
      "i\n",
      "\n",
      "w\n",
      "\n",
      "a\n",
      "\n"
     ]
    }
   ],
   "source": [
    "for i in (\"Konnichiwa\"):\n",
    "  \n",
    "    print(f'{i}\\n')\n",
    "    \n"
   ]
  }
 ],
 "metadata": {
  "kernelspec": {
   "display_name": "Python 3.9.5 64-bit (system)",
   "language": "python",
   "name": "python3"
  },
  "language_info": {
   "codemirror_mode": {
    "name": "ipython",
    "version": 3
   },
   "file_extension": ".py",
   "mimetype": "text/x-python",
   "name": "python",
   "nbconvert_exporter": "python",
   "pygments_lexer": "ipython3",
   "version": "3.9.5"
  },
  "orig_nbformat": 4,
  "vscode": {
   "interpreter": {
    "hash": "b671c20432fcd147198c92e7f072af9e705f087eb990bee22b07f08caab9f630"
   }
  }
 },
 "nbformat": 4,
 "nbformat_minor": 2
}
