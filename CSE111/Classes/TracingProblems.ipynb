{
 "cells": [
  {
   "cell_type": "code",
   "execution_count": 1,
   "metadata": {},
   "outputs": [
    {
     "name": "stdout",
     "output_type": "stream",
     "text": [
      "First print achieved\n",
      "First print achieved\n",
      "4 3 7 14\n",
      "6 1000 10 16\n"
     ]
    }
   ],
   "source": [
    "class LastQuiz:\n",
    "  CV1 = 3\n",
    "  def __init__(self, x = 2, y = 3):\n",
    "    self.x = x - 3\n",
    "    self.y = y + 1\n",
    "    self.temp = 5\n",
    "    print(\"First print achieved\")\n",
    "  def firstMethod(self, m):    \n",
    "    self.x = self.y - m\n",
    "    self.y = self.x * m\n",
    "    LastQuiz.CV1 += m\n",
    "    print(m, self.x, LastQuiz.CV1, self.y+2)\n",
    "  def secondMethod(self, m):\n",
    "    self.y = self.y - m[1]\n",
    "    y = self.x * m[2]\n",
    "    LastQuiz.CV1 += m[-1] \n",
    "    m[4] = LastQuiz.CV1 **3\n",
    "    print(y, m[4], LastQuiz.CV1, self.y*2)\n",
    "\n",
    "Obj1 = LastQuiz(4, 6)\n",
    "Obj2 = LastQuiz()\n",
    " \n",
    "Obj1.firstMethod( 4 )\n",
    "Obj1.secondMethod([1,4,2,5,3])\n"
   ]
  },
  {
   "cell_type": "code",
   "execution_count": 2,
   "metadata": {},
   "outputs": [
    {
     "name": "stdout",
     "output_type": "stream",
     "text": [
      "First print achieved\n",
      "First print achieved\n",
      "4 3 7 14\n",
      "5 7 12 37\n"
     ]
    }
   ],
   "source": [
    "class LastQuiz:\n",
    "    CV1 = 3\n",
    "    def __init__(self, x = 2, y = 3):\n",
    "        self.x = x - 3\n",
    "        self.y = y + 1\n",
    "        self.temp = 5\n",
    "        print(\"First print achieved\")\n",
    "    def onlyMethod(self, m):\n",
    "        self.x = self.y - m\n",
    "        self.y = self.x * m\n",
    "        LastQuiz.CV1 += m \n",
    "        print(m, self.x, LastQuiz.CV1, self.y+2)\n",
    "\n",
    "Obj1 = LastQuiz(4, 6)\n",
    "Obj2 = LastQuiz()\n",
    " \n",
    "Obj1.onlyMethod( 4 )\n",
    "Obj1.onlyMethod( 5 )"
   ]
  },
  {
   "cell_type": "code",
   "execution_count": 3,
   "metadata": {},
   "outputs": [
    {
     "name": "stdout",
     "output_type": "stream",
     "text": [
      "720 9 400 396\n",
      "718 8 534 528\n",
      "rich\n"
     ]
    }
   ],
   "source": [
    "class Parent:\n",
    "    X = 10\n",
    " \n",
    "    def __init__(self, p1):    \n",
    "        self.p1 = p1\n",
    "        if Parent.X >5:\n",
    "            self.status = \"rich\"\n",
    "        else:\n",
    "            self.status = \"poor\"\n",
    " \n",
    "class Child(Parent):\n",
    "    count = 0\n",
    " \n",
    "    def __init__(self, m, d):\n",
    "        Child.count += 1\n",
    "        sum = m.p1 + d.p1\n",
    "        super().__init__(sum)\n",
    "        self.mom = m\n",
    "        self.dad = d\n",
    "        self.p2 = self.p1 // (Child.count + 1)\n",
    "        self.p1 = self.p1 - self.p2\n",
    "        Parent.X = Parent.X - 1\n",
    "\n",
    "    def showProperty(self, years):\n",
    "        self.p2 = int(self.p2 * years * 0.9)\n",
    "        x = self.p1 - years * 2\n",
    "        y = self.X \n",
    "        print(self.p2, y, self.p1, x) \n",
    "\n",
    "Mom = Parent( 500 )\n",
    "Dad = Parent( 300 )\n",
    "Child1 = Child(Mom, Dad)\n",
    "Child1.showProperty(2)\n",
    "Child2 = Child(Mom, Dad)\n",
    "Child2.showProperty(3)\n",
    "print(Dad.status)\n",
    "\n"
   ]
  },
  {
   "cell_type": "code",
   "execution_count": 7,
   "metadata": {},
   "outputs": [
    {
     "name": "stdout",
     "output_type": "stream",
     "text": [
      "3 4 13\n",
      "24 30 66\n",
      "16 23 105\n"
     ]
    }
   ],
   "source": [
    "class A:\n",
    "    temp = 4\n",
    "    a = [1]\n",
    "    \n",
    "    def __init__(self):\n",
    "        self.sum = 0\n",
    "        self.y = 0\n",
    "        self.y = A.temp - 2 + A.a[0]\n",
    "        self.sum = A.temp + 1\n",
    "        A.temp -= 2\n",
    "        \n",
    "    def methodA(self, m, n):\n",
    "        x = 0 \n",
    "        self.y = self.y +m +(A.temp)\n",
    "        A.temp += A.a[0]\n",
    "        x = x+1+n\n",
    "        A.a[0] -= 1\n",
    "        self.sum = self.sum + x +self.y\n",
    "        print(x, self.y, self.sum)\n",
    "class B(A):\n",
    "    x = 0 \n",
    "    def __init__(self, b = None):\n",
    "        self.y = 12\n",
    "        self.sum = 3\n",
    "        if b == None:\n",
    "            super().__init__()\n",
    "            self.y = A.temp + 3\n",
    "            self.sum = self.sum +3 + A.temp\n",
    "        \n",
    "        else:\n",
    "            B.x = b.x+A.a[0]\n",
    "            self.sum = b.sum + A.temp + 6\n",
    "            self.y += B.x\n",
    "        \n",
    "    def methodB(self, m, n):\n",
    "        y = 7+ m\n",
    "        B.x = self.y + 2+ A.temp\n",
    "        y = y + self.y\n",
    "        self.methodA(B.x, y)\n",
    "        self.sum =  B.x + y + self.sum      \n",
    "        print(B.x, y, self.sum)\n",
    "        B.x -=1\n",
    "        \n",
    "a1 = A()\n",
    "b1 = B()\n",
    "b2 = B(b1)\n",
    "b1.methodA(1,2)\n",
    "b2.methodB(3,2)\n",
    "                      "
   ]
  },
  {
   "cell_type": "code",
   "execution_count": null,
   "metadata": {},
   "outputs": [],
   "source": []
  }
 ],
 "metadata": {
  "kernelspec": {
   "display_name": "Python 3",
   "language": "python",
   "name": "python3"
  },
  "language_info": {
   "codemirror_mode": {
    "name": "ipython",
    "version": 3
   },
   "file_extension": ".py",
   "mimetype": "text/x-python",
   "name": "python",
   "nbconvert_exporter": "python",
   "pygments_lexer": "ipython3",
   "version": "3.9.5 (tags/v3.9.5:0a7dcbd, May  3 2021, 17:27:52) [MSC v.1928 64 bit (AMD64)]"
  },
  "orig_nbformat": 4,
  "vscode": {
   "interpreter": {
    "hash": "b671c20432fcd147198c92e7f072af9e705f087eb990bee22b07f08caab9f630"
   }
  }
 },
 "nbformat": 4,
 "nbformat_minor": 2
}
