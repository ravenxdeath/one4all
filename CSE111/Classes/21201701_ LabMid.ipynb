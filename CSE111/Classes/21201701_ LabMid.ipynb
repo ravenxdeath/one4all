{
 "cells": [
  {
   "cell_type": "markdown",
   "metadata": {},
   "source": [
    "MD. TAHMID IQBAL\n",
    "ID: 21201701\n",
    "SEC: 15\n",
    "SET: A"
   ]
  },
  {
   "cell_type": "code",
   "execution_count": 17,
   "metadata": {},
   "outputs": [
    {
     "name": "stdout",
     "output_type": "stream",
     "text": [
      "Toy purchased.\n",
      "=================================\n",
      "Customer: Steven Brown \n",
      "Budget: 20000 TK\n",
      "--------------\n"
     ]
    },
    {
     "ename": "AttributeError",
     "evalue": "type object 'Anime_Toys' has no attribute 'toy'",
     "output_type": "error",
     "traceback": [
      "\u001b[1;31m---------------------------------------------------------------------------\u001b[0m",
      "\u001b[1;31mAttributeError\u001b[0m                            Traceback (most recent call last)",
      "\u001b[1;32mg:\\CODE\\UNI\\CSE111\\Classes\\LABMID.ipynb Cell 2\u001b[0m in \u001b[0;36m<module>\u001b[1;34m\u001b[0m\n\u001b[0;32m     <a href='vscode-notebook-cell:/g%3A/CODE/UNI/CSE111/Classes/LABMID.ipynb#W0sZmlsZQ%3D%3D?line=40'>41</a>\u001b[0m c1\u001b[39m.\u001b[39mbuy_toys(a1,a2)\n\u001b[0;32m     <a href='vscode-notebook-cell:/g%3A/CODE/UNI/CSE111/Classes/LABMID.ipynb#W0sZmlsZQ%3D%3D?line=41'>42</a>\u001b[0m \u001b[39mprint\u001b[39m(\u001b[39m\"\u001b[39m\u001b[39m=================================\u001b[39m\u001b[39m\"\u001b[39m)\n\u001b[1;32m---> <a href='vscode-notebook-cell:/g%3A/CODE/UNI/CSE111/Classes/LABMID.ipynb#W0sZmlsZQ%3D%3D?line=42'>43</a>\u001b[0m c1\u001b[39m.\u001b[39;49mprint_shopping_details()\n\u001b[0;32m     <a href='vscode-notebook-cell:/g%3A/CODE/UNI/CSE111/Classes/LABMID.ipynb#W0sZmlsZQ%3D%3D?line=43'>44</a>\u001b[0m \u001b[39mprint\u001b[39m(\u001b[39m\"\u001b[39m\u001b[39m=================================\u001b[39m\u001b[39m\"\u001b[39m)\n\u001b[0;32m     <a href='vscode-notebook-cell:/g%3A/CODE/UNI/CSE111/Classes/LABMID.ipynb#W0sZmlsZQ%3D%3D?line=44'>45</a>\u001b[0m c1\u001b[39m.\u001b[39mbuy_toys(a3)\n",
      "\u001b[1;32mg:\\CODE\\UNI\\CSE111\\Classes\\LABMID.ipynb Cell 2\u001b[0m in \u001b[0;36mShopping_Cart.print_shopping_details\u001b[1;34m(self)\u001b[0m\n\u001b[0;32m     <a href='vscode-notebook-cell:/g%3A/CODE/UNI/CSE111/Classes/LABMID.ipynb#W0sZmlsZQ%3D%3D?line=24'>25</a>\u001b[0m \u001b[39mprint\u001b[39m(\u001b[39mf\u001b[39m\u001b[39m\"\u001b[39m\u001b[39mBudget: \u001b[39m\u001b[39m{\u001b[39;00m\u001b[39mself\u001b[39m\u001b[39m.\u001b[39mbud\u001b[39m}\u001b[39;00m\u001b[39m TK\u001b[39m\u001b[39m\"\u001b[39m)\n\u001b[0;32m     <a href='vscode-notebook-cell:/g%3A/CODE/UNI/CSE111/Classes/LABMID.ipynb#W0sZmlsZQ%3D%3D?line=25'>26</a>\u001b[0m \u001b[39mprint\u001b[39m(\u001b[39mf\u001b[39m\u001b[39m\"\u001b[39m\u001b[39m--------------\u001b[39m\u001b[39m\"\u001b[39m)\n\u001b[1;32m---> <a href='vscode-notebook-cell:/g%3A/CODE/UNI/CSE111/Classes/LABMID.ipynb#W0sZmlsZQ%3D%3D?line=26'>27</a>\u001b[0m \u001b[39mprint\u001b[39m(\u001b[39mf\u001b[39m\u001b[39m\"\u001b[39m\u001b[39mToy: \u001b[39m\u001b[39m{\u001b[39;00mAnime_Toys\u001b[39m.\u001b[39mtoy\u001b[39m}\u001b[39;00m\u001b[39m, Anime: \u001b[39m\u001b[39m{\u001b[39;00m\u001b[39mself\u001b[39m\u001b[39m.\u001b[39manime\u001b[39m}\u001b[39;00m\u001b[39m\"\u001b[39m)\n\u001b[0;32m     <a href='vscode-notebook-cell:/g%3A/CODE/UNI/CSE111/Classes/LABMID.ipynb#W0sZmlsZQ%3D%3D?line=27'>28</a>\u001b[0m \u001b[39mprint\u001b[39m(\u001b[39mf\u001b[39m\u001b[39m\"\u001b[39m\u001b[39mSize: \u001b[39m\u001b[39m{\u001b[39;00m\u001b[39mself\u001b[39m\u001b[39m.\u001b[39msize\u001b[39m}\u001b[39;00m\u001b[39m\"\u001b[39m)\n\u001b[0;32m     <a href='vscode-notebook-cell:/g%3A/CODE/UNI/CSE111/Classes/LABMID.ipynb#W0sZmlsZQ%3D%3D?line=28'>29</a>\u001b[0m \u001b[39mprint\u001b[39m(\u001b[39mf\u001b[39m\u001b[39m\"\u001b[39m\u001b[39mThe toy is \u001b[39m\u001b[39m{\u001b[39;00m\u001b[39mself\u001b[39m\u001b[39m.\u001b[39mtype\u001b[39m}\u001b[39;00m\u001b[39m\"\u001b[39m)\n",
      "\u001b[1;31mAttributeError\u001b[0m: type object 'Anime_Toys' has no attribute 'toy'"
     ]
    }
   ],
   "source": [
    "#setA\n",
    "\n",
    "class Anime_Toys:\n",
    "    def __init__(self,toy,anime,price,app,size,type=\"not automated\"):\n",
    "        self.toy = toy\n",
    "        self.anime = anime\n",
    "        self.price = price\n",
    "        self.app = app\n",
    "        self.size = size\n",
    "        self.type = type\n",
    "        \n",
    "        \n",
    "        \n",
    "class Shopping_Cart:\n",
    "        def __init__(self, n, bud = 20000):\n",
    "            self.name = n\n",
    "            self.bud = bud\n",
    "            ls = []\n",
    "        def buy_toys(self,*args):\n",
    "            # ls.append(args)\n",
    "            print(\"Toy purchased.\")\n",
    "        \n",
    "        def print_shopping_details(self):\n",
    "            print(f\"Customer: {self.name} \")\n",
    "            print(f\"Budget: {self.bud} TK\")\n",
    "            print(f\"--------------\")\n",
    "            print(f\"Toy: {Anime_Toys.toy}, Anime: {self.anime}\")\n",
    "            print(f\"Size: {self.size}\")\n",
    "            print(f\"The toy is {self.type}\")\n",
    "        \n",
    "        \n",
    "\n",
    "\n",
    "\n",
    "\n",
    "a1 = Anime_Toys(\"Pikachu\",\"Pokemon\",\"2000 TK\",\"yellow\",\"small\",\"automated\")\n",
    "a2 = Anime_Toys(\"Naruto\",\"Naruto\",\"2800 TK\",\"yellow hair - orange clothes - blue sandals\",\"medium\")\n",
    "a3 = Anime_Toys(\"Pikachu\",\"Pokemon\",\"4000 TK\",\"yellow\",\"large\",\"automated\")\n",
    "a4 = Anime_Toys(\"Mikasa\",\"Attack on Titans\",\"3500 TK\",\"white shirt - black pants - red scarf\",\"small\",\"not automated\")\n",
    "c1 = Shopping_Cart(\"Steven Brown\")\n",
    "c1.buy_toys(a1,a2)\n",
    "print(\"=================================\")\n",
    "c1.print_shopping_details()\n",
    "print(\"=================================\")\n",
    "c1.buy_toys(a3)\n",
    "c1.buy_toys(a4)\n",
    "print(\"=================================\")\n",
    "c1.print_shopping_details()\n",
    "print(\"=================================\")\n",
    "print(f\"TOTAL COST = {c1.total_cost} TK\")\n",
    "print(\"=================================\")\n",
    "c2 = Shopping_Cart(\"Riley Renolds\", 8000)\n",
    "print(\"=================================\")\n",
    "c2.buy_toys(a3,a4,a2)\n",
    "print(\"=================================\")\n",
    "c2.print_shopping_details()\n",
    "print(\"=================================\")\n",
    "print(f\"TOTAL COST = {c2.total_cost} TK\")\n",
    "print(\"=================================\")\n",
    "c2.buy_toys(a1,a2)\n"
   ]
  },
  {
   "cell_type": "code",
   "execution_count": null,
   "metadata": {},
   "outputs": [],
   "source": []
  }
 ],
 "metadata": {
  "kernelspec": {
   "display_name": "Python 3.9.5 64-bit",
   "language": "python",
   "name": "python3"
  },
  "language_info": {
   "codemirror_mode": {
    "name": "ipython",
    "version": 3
   },
   "file_extension": ".py",
   "mimetype": "text/x-python",
   "name": "python",
   "nbconvert_exporter": "python",
   "pygments_lexer": "ipython3",
   "version": "3.9.5 (tags/v3.9.5:0a7dcbd, May  3 2021, 17:27:52) [MSC v.1928 64 bit (AMD64)]"
  },
  "orig_nbformat": 4,
  "vscode": {
   "interpreter": {
    "hash": "b671c20432fcd147198c92e7f072af9e705f087eb990bee22b07f08caab9f630"
   }
  }
 },
 "nbformat": 4,
 "nbformat_minor": 2
}
