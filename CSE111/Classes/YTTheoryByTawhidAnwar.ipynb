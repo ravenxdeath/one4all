{
 "cells": [
  {
   "attachments": {},
   "cell_type": "markdown",
   "metadata": {},
   "source": [
    "$Method_Overloading$\n",
    "\n"
   ]
  },
  {
   "cell_type": "code",
   "execution_count": 12,
   "metadata": {},
   "outputs": [
    {
     "name": "stdout",
     "output_type": "stream",
     "text": [
      "(2,)\n",
      "2\n",
      "(2, 3)\n",
      "6\n",
      "(2, 3, 4)\n",
      "24\n",
      "(2, 3, 4, 5)\n",
      "120\n"
     ]
    }
   ],
   "source": [
    "class myCalcultor:\n",
    "    \n",
    "    # def product(self, product1, product2= None,product3= None):\n",
    "    #     if product1 != None and product2 != None and product3 != None:\n",
    "    #         print(product1*product2*product3)\n",
    "    #     elif product1 != None and product2 != None:\n",
    "    #         print(product1*product2)\n",
    "    #     else:\n",
    "    #         print(1*product1)\n",
    "\n",
    "# using args\n",
    "    def product(self, *args):\n",
    "        prod = 1\n",
    "        print(args)\n",
    "        for i in args:\n",
    "            prod = prod * i\n",
    "        print(prod)\n",
    "    \n",
    "\n",
    "#Driver Code\n",
    "c1 = myCalcultor()\n",
    "c1.product(2)\n",
    "c1.product(2, 3)\n",
    "c1.product(2, 3, 4)\n",
    "c1.product(2, 3, 4, 5)\n",
    "\n",
    "        "
   ]
  },
  {
   "cell_type": "code",
   "execution_count": null,
   "metadata": {},
   "outputs": [],
   "source": [
    "\n",
    "from multipledispatch import dispatch\n",
    "\n",
    "class myCalculator:\n",
    "    @dispatch(str,str,str)\n",
    "    def product(self,a,b,c):\n",
    "        print(int(a)*int(b)*int(c))\n",
    "\n",
    "#Diver Code\n",
    "\n",
    "c1 = myCalculator()\n",
    "c1.product(\"3\",\"4\",\"5\")\n"
   ]
  },
  {
   "cell_type": "code",
   "execution_count": null,
   "metadata": {},
   "outputs": [],
   "source": []
  }
 ],
 "metadata": {
  "kernelspec": {
   "display_name": "Python 3",
   "language": "python",
   "name": "python3"
  },
  "language_info": {
   "codemirror_mode": {
    "name": "ipython",
    "version": 3
   },
   "file_extension": ".py",
   "mimetype": "text/x-python",
   "name": "python",
   "nbconvert_exporter": "python",
   "pygments_lexer": "ipython3",
   "version": "3.9.5 (tags/v3.9.5:0a7dcbd, May  3 2021, 17:27:52) [MSC v.1928 64 bit (AMD64)]"
  },
  "orig_nbformat": 4,
  "vscode": {
   "interpreter": {
    "hash": "b671c20432fcd147198c92e7f072af9e705f087eb990bee22b07f08caab9f630"
   }
  }
 },
 "nbformat": 4,
 "nbformat_minor": 2
}
