{
 "cells": [
  {
   "cell_type": "code",
   "execution_count": 1,
   "metadata": {},
   "outputs": [
    {
     "name": "stdout",
     "output_type": "stream",
     "text": [
      "Number of students: 0\n",
      "Department wise Student: {}\n",
      "=================================\n"
     ]
    },
    {
     "ename": "NameError",
     "evalue": "name 'BRACUStudent' is not defined",
     "output_type": "error",
     "traceback": [
      "\u001b[1;31m---------------------------------------------------------------------------\u001b[0m",
      "\u001b[1;31mNameError\u001b[0m                                 Traceback (most recent call last)",
      "\u001b[1;32mg:\\CODE\\UNI\\CSE111\\Classes\\LabFinalPractice.ipynb Cell 1\u001b[0m in \u001b[0;36m<module>\u001b[1;34m\u001b[0m\n\u001b[0;32m     <a href='vscode-notebook-cell:/g%3A/CODE/UNI/CSE111/Classes/LabFinalPractice.ipynb#W0sZmlsZQ%3D%3D?line=13'>14</a>\u001b[0m \u001b[39mprint\u001b[39m(\u001b[39m\"\u001b[39m\u001b[39mDepartment wise Student:\u001b[39m\u001b[39m\"\u001b[39m,Student\u001b[39m.\u001b[39mstudentInfo)\n\u001b[0;32m     <a href='vscode-notebook-cell:/g%3A/CODE/UNI/CSE111/Classes/LabFinalPractice.ipynb#W0sZmlsZQ%3D%3D?line=14'>15</a>\u001b[0m \u001b[39mprint\u001b[39m(\u001b[39m\"\u001b[39m\u001b[39m=================================\u001b[39m\u001b[39m\"\u001b[39m)\n\u001b[1;32m---> <a href='vscode-notebook-cell:/g%3A/CODE/UNI/CSE111/Classes/LabFinalPractice.ipynb#W0sZmlsZQ%3D%3D?line=15'>16</a>\u001b[0m s1 \u001b[39m=\u001b[39m BRACUStudent(\u001b[39m\"\u001b[39m\u001b[39mSakib\u001b[39m\u001b[39m\"\u001b[39m,\u001b[39m20301098\u001b[39m,\u001b[39m\"\u001b[39m\u001b[39mCSE\u001b[39m\u001b[39m\"\u001b[39m,\u001b[39m50\u001b[39m)\n\u001b[0;32m     <a href='vscode-notebook-cell:/g%3A/CODE/UNI/CSE111/Classes/LabFinalPractice.ipynb#W0sZmlsZQ%3D%3D?line=16'>17</a>\u001b[0m \u001b[39mprint\u001b[39m(\u001b[39m\"\u001b[39m\u001b[39m------Details of the Student------\u001b[39m\u001b[39m\"\u001b[39m)\n\u001b[0;32m     <a href='vscode-notebook-cell:/g%3A/CODE/UNI/CSE111/Classes/LabFinalPractice.ipynb#W0sZmlsZQ%3D%3D?line=17'>18</a>\u001b[0m \u001b[39mprint\u001b[39m(s1)\n",
      "\u001b[1;31mNameError\u001b[0m: name 'BRACUStudent' is not defined"
     ]
    }
   ],
   "source": [
    "class Student:\n",
    "    studentInfo={}\n",
    "    studentNo = 0\n",
    "    def __init__(self,name,id,department):\n",
    "        self.name = name\n",
    "        self.id = id\n",
    "        self.department = department\n",
    "    def __str__(self):\n",
    "        return \"Name:{}\\nID:{}\\nDepartment:{}\".format(self.name,self.id,self.department)\n",
    " \n",
    "#Write your code here\n",
    " \n",
    "print(\"Number of students:\",Student.studentNo)\n",
    "print(\"Department wise Student:\",Student.studentInfo)\n",
    "print(\"=================================\")\n",
    "s1 = BRACUStudent(\"Sakib\",20301098,\"CSE\",50)\n",
    "print(\"------Details of the Student------\")\n",
    "print(s1)\n",
    "print(\"=================================\")\n",
    "print(\"Number of Students:\",Student.studentNo)\n",
    "print(\"Department wise Student:\",Student.studentInfo)\n",
    "print(\"=================================\")\n",
    "s2 = BRACUStudent(\"Tamim\",22321155)\n",
    "print(\"------Details of the Student------\")\n",
    "print(s2)\n",
    "print(\"=================================\")\n",
    "print(\"Number of Students:\",Student.studentNo)\n",
    "print(\"Department wise Student:\",Student.studentInfo)\n",
    "print(\"=================================\")\n",
    "s3=BRACUStudent.enroll_Student(\"Mash-21201150-BBA-100\")\n",
    "print(\"------Details of the Student------\")\n",
    "print(s3)\n",
    "print(\"=================================\")\n",
    "print(\"Number of Students:\",Student.studentNo)\n",
    "print(\"Department wise Student:\",Student.studentInfo)\n",
    " \n"
   ]
  },
  {
   "cell_type": "code",
   "execution_count": null,
   "metadata": {},
   "outputs": [],
   "source": [
    "class Robot:\n",
    "    robots = {}\n",
    "    robot_num = 0\n",
    "    def __init__(self, name, rID):\n",
    "        self._name = name\n",
    "        self.__rID = rID    \n",
    "    def setRID(self, rID):\n",
    "        self.__rID = rID\n",
    "    def getRID(self):\n",
    "        return self.__rID\n",
    "    def __str__(self):\n",
    "        return f'Name: {self._name}\\n'\\\n",
    "               f'Robot ID: {self.__rID}'\n",
    " \n",
    "print(f'All robots Info:\\n{Robot.robots}')\n",
    "robot1 = HumanoidRobot('Sophia', 1010, \"Humanoid\",'Hanson Electronics', 'Face recognition', 'NLP')\n",
    "print('1================================')\n",
    "robot1.makeRobotCode()\n",
    "print('2================================')\n",
    "robot1.addFunctions('Speech Recognition')\n",
    "print(robot1)\n",
    "print('3================================')\n",
    "print(f'All robots Info:\\n{Robot.robots}')\n",
    "robot2 = HumanoidRobot.makeRobot('Ultron', 320, \"Humanoid\",'Stark Industries', 'Face recognition', 'NLP', 'Flight Power' )\n",
    "print('4================================')\n",
    "robot2.makeRobotCode()\n",
    "print('5================================')\n",
    "robot2.addFunctions('SuperHuman Durability')\n",
    "print(robot2)\n",
    "print('6================================')\n",
    "print(f'All robots Info:\\n{Robot.robots}')\n",
    "print('Total robots:',Robot.robot_num)\n",
    " \n",
    "\n"
   ]
  },
  {
   "cell_type": "code",
   "execution_count": null,
   "metadata": {},
   "outputs": [],
   "source": []
  }
 ],
 "metadata": {
  "kernelspec": {
   "display_name": "Python 3",
   "language": "python",
   "name": "python3"
  },
  "language_info": {
   "codemirror_mode": {
    "name": "ipython",
    "version": 3
   },
   "file_extension": ".py",
   "mimetype": "text/x-python",
   "name": "python",
   "nbconvert_exporter": "python",
   "pygments_lexer": "ipython3",
   "version": "3.9.5 (tags/v3.9.5:0a7dcbd, May  3 2021, 17:27:52) [MSC v.1928 64 bit (AMD64)]"
  },
  "orig_nbformat": 4,
  "vscode": {
   "interpreter": {
    "hash": "b671c20432fcd147198c92e7f072af9e705f087eb990bee22b07f08caab9f630"
   }
  }
 },
 "nbformat": 4,
 "nbformat_minor": 2
}
