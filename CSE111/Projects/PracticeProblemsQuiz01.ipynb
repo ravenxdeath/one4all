{
 "cells": [
  {
   "cell_type": "code",
   "execution_count": null,
   "metadata": {},
   "outputs": [
    {
     "name": "stdout",
     "output_type": "stream",
     "text": [
      "['ami', 'valo', 'lamia', 'kharap']\n",
      "['ami', 'valo', 'lamia', 'kharap']\n"
     ]
    }
   ],
   "source": [
    "x = \"ami valo lamia kharap\"\n",
    "print(x.split())\n",
    "\n",
    "for i in range(2):\n",
    "    ls = x.split()\n",
    "print(ls)"
   ]
  },
  {
   "cell_type": "code",
   "execution_count": 4,
   "metadata": {},
   "outputs": [
    {
     "name": "stdout",
     "output_type": "stream",
     "text": [
      "{'Fname': ['Tahmid'], 'Mname': [], 'Lname': []}\n"
     ]
    }
   ],
   "source": [
    "numNames = int(input('names >'))\n",
    "\n",
    "nameDict = {'Fname':[],'Mname':[],'Lname':[]}\n",
    "\n",
    "for i in range(numNames):\n",
    "    names = input(f'name {i+1} > ').split(' ')\n",
    "    \n",
    "    if len(names) >= 1:\n",
    "        nameDict[\"Fname\"].append(names[0])\n",
    "\n",
    "    #     if len(names) == 2:\n",
    "    #         nameDict[\"Lname\"].append(names[1])\n",
    "    #     elif len(names) == 3:\n",
    "    #         nameDict[\"Mname\"].append(names[1])\n",
    "    #         nameDict[\"Lname\"].append(names[2])\n",
    "\n",
    "print(nameDict)"
   ]
  },
  {
   "cell_type": "code",
   "execution_count": null,
   "metadata": {},
   "outputs": [],
   "source": [
    "dna = input()\n",
    "new = [] \n",
    "n =0\n",
    "for n in range(len(dna)-2):\n",
    "    new.append(dna[n:n+3])\n",
    "    n = n + 1\n",
    "\n",
    "count = {}\n",
    "Dominant_Pattern={}\n",
    "maxcount=0\n",
    "for element in new:\n",
    "    if element in count:\n",
    "        count[element] += 1\n",
    "    else:\n",
    "        count[element] = 1\n",
    "    \n",
    "    if count[element]>maxcount:\n",
    "        maxcount= count[element]\n",
    "        Dominant_Pattern=element +\" \"+str(maxcount)\n",
    "\n",
    " \n",
    "# print(list(count.keys()) [list(count.values()).index(maxcount)])\n",
    "print(Dominant_Pattern)"
   ]
  }
 ],
 "metadata": {
  "kernelspec": {
   "display_name": "Python 3.9.13 64-bit (microsoft store)",
   "language": "python",
   "name": "python3"
  },
  "language_info": {
   "codemirror_mode": {
    "name": "ipython",
    "version": 3
   },
   "file_extension": ".py",
   "mimetype": "text/x-python",
   "name": "python",
   "nbconvert_exporter": "python",
   "pygments_lexer": "ipython3",
   "version": "3.9.13"
  },
  "orig_nbformat": 4,
  "vscode": {
   "interpreter": {
    "hash": "43a24ecce625020f2d6631fb4cfb730bba30d877e9fe9ec2e0d85cb5a52a2b64"
   }
  }
 },
 "nbformat": 4,
 "nbformat_minor": 2
}
