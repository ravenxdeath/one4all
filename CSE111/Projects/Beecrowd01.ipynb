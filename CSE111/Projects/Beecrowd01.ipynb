{
 "cells": [
  {
   "cell_type": "code",
   "execution_count": 3,
   "metadata": {},
   "outputs": [
    {
     "name": "stdout",
     "output_type": "stream",
     "text": [
      "4\n",
      "32\n",
      "34\n",
      "98\n",
      "654\n",
      "3456\n",
      "6789\n",
      "567\n",
      "543\n",
      "87\n"
     ]
    }
   ],
   "source": [
    "#EASY TASK 2\n",
    "\n",
    "NumofInp = int(input())\n",
    "\n",
    "evenls = []\n",
    "oddls = []\n",
    "\n",
    "for i in range(NumofInp):\n",
    "    num = int(input())\n",
    "    \n",
    "    if num%2 !=0:\n",
    "        oddls.append(num)    \n",
    "    if num %2 == 0:\n",
    "        evenls.append(num)\n",
    "    \n",
    "     \n",
    "evenls.sort()\n",
    "oddls.sort(reverse = True)\n",
    "\n",
    "totalls = evenls+oddls\n",
    "\n",
    "for i in totalls:\n",
    "    print(i)\n",
    "\n"
   ]
  },
  {
   "cell_type": "code",
   "execution_count": 6,
   "metadata": {},
   "outputs": [
    {
     "name": "stdout",
     "output_type": "stream",
     "text": [
      "three five one\n",
      "love cpp I\n"
     ]
    }
   ],
   "source": [
    "#EASY TASK 1\n",
    "\n",
    "NumofInp = int(input())\n",
    "\n",
    "for i in range(NumofInp):\n",
    "  ls = input().split()\n",
    "  # print(ls)\n",
    "  # ls.sort(reverse = True)\n",
    "  sortedls = sorted(ls, key=len, reverse=True)\n",
    "  \n",
    "  print(' '.join(sortedls))\n"
   ]
  },
  {
   "cell_type": "code",
   "execution_count": 13,
   "metadata": {},
   "outputs": [
    {
     "name": "stdout",
     "output_type": "stream",
     "text": [
      "TopCod\n",
      "abab\n"
     ]
    }
   ],
   "source": [
    "#EASY TASK 3\n",
    "\n",
    "NumofInp = int(input())\n",
    "\n",
    "for i in range(NumofInp):\n",
    "    str = input().split()\n",
    "    str1 = str[0]\n",
    "    str2 = str[1]\n",
    "    empstr = \"\"\n",
    "    \n",
    "    if len(str1) >= len(str2):\n",
    "        for i in range(len(str2)):\n",
    "            empstr += str1[i]\n",
    "            empstr += str2[i]\n",
    "        \n",
    "        empstr += str1[len(str2):]    \n",
    "        \n",
    "\n",
    "    elif len(str1) <= len(str2):\n",
    "        for i in range(len(str1)):\n",
    "            empstr += str1[i]\n",
    "            empstr += str2[i]\n",
    "        \n",
    "        empstr += str1[len(str1):]  \n",
    "        \n",
    "    print(empstr)"
   ]
  },
  {
   "cell_type": "code",
   "execution_count": 15,
   "metadata": {},
   "outputs": [
    {
     "name": "stdout",
     "output_type": "stream",
     "text": [
      "144558\n",
      "144558\n",
      "144558\n",
      "144558\n"
     ]
    }
   ],
   "source": [
    "#Midium Task 1 trail\n",
    "\n",
    "NumofInp = int(input())\n",
    "\n",
    "for i in range(NumofInp):\n",
    "    num = NumofInp\n",
    "\n",
    "    num = sorted(num)\n",
    "\n",
    "    # print(\"\".join(num))\n",
    "\n",
    "    # for i in num:\n",
    "    #     if i == 0:\n",
    "    #         break\n",
    "\n",
    "    # for i in range(len(num())):\n",
    "    #     if num(i) == \n",
    "\n",
    "\n",
    "    if num[0] ==\"0\":\n",
    "        zero = \"\"\n",
    "        index = 0\n",
    "        for i in range(len(num)):\n",
    "            \n",
    "            if num[i] ==0:\n",
    "                zero += \"0\"\n",
    "            \n",
    "            else:\n",
    "                index = i\n",
    "                break\n",
    "\n",
    "        newnum = list(num[index])+list(zero)+num[index+1:]\n",
    "    else:\n",
    "        newnum = num\n",
    "    print(int(\"\".join(newnum)))            "
   ]
  }
 ],
 "metadata": {
  "kernelspec": {
   "display_name": "Python 3.9.13 64-bit (microsoft store)",
   "language": "python",
   "name": "python3"
  },
  "language_info": {
   "codemirror_mode": {
    "name": "ipython",
    "version": 3
   },
   "file_extension": ".py",
   "mimetype": "text/x-python",
   "name": "python",
   "nbconvert_exporter": "python",
   "pygments_lexer": "ipython3",
   "version": "3.9.13"
  },
  "orig_nbformat": 4,
  "vscode": {
   "interpreter": {
    "hash": "43a24ecce625020f2d6631fb4cfb730bba30d877e9fe9ec2e0d85cb5a52a2b64"
   }
  }
 },
 "nbformat": 4,
 "nbformat_minor": 2
}
