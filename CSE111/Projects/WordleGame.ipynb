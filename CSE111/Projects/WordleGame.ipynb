{
 "cells": [
  {
   "cell_type": "code",
   "execution_count": 7,
   "metadata": {},
   "outputs": [
    {
     "name": "stdout",
     "output_type": "stream",
     "text": [
      "DREAD\n",
      "4\n",
      "2\n",
      "3\n",
      "4\n",
      "Bummer\n",
      "1\n",
      "2\n",
      "3\n",
      "4\n",
      "Bummer\n",
      "Bummer\n",
      "Bummer\n",
      "4\n",
      "1\n",
      "2\n",
      "3\n",
      "4\n",
      "Lucky Guess\n"
     ]
    }
   ],
   "source": [
    "import random\n",
    "import sys\n",
    "ls = ['BOXED', 'BLACK', 'BEARD', 'DREAD', 'ABOUT', 'ABOVE', 'ADULT', 'GHOST', 'JUMPS', 'SEEMS', 'SEEDS', 'SENDS', 'STICK', 'STRAY', 'COAST', 'OASIS', 'EATEN']\n",
    "#print(random.choice(ls))\n",
    "#! print(random.sample(ls))\n",
    "\n",
    "Wordle= random.choice(ls)\n",
    "print(Wordle)\n",
    "for i in range(6):\n",
    "    UserInput = input(\"Guess your word\")\n",
    "    \n",
    "    for i in UserInput:\n",
    "        if i in Wordle:\n",
    "            print(Wordle.rfind(i))\n",
    "    \n",
    "    if Wordle == UserInput:\n",
    "        print(\"Lucky Guess\")\n",
    "        # sys.exit()\n",
    "        break\n",
    "        \n",
    "    else:\n",
    "        print(\"Bummer\")"
   ]
  },
  {
   "cell_type": "code",
   "execution_count": 13,
   "metadata": {},
   "outputs": [],
   "source": [
    "# def game_instruction():\n",
    "#      print(\"\"\"Wordle is a single player game\n",
    "# A player has to guess a five letter hidden word\n",
    "# You have six attempts\n",
    "# Your Progress Guide \"✔❌❌✔➕\"\n",
    "# \"✔\" Indicates that the letter at that position was guessed correctly\n",
    "# \"➕\" indicates that the letter at that position is in the hidden word, but in a different position\n",
    "# \"❌\" indicates that the letter at that position is wrong, and isn't in the hidden word   \"\"\")\n",
    "# game_instruction()\n",
    "\n",
    "import random\n",
    "\n",
    "ls = ['BOXED', 'BLACK', 'BEARD', 'DREAD', 'ABOUT', 'ABOVE', 'ADULT', 'GHOST', 'JUMPS', 'SEEMS', 'SEEDS', 'SENDS', 'STICK', 'STRAY', 'COAST', 'OASIS', 'EATEN']\n",
    "\n",
    "def guessWord():\n",
    "     wordle= random.choice(ls)\n",
    "     attempt = 6\n",
    "     while attempt >0:\n",
    "          userIn = str(input(\"Guess the Wordle:\"))\n",
    "          uppercasing = userIn.upper()\n",
    "          \n",
    "          if wordle == uppercasing:\n",
    "               print(\"EUREKA!!! YOU'VE GUESSED CORRECTLY\")\n",
    "               break\n",
    "guessWord()\n",
    "\n"
   ]
  }
 ],
 "metadata": {
  "kernelspec": {
   "display_name": "Python 3.9.5 64-bit (system)",
   "language": "python",
   "name": "python3"
  },
  "language_info": {
   "codemirror_mode": {
    "name": "ipython",
    "version": 3
   },
   "file_extension": ".py",
   "mimetype": "text/x-python",
   "name": "python",
   "nbconvert_exporter": "python",
   "pygments_lexer": "ipython3",
   "version": "3.9.5"
  },
  "orig_nbformat": 4,
  "vscode": {
   "interpreter": {
    "hash": "b671c20432fcd147198c92e7f072af9e705f087eb990bee22b07f08caab9f630"
   }
  }
 },
 "nbformat": 4,
 "nbformat_minor": 2
}
