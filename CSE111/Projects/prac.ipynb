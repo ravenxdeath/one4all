{
 "cells": [
  {
   "cell_type": "code",
   "execution_count": 45,
   "metadata": {},
   "outputs": [
    {
     "name": "stdout",
     "output_type": "stream",
     "text": [
      "=================================\n",
      "Feature can not be added without phone name\n",
      "=================================\n",
      "{'Display': ['6.1 inch']}\n",
      "Phone name= Samsung Note 20\n",
      "Display:['6.1 inch']\n",
      "<class 'str'>\n",
      "xoxxoxoxoxoxoxoxoxoxoxoxoxoxoxoxoxoxoxoxo\n",
      "fix 1111111111111111\n",
      "Display: '6.1 inch'\n",
      "=================================\n",
      "=================================\n",
      "{'Display': ['6.2 inch'], 'Ram': ['6 GB']}\n",
      "Phone name= Iphone 12 Pro\n",
      "Display:['6.2 inch']\n",
      "<class 'str'>\n",
      "xoxxoxoxoxoxoxoxoxoxoxoxoxoxoxoxoxoxoxoxo\n",
      "fix 1111111111111111\n",
      "Display: '6.2 inch'\n",
      "Ram:['6 GB']\n",
      "<class 'str'>\n",
      "xoxxoxoxoxoxoxoxoxoxoxoxoxoxoxoxoxoxoxoxo\n",
      "fix 1111111111111111\n",
      "Ram: '6 GB'\n",
      "=================================\n",
      "{'Display': ['6.2 inch', 'Amoled panel'], 'Ram': ['6 GB', 'DDR5']}\n",
      "Phone name= Iphone 12 Pro\n",
      "Display:['6.2 inch', 'Amoled panel']\n",
      "<class 'str'>\n",
      "xoxxoxoxoxoxoxoxoxoxoxoxoxoxoxoxoxoxoxoxo\n",
      "fix 1111111111111111\n",
      "Display: '6.2 inch', 'Amoled panel'\n",
      "Ram:['6 GB', 'DDR5']\n",
      "<class 'str'>\n",
      "xoxxoxoxoxoxoxoxoxoxoxoxoxoxoxoxoxoxoxoxo\n",
      "fix 1111111111111111\n",
      "Ram: '6 GB', 'DDR5'\n",
      "=================================\n"
     ]
    }
   ],
   "source": [
    "# Write your codes here.\n",
    "class Smartphone:\n",
    "    def __init__(self,name=None):\n",
    "        self.name = name\n",
    "        self.featuredic={}\n",
    "    def addFeature(self,feature,spec):\n",
    "        self.spec=[spec]\n",
    "        if self.name is not None:\n",
    "            if feature not in self.featuredic:\n",
    "                self.featuredic[feature] = self.spec\n",
    "            else:\n",
    "                self.featuredic[feature].append(self.spec[0])\n",
    "        else:\n",
    "            print(\"Feature can not be added without phone name\")\n",
    "    def setName(self,name):\n",
    "        self.name = name\n",
    "    def printDetail(self):\n",
    "        print(self.featuredic)\n",
    "        print(\"Phone name=\",self.name)\n",
    "        for key,value in self.featuredic.items():\n",
    "            # xs=f\"{key}:{value}\"\n",
    "            # print(xs)\n",
    "            # print(type(xs))\n",
    "            # # replaced = xs.replace('\"','')\n",
    "            print(\"xoxxoxoxoxoxoxoxoxoxoxoxoxoxoxoxoxoxoxoxo\")\n",
    "            print(f\"fix 1111111111111111\")\n",
    "            print(f\"{key}: {(str(value))[1:-1]}\")\n",
    "            \n",
    "            # print(f\"fix 2222222222222222\")\n",
    "            # valueSTR = (str(value))\n",
    "            # x = valueSTR.replace('\"','')\n",
    "            # # print(f\"{key}: {((str(value).replace('\"','')))}\")\n",
    "            \n",
    "            \n",
    "\n",
    "\n",
    "# Do not change the following lines of code.\n",
    "s1 = Smartphone()\n",
    "print(\"=================================\")\n",
    "s1.addFeature(\"Display\", \"6.1 inch\")\n",
    "print(\"=================================\")\n",
    "s1.setName(\"Samsung Note 20\")\n",
    "s1.addFeature(\"Display\", \"6.1 inch\")\n",
    "s1.printDetail()\n",
    "print(\"=================================\")\n",
    "s2 = Smartphone(\"Iphone 12 Pro\")\n",
    "s2.addFeature(\"Display\", \"6.2 inch\")\n",
    "s2.addFeature(\"Ram\", \"6 GB\")\n",
    "print(\"=================================\")\n",
    "s2.printDetail()\n",
    "s2.addFeature(\"Display\", \"Amoled panel\")\n",
    "s2.addFeature(\"Ram\", \"DDR5\")\n",
    "print(\"=================================\")\n",
    "s2.printDetail()\n",
    "print(\"=================================\")"
   ]
  },
  {
   "attachments": {},
   "cell_type": "markdown",
   "metadata": {},
   "source": [
    "$$ {Practice Problems by- Tawhid Anwar \\& Salman Sayeed Khan} $$\n",
    "\n",
    "\n"
   ]
  },
  {
   "cell_type": "code",
   "execution_count": 56,
   "metadata": {},
   "outputs": [
    {
     "name": "stdout",
     "output_type": "stream",
     "text": [
      "**********************\n",
      "Player Name: Buffon \n",
      "Player Season Earning without bonus: 250000\n",
      "Bonus: 0\n",
      "Player Season Earning After Bonus: 250000\n",
      "\n",
      "**********************\n",
      "Player Name: Dybala \n",
      "Player Season Earning without bonus: 250000\n",
      "Bonus: 22500.0\n",
      "Player Season Earning After Bonus: 272500.0\n",
      "\n",
      "**********************\n",
      "Player Name: Cuadrado \n",
      "Player Season Earning without bonus: 250000\n",
      "Bonus: 12500.0\n",
      "Player Season Earning After Bonus: 262500.0\n"
     ]
    }
   ],
   "source": [
    "#*Task - 1\n",
    "class PlayerEarning:\n",
    "    def __init__(self, player):\n",
    "        self.player = player\n",
    "    def calculateTotal(self, salary,goals=0):\n",
    "        self.salary = salary\n",
    "        self.goals = goals\n",
    "        self.bonus = 0\n",
    "        \n",
    "        if self.goals == 0:\n",
    "            self.bonus = 0\n",
    "        elif self.goals > 30:\n",
    "            self.bonus = ((5/100)*self.salary)+10000\n",
    "        else:\n",
    "            self.bonus = (5/100)*self.salary\n",
    "    \n",
    "    def printDetails(self):\n",
    "        print(f\"Player Name: {self.player} \\nPlayer Season Earning without bonus: {self.salary}\")\n",
    "        print(f\"Bonus: {self.bonus}\\nPlayer Season Earning After Bonus: {self.salary+self.bonus}\")\n",
    "        \n",
    "        \n",
    "        \n",
    "# Write your code here\n",
    "\n",
    "print(\"**********************\")\n",
    "player1 = PlayerEarning('Buffon')\n",
    "player1.calculateTotal(250000)\n",
    "player1.printDetails()\n",
    "\n",
    "print(\"\\n**********************\")\n",
    "player2 = PlayerEarning('Dybala')\n",
    "player2.calculateTotal(250000, 31)\n",
    "player2.printDetails()\n",
    "\n",
    "print(\"\\n**********************\")\n",
    "player3 = PlayerEarning('Cuadrado')\n",
    "player3.calculateTotal(250000, 20)\n",
    "player3.printDetails()\n",
    "\n"
   ]
  },
  {
   "cell_type": "code",
   "execution_count": 61,
   "metadata": {},
   "outputs": [
    {
     "name": "stdout",
     "output_type": "stream",
     "text": [
      "[2, 3, 4, 5, 6]\n",
      "20\n"
     ]
    },
    {
     "ename": "AttributeError",
     "evalue": "'myList' object has no attribute 'merge'",
     "output_type": "error",
     "traceback": [
      "\u001b[1;31m---------------------------------------------------------------------------\u001b[0m",
      "\u001b[1;31mAttributeError\u001b[0m                            Traceback (most recent call last)",
      "\u001b[1;32mg:\\CODE\\UNI\\CSE111\\Projects\\prac.ipynb Cell 4\u001b[0m in \u001b[0;36m<module>\u001b[1;34m\u001b[0m\n\u001b[0;32m     <a href='vscode-notebook-cell:/g%3A/CODE/UNI/CSE111/Projects/prac.ipynb#W2sZmlsZQ%3D%3D?line=17'>18</a>\u001b[0m l1 \u001b[39m=\u001b[39m  myList(\u001b[39m2\u001b[39m,\u001b[39m3\u001b[39m,\u001b[39m4\u001b[39m,\u001b[39m5\u001b[39m,\u001b[39m6\u001b[39m) \u001b[39m#you might need a list inside your class to store the values\u001b[39;00m\n\u001b[0;32m     <a href='vscode-notebook-cell:/g%3A/CODE/UNI/CSE111/Projects/prac.ipynb#W2sZmlsZQ%3D%3D?line=18'>19</a>\u001b[0m l1\u001b[39m.\u001b[39msum()\n\u001b[1;32m---> <a href='vscode-notebook-cell:/g%3A/CODE/UNI/CSE111/Projects/prac.ipynb#W2sZmlsZQ%3D%3D?line=19'>20</a>\u001b[0m l1\u001b[39m.\u001b[39;49mmerge(\u001b[39m4\u001b[39m,\u001b[39m5\u001b[39m,\u001b[39m9\u001b[39m)\n\u001b[0;32m     <a href='vscode-notebook-cell:/g%3A/CODE/UNI/CSE111/Projects/prac.ipynb#W2sZmlsZQ%3D%3D?line=20'>21</a>\u001b[0m l1\u001b[39m.\u001b[39msum()\n\u001b[0;32m     <a href='vscode-notebook-cell:/g%3A/CODE/UNI/CSE111/Projects/prac.ipynb#W2sZmlsZQ%3D%3D?line=21'>22</a>\u001b[0m \u001b[39m# l1.average()\u001b[39;00m\n",
      "\u001b[1;31mAttributeError\u001b[0m: 'myList' object has no attribute 'merge'"
     ]
    }
   ],
   "source": [
    "class myList:\n",
    "    def __init__(self, *args):\n",
    "        self.args = args\n",
    "        self.ls = []\n",
    "        for i in args:\n",
    "            self.ls.append(i)\n",
    "        print(self.ls)\n",
    "    def sum(self):\n",
    "        suma = 0\n",
    "        for i in self.ls:\n",
    "            suma += i\n",
    "        print(suma)\n",
    "\n",
    "class merge(myList):\n",
    "    \n",
    "\n",
    "            \n",
    "l1 =  myList(2,3,4,5,6) #you might need a list inside your class to store the values\n",
    "l1.sum()\n",
    "l1.merge(4,5,9)\n",
    "l1.sum()\n",
    "# l1.average()\n",
    "print(\"-----------------------------\")\n",
    "l2 =  myList()\n",
    "# l2.average()\n",
    "l2.merge(1,2,4,8)\n",
    "l2.sum()\n"
   ]
  }
 ],
 "metadata": {
  "kernelspec": {
   "display_name": "Python 3",
   "language": "python",
   "name": "python3"
  },
  "language_info": {
   "codemirror_mode": {
    "name": "ipython",
    "version": 3
   },
   "file_extension": ".py",
   "mimetype": "text/x-python",
   "name": "python",
   "nbconvert_exporter": "python",
   "pygments_lexer": "ipython3",
   "version": "3.9.5"
  },
  "orig_nbformat": 4,
  "vscode": {
   "interpreter": {
    "hash": "b671c20432fcd147198c92e7f072af9e705f087eb990bee22b07f08caab9f630"
   }
  }
 },
 "nbformat": 4,
 "nbformat_minor": 2
}
