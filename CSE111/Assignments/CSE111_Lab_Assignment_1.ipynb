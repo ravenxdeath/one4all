{
 "cells": [
  {
   "cell_type": "markdown",
   "metadata": {},
   "source": [
    "                                **STRINGS**"
   ]
  },
  {
   "cell_type": "markdown",
   "metadata": {},
   "source": [
    "### Task 1\n",
    "\n",
    "From a given string, print the string in all uppercase if the number ofuppercase\n",
    "letters is more than lowercase letters. Otherwise, if lowercase is greater or equal\n",
    "to uppercase letters, print all lowercase. The inputs will contain letters (A-Z, a-z)\n",
    "only.\n",
    "\n",
    "=============================================================\n",
    "\n",
    "**Sample Input** : <br>HOusE <br>ApplE <br>BaNaNa \n",
    "\n",
    "**Sample Output** : <br>HOUSE <br>apple <br>banana\n",
    " "
   ]
  },
  {
   "cell_type": "markdown",
   "metadata": {},
   "source": [
    "\n",
    "<dev class= \"alert alert-block alert-warning\">\n",
    "    <b> Warning </b>: Just a markdown code\n",
    "</dev>"
   ]
  },
  {
   "cell_type": "code",
   "execution_count": 3,
   "metadata": {},
   "outputs": [
    {
     "name": "stdout",
     "output_type": "stream",
     "text": [
      "banana\n"
     ]
    }
   ],
   "source": [
    "# # givenStr = \"Banana\"\n",
    "# # countUp = 0\n",
    "# # countLow = 0\n",
    "\n",
    "# # for i in givenStr:\n",
    "# #     if (i.isupper()) == True:\n",
    "# #         countUp += 1\n",
    "# #     elif (i.islower()) == True:\n",
    "# #         countLow +=1\n",
    "              \n",
    "# # if countUp > countLow:\n",
    "# #     print(givenStr.upper())\n",
    "# # else:\n",
    "# #     print(givenStr.lower())\n",
    "\n",
    "\n",
    "givenStr = \"BaNaNa\"\n",
    "countUp = 0\n",
    "countLow = 0\n",
    "# newstr = \"x\"\n",
    "\n",
    "for i in givenStr:\n",
    "    if ord(i)>= 65 and ord(i)<= 90:\n",
    "        countUp += 1\n",
    "    if ord(i)>=97 and ord(i)<= 122:\n",
    "        countLow += 1\n",
    "        \n",
    "# print(countUp,countLow)\n",
    "\n",
    "if countUp > countLow:\n",
    "    print(givenStr.upper())\n",
    "if countLow >= countUp:\n",
    "    print(givenStr.lower()) \n",
    "       \n",
    "       "
   ]
  },
  {
   "cell_type": "markdown",
   "metadata": {},
   "source": [
    "### Task 2\n",
    "\n",
    "Given a string, print whether it is a number, word or mixed with digit andletters.\n",
    "If all the characters are numeric values, print NUMBER. If they are all letters,\n",
    "print WORD. If it is mixed, print MIXED\n",
    "\n",
    "=======================================================\n",
    "\n",
    "**Sample Input** : <br>213213  <br>jhg231j213  <br>Hello\n",
    " \n",
    "**Sample Output**: <br>NUMBER  <br>MIXED <br>WORD\n",
    "\n"
   ]
  },
  {
   "cell_type": "code",
   "execution_count": 6,
   "metadata": {},
   "outputs": [
    {
     "name": "stdout",
     "output_type": "stream",
     "text": [
      "WORD\n"
     ]
    }
   ],
   "source": [
    "givenStr = \"Hell\"\n",
    "\n",
    "numbers = [str(i) for i in range(0,10)]\n",
    "\n",
    "countInt = 0\n",
    "countLet = 0\n",
    "countMix = 0\n",
    "\n",
    "for i in givenStr:\n",
    "    if (ord(i)>= 65 and ord(i)<= 90) or (ord(i)>=97 and ord(i)<= 122):\n",
    "        countLet += 1\n",
    "    if i in numbers:\n",
    "        countInt += 1\n",
    "\n",
    "# print(countLet, countInt, countMix)\n",
    "\n",
    "if countLet >0 and countInt > 0:\n",
    "    print(\"MIXED\")\n",
    "elif countInt > 0:\n",
    "    print(\"NUMBER\")\n",
    "elif countLet > 0:\n",
    "    print(\"WORD\")"
   ]
  },
  {
   "cell_type": "markdown",
   "metadata": {},
   "source": [
    "### Task 3\n",
    "\n",
    "In a given string, there will be two uppercase letters in between some lowercase\n",
    "letters. Print the substring from the first uppercase letter to the last uppercase\n",
    "letter excluding them. If there are no letters in between them, print the word\n",
    "BLANK. It is guaranteed that there will be only two uppercase letters in the\n",
    "string\n",
    "\n",
    "=============================================================\n",
    "\n",
    "**Sample Input:** <br>baNgladEsh <br>coDIng \n",
    "\n",
    "**Sample Output:**<br>glad <br>BLANK"
   ]
  },
  {
   "cell_type": "code",
   "execution_count": 7,
   "metadata": {},
   "outputs": [
    {
     "name": "stdout",
     "output_type": "stream",
     "text": [
      "BLANK\n"
     ]
    }
   ],
   "source": [
    "givenStr = \"coDing\"\n",
    "ls = []\n",
    "\n",
    "for i in range(len(givenStr)):\n",
    "  if ord(givenStr[i])>=ord('A') and ord(givenStr[i])<=ord('Z'):\n",
    "    ls.append(i)\n",
    "\n",
    "# print(ls) \n",
    "      \n",
    "newString=givenStr[ls[0]+1:ls[-1]]\n",
    "\n",
    "if len(newString)==0:\n",
    "  print('BLANK')\n",
    "else:\n",
    "  print(newString)\n",
    "\n"
   ]
  },
  {
   "cell_type": "markdown",
   "metadata": {},
   "source": [
    "### Task 4\n",
    "\n",
    "Create a string from two given strings by concatenating common characters of\n",
    "the given strings.\n",
    "\n",
    "==================================================\n",
    "\n",
    "**Sample Input:** <br>\n",
    "harry, hermione <br>dean, tom \n",
    "\n",
    "**Sample Output:** <br>hrrhr  <br>Nothing in common.\n",
    "\n",
    "\n",
    "\n",
    "\n"
   ]
  },
  {
   "cell_type": "code",
   "execution_count": 91,
   "metadata": {},
   "outputs": [
    {
     "name": "stdout",
     "output_type": "stream",
     "text": [
      "hrrhr\n"
     ]
    }
   ],
   "source": [
    "given1 = \"harry\"\n",
    "given2 = \"hermione\"\n",
    "output = \"\"\n",
    "\n",
    "for i in given1:\n",
    "    if i in given2:\n",
    "        output += i\n",
    "for i in given2:\n",
    "    if i in given1:\n",
    "        output += i\n",
    "\n",
    "if len(output) == 0:\n",
    "    print(\"Nothing in common\")\n",
    "else:\n",
    "    print(output)"
   ]
  },
  {
   "cell_type": "markdown",
   "metadata": {},
   "source": [
    "### Task 5\n",
    "\n",
    "Again, you have lost your USIS password!! You went to the registrar office\n",
    "and requested for a new password. This time, you need to follow some rules to\n",
    "set your password. Otherwise, they won't change it. The rules are\n",
    "At least one lowercase letter\n",
    "At least one uppercase letter\n",
    "At least one digit (0-9)\n",
    "At least one special character (_ , $ , #, @)\n",
    "Your task is to find whether a given password follows all those rules. If it breaks\n",
    "any rule, you have to print Lowercase Missing, Uppercase Missing, Digit Missing\n",
    "or Special Missing respective to the missing case. For more than one rule break,\n",
    "print all the rules that were broken (order doesn't matter). If the password is ok,\n",
    "print OK.\n",
    "\n",
    "===================================================\n",
    "\n",
    "**Sample Input:**\n",
    "\n",
    "ohMyBR@CU <br>\n",
    "ohmybracu <br>\n",
    "OhMyBR@CU20 <br>\n",
    "\n",
    "**Sample Output:**\n",
    "\n",
    "Digit missing <br>\n",
    "Uppercase character missing, Digit missing, Special character missing <br>\n",
    "OK <br>\n",
    "\n"
   ]
  },
  {
   "cell_type": "code",
   "execution_count": 114,
   "metadata": {},
   "outputs": [
    {
     "name": "stdout",
     "output_type": "stream",
     "text": [
      "2 6 0 1\n",
      "Digits missing, "
     ]
    }
   ],
   "source": [
    "\n",
    "givenPass = input(\"New Password:\")\n",
    "\n",
    "\n",
    "uppercase = [chr(i) for i in range(65,91)]\n",
    "lowercase = [chr(i) for i in range(97,123)]\n",
    "digits =    [str(i) for i in range(0,10)]\n",
    "specials  = ['_','$','#','@']\n",
    "\n",
    "countUp = 0\n",
    "countLow =0\n",
    "countDig = 0\n",
    "countSpec = 0\n",
    "\n",
    "for i in givenPass:\n",
    "    if i in uppercase:\n",
    "        countUp += 1\n",
    "    if i in lowercase:\n",
    "        countLow += 1\n",
    "    if i in digits:\n",
    "        countLow += 1\n",
    "    if i in specials:\n",
    "        countSpec += 1\n",
    "print(countUp, countLow, countDig, countSpec)\n",
    "\n",
    "if countUp == 0:\n",
    "    print(\"Uppercase Character missing\" , end=\", \")\n",
    "if countLow == 0:\n",
    "    print(\"Lowercase character missing\", end=\", \")\n",
    "if countDig == 0:\n",
    "    print(\"Digits missing\", end=\", \")\n",
    "if countSpec == 0:\n",
    "    print(\"Special character missing\")\n",
    "if countUp != 0 and  countLow != 0 and countDig != 0 and  countSpec !=0:\n",
    "  print('OK')\n",
    "\n",
    "    "
   ]
  },
  {
   "cell_type": "code",
   "execution_count": 11,
   "metadata": {},
   "outputs": [
    {
     "name": "stdout",
     "output_type": "stream",
     "text": [
      "uppercase character missing, Digit missing, Special character missing\n"
     ]
    }
   ],
   "source": [
    "### Task 5\n",
    "\n",
    "Newpassword= input(\"enter New Password:\")\n",
    "uppercase=[chr(i) for i in range(65,91)]\n",
    "lowercase=[chr(i) for i in range(97,123)]\n",
    "digits=[str(i) for i in range(0,10)]\n",
    "specials=['_','$','#','@']\n",
    "\n",
    "lowercaseCount=0\n",
    "uppercaseCount=0\n",
    "digitCount=0\n",
    "specialCount=0\n",
    "\n",
    "for i in Newpassword:\n",
    "  if i in uppercase:\n",
    "    uppercaseCount+=1\n",
    "  if i in lowercase:\n",
    "    lowercaseCount+=1\n",
    "  if i in digits:\n",
    "    digitCount+=1   \n",
    "  if i in specials:\n",
    "    specialCount+=1\n",
    "\n",
    "# if lowercaseCount == 0:\n",
    "#   print('lowercase character missing', end=',')\n",
    "# if uppercaseCount == 0:\n",
    "#   print('uppercase character missing', end=',')\n",
    "# if digitCount == 0:\n",
    "#   print('Digit missing', end=',')\n",
    "# if specialCount ==0:\n",
    "#   print('Special character missing')\n",
    "# if lowercaseCount != 0 and  uppercaseCount != 0 and digitCount != 0 and  specialCount !=0:\n",
    "#   print('OK')\n",
    "\n",
    "ls = []\n",
    "\n",
    "if lowercaseCount == 0:\n",
    "  ls.append('lowercase character missing')\n",
    "if uppercaseCount == 0:\n",
    "  ls.append('uppercase character missing')\n",
    "if digitCount == 0:\n",
    "  ls.append('Digit missing')\n",
    "if specialCount ==0:\n",
    "  ls.append('Special character missing')\n",
    "if (lowercaseCount != 0 and  uppercaseCount != 0 and digitCount != 0 and  specialCount !=0):\n",
    "  ls.append(\"OK\")\n",
    "  \n",
    "print(\", \".join(ls))"
   ]
  },
  {
   "cell_type": "code",
   "execution_count": 14,
   "metadata": {},
   "outputs": [
    {
     "name": "stdout",
     "output_type": "stream",
     "text": [
      "[33, 33, 2]\n",
      "{33: 2, 2: 1}\n",
      "33 - 2 items\n",
      "2 - 1 items\n"
     ]
    }
   ],
   "source": [
    "#list task-1\n",
    "\n",
    "ls=[]\n",
    "\n",
    "while True:\n",
    "  userInp=input()\n",
    "  if userInp == \"STOP\":\n",
    "    break\n",
    "  userInp=int(userInp)\n",
    "  ls.append(userInp)\n",
    "# print(ls) \n",
    "dict={}\n",
    "\n",
    "for i in range(len(ls)):\n",
    "  if ls[i] in dict:\n",
    "    dict[ls[i]]=dict[ls[i]]+1\n",
    "  else:\n",
    "    dict[ls[i]]=1\n",
    "# print(dict)\n",
    "for  i,j in dict.items():\n",
    "  print(f'{i} - {j} items')\n"
   ]
  },
  {
   "cell_type": "code",
   "execution_count": 19,
   "metadata": {},
   "outputs": [
    {
     "name": "stdout",
     "output_type": "stream",
     "text": [
      "33\n",
      "['10', '11', '12']\n"
     ]
    }
   ],
   "source": [
    "# list task-2\n",
    "num=int(input())\n",
    "num_lst=[]\n",
    "summ=0\n",
    "lst=0\n",
    "for i in range(num):\n",
    "  new_num=input().split(' ')\n",
    "  num_lst.append(new_num)\n",
    "\n",
    "for i in num_lst:\n",
    "  suma=0\n",
    "  for j in i:\n",
    "    suma+=int(j)\n",
    "  if suma> summ:\n",
    "    summ = suma\n",
    "    lst=i\n",
    "    \n",
    "print(f'{summ}')\n",
    "print(lst)"
   ]
  },
  {
   "cell_type": "code",
   "execution_count": 21,
   "metadata": {},
   "outputs": [
    {
     "name": "stdout",
     "output_type": "stream",
     "text": [
      "55\n",
      "['23', '32']\n",
      "[23, 32]\n"
     ]
    }
   ],
   "source": [
    "#list task-2\n",
    "\n",
    "num=int(input())\n",
    "numList=[]\n",
    "total=0\n",
    "ls=0\n",
    "\n",
    "for i in range(num):\n",
    "  newNum=input().split(' ')\n",
    "  numList.append(newNum)\n",
    "\n",
    "for i in numList:\n",
    "  sum=0\n",
    "  for j in i:\n",
    "    sum+=int(j)\n",
    "  if sum> total:\n",
    "    total = sum\n",
    "    ls=i\n",
    "    \n",
    "print(f'{total}')\n",
    "# print(ls)\n",
    "\n",
    "print([int(x) for x in ls])"
   ]
  },
  {
   "cell_type": "code",
   "execution_count": 131,
   "metadata": {},
   "outputs": [
    {
     "name": "stdout",
     "output_type": "stream",
     "text": [
      "UB Jumper\n",
      "Not UB Jumper\n"
     ]
    }
   ],
   "source": [
    "#list task-3\n",
    "\n",
    "ls=[]\n",
    "while True:\n",
    "  user=input()\n",
    "  if user=='STOP':\n",
    "    break\n",
    "  else:\n",
    "    userInp=user.split(' ')\n",
    "    inp=[]\n",
    "    for i in userInp:\n",
    "      inp.append(int(i))\n",
    "    for i in range(len(inp)-1):\n",
    "      u=abs(inp[i]- inp[i+1])\n",
    "      ls.append(u)\n",
    "    \n",
    "    list=[i for i in range(1,len(inp))]\n",
    "\n",
    "    count=0\n",
    "    for i in ls:\n",
    "      if i not in list:\n",
    "        count+=1\n",
    "    if count!=0:\n",
    "      print('Not UB Jumper')\n",
    "    else:\n",
    "      print('UB Jumper')"
   ]
  },
  {
   "cell_type": "code",
   "execution_count": 133,
   "metadata": {},
   "outputs": [
    {
     "name": "stdout",
     "output_type": "stream",
     "text": [
      "1\n"
     ]
    }
   ],
   "source": [
    "#list task -4 \n",
    "\n",
    "n=int(input('Enter how many student : '))\n",
    "k=int(input('Enter how many time: '))\n",
    "\n",
    "stdList=[]\n",
    "for i in range(n):\n",
    "  p=int(input())\n",
    "  if (p+k)<6:\n",
    "    stdList.append(i)\n",
    "team=len(stdList)\n",
    "if team<3:\n",
    "  print('0')\n",
    "else:\n",
    "  print(int(team/3))\n",
    "\n"
   ]
  },
  {
   "cell_type": "code",
   "execution_count": 137,
   "metadata": {},
   "outputs": [
    {
     "name": "stdout",
     "output_type": "stream",
     "text": [
      "{'a': 400, 'b': 300, 'c': 200, 'd': 700, 'e': 200}\n",
      "Values : (200, 200, 300, 400, 700)\n"
     ]
    }
   ],
   "source": [
    "#dic task-1\n",
    "\n",
    "dict1={'a':100,'b':100, 'c':200, 'd':300}\n",
    "dict2={'a':300,'b':200, 'd':400, 'e':200}\n",
    "dict={}\n",
    "\n",
    "for i,j in dict1.items():\n",
    "  dict[i]=dict1[i]\n",
    "\n",
    "for i in dict2:\n",
    "  if i in dict.keys():\n",
    "    dict[i]=dict2[i]+dict[i]\n",
    "\n",
    "  else:\n",
    "    dict[i]=dict2[i]\n",
    "print(dict)\n",
    "value = tuple(sorted(dict.values()))\n",
    "print(f'Values : {value}')"
   ]
  },
  {
   "cell_type": "code",
   "execution_count": 138,
   "metadata": {},
   "outputs": [
    {
     "name": "stdout",
     "output_type": "stream",
     "text": [
      "11 - 3 items\n",
      "1 - 1 items\n",
      "2 - 1 items\n"
     ]
    }
   ],
   "source": [
    "#dict task-2\n",
    "\n",
    "ls=[]\n",
    "\n",
    "while True:\n",
    "  l=input()\n",
    "  if l ==\"STOP\":\n",
    "    break\n",
    "  l=int(l)\n",
    "  ls.append(l)\n",
    "  \n",
    "dict={}\n",
    "\n",
    "for i in range(len(ls)):\n",
    "  if ls[i] in dict:\n",
    "    dict[ls[i]]=dict[ls[i]]+1\n",
    "  else:\n",
    "    dict[ls[i]]=1\n",
    "\n",
    "for  i,j in dict.items():\n",
    "  print(f'{i} - {j} items')"
   ]
  },
  {
   "cell_type": "code",
   "execution_count": 140,
   "metadata": {},
   "outputs": [
    {
     "name": "stdout",
     "output_type": "stream",
     "text": [
      "{'value1': ['key1', 'key3'], 'value2': ['key2']}\n"
     ]
    }
   ],
   "source": [
    "#dic task-3\n",
    "dict01= {'key1': 'value1', 'key2' : 'value2', 'key3':'value1'}\n",
    "\n",
    "dict02={}\n",
    "\n",
    "for i,j in dict01.items():\n",
    "  if j not in dict02:\n",
    "    dict02[j]= [i]\n",
    "  else:\n",
    "    dict02[j].append(i)\n",
    "print(dict02)"
   ]
  },
  {
   "cell_type": "code",
   "execution_count": 142,
   "metadata": {},
   "outputs": [
    {
     "name": "stdout",
     "output_type": "stream",
     "text": [
      "4433555555666110966677755531111"
     ]
    }
   ],
   "source": [
    "#dict task-4\n",
    "dict={\n",
    "    '1': ['.',',','?','!',':'],\n",
    "    '2': ['A','B','C'],\n",
    "    '3': ['D','E','F'],\n",
    "    '4': ['G','H','I'],\n",
    "    '5': ['J','K','L'],\n",
    "    '6': ['M','N','O'],\n",
    "    '7': ['P','Q','R','S'],\n",
    "    '8': ['T','U','V'],\n",
    "    '9': ['W','X','Y','Z'],\n",
    "    '0': [\" \"]\n",
    "}\n",
    "userInp=input()\n",
    "str=userInp.upper()\n",
    "for i in str:\n",
    "  for j,k in dict.items():\n",
    "    if i in k:\n",
    "      for a in range(k.index(i)+1):\n",
    "        print(j, end='')"
   ]
  },
  {
   "cell_type": "code",
   "execution_count": null,
   "metadata": {},
   "outputs": [],
   "source": [
    "#function task-1\n",
    "\n",
    "def bmi_calc(cm,kg):\n",
    "  m=cm/100\n",
    "  bmi=kg/(m**2)\n",
    "  bmi=round(bmi,1)\n",
    "  if bmi< 18.5:\n",
    "    return f'Score is {bmi}. You are Underweight'\n",
    "  elif bmi >= 18.5 and bmi<=24.9:\n",
    "    return f'Score is {bmi}. You are Normal'\n",
    "  elif bmi >= 25 and bmi<=30:\n",
    "    return f'Score is {bmi}. You are Overweight'\n",
    "  elif bmi > 30:\n",
    "    return f'Score is {bmi}. You are Obese'\n",
    "\n",
    "print(bmi_calc(152,48))"
   ]
  },
  {
   "cell_type": "code",
   "execution_count": null,
   "metadata": {},
   "outputs": [],
   "source": [
    "#function task-2\n",
    "def func(minimum, maximum, divisor):\n",
    "  sum=0\n",
    "  for i in range(minimum, maximum):\n",
    "    if i%divisor == 0:\n",
    "      sum+=i\n",
    "  return sum\n",
    "\n",
    "print(func(0,10,2))"
   ]
  },
  {
   "cell_type": "code",
   "execution_count": 24,
   "metadata": {},
   "outputs": [
    {
     "name": "stdout",
     "output_type": "stream",
     "text": [
      "20\n"
     ]
    }
   ],
   "source": [
    "#function task-2\n",
    "def func(min, max, div):\n",
    "  sum=0\n",
    "  for i in range(min, max):\n",
    "    if i%div == 0:\n",
    "      sum+=i\n",
    "  return sum\n",
    "\n",
    "print(func(0,10,2))"
   ]
  },
  {
   "cell_type": "code",
   "execution_count": null,
   "metadata": {},
   "outputs": [],
   "source": [
    "#function task-3\n",
    "def calc_price(burger, place='Mohakhali'):\n",
    "  menu={\n",
    "      'BBQ Chicken Cheese Burger':250,\n",
    "      'Beef Burger':170,\n",
    "      'Naga Drums': 200\n",
    "  }\n",
    "  price= menu.get(burger) + (menu.get(burger)*0.08)\n",
    "  if place == 'Mohakhali':\n",
    "    price+=40\n",
    "  else:\n",
    "    price+=60\n",
    "  return price\n",
    "\n",
    "print(calc_price('Beef Burger'))\n"
   ]
  },
  {
   "cell_type": "code",
   "execution_count": 23,
   "metadata": {},
   "outputs": [
    {
     "name": "stdout",
     "output_type": "stream",
     "text": [
      "Changed : alice@sheba.xyz\n"
     ]
    }
   ],
   "source": [
    "#function task-4\n",
    "def replace_domain(email, new, old='kaaj.com'):\n",
    "  if old in email:\n",
    "    new_mail= email[:-(len(old))]+'sheba.xyz'\n",
    "    return f'Changed : {new_mail }'\n",
    "  else:\n",
    "    return f'Unchanged : {email}'\n",
    "\n",
    "print(replace_domain('alice@kaaj.com','sheba.xyz'))"
   ]
  },
  {
   "cell_type": "code",
   "execution_count": null,
   "metadata": {},
   "outputs": [],
   "source": [
    "#function task-5\n",
    "def chck_palid(x):\n",
    "  new_str=''\n",
    "  for i in x:\n",
    "    if i != ' ':\n",
    "      new_str+=i\n",
    "  if new_str == new_str[::-1]:\n",
    "    return 'Palindrome'\n",
    "  else:\n",
    "    return 'Not a Palindrome'\n",
    "\n",
    "print(chck_palid('madam'))"
   ]
  },
  {
   "cell_type": "code",
   "execution_count": 25,
   "metadata": {},
   "outputs": [
    {
     "name": "stdout",
     "output_type": "stream",
     "text": [
      "My favourite animal is a dog. A dog has sharp teeth so that it can eat flesh very easily. Do you know my pet dog’s name? I love my pet very much.\n"
     ]
    }
   ],
   "source": [
    "0#function task-6\n",
    "def capital(string):\n",
    "  emp_str=''\n",
    "  spe_chr='/!?.'\n",
    "  for i in range(len(string)):\n",
    "    if i ==0:\n",
    "      emp_str+= string[i].upper()\n",
    "    elif string[i-2] in spe_chr and string[i-1]==' ':\n",
    "      emp_str+= string[i].upper()\n",
    "    elif string[i]=='i' and string[i+1]==' ':\n",
    "      emp_str+= string[i].upper()\n",
    "    else:\n",
    "      emp_str+=string[i]\n",
    "  print(emp_str) \n",
    "    \n",
    "capital(\"\"\"my favourite animal is a dog. a dog has sharp teeth so that it can eat flesh very easily. do you know my pet dog’s name? i love my pet very much.\"\"\")\n"
   ]
  },
  {
   "cell_type": "markdown",
   "metadata": {},
   "source": []
  }
 ],
 "metadata": {
  "kernelspec": {
   "display_name": "Python 3.9.13 64-bit (microsoft store)",
   "language": "python",
   "name": "python3"
  },
  "language_info": {
   "codemirror_mode": {
    "name": "ipython",
    "version": 3
   },
   "file_extension": ".py",
   "mimetype": "text/x-python",
   "name": "python",
   "nbconvert_exporter": "python",
   "pygments_lexer": "ipython3",
   "version": "3.9.13"
  },
  "orig_nbformat": 4,
  "vscode": {
   "interpreter": {
    "hash": "43a24ecce625020f2d6631fb4cfb730bba30d877e9fe9ec2e0d85cb5a52a2b64"
   }
  }
 },
 "nbformat": 4,
 "nbformat_minor": 2
}
