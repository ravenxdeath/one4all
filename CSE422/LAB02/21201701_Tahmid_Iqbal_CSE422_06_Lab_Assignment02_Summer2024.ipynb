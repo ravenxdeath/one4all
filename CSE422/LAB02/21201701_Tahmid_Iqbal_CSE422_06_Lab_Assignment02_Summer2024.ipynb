{
  "cells": [
    {
      "cell_type": "markdown",
      "metadata": {
        "id": "LjGNAQH1OA3l"
      },
      "source": [
        "## CSE422 lab: Genetic Algorithm \n",
        " "
      ]
    },
    {
      "cell_type": "code",
      "execution_count": 83,
      "metadata": {},
      "outputs": [
        {
          "name": "stdout",
          "output_type": "stream",
          "text": [
            "name: TAHMID IQBAL\n",
            "ID: 21201701\n"
          ]
        }
      ],
      "source": [
        "print(\"name: TAHMID IQBAL\")\n",
        "print(\"ID: 21201701\")"
      ]
    },
    {
      "cell_type": "markdown",
      "metadata": {
        "id": "7W2dAmlIEMXj"
      },
      "source": [
        "#### Genetic Algorithm Pseudo code:\n",
        "\n"
      ]
    },
    {
      "cell_type": "markdown",
      "metadata": {
        "id": "gdQcmGl0_jvc"
      },
      "source": [
        "**function** GENETIC-ALGORITHM( population, FITNESS-FN) **returns** an individual\n",
        "\n",
        "> **inputs:** population- a set of individuals/chromosomes; FITNESS-FN- a function that measures the fitness of an individual\n",
        "\n",
        ">**repeat**\n",
        "new_population $\\leftarrow$ empty set\n",
        ">>**for** $i=1$ **to** size ($ population$) **do**\n",
        "$$\n",
        "\\begin{array}{l}\n",
        "x \\leftarrow \\text { RANDOM-SELECTION }(\\text { population, FITNESS-FN }) \\\\\n",
        "y \\leftarrow \\text { RANDOM-SELECTION }(\\text { population, FITNESS-FN }) \\\\\n",
        "child  \\leftarrow \\operatorname{CROSSOVER}(x, y)\n",
        "\\end{array}\n",
        "$$\n",
        ">>>**if** (some_random_number < mutation_threshold) **then** child$\\leftarrow$ MUTATE ( child )\n",
        "\n",
        ">>>add child to new_population\n",
        "\n",
        ">>population $\\leftarrow$ new_population\n",
        "\n",
        ">**until** some individual is fit enough, or enough time has elapsed\n",
        "\n",
        ">**return** the best individual in population, according to FITNESS-FN\n",
        "\n"
      ]
    },
    {
      "cell_type": "markdown",
      "metadata": {
        "id": "nDkKH11UOHvy"
      },
      "source": [
        "### Skeleton Code:"
      ]
    },
    {
      "cell_type": "markdown",
      "metadata": {
        "id": "Z86D3OcTgZAN"
      },
      "source": [
        "### Importing libraries"
      ]
    },
    {
      "cell_type": "code",
      "execution_count": 3,
      "metadata": {
        "id": "DVUZn7mX25Zj"
      },
      "outputs": [],
      "source": [
        "import numpy as np"
      ]
    },
    {
      "cell_type": "markdown",
      "metadata": {
        "id": "FrkwKxS0gUV5"
      },
      "source": [
        "### Fitness function"
      ]
    },
    {
      "cell_type": "code",
      "execution_count": null,
      "metadata": {
        "id": "CGWWuBT820Uo"
      },
      "outputs": [],
      "source": [
        "def fitness(population, n):\n",
        "\n",
        "  '''calculates the fitness score of each\n",
        "     of the individuals in the population\n",
        "\n",
        "     returns a 1D numpy array: index referring to\n",
        "     ith individual in population, and value referring\n",
        "     to the fitness score.'''\n",
        "\n",
        "\n",
        "  return"
      ]
    },
    {
      "cell_type": "markdown",
      "metadata": {},
      "source": [
        "# my fitness"
      ]
    },
    {
      "cell_type": "code",
      "execution_count": 4,
      "metadata": {},
      "outputs": [],
      "source": [
        "import numpy as np\n",
        "\n",
        "def fitness(chromosome, n, t):\n",
        "    overlap_penalty = 0\n",
        "    consistency_penalty = 0\n",
        "\n",
        "     \n",
        "    schedule = np.array(list(map(int, chromosome))).reshape(t, n)\n",
        " \n",
        "    for timeslot in schedule:\n",
        "        courses_scheduled = np.sum(timeslot)\n",
        "        if courses_scheduled > 1:\n",
        "            overlap_penalty += (courses_scheduled - 1)\n",
        " \n",
        "    for course_idx in range(n):\n",
        "        course_scheduled = np.sum(schedule[:, course_idx])\n",
        "        if course_scheduled != 1:\n",
        "            consistency_penalty += abs(course_scheduled - 1)\n",
        "\n",
        "    total_penalty = overlap_penalty + consistency_penalty\n",
        "    fitness_value = -total_penalty\n",
        "\n",
        "    return fitness_value\n",
        " \n",
        "with open(\"21201701_Tahmid_Iqbal_CSE422_06_Lab_Assignment02_InputFile_Summer2024.txt\", 'r') as file:\n",
        "    n, t = map(int, file.readline().split())\n",
        "    courses = [file.readline().strip() for i in range(n)]\n"
      ]
    },
    {
      "cell_type": "markdown",
      "metadata": {
        "id": "F-5xhfamezBP"
      },
      "source": [
        "### Random Selection function\n",
        "\n",
        "This built-in function might help to create the weighted random selection:\n",
        "\n",
        "`numpy.random.choice(a, size, replace, p)`\n",
        "\n",
        "`p` are the weights of the individuals- value between 0 and 1; refers to the probability of each individual being selected.\n",
        "\n",
        "`a` is the array\n",
        "\n",
        "`size` how many samples to return\n",
        "\n",
        "`replace = True`"
      ]
    },
    {
      "cell_type": "code",
      "execution_count": null,
      "metadata": {
        "id": "mCgercZ4_DQ8"
      },
      "outputs": [],
      "source": [
        "def select(population, fit):\n",
        "  ''' take input:  population and fit\n",
        "      fit contains fitness values of each of the individuals\n",
        "      in the population\n",
        "\n",
        "      return:  one individual randomly giving\n",
        "      more weight to ones which have high fitness score'''\n",
        "      \n",
        "  a = [0,1,2,3,4]\n",
        "  size = 1\n",
        "  p = [.31, .29, 0.26, 0.14]\n",
        "\n",
        "  return  "
      ]
    },
    {
      "cell_type": "markdown",
      "metadata": {},
      "source": [
        "# my selection"
      ]
    },
    {
      "cell_type": "code",
      "execution_count": 5,
      "metadata": {},
      "outputs": [],
      "source": [
        "def select(population, fitness_values):\n",
        "    total_fitness = sum(fitness_values)\n",
        "    selection_probs = [f/total_fitness for f in fitness_values]\n",
        "    selected_index = np.random.choice(len(population), p=selection_probs)\n",
        "    return population[selected_index]\n"
      ]
    },
    {
      "cell_type": "markdown",
      "metadata": {
        "id": "ysZu4DVmgshV"
      },
      "source": [
        "### Crossover function\n",
        "\n",
        "\n",
        "**function** CROSSOVER $(x, y)$ **returns** an individual\n",
        "\n",
        ">**inputs**: $x, y$  which are the parent individuals\n",
        "\n",
        ">$n \\leftarrow \\mathrm{LENGTH}(x) ; c \\leftarrow$ random number from 1 to $n$\n",
        "\n",
        ">**return** APPEND(SUBSTRING $(x, 1, c),$ SUBSTRING $(y, c+1, n))$"
      ]
    },
    {
      "cell_type": "code",
      "execution_count": null,
      "metadata": {
        "id": "ZtmoFQ9ugwN_"
      },
      "outputs": [],
      "source": [
        "def crossover(x, y):\n",
        "  '''take input: 2 parents - x, y.\n",
        "     Generate a random crossover point.\n",
        "     Append first half of x with second\n",
        "     half of y to create the child\n",
        "\n",
        "     returns: a child chromosome'''\n",
        "\n",
        "\n",
        "  return"
      ]
    },
    {
      "cell_type": "markdown",
      "metadata": {},
      "source": [
        "# my crossover"
      ]
    },
    {
      "cell_type": "code",
      "execution_count": 6,
      "metadata": {},
      "outputs": [],
      "source": [
        "def crossover(x, y):\n",
        "    n = len(x)\n",
        "    c = np.random.randint(1, n)   \n",
        "    child = x[:c] + y[c:]\n",
        "    return child\n"
      ]
    },
    {
      "cell_type": "markdown",
      "metadata": {
        "id": "RJJuuGbyxzho"
      },
      "source": [
        "###Mutation function"
      ]
    },
    {
      "cell_type": "code",
      "execution_count": null,
      "metadata": {
        "id": "zRIG9DXmxzFw"
      },
      "outputs": [],
      "source": [
        "def mutate(child):\n",
        "  '''take input: a child\n",
        "     mutates a random\n",
        "     gene into another random gene\n",
        "\n",
        "     returns: mutated child'''\n",
        "\n",
        "\n",
        "  return"
      ]
    },
    {
      "cell_type": "markdown",
      "metadata": {},
      "source": [
        "# my mutation"
      ]
    },
    {
      "cell_type": "code",
      "execution_count": 7,
      "metadata": {},
      "outputs": [],
      "source": [
        "def mutate(chromosome, mutation_rate=0.01):\n",
        "    chromosome = list(chromosome)\n",
        "    for i in range(len(chromosome)):\n",
        "        if np.random.rand() < mutation_rate:\n",
        "            chromosome[i] = '1' if chromosome[i] == '0' else '0'\n",
        "    return ''.join(chromosome)\n"
      ]
    },
    {
      "cell_type": "markdown",
      "metadata": {
        "id": "yOPop-7n5WYL"
      },
      "source": [
        "### Genetic Algorithm Function"
      ]
    },
    {
      "cell_type": "code",
      "execution_count": null,
      "metadata": {
        "id": "uw2sfb9nW_yo"
      },
      "outputs": [],
      "source": [
        "def GA(population, n, mutation_threshold = 0.3):\n",
        "  '''implement the pseudocode here by\n",
        "     calling the necessary functions- Fitness,\n",
        "     Selection, Crossover and Mutation\n",
        "\n",
        "     print: the max fitness value and the\n",
        "     chromosome that generated it which is ultimately\n",
        "     the solution board'''\n",
        "\n",
        "\n",
        "\n",
        "\n",
        "  return"
      ]
    },
    {
      "cell_type": "markdown",
      "metadata": {},
      "source": [
        "# My algo of genetic algo"
      ]
    },
    {
      "cell_type": "code",
      "execution_count": 8,
      "metadata": {},
      "outputs": [
        {
          "name": "stdout",
          "output_type": "stream",
          "text": [
            "Best Fitness: 0\n",
            "Best Solution: 100010001\n",
            "\n",
            "\n",
            "-------------------------\n",
            "for all other generations:- \n",
            "Generation 0:\n",
            "  Max Fitness: 0\n",
            "  Best Individual: 100010001\n",
            "  Best Fitness So Far: 0\n"
          ]
        }
      ],
      "source": [
        "def gen_v_algo(population, n, t, max_generations=100, mutation_threshold=0.01):\n",
        "    best_solution = None\n",
        "    best_fitness = -float('inf')\n",
        "    generation_logs = []\n",
        "\n",
        "    for generation in range(max_generations):\n",
        "        fitness_values = [fitness(individual, n, t) for individual in population]\n",
        "\n",
        "\n",
        "        max_fitness = max(fitness_values)\n",
        "        max_index = np.argmax(fitness_values)\n",
        "        current_best_solution = population[max_index]\n",
        "\n",
        " \n",
        "        if max_fitness > best_fitness:\n",
        "            best_fitness = max_fitness\n",
        "            best_solution = current_best_solution\n",
        "\n",
        "  \n",
        "        generation_log = (generation, max_fitness, current_best_solution, best_fitness)\n",
        "        generation_logs.append(generation_log)\n",
        " \n",
        "        if max_fitness == 0:\n",
        "            break\n",
        " \n",
        "        new_population = []\n",
        "        for i in range(len(population)):\n",
        "            parent1 = select(population, fitness_values)\n",
        "            parent2 = select(population, fitness_values)\n",
        "            child = crossover(parent1, parent2)\n",
        "            child = mutate(child, mutation_threshold)\n",
        "            new_population.append(child)\n",
        "\n",
        "        population = new_population\n",
        "\n",
        "   \n",
        "    with open('21201701_Tahmid_Iqbal_CSE422_06_Lab_Assignment02_OutputFile_Summer2024.txt', 'w') as file:\n",
        "        file.write(f\"Best Solution:\\n{best_solution}\\n\")\n",
        "        file.write(f\"Best Fitness:\\n{best_fitness}\\n\")\n",
        "\n",
        " \n",
        "    for generation, max_fitness, current_best_solution, best_fitness in generation_logs:\n",
        "\n",
        "        print(f\"Best Fitness: {best_fitness}\\nBest Solution: {best_solution}\") \n",
        "        print(f\"\\n\")\n",
        "        print(\"-------------------------\")\n",
        "        print(\"for all other generations:- \")\n",
        "        print(f\"Generation {generation}:\")\n",
        "        print(f\"  Max Fitness: {max_fitness}\")\n",
        "        print(f\"  Best Individual: {current_best_solution}\")\n",
        "        print(f\"  Best Fitness So Far: {best_fitness}\")\n",
        "\n",
        "    return best_solution, best_fitness\n",
        " \n",
        "population_size = 10\n",
        "chromosome_length = n * t\n",
        "population = [''.join(np.random.choice(['0', '1'], chromosome_length)) for i in range(population_size)]\n",
        " \n",
        "best_solution, best_fitness = gen_v_algo(population, n, t)\n"
      ]
    },
    {
      "cell_type": "markdown",
      "metadata": {
        "id": "cHKgDnDKb8mh"
      },
      "source": [
        "Running the Genetic Algorithm function"
      ]
    },
    {
      "cell_type": "code",
      "execution_count": null,
      "metadata": {
        "id": "01Pz8Q_Jb7qE"
      },
      "outputs": [],
      "source": [
        "'''for 8 queen problem, n = 8'''\n",
        "n = 8\n",
        "\n",
        "'''start_population denotes how many individuals/chromosomes are there\n",
        "  in the initial population n = 8'''\n",
        "start_population = 10\n",
        "\n",
        "'''if you want you can set mutation_threshold to a higher value,\n",
        "   to increase the chances of mutation'''\n",
        "mutation_threshold = 0.3\n",
        "\n",
        "'''creating the population with random integers between 0 to 7 inclusive\n",
        "   for n = 8 queen problem'''\n",
        "population = np.random.randint(0, n, (start_population, n))\n",
        "\n",
        "'''calling the GA function'''\n",
        "GA(population, n, mutation_threshold)\n",
        "\n"
      ]
    },
    {
      "cell_type": "markdown",
      "metadata": {},
      "source": [
        "# my 8 queen"
      ]
    },
    {
      "cell_type": "code",
      "execution_count": 9,
      "metadata": {},
      "outputs": [],
      "source": [
        "import numpy as np\n",
        "\n",
        "def fitness(population, n):\n",
        "    fitness_scores = np.zeros(len(population))\n",
        "    \n",
        "    for idx, chromosome in enumerate(population):\n",
        "        non_attacking_pairs = 0\n",
        "        for i in range(n):\n",
        "            for j in range(i + 1, n):\n",
        "                if chromosome[i] != chromosome[j] and abs(chromosome[i] - chromosome[j]) != abs(i - j):\n",
        "                    non_attacking_pairs += 1\n",
        "        fitness_scores[idx] = non_attacking_pairs\n",
        "    \n",
        "    return fitness_scores\n"
      ]
    },
    {
      "cell_type": "code",
      "execution_count": 10,
      "metadata": {},
      "outputs": [],
      "source": [
        "def select(population, fit):\n",
        "    probabilities = fit / fit.sum()\n",
        "    selected_idx = np.random.choice(len(population), p=probabilities)\n",
        "    return population[selected_idx]\n"
      ]
    },
    {
      "cell_type": "code",
      "execution_count": 11,
      "metadata": {},
      "outputs": [],
      "source": [
        "def crossover(x, y):\n",
        "    n = len(x)\n",
        "    c = np.random.randint(1, n)\n",
        "    child = np.concatenate((x[:c], y[c:]))\n",
        "    return child\n"
      ]
    },
    {
      "cell_type": "code",
      "execution_count": 12,
      "metadata": {},
      "outputs": [],
      "source": [
        "def mutate(child, mutation_rate=0.3):\n",
        "    n = len(child)\n",
        "    if np.random.rand() < mutation_rate:\n",
        "        i = np.random.randint(0, n)\n",
        "        j = np.random.randint(0, n)\n",
        "        child[i], child[j] = child[j], child[i]\n",
        "    return child\n"
      ]
    },
    {
      "cell_type": "code",
      "execution_count": 14,
      "metadata": {},
      "outputs": [],
      "source": [
        "def GA(population, n, mutation_threshold=0.3, max_generations=100):\n",
        "    best_individual = None\n",
        "    best_fitness = -np.inf\n",
        "    \n",
        "    for generation in range(max_generations):\n",
        "        new_population = []\n",
        "        fit = fitness(population, n)\n",
        "        \n",
        "        for i in range(len(population)):\n",
        "            x = select(population, fit)\n",
        "            y = select(population, fit)\n",
        "            child = crossover(x, y)\n",
        "            if np.random.rand() < mutation_threshold:\n",
        "                child = mutate(child)\n",
        "            new_population.append(child)\n",
        "        \n",
        "        population = np.array(new_population)\n",
        "        max_fitness = np.max(fit)\n",
        "        if max_fitness > best_fitness:\n",
        "            best_fitness = max_fitness\n",
        "            best_individual = population[np.argmax(fit)]\n",
        "        \n",
        "        # print(f'Generation {generation}: Max Fitness = {max_fitness}')\n",
        "    \n",
        "    # print('Best Individual:', best_individual)\n",
        "    # print('Best Fitness:', best_fitness)\n",
        "    return best_individual, best_fitness\n"
      ]
    },
    {
      "cell_type": "code",
      "execution_count": 16,
      "metadata": {},
      "outputs": [
        {
          "name": "stdout",
          "output_type": "stream",
          "text": [
            "Best outcome: [0 1 0 5 7 4 3 6], Fitness: 26.0\n"
          ]
        }
      ],
      "source": [
        "n = 8\n",
        "start_population = 10\n",
        "mutation_threshold = 0.3\n",
        "\n",
        " \n",
        "population = np.array([np.random.permutation(n) for i in range(start_population)])\n",
        " \n",
        "best_individual, best_fitness = GA(population, n, mutation_threshold)\n",
        "print(f'Best outcome: {best_individual}, Fitness: {best_fitness}')\n"
      ]
    },
    {
      "cell_type": "markdown",
      "metadata": {},
      "source": [
        "# TASK 02 SOLUTION"
      ]
    },
    {
      "cell_type": "code",
      "execution_count": 17,
      "metadata": {},
      "outputs": [],
      "source": [
        "import numpy as np\n",
        "\n",
        "def select_two_parents(population):\n",
        "    idx1, idx2 = np.random.choice(len(population), 2, replace=False)\n",
        "    parent1 = population[idx1]\n",
        "    parent2 = population[idx2]\n",
        "    return parent1, parent2, idx1, idx2\n",
        "\n",
        "def two_point_crossover(parent1, parent2):\n",
        "    n = len(parent1)\n",
        "    point1 = np.random.randint(1, n - 1)\n",
        "    point2 = np.random.randint(point1 + 1, n)\n",
        "    \n",
        "    child1 = np.concatenate((parent1[:point1], parent2[point1:point2], parent1[point2:]))\n",
        "    child2 = np.concatenate((parent2[:point1], parent1[point1:point2], parent2[point2:]))\n",
        "    \n",
        "    print(f'Crossover points: {point1}, {point2}')\n",
        "    \n",
        "    return child1, child2"
      ]
    },
    {
      "cell_type": "code",
      "execution_count": 19,
      "metadata": {},
      "outputs": [
        {
          "name": "stdout",
          "output_type": "stream",
          "text": [
            "Initial Population:\n",
            "Chromosome 0: [1 0 1 1 0 0 1]\n",
            "Chromosome 1: [1 1 0 1 0 1 0]\n",
            "Chromosome 2: [0 1 0 0 1 1 1]\n",
            "Chromosome 3: [1 1 0 1 0 1 1]\n",
            "Chromosome 4: [1 0 0 1 1 0 1]\n",
            "Chromosome 5: [0 0 1 0 1 1 0]\n",
            "Chromosome 6: [1 1 1 1 1 0 1]\n",
            "Chromosome 7: [0 0 1 1 1 0 0]\n",
            "Chromosome 8: [0 0 0 1 0 0 0]\n",
            "Chromosome 9: [1 1 1 1 1 1 0]\n",
            "\n",
            "Selected Parents (Chromosome 5 and Chromosome 1):\n",
            "Parent 1 (Chromosome 5): [0 0 1 0 1 1 0]\n",
            "Parent 2 (Chromosome 1): [1 1 0 1 0 1 0]\n",
            "Crossover points: 3, 5\n",
            "\n",
            "Resultant Offspring:\n",
            "Child 1: [0 0 1 1 0 1 0]\n",
            "Child 2: [1 1 0 0 1 1 0]\n"
          ]
        }
      ],
      "source": [
        "population_size = 10\n",
        "chromosome_length = 7\n",
        " \n",
        "population = np.random.randint(2, size=(population_size, chromosome_length))\n",
        "\n",
        " \n",
        "print(\"Initial Population:\")\n",
        "for idx, chromosome in enumerate(population):\n",
        "    print(f'Chromosome {idx}: {chromosome}')\n",
        "\n",
        " \n",
        "parent1, parent2, idx1, idx2 = select_two_parents(population)\n",
        " \n",
        "print(f'\\nSelected Parents (Chromosome {idx1} and Chromosome {idx2}):')\n",
        "print(f'Parent 1 (Chromosome {idx1}): {parent1}')\n",
        "print(f'Parent 2 (Chromosome {idx2}): {parent2}')\n",
        "\n",
        " \n",
        "child1, child2 = two_point_crossover(parent1, parent2)\n",
        "\n",
        "print(\"\\nResultant Offspring:\")\n",
        "print(\"Child 1:\", child1)\n",
        "print(\"Child 2:\", child2)"
      ]
    }
  ],
  "metadata": {
    "colab": {
      "provenance": []
    },
    "kernelspec": {
      "display_name": "Python 3",
      "name": "python3"
    },
    "language_info": {
      "codemirror_mode": {
        "name": "ipython",
        "version": 3
      },
      "file_extension": ".py",
      "mimetype": "text/x-python",
      "name": "python",
      "nbconvert_exporter": "python",
      "pygments_lexer": "ipython3",
      "version": "3.12.2"
    }
  },
  "nbformat": 4,
  "nbformat_minor": 0
}
