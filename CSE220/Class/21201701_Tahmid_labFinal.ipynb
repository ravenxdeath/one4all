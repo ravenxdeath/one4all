{
 "cells": [
  {
   "cell_type": "code",
   "execution_count": 2,
   "metadata": {},
   "outputs": [
    {
     "name": "stdout",
     "output_type": "stream",
     "text": [
      "[[1, 2, 3], [1, 3, 2], [2, 1, 3], [2, 3, 1], [3, 1, 2], [3, 2, 1]]\n"
     ]
    }
   ],
   "source": [
    "def permutations(lst, r):\n",
    "    n = len(lst)\n",
    "    if r == 0:\n",
    "        return [[]]\n",
    "    else:\n",
    "        objs = []\n",
    "        for i in range(n):\n",
    "            for perm in permutations(lst[:i] + lst[i+1:], r-1):\n",
    "                objs.append([lst[i]] + perm)\n",
    "        return objs\n",
    "lst = [1, 2, 3]\n",
    "r = 3\n",
    "print(permutations(lst, r))\n"
   ]
  },
  {
   "cell_type": "code",
   "execution_count": 2,
   "metadata": {},
   "outputs": [
    {
     "name": "stdout",
     "output_type": "stream",
     "text": [
      "1 2 3 4 5 6 "
     ]
    }
   ],
   "source": [
    "class ListNode:\n",
    "    def __init__(self, val=0, next=None):\n",
    "        self.val = val\n",
    "        self.next = next\n",
    "        \n",
    "def linedList(arr):\n",
    "    if not arr:\n",
    "        return None\n",
    "    head = ListNode(arr[0])\n",
    "    curr = head\n",
    "    for i in range(1, len(arr)):\n",
    "        curr.next = ListNode(arr[i])\n",
    "        curr = curr.next\n",
    "    return head\n",
    "        \n",
    "def mergedList(ls01, ls02):\n",
    "    dummy = ListNode(0)\n",
    "    curr = dummy\n",
    "    \n",
    "    while ls01 and ls02:\n",
    "        if ls01.val < ls02.val:\n",
    "            curr.next = ls01\n",
    "            ls01 = ls01.next\n",
    "        else:\n",
    "            curr.next = ls02\n",
    "            ls02 = ls02.next\n",
    "        curr = curr.next\n",
    "    \n",
    "    if ls01:\n",
    "        curr.next = ls01\n",
    "    else:\n",
    "        curr.next = ls02\n",
    "    \n",
    "    return dummy.next\n",
    "\n",
    "arr1 = [1, 3, 5]\n",
    "arr2 = [2, 4, 6]\n",
    "ls01 = linedList(arr1)\n",
    "ls02 = linedList(arr2)\n",
    "merged_list = mergedList(ls01, ls02)\n",
    "\n",
    "curr = merged_list\n",
    "while curr:\n",
    "    print(curr.val, end=' ')\n",
    "    curr = curr.next\n"
   ]
  },
  {
   "cell_type": "code",
   "execution_count": 4,
   "metadata": {},
   "outputs": [
    {
     "name": "stdout",
     "output_type": "stream",
     "text": [
      "1 2 3 4 5 6 "
     ]
    }
   ],
   "source": [
    "class Nodes:\n",
    "    def __init__(self, val=0, next=None):\n",
    "        self.val = val\n",
    "        self.next = next\n",
    "        \n",
    "def linedList(arr):\n",
    "    head = curr = None\n",
    "    for val in arr:\n",
    "        if not head:\n",
    "            head = curr = Nodes(val)\n",
    "        else:\n",
    "            curr.next = Nodes(val)\n",
    "            curr = curr.next\n",
    "    return head\n",
    "        \n",
    "def mergedList(ls01, ls02):\n",
    "    dummy = curr = Nodes(0)\n",
    "    while ls01 and ls02:\n",
    "        if ls01.val < ls02.val:\n",
    "            curr.next, ls01 = ls01, ls01.next\n",
    "        else:\n",
    "            curr.next, ls02 = ls02, ls02.next\n",
    "        curr = curr.next\n",
    "    curr.next = ls01 or ls02\n",
    "    return dummy.next\n",
    "\n",
    "arr1 = [1, 3, 5]\n",
    "arr2 = [2, 4, 6]\n",
    "ls01 = linedList(arr1)\n",
    "ls02 = linedList(arr2)\n",
    "merged_list = mergedList(ls01, ls02)\n",
    "\n",
    "while merged_list:\n",
    "    print(merged_list.val, end=' ')\n",
    "    merged_list = merged_list.next\n"
   ]
  }
 ],
 "metadata": {
  "kernelspec": {
   "display_name": "Python 3",
   "language": "python",
   "name": "python3"
  },
  "language_info": {
   "codemirror_mode": {
    "name": "ipython",
    "version": 3
   },
   "file_extension": ".py",
   "mimetype": "text/x-python",
   "name": "python",
   "nbconvert_exporter": "python",
   "pygments_lexer": "ipython3",
   "version": "3.9.13"
  },
  "orig_nbformat": 4
 },
 "nbformat": 4,
 "nbformat_minor": 2
}
