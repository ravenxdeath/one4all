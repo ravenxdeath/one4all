{
 "cells": [
  {
   "cell_type": "code",
   "execution_count": 1,
   "metadata": {},
   "outputs": [],
   "source": [
    "def is_expression_correct(expression):\n",
    "    stack = []\n",
    "    brackets = {\"(\": \")\", \"{\": \"}\", \"[\": \"]\"}\n",
    "    for i, char in enumerate(expression):\n",
    "        if char in brackets.keys():\n",
    "            stack.append(char)\n",
    "        elif char in brackets.values():\n",
    "            if not stack:\n",
    "                return f\"This expression is NOT correct.\\nError at character #{i}. '{char}' - not opened.\"\n",
    "            if brackets[stack[-1]] == char:\n",
    "                stack.pop()\n",
    "            else:\n",
    "                return f\"This expression is NOT correct.\\nError at character #{i}. '{char}' - expected '{brackets[stack[-1]]}'.\"\n",
    "    if stack:\n",
    "        return f\"This expression is NOT correct.\\nError at character #{len(expression)}. '{stack[-1]}' - not closed.\"\n",
    "    return \"This expression is correct.\"\n"
   ]
  },
  {
   "cell_type": "code",
   "execution_count": 2,
   "metadata": {},
   "outputs": [
    {
     "name": "stdout",
     "output_type": "stream",
     "text": [
      "Error at character #36. ']' - expected '}'.\n"
     ]
    }
   ],
   "source": [
    "stack = []\n",
    "openning = [\"(\", \"{\", \"[\"]\n",
    "closing = [\")\", \"}\", \"]\"]\n",
    "popped = []\n",
    "\n",
    "given_input = \"1+2*[3*3+{4-5(6(7/8/9)+10)-11+(12*8)]+14\"\n",
    "\n",
    "\n",
    "for i, char in enumerate(given_input):\n",
    "    if char in openning:\n",
    "        stack.append((char, i))\n",
    "    elif char in closing:\n",
    "        if not stack:\n",
    "            print(f\"Error at character #{i}. '{char}' - not opened.\")\n",
    "            break\n",
    "        last_opened, index = stack.pop()\n",
    "        if openning.index(last_opened) != closing.index(char):\n",
    "            print(f\"Error at character #{i}. '{char}' - expected '{closing[openning.index(last_opened)]}'.\")\n",
    "            break\n",
    "    else:\n",
    "        continue\n",
    "else:\n",
    "    if stack:\n",
    "        last_opened, index = stack.pop()\n",
    "        print(f\"Error at character #{index}. '{last_opened}' - not closed.\")\n",
    "    else:\n",
    "        print(\"The parentheses are balanced.\")\n"
   ]
  },
  {
   "cell_type": "code",
   "execution_count": 1,
   "metadata": {},
   "outputs": [
    {
     "name": "stdout",
     "output_type": "stream",
     "text": [
      "{[]{()}} - Balanced\n",
      "[{}{})(] - Unbalanced\n",
      "((() - Unbalanced\n",
      "1+2*[3*3+{4-5(6(7/8/9)+10)-11+(12*8)]+14 Unbalanced\n"
     ]
    }
   ],
   "source": [
    "# Python3 code to Check for\n",
    "# balanced parentheses in an expression\n",
    "open_list = [\"[\",\"{\",\"(\"]\n",
    "close_list = [\"]\",\"}\",\")\"]\n",
    "\n",
    "# Function to check parentheses\n",
    "def check(myStr):\n",
    "\tstack = []\n",
    "\tfor i in myStr:\n",
    "\t\tif i in open_list:\n",
    "\t\t\tstack.append(i)\n",
    "\t\telif i in close_list:\n",
    "\t\t\tpos = close_list.index(i)\n",
    "\t\t\tif ((len(stack) > 0) and\n",
    "\t\t\t\t(open_list[pos] == stack[len(stack)-1])):\n",
    "\t\t\t\tstack.pop()\n",
    "\t\t\telse:\n",
    "\t\t\t\treturn \"Unbalanced\"\n",
    "\tif len(stack) == 0:\n",
    "\t\treturn \"Balanced\"\n",
    "\telse:\n",
    "\t\treturn \"Unbalanced\"\n",
    "\n",
    "\n",
    "# Driver code\n",
    "string = \"{[]{()}}\"\n",
    "print(string,\"-\", check(string))\n",
    "\n",
    "string = \"[{}{})(]\"\n",
    "print(string,\"-\", check(string))\n",
    "\n",
    "string = \"((()\"\n",
    "print(string,\"-\",check(string))\n",
    "\n",
    "string = \"1+2*[3*3+{4-5(6(7/8/9)+10)-11+(12*8)]+14\"\n",
    "print(string, check(string) )\n",
    "\n"
   ]
  }
 ],
 "metadata": {
  "kernelspec": {
   "display_name": "Python 3",
   "language": "python",
   "name": "python3"
  },
  "language_info": {
   "codemirror_mode": {
    "name": "ipython",
    "version": 3
   },
   "file_extension": ".py",
   "mimetype": "text/x-python",
   "name": "python",
   "nbconvert_exporter": "python",
   "pygments_lexer": "ipython3",
   "version": "3.9.5"
  },
  "orig_nbformat": 4,
  "vscode": {
   "interpreter": {
    "hash": "b671c20432fcd147198c92e7f072af9e705f087eb990bee22b07f08caab9f630"
   }
  }
 },
 "nbformat": 4,
 "nbformat_minor": 2
}
