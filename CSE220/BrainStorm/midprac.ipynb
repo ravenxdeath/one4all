{
 "cells": [
  {
   "cell_type": "code",
   "execution_count": 4,
   "metadata": {},
   "outputs": [
    {
     "ename": "TypeError",
     "evalue": "unsupported operand type(s) for +: 'int' and 'NoneType'",
     "output_type": "error",
     "traceback": [
      "\u001b[1;31m---------------------------------------------------------------------------\u001b[0m",
      "\u001b[1;31mTypeError\u001b[0m                                 Traceback (most recent call last)",
      "\u001b[1;32mc:\\CODE\\TahmidRaven\\UNI\\CSE220\\BrainStorm\\midprac.ipynb Cell 1\u001b[0m in \u001b[0;36m<module>\u001b[1;34m\u001b[0m\n\u001b[0;32m     <a href='vscode-notebook-cell:/c%3A/CODE/TahmidRaven/UNI/CSE220/BrainStorm/midprac.ipynb#W0sZmlsZQ%3D%3D?line=17'>18</a>\u001b[0m arr1 \u001b[39m=\u001b[39m [\u001b[39m1\u001b[39m, \u001b[39m4\u001b[39m, \u001b[39m5\u001b[39m, \u001b[39m8\u001b[39m, \u001b[39mNone\u001b[39;00m, \u001b[39mNone\u001b[39;00m, \u001b[39mNone\u001b[39;00m]\n\u001b[0;32m     <a href='vscode-notebook-cell:/c%3A/CODE/TahmidRaven/UNI/CSE220/BrainStorm/midprac.ipynb#W0sZmlsZQ%3D%3D?line=18'>19</a>\u001b[0m arr2 \u001b[39m=\u001b[39m [\u001b[39m7\u001b[39m, \u001b[39m4\u001b[39m, \u001b[39m8\u001b[39m, \u001b[39m9\u001b[39m, \u001b[39m5\u001b[39m, \u001b[39mNone\u001b[39;00m, \u001b[39mNone\u001b[39;00m]\n\u001b[1;32m---> <a href='vscode-notebook-cell:/c%3A/CODE/TahmidRaven/UNI/CSE220/BrainStorm/midprac.ipynb#W0sZmlsZQ%3D%3D?line=19'>20</a>\u001b[0m arr3 \u001b[39m=\u001b[39m addArrays(arr1, arr2)\n\u001b[0;32m     <a href='vscode-notebook-cell:/c%3A/CODE/TahmidRaven/UNI/CSE220/BrainStorm/midprac.ipynb#W0sZmlsZQ%3D%3D?line=20'>21</a>\u001b[0m \u001b[39mprint\u001b[39m(arr3)\n",
      "\u001b[1;32mc:\\CODE\\TahmidRaven\\UNI\\CSE220\\BrainStorm\\midprac.ipynb Cell 1\u001b[0m in \u001b[0;36maddArrays\u001b[1;34m(arr1, arr2)\u001b[0m\n\u001b[0;32m      <a href='vscode-notebook-cell:/c%3A/CODE/TahmidRaven/UNI/CSE220/BrainStorm/midprac.ipynb#W0sZmlsZQ%3D%3D?line=8'>9</a>\u001b[0m \u001b[39m# calculate the sum according to the new formula\u001b[39;00m\n\u001b[0;32m     <a href='vscode-notebook-cell:/c%3A/CODE/TahmidRaven/UNI/CSE220/BrainStorm/midprac.ipynb#W0sZmlsZQ%3D%3D?line=9'>10</a>\u001b[0m \u001b[39mif\u001b[39;00m i \u001b[39m==\u001b[39m \u001b[39m0\u001b[39m:\n\u001b[1;32m---> <a href='vscode-notebook-cell:/c%3A/CODE/TahmidRaven/UNI/CSE220/BrainStorm/midprac.ipynb#W0sZmlsZQ%3D%3D?line=10'>11</a>\u001b[0m     cos[i] \u001b[39m=\u001b[39m val1 \u001b[39m+\u001b[39;49m val2 \u001b[39m+\u001b[39;49m arr2[\u001b[39m-\u001b[39;49m\u001b[39m1\u001b[39;49m]\n\u001b[0;32m     <a href='vscode-notebook-cell:/c%3A/CODE/TahmidRaven/UNI/CSE220/BrainStorm/midprac.ipynb#W0sZmlsZQ%3D%3D?line=11'>12</a>\u001b[0m \u001b[39melse\u001b[39;00m:\n\u001b[0;32m     <a href='vscode-notebook-cell:/c%3A/CODE/TahmidRaven/UNI/CSE220/BrainStorm/midprac.ipynb#W0sZmlsZQ%3D%3D?line=12'>13</a>\u001b[0m     cos[i] \u001b[39m=\u001b[39m val1 \u001b[39m+\u001b[39m val2 \u001b[39m+\u001b[39m arr2[\u001b[39m-\u001b[39m\u001b[39m1\u001b[39m] \u001b[39mif\u001b[39;00m i \u001b[39m==\u001b[39m \u001b[39mlen\u001b[39m(arr1) \u001b[39m-\u001b[39m \u001b[39m1\u001b[39m \u001b[39melse\u001b[39;00m \u001b[39m0\u001b[39m\n",
      "\u001b[1;31mTypeError\u001b[0m: unsupported operand type(s) for +: 'int' and 'NoneType'"
     ]
    }
   ],
   "source": [
    "\n",
    "\n",
    "\n",
    "def addArrays(arr1, arr2):\n",
    "    cos = [0] * len(arr1) # create a new array of zeros with same length as arr1 and arr2\n",
    "    \n",
    "    for i in range(len(arr1)):\n",
    "        # convert None values to 0\n",
    "        val1 = arr1[i] if arr1[i] is not None else 0\n",
    "        val2 = arr2[i] if arr2[i] is not None else 0\n",
    "        \n",
    "        # calculate the sum according to the new formula\n",
    "        if i == 0:\n",
    "            cos[i] = val1 + val2 + arr2[-1]\n",
    "        else:\n",
    "            cos[i] = val1 + val2 + arr2[-1] if i == len(arr1) - 1 else 0\n",
    "            \n",
    "    return cos\n",
    "\n",
    "\n",
    "arr1 = [1, 4, 5, 8, None, None, None]\n",
    "arr2 = [7, 4, 8, 9, 5, None, None]\n",
    "arr3 = addArrays(arr1, arr2)\n",
    "print(arr3)"
   ]
  },
  {
   "cell_type": "code",
   "execution_count": 5,
   "metadata": {},
   "outputs": [
    {
     "name": "stdout",
     "output_type": "stream",
     "text": [
      "J\n",
      "B\n",
      "M\n"
     ]
    }
   ],
   "source": [
    "class Node:\n",
    "    def __init__(self, data):\n",
    "        self.data = data\n",
    "        self.next = None\n",
    "\n",
    "class LinkedList:\n",
    "    def __init__(self):\n",
    "        self.head = None\n",
    "        \n",
    "    def insertEnd(self, Newnode):\n",
    "        if self.head is None:\n",
    "            self.head = Newnode\n",
    "            Newnode.next = self.head\n",
    "            return \n",
    "        currentNode = self.head\n",
    "        while currentNode.next is not self.head:\n",
    "            currentNode = currentNode.next\n",
    "        currentNode.next = Newnode\n",
    "        Newnode.next = self.head\n",
    "        \n",
    "    def printLinkedList(self):\n",
    "        currentNode = self.head\n",
    "        while True:\n",
    "            print (currentNode.data)\n",
    "            if currentNode.next is self.head:\n",
    "                break\n",
    "            currentNode = currentNode.next\n",
    "    \n",
    "    \n",
    "n1 = Node(\"J\")\n",
    "n2 = Node(\"B\")\n",
    "n3 = Node(\"M\")\n",
    "LinkedList = LinkedList()\n",
    "LinkedList.insertEnd(n1)\n",
    "LinkedList.insertEnd(n2)\n",
    "LinkedList.insertEnd(n3)\n",
    "LinkedList.printLinkedList()\n"
   ]
  }
 ],
 "metadata": {
  "kernelspec": {
   "display_name": "Python 3",
   "language": "python",
   "name": "python3"
  },
  "language_info": {
   "codemirror_mode": {
    "name": "ipython",
    "version": 3
   },
   "file_extension": ".py",
   "mimetype": "text/x-python",
   "name": "python",
   "nbconvert_exporter": "python",
   "pygments_lexer": "ipython3",
   "version": "3.9.5"
  },
  "orig_nbformat": 4
 },
 "nbformat": 4,
 "nbformat_minor": 2
}
