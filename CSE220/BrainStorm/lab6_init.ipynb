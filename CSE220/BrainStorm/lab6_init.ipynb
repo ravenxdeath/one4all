{
 "cells": [
  {
   "attachments": {},
   "cell_type": "markdown",
   "metadata": {},
   "source": [
    "##TASK 1"
   ]
  },
  {
   "cell_type": "code",
   "execution_count": 2,
   "metadata": {},
   "outputs": [
    {
     "data": {
      "text/plain": [
       "120"
      ]
     },
     "execution_count": 2,
     "metadata": {},
     "output_type": "execute_result"
    }
   ],
   "source": [
    "#Task 1.a\n",
    "def fact(n):\n",
    "    if n== 0 or n== 1:\n",
    "        return 1\n",
    "    else:\n",
    "        return n * fact(n-1)\n",
    "    \n",
    "fact(5)"
   ]
  },
  {
   "cell_type": "code",
   "execution_count": 3,
   "metadata": {},
   "outputs": [
    {
     "data": {
      "text/plain": [
       "55"
      ]
     },
     "execution_count": 3,
     "metadata": {},
     "output_type": "execute_result"
    }
   ],
   "source": [
    "#Task 1.b\n",
    "\n",
    "def fib(n):\n",
    "    if n == 0 or n == 1:\n",
    "        return n\n",
    "    else:\n",
    "        return fib(n-1)+fib(n-2)\n",
    "    \n",
    "fib(10)"
   ]
  },
  {
   "cell_type": "code",
   "execution_count": 4,
   "metadata": {},
   "outputs": [
    {
     "name": "stdout",
     "output_type": "stream",
     "text": [
      "1\n",
      "2\n",
      "3\n",
      "4\n",
      "5\n"
     ]
    }
   ],
   "source": [
    "#Task 1.c\n",
    "\n",
    "def arr_recur(arr, i=0):\n",
    "    # Base case when index == len(arr)\n",
    "    if i == len(arr):\n",
    "        return\n",
    "\n",
    "    print(arr[i])\n",
    "    arr_recur(arr, i+1)\n",
    "\n",
    "arr = [1, 2, 3, 4, 5]\n",
    "arr_recur(arr)\n"
   ]
  },
  {
   "cell_type": "code",
   "execution_count": 5,
   "metadata": {},
   "outputs": [
    {
     "name": "stdout",
     "output_type": "stream",
     "text": [
      "2\n",
      "3\n",
      "5\n",
      "7\n",
      "11\n",
      "13\n"
     ]
    }
   ],
   "source": [
    "#Task 1.c\n",
    "\n",
    "def arr_recur(arr, i =0):\n",
    "    # Base case when index == len(arr)\n",
    "    \n",
    "    if i == len(arr):\n",
    "        return \n",
    "    \n",
    "    print(arr[i])\n",
    "    arr_recur(arr, i+1)\n",
    "\n",
    "arr = [2,3,5,7,11,13]\n",
    "arr_recur(arr)"
   ]
  },
  {
   "cell_type": "code",
   "execution_count": 6,
   "metadata": {},
   "outputs": [
    {
     "data": {
      "text/plain": [
       "27"
      ]
     },
     "execution_count": 6,
     "metadata": {},
     "output_type": "execute_result"
    }
   ],
   "source": [
    "#Task 1.d\n",
    "\n",
    "def powerN(base, n):\n",
    "    \n",
    "    if n == 0:\n",
    "        return 1\n",
    "    else:\n",
    "        return (base * powerN(base, n-1))\n",
    "\n",
    "powerN(3,3)\n",
    "        "
   ]
  },
  {
   "cell_type": "code",
   "execution_count": 15,
   "metadata": {},
   "outputs": [
    {
     "name": "stdout",
     "output_type": "stream",
     "text": [
      "011000"
     ]
    }
   ],
   "source": [
    "#Task 2.a\n",
    "\n",
    "def DecimalToBinary(num):\n",
    "\t\n",
    "\tif num >= 1:\n",
    "\t\tDecimalToBinary(num // 2)\n",
    "\tprint(num % 2, end=\"\")\n",
    "\n",
    "dec_val = 24\n",
    "DecimalToBinary(dec_val)\n",
    "\n",
    "\n"
   ]
  },
  {
   "cell_type": "code",
   "execution_count": 21,
   "metadata": {},
   "outputs": [
    {
     "name": "stdout",
     "output_type": "stream",
     "text": [
      "15\n"
     ]
    }
   ],
   "source": [
    "#Task 2.b\n",
    "\n",
    "class Node:\n",
    "    def __init__(self, val):\n",
    "        self.val = val\n",
    "        self.next = None\n",
    "        \n",
    "def sumLinkedList(head):\n",
    "    if not head:\n",
    "        return 0\n",
    "    else:\n",
    "        return head.val + sumLinkedList(head.next)\n",
    "\n",
    "head = Node(1)\n",
    "head.next = Node(2)\n",
    "head.next.next = Node(3)\n",
    "head.next.next.next = Node(4)\n",
    "head.next.next.next.next = Node(5)\n",
    "\n",
    "# print(sumLinkedList)\n",
    "print(sumLinkedList(head)) # Output: 15\n"
   ]
  },
  {
   "cell_type": "code",
   "execution_count": 20,
   "metadata": {},
   "outputs": [
    {
     "name": "stdout",
     "output_type": "stream",
     "text": [
      "40\n",
      "30\n",
      "20\n",
      "10\n"
     ]
    }
   ],
   "source": [
    "#Task 2.c\n",
    "\n",
    "class Node:\n",
    "    def __init__(self, val):\n",
    "        self.val = val\n",
    "        self.next = None\n",
    "\n",
    "def printReverse(head):\n",
    "    if not head:\n",
    "        return\n",
    "    else:\n",
    "        printReverse(head.next)\n",
    "        print(head.val)\n",
    "        \n",
    "head = Node(10)\n",
    "head.next = Node(20)\n",
    "head.next.next = Node(30)\n",
    "head.next.next.next = Node(40)\n",
    "# Linked list now 10->20->30->40 reverse: 40 30 20 10 \n",
    "printReverse(head) \n",
    "\n"
   ]
  },
  {
   "cell_type": "code",
   "execution_count": 29,
   "metadata": {},
   "outputs": [
    {
     "name": "stdout",
     "output_type": "stream",
     "text": [
      "[1, 2, 3, 4, 5, 6, 7, 8, 9, 10, 11, 12, 13, 14, 15, 16, 17]\n"
     ]
    }
   ],
   "source": [
    "def flattenList(given_list, output_list):\n",
    "    for i in given_list:\n",
    "        if type(i) == list:\n",
    "            flattenList(i, output_list)\n",
    "        else:\n",
    "            output_list.append(i)\n",
    "    return output_list\n",
    "\n",
    "given_list = [1, [2, [3, [4], 5], 6], 7, 8, [9, [[10, 11], 12], 13], 14, [15, [16, [17]]]]\n",
    "output_list = flattenList(given_list, [])\n",
    "print(output_list) \n"
   ]
  },
  {
   "cell_type": "code",
   "execution_count": 27,
   "metadata": {},
   "outputs": [
    {
     "name": "stdout",
     "output_type": "stream",
     "text": [
      "[1, 2, 3, 4, 5, 6, 7, 8, 9, 10, 11, 12, 13, 14, 15, 16, 17]\n"
     ]
    }
   ],
   "source": []
  },
  {
   "cell_type": "code",
   "execution_count": 36,
   "metadata": {},
   "outputs": [
    {
     "name": "stdout",
     "output_type": "stream",
     "text": [
      "[1, 2, 3, 4, 5, 6, 7, 8, 9, 10, 11, 12, 13, 14, 15, 16, 17]\n"
     ]
    },
    {
     "ename": "TypeError",
     "evalue": "flattenList() takes 1 positional argument but 2 were given",
     "output_type": "error",
     "traceback": [
      "\u001b[1;31m---------------------------------------------------------------------------\u001b[0m",
      "\u001b[1;31mTypeError\u001b[0m                                 Traceback (most recent call last)",
      "Cell \u001b[1;32mIn[36], line 17\u001b[0m\n\u001b[0;32m     14\u001b[0m \u001b[39mprint\u001b[39m(output_list)\n\u001b[0;32m     16\u001b[0m given_list \u001b[39m=\u001b[39m [\u001b[39m1\u001b[39m, [\u001b[39m2\u001b[39m, [\u001b[39m3\u001b[39m, [\u001b[39m4\u001b[39m], \u001b[39m5\u001b[39m], \u001b[39m6\u001b[39m], \u001b[39m7\u001b[39m, \u001b[39m8\u001b[39m, [\u001b[39m9\u001b[39m, [[\u001b[39m10\u001b[39m, \u001b[39m11\u001b[39m], \u001b[39m12\u001b[39m], \u001b[39m13\u001b[39m], \u001b[39m14\u001b[39m, [\u001b[39m15\u001b[39m, [\u001b[39m16\u001b[39m, [\u001b[39m17\u001b[39m]]]]\n\u001b[1;32m---> 17\u001b[0m output_list \u001b[39m=\u001b[39m flattenList(given_list, [])\n\u001b[0;32m     18\u001b[0m \u001b[39mprint\u001b[39m(output_list) \n",
      "\u001b[1;31mTypeError\u001b[0m: flattenList() takes 1 positional argument but 2 were given"
     ]
    }
   ],
   "source": [
    "def flattenList(given_list):\n",
    "    if not given_list:\n",
    "        return []\n",
    "    \n",
    "    val, *args = given_list\n",
    "    if type(val) == list:\n",
    "        return flattenList(val) + flattenList(args)\n",
    "    else:\n",
    "        return [val] + flattenList(args)\n",
    "    \n",
    "given_list = [1, [2, [3, [4], 5], 6], 7, 8, [9, [[10, 11], 12], 13], 14, [15, [16, [17]]]]\n",
    "output_list = flattenList(given_list)\n",
    "# output_list = flattenList(given_list, []) # Initial empty list is sent for update\n",
    "print(output_list)\n",
    "\n",
    "\n"
   ]
  },
  {
   "cell_type": "code",
   "execution_count": 40,
   "metadata": {},
   "outputs": [
    {
     "name": "stdout",
     "output_type": "stream",
     "text": [
      "[1, 2, 3, 4, 5, 6, 7, 8, 9, 10, 11, 12, 13, 14, 15, 16, 17]\n"
     ]
    }
   ],
   "source": [
    "def flattenList(given_list, output_list):\n",
    "    if not given_list:\n",
    "        return output_list\n",
    "    \n",
    "    val, *args = given_list\n",
    "    if type(val) == list:\n",
    "        output_list = flattenList(val, output_list)\n",
    "        output_list = flattenList(args, output_list)\n",
    "    else:\n",
    "        output_list.append(val)\n",
    "        output_list = flattenList(args, output_list)\n",
    "    \n",
    "    return output_list\n",
    "\n",
    "given_list = [1, [2, [3, [4], 5], 6], 7, 8, [9, [[10, 11], 12], 13], 14, [15, [16, [17]]]]\n",
    "output_list = flattenList(given_list, [])\n",
    "print(output_list) \n",
    "\n"
   ]
  },
  {
   "cell_type": "code",
   "execution_count": 3,
   "metadata": {},
   "outputs": [
    {
     "name": "stdout",
     "output_type": "stream",
     "text": [
      "18\n"
     ]
    }
   ],
   "source": [
    "#Task 3\n",
    "\n",
    "def hocBuilder(height):\n",
    "  if height==0:\n",
    "    return 0\n",
    "  elif height==1:\n",
    "    return 8\n",
    "  else:\n",
    "    return 5+ hocBuilder(height-1)\n",
    "\n",
    "crd = hocBuilder(3)\n",
    "print(crd)"
   ]
  },
  {
   "cell_type": "code",
   "execution_count": 7,
   "metadata": {},
   "outputs": [
    {
     "name": "stdout",
     "output_type": "stream",
     "text": [
      "1 \n",
      "1 2 \n",
      "1 2 3 \n",
      "1 2 3 4 \n",
      "1 2 3 4 5 \n"
     ]
    }
   ],
   "source": [
    "#Task 4.a\n",
    "\n",
    "def loop(n):\n",
    "  if n==0:\n",
    "    return 0\n",
    "  else: \n",
    "    loop(n-1)\n",
    "    print(n,end=' ')\n",
    "def patt(num):\n",
    "  if num==0:\n",
    "    return\n",
    "  patt(num-1)\n",
    "  loop(num)\n",
    "  print()\n",
    "patt(5) \n",
    "\n"
   ]
  },
  {
   "cell_type": "code",
   "execution_count": 17,
   "metadata": {},
   "outputs": [
    {
     "name": "stdout",
     "output_type": "stream",
     "text": [
      "1 \n",
      "1 2 \n",
      "1 2 3 \n",
      "1 2 3 4 \n",
      "1 2 3 4 5 \n"
     ]
    }
   ],
   "source": [
    "#Task 4.a\n",
    "\n",
    "def loop(n):\n",
    "    for j in range(1, n+1):\n",
    "        print(j, end=\" \")\n",
    "    print()\n",
    "\n",
    "def patt(num):\n",
    "    if num == 0:\n",
    "        return\n",
    "    patt(num-1)\n",
    "    loop(num)\n",
    "\n",
    "n = int(input(\"Enter a number: \"))\n",
    "patt(n)\n"
   ]
  },
  {
   "cell_type": "code",
   "execution_count": 19,
   "metadata": {},
   "outputs": [
    {
     "name": "stdout",
     "output_type": "stream",
     "text": [
      "    1 \n",
      "   1 2 \n",
      "  1 2 3 \n",
      " 1 2 3 4 \n",
      "1 2 3 4 5 \n"
     ]
    }
   ],
   "source": [
    "#Task 4.b\n",
    "\n",
    "def spc(n):\n",
    "  if n == 0:\n",
    "    return 0\n",
    "  else:\n",
    "    spc(n-1)\n",
    "    print(\"\",end=\" \")\n",
    "\n",
    "\n",
    "def loop(n):\n",
    "  if n == 0:\n",
    "    return 0\n",
    "  else:\n",
    "    loop(n-1)\n",
    "    print(n,end=\" \")\n",
    "\n",
    "def patt(n,r):\n",
    "  if n==0:\n",
    "    return 0\n",
    "  else:\n",
    "    spc(n-1)\n",
    "    loop(r-n+1)\n",
    "    print()\n",
    "    patt(n-1,r)\n",
    "\n",
    "patt(5,5)"
   ]
  },
  {
   "cell_type": "code",
   "execution_count": 2,
   "metadata": {},
   "outputs": [
    {
     "name": "stdout",
     "output_type": "stream",
     "text": [
      "1 2 3 4 5 \n",
      "1 2 3 4 \n",
      "1 2 3 \n",
      "1 2 \n",
      "1 \n"
     ]
    }
   ],
   "source": [
    "def print_pattern(n, i=1):\n",
    "    if n == 0:\n",
    "        return\n",
    "    elif i <= n:\n",
    "        print(i, end=' ')\n",
    "        print_pattern(n, i+1)\n",
    "    else:\n",
    "        print()\n",
    "        print_pattern(n-1, 1)\n",
    "\n",
    "n = int(input(\"Enter a number: \"))\n",
    "print_pattern(n)\n"
   ]
  },
  {
   "cell_type": "code",
   "execution_count": 23,
   "metadata": {},
   "outputs": [
    {
     "name": "stdout",
     "output_type": "stream",
     "text": [
      "    1\n",
      "   12\n",
      "  123\n",
      " 1234\n",
      "12345\n"
     ]
    }
   ],
   "source": [
    "#Task 4.b\n",
    "\n",
    "def loop(n, spaces):\n",
    "    print(\" \" * spaces, end=\"\")\n",
    "    for j in range(1, n+1):\n",
    "        print(j, end=\"\")\n",
    "    print()\n",
    "\n",
    "def patt(num, spaces):\n",
    "    if num == 0:\n",
    "        return\n",
    "    patt(num-1, spaces+1)\n",
    "    loop(num, spaces)\n",
    "\n",
    "n = int(input(\"Sample input: \"))\n",
    "patt(n, 0)\n",
    "\n"
   ]
  },
  {
   "cell_type": "code",
   "execution_count": 8,
   "metadata": {},
   "outputs": [
    {
     "name": "stdout",
     "output_type": "stream",
     "text": [
      "1. Investment: 25000; Profit: 0.0\n",
      "2. Investment: 100000; Profit: 3375.0\n",
      "3. Investment: 250000; Profit: 15375.0\n",
      "4. Investment: 350000; Profit: 23375.0\n"
     ]
    }
   ],
   "source": [
    "#Task 5\n",
    "\n",
    "class FinalQ:\n",
    "    def print(self, array, idx):\n",
    "        if idx < len(array):\n",
    "            investment = array[idx]\n",
    "            profit = self.calcProfit(investment)\n",
    "            print(f\"{idx+1}. Investment: {investment}; Profit: {profit}\")\n",
    "            self.print(array, idx+1)\n",
    "\n",
    "    def calcProfit(self, investment):\n",
    "        if investment <= 100000:\n",
    "            profit = (investment - 25000) * 0.045\n",
    "        else:\n",
    "            profit = (75000 * 0.045) + ((investment - 100000) * 0.08)\n",
    "        return profit\n",
    "    \n",
    "#Tester \n",
    "array=[25000,100000,250000,350000] \n",
    "f = FinalQ() \n",
    "f.print(array,0)\n",
    "\n"
   ]
  },
  {
   "cell_type": "code",
   "execution_count": null,
   "metadata": {},
   "outputs": [],
   "source": [
    "class FinalQ:\n",
    "    def prn(self, array, idx):\n",
    "        if (idx < len(array)):\n",
    "            profit = self.calcProfit(array[idx])\n",
    "        print(str(1+idx)+\".\",\"Investment:\",str(array[idx])+';',\"Profit: \",profit)\n",
    "        self.prn(array, idx + 1)\n",
    "            \n",
    "    def calcProfit(self, investment):\n",
    "        if investment <= 25000:\n",
    "            return 0.0\n",
    "        elif investment <= 100000:\n",
    "            return (investment-25000) * 0.045\n",
    "        else:\n",
    "            return (75000 * 0.045) + ((investment-100000) * 0.08)\n",
    "\n",
    "\n",
    "array = [25000, 100000, 250000, 350000]\n",
    "f = FinalQ()\n",
    "f.prn(array, 0)\n"
   ]
  },
  {
   "cell_type": "code",
   "execution_count": 26,
   "metadata": {},
   "outputs": [
    {
     "name": "stdout",
     "output_type": "stream",
     "text": [
      "1. Investment: 25000; Profit: 0.0\n",
      "2. Investment: 100000; Profit: 3375.0\n",
      "3. Investment: 250000; Profit: 15375.0\n",
      "4. Investment: 350000; Profit: 23375.0\n"
     ]
    }
   ],
   "source": [
    "#Task 5\n",
    "\n",
    "class FinalQ:\n",
    "    def print(self, array, idx=0):\n",
    "        if idx == len(array):\n",
    "            return\n",
    "        \n",
    "        invest = array[idx]\n",
    "        profit = self.calcProfit(invest)\n",
    "        # print(f\"{idx+1}. Investment: {invest}; Profit: {profit}\")\n",
    "        print(str(idx+1) + \". Investment: \" + str(invest) + \"; Profit: \" + str(profit))\n",
    "\n",
    "        self.print(array, idx+1)\n",
    "\n",
    "    def calcProfit(self, invest):\n",
    "        if invest <= 100000:\n",
    "            return (invest - 25000) * 0.045\n",
    "        else:\n",
    "            return (75000 * 0.045) + ((invest - 100000) * 0.08)\n",
    "        \n",
    "#Tester \n",
    "array = [25000, 100000, 250000, 350000] \n",
    "f = FinalQ() \n",
    "f.print(array)\n"
   ]
  },
  {
   "cell_type": "code",
   "execution_count": null,
   "metadata": {},
   "outputs": [],
   "source": []
  }
 ],
 "metadata": {
  "kernelspec": {
   "display_name": "Python 3",
   "language": "python",
   "name": "python3"
  },
  "language_info": {
   "codemirror_mode": {
    "name": "ipython",
    "version": 3
   },
   "file_extension": ".py",
   "mimetype": "text/x-python",
   "name": "python",
   "nbconvert_exporter": "python",
   "pygments_lexer": "ipython3",
   "version": "3.9.13"
  },
  "orig_nbformat": 4
 },
 "nbformat": 4,
 "nbformat_minor": 2
}
