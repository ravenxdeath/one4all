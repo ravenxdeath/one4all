{
 "cells": [
  {
   "cell_type": "code",
   "execution_count": 18,
   "metadata": {},
   "outputs": [
    {
     "name": "stdout",
     "output_type": "stream",
     "text": [
      "[0, 0, 0, 0, 0, 0, 1, 0, 1, 0, 2, 1, 1]\n",
      "[2, 0, 0, 0, 0, 0, 1, 1, 0, 0, 0, 1]\n",
      "False\n",
      "[3, 5, 7, 7, 8, 9]\n"
     ]
    }
   ],
   "source": [
    "\n",
    "\n",
    "#Task 1\n",
    "class KeyIndex:\n",
    "  def __init__(self,a):\n",
    "    self.a = a\n",
    "    self.mini = min(self.a)\n",
    "    self.max = max(self.a)\n",
    "    self.abs = abs(self.mini)\n",
    "    size = self.abs + self.max + 1\n",
    "    self.k = [0]*size\n",
    "\n",
    "    for i in self.a:\n",
    "      idx = i + self.abs\n",
    "      self.k[idx] = self.k[idx] + 1\n",
    "    print(self.k)\n",
    "\n",
    "\n",
    "  def search(self,ele):\n",
    "    elem = ele + self.abs\n",
    "    if self.k[elem] != 0:\n",
    "      return True\n",
    "    else:\n",
    "      return False\n",
    "\n",
    "  def sort(self):\n",
    "    srt = [0]*len(self.a)\n",
    "    j = 0\n",
    "    for i in range(len(self.k)):\n",
    "      if self.k[i] != 0:\n",
    "        for index in range(self.k[i]):\n",
    "          srt[j]=i-self.abs\n",
    "          j+=1\n",
    "\n",
    "    return srt\n",
    "\n",
    "\n",
    "arr=[9,7,8,5,7,3]\n",
    "obj1=KeyIndex(arr)\n",
    "arr2=[2,3,-4,7,-4]\n",
    "obj2=KeyIndex(arr2)\n",
    "print(obj2.search(-3))\n",
    "print(obj1.sort())\n",
    "\n",
    "\n",
    "\n",
    "\n"
   ]
  },
  {
   "cell_type": "code",
   "execution_count": null,
   "metadata": {},
   "outputs": [],
   "source": []
  },
  {
   "cell_type": "code",
   "execution_count": 19,
   "metadata": {},
   "outputs": [
    {
     "name": "stdout",
     "output_type": "stream",
     "text": [
      "[0, 0, 0, 0, 'ST1E89B8A32', 'ST1E89B8A32', 0, 0, 0]\n"
     ]
    }
   ],
   "source": [
    "\n",
    "#Task 2\n",
    "\n",
    "def HashTable(ls):\n",
    "  v = ['A','E','I','O','U']\n",
    "\n",
    "  table = [0]*9\n",
    "    \n",
    "  for string in ls:\n",
    "    cons = 0\n",
    "    tot = 0\n",
    "    for i in string:\n",
    "      if i not in v and 65<=ord(i)<=90:\n",
    "        cons +=1\n",
    "      else:\n",
    "        if 48<=ord(i)<=57:\n",
    "          tot += int(i)\n",
    "      \n",
    "    new_index = ((cons*24)+tot)%9\n",
    "\n",
    "    if table[new_index] == 0:\n",
    "      table[new_index] = string\n",
    "    else:\n",
    "      while table[new_index] != 0:\n",
    "        nxt = (new_index+1)%len(table)\n",
    "        table[nxt] = string\n",
    "        break\n",
    "            \n",
    "\n",
    "  print(table)\n",
    "\n",
    "\n",
    "arr = [\"ST1E89B8A32\",\"ST1E89B8A32\"]\n",
    "\n",
    "HashTable(arr)"
   ]
  },
  {
   "cell_type": "code",
   "execution_count": 2,
   "metadata": {},
   "outputs": [
    {
     "name": "stdout",
     "output_type": "stream",
     "text": [
      "[0, 0, 0, 0, 'ST1E89B8A32', 'ST1E89B8A32', 0, 0, 0]\n"
     ]
    }
   ],
   "source": [
    "def HashTable(ls):\n",
    "    v = ['A','E','I','O','U']\n",
    "\n",
    "    table = [0]*9\n",
    "\n",
    "    for string in ls:\n",
    "        cons = 0\n",
    "        tot = 0\n",
    "        for i in string:\n",
    "            if i not in v and 65<=ord(i)<=90:\n",
    "                cons +=1\n",
    "            else:\n",
    "                if 48<=ord(i)<=57:\n",
    "                    tot += int(i)\n",
    "\n",
    "        new_index = ((cons*24)+tot)%9\n",
    "\n",
    "        if table[new_index] == 0:\n",
    "            table[new_index] = string\n",
    "        else:\n",
    "            index = new_index\n",
    "            while table[index] != 0:\n",
    "                index = (index+1)%len(table)\n",
    "                if index == new_index:\n",
    "                    print(\"Table is full, could not insert\", string)\n",
    "                    break\n",
    "            else:\n",
    "                table[index] = string\n",
    "\n",
    "    print(table)\n",
    "arr = [\"ST1E89B8A32\",\"ST1E89B8A32\"]\n",
    "HashTable(arr)\n",
    "\n"
   ]
  }
 ],
 "metadata": {
  "kernelspec": {
   "display_name": "Python 3",
   "language": "python",
   "name": "python3"
  },
  "language_info": {
   "codemirror_mode": {
    "name": "ipython",
    "version": 3
   },
   "file_extension": ".py",
   "mimetype": "text/x-python",
   "name": "python",
   "nbconvert_exporter": "python",
   "pygments_lexer": "ipython3",
   "version": "3.9.13"
  },
  "orig_nbformat": 4
 },
 "nbformat": 4,
 "nbformat_minor": 2
}
