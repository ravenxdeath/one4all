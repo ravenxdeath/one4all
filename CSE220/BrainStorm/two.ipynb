{
 "cells": [
  {
   "cell_type": "code",
   "execution_count": 4,
   "metadata": {},
   "outputs": [
    {
     "name": "stdout",
     "output_type": "stream",
     "text": [
      "Start index for first row:  0 Start character:  f\n",
      "Start index for second row:  0 Start character:  1\n",
      "f   f 0 0 0 0 0 0 0 \n",
      "0 f   f 0 0 0 0 0 0 \n",
      "0 0 f   f 0 0 0 0 0 \n",
      "0 0 0 f   f 0 0 0 0 \n",
      "0 0 0 0 f   f 0 0 0 \n",
      "0 0 0 0 0 f   f 0 0 \n",
      "0 0 0 0 0 0 f   f 0 \n"
     ]
    }
   ],
   "source": [
    "def print_board(board,start1,start2):\n",
    "    for i in range(1):\n",
    "        for j in range(10):\n",
    "            index = (j + start1[i]) % 10\n",
    "            print(board[i][index], end=\" \")\n",
    "        print(\"\")\n",
    "\n",
    "def main():\n",
    "    board = [[0]*10, [0]*10]\n",
    "    start1 = [0, 0]\n",
    "    start2 = [0, 0]\n",
    "\n",
    "    input1 = input(\"Enter the first row: \")\n",
    "    \n",
    "    input2 = input(\"Enter the second row: \")\n",
    "    if len(input1) > 10 or len(input2) > 10:\n",
    "        print(\"Invalid Input Size\")\n",
    "        return\n",
    "\n",
    "    for i in range(len(input1)):\n",
    "        board[0][i] = input1[i]\n",
    "        if ord(input1[i]) >= 65 and ord(input1[i]) <= 90:\n",
    "            start1[0] = i\n",
    "\n",
    "    for i in range(len(input2)):\n",
    "        board[1][i] = input2[i]\n",
    "        if ord(input2[i]) >= 65 and ord(input2[i]) <= 90:\n",
    "            start1[1] = i\n",
    "\n",
    "    print(\"Start index for first row: \", start1[0], \"Start character: \", board[0][start1[0]])\n",
    "    print(\"Start index for second row: \", start1[1], \"Start character: \", board[1][start1[1]])\n",
    "    print_board(board,start1,start2)\n",
    "\n",
    "    while True:\n",
    "        user_input = input(\"Enter any character (Q to quit): \")\n",
    "        if user_input == \"Q\" or user_input == \"q\":\n",
    "            break\n",
    "        start1[0] -= 1\n",
    "        start1[1] += 1\n",
    "        print_board(board,start1,start2)\n",
    "\n",
    "# if __name__ == \"__main__\":\n",
    "#     main()\n",
    "main()\n"
   ]
  },
  {
   "cell_type": "code",
   "execution_count": null,
   "metadata": {},
   "outputs": [],
   "source": []
  },
  {
   "cell_type": "code",
   "execution_count": 5,
   "metadata": {},
   "outputs": [
    {
     "name": "stdout",
     "output_type": "stream",
     "text": [
      "[[None, None, None, None, None, None, None, None, None, None], [None, None, None, None, None, None, None, None, None, None]]\n"
     ]
    }
   ],
   "source": [
    "TwoDarr = [[None]*10]*2\n",
    "print(TwoDarr)"
   ]
  },
  {
   "cell_type": "code",
   "execution_count": 6,
   "metadata": {},
   "outputs": [
    {
     "name": "stdout",
     "output_type": "stream",
     "text": [
      "Starting indices: 0 0\n",
      "Starting characters: \n",
      "          \n",
      "          \n",
      "          \n",
      "          \n",
      "          \n",
      "          \n",
      "          \n",
      "          \n",
      "          \n",
      "          \n",
      "          \n",
      "          \n",
      "          \n",
      "          \n",
      "          \n",
      "          \n",
      "          \n",
      "          \n",
      "          \n",
      "          \n",
      "          \n",
      "          \n"
     ]
    }
   ],
   "source": [
    "def print_billboard(arr, start_row, start_col):\n",
    "    for i in range(2):\n",
    "        for j in range(10):\n",
    "            print(arr[(start_row + i) % 2][(start_col + j) % 10], end=\" \")\n",
    "        print(\"\")\n",
    "\n",
    "def main():\n",
    "    # Take input\n",
    "    first_input = input(\"Enter first line of text (max 10 characters): \")\n",
    "    second_input = input(\"Enter second line of text (max 10 characters): \")\n",
    "    if len(first_input) > 10 or len(second_input) > 10:\n",
    "        print(\"Invalid Input Size\")\n",
    "        return\n",
    "\n",
    "    # Store input in 2D array\n",
    "    arr = [[\"\" for j in range(10)] for i in range(2)]\n",
    "    for i in range(len(first_input)):\n",
    "        arr[0][i] = first_input[i]\n",
    "    for i in range(len(second_input)):\n",
    "        arr[1][i] = second_input[i]\n",
    "\n",
    "    # Find starting indices\n",
    "    start_row = 0\n",
    "    start_col = 0\n",
    "    for i in range(len(first_input)):\n",
    "        if ord(first_input[i]) >= 65 and ord(first_input[i]) <= 90:\n",
    "            start_row = 0\n",
    "            start_col = i\n",
    "            break\n",
    "    for i in range(len(second_input)):\n",
    "        if ord(second_input[i]) >= 65 and ord(second_input[i]) <= 90:\n",
    "            start_row = 1\n",
    "            start_col = i\n",
    "            break\n",
    "\n",
    "    # Print starting indices and characters\n",
    "    print(\"Starting indices:\", start_row, start_col)\n",
    "    print(\"Starting characters:\", arr[start_row][start_col])\n",
    "    \n",
    "    # Loop until user presses Q/q\n",
    "    while True:\n",
    "        user_input = input(\"Enter any character (Q/q to quit): \")\n",
    "        if user_input.lower() == 'q':\n",
    "            break\n",
    "        print_billboard(arr, start_row, start_col)\n",
    "        start_col = (start_col + 1) % 10\n",
    "\n",
    "    # Print final state\n",
    "    print_billboard(arr, start_row, start_col)\n",
    "    print(\"Final indices:\", start_row, start_col)\n",
    "    print(\"Final characters:\", arr[start_row][start_col])\n",
    "\n",
    "if __name__ == \"__main__\":\n",
    "    main()\n",
    "    # giRtfel2th Rtfel2th\n",
    "    # rightLeft2"
   ]
  },
  {
   "cell_type": "code",
   "execution_count": null,
   "metadata": {},
   "outputs": [],
   "source": [
    "user=input('')\n",
    "user_1=input('')\n",
    "if len(user)>10 or len(user_1)>10:\n",
    "    print('invalid size input')\n",
    "else:\n",
    "    st1=0\n",
    "    st2=0\n",
    "    arr=[[0]*10,[0]*10]\n",
    "    for i in range(len(user)):\n",
    "        arr[0][i]=user[i]\n",
    "        if ord(user[i])>=65 and ord(user[i])<=90:\n",
    "            st1=i\n",
    "    for j in range(len(user_1)):\n",
    "        arr[1][j]=user_1[j]\n",
    "        if ord(user_1[j])>=65 and ord(user_1[j])<=90:\n",
    "            st2=j\n",
    "    print(st1)\n",
    "    print(st2)\n",
    "    print(user[st1])\n",
    "    print(user_1[st2])\n",
    "    print(arr)\n",
    "    count=0\n",
    "    while True:\n",
    "        chr=input('Enter a word:-')\n",
    "        if chr=='Q' or chr=='q':\n",
    "            break\n",
    "        else:\n",
    "            row1=(st1+len(user)-count)%len(user)\n",
    "            row2=(st2+len(user_1)-count)%len(user_1)\n",
    "\n",
    "            for i in range(len(user)):\n",
    "                print(arr[0][row1], end=' ')\n",
    "                row1=(row1-1)%len(user)\n",
    "\n",
    "            print()\n",
    "\n",
    "            for j in range(len(user_1)):\n",
    "                print(arr[1][row2], end=' ')\n",
    "                row2=(row2+1)%len(user_1)\n",
    "             \n",
    "            print()\n",
    "\n",
    "            count+=1"
   ]
  },
  {
   "cell_type": "code",
   "execution_count": 3,
   "metadata": {},
   "outputs": [],
   "source": [
    "\n",
    "# Reads two numbers from input and typecasts them to int using\n",
    "# list comprehension\n",
    "x, y = [int(x) for x in input().split()] "
   ]
  }
 ],
 "metadata": {
  "kernelspec": {
   "display_name": "Python 3",
   "language": "python",
   "name": "python3"
  },
  "language_info": {
   "codemirror_mode": {
    "name": "ipython",
    "version": 3
   },
   "file_extension": ".py",
   "mimetype": "text/x-python",
   "name": "python",
   "nbconvert_exporter": "python",
   "pygments_lexer": "ipython3",
   "version": "3.9.13"
  },
  "orig_nbformat": 4,
  "vscode": {
   "interpreter": {
    "hash": "b671c20432fcd147198c92e7f072af9e705f087eb990bee22b07f08caab9f630"
   }
  }
 },
 "nbformat": 4,
 "nbformat_minor": 2
}
