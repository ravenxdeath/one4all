{
 "cells": [
  {
   "cell_type": "code",
   "execution_count": 1,
   "metadata": {},
   "outputs": [
    {
     "name": "stdout",
     "output_type": "stream",
     "text": [
      "[1, 2, 3, 4, 5, 6, 7, 8, 9, 10, 11, 12, 13, 14, 15, 16, 17]\n"
     ]
    }
   ],
   "source": [
    "def flattenList(given_list, output_list):\n",
    "    for i in given_list:\n",
    "        if type(i) == list:\n",
    "            flattenList(i, output_list)\n",
    "        else:\n",
    "            output_list.append(i)\n",
    "    return output_list\n",
    "\n",
    "given_list = [1, [2, [3, [4], 5], 6], 7, 8, [9, [[10, 11], 12], 13], 14, [15, [16, [17]]]]\n",
    "output_list = flattenList(given_list, [])\n",
    "print(output_list) \n"
   ]
  },
  {
   "cell_type": "code",
   "execution_count": null,
   "metadata": {},
   "outputs": [],
   "source": [
    "class Node:\n",
    "    def __init__(self, next, bottom, val):\n",
    "        self.next = next # for next item\n",
    "        self.bottom = bottom # for nested item check\n",
    "        self.val = val # The integer value.\n",
    "\n",
    "def flattenList(node, prev=None):\n",
    "    if not node:\n",
    "        return prev\n",
    "    flattened = flattenList(node.bottom, prev)\n",
    "    flattened = flattenList(node.next, flattened)\n",
    "    node.bottom = None\n",
    "    node.next = flattened\n",
    "    return node\n",
    "\n",
    "# Test case\n",
    "root = Node(None, None, 1)\n",
    "root.next = Node(None, Node(None, None, 4), 2)\n",
    "root.next.next = Node(Node(None, None, 5), Node(None, None, 6), 3)\n",
    "root.next.next.next = Node(Node(None, Node(None, None, 11), 7), Node(Node(None, None, 12), Node(None, None, 13), 8), 9)\n",
    "root.next.next.next.next = Node(Node(None, None, 14), Node(Node(None, Node(None, None, 17), 15), Node(None, None, 16), None), None)\n",
    "\n",
    "flattenList(root)\n",
    "# Printing the flattened list\n",
    "while root:\n",
    "    print(root.val)\n",
    "    root = root.next\n",
    "# Output: 1 2 3 4 5 6 7 8 11 12 13 9 14 17 15 16\n"
   ]
  },
  {
   "cell_type": "code",
   "execution_count": 3,
   "metadata": {},
   "outputs": [
    {
     "name": "stdout",
     "output_type": "stream",
     "text": [
      "[1, 2, 3, 4, 5, 6, 7, 8, 9, 10, 11, 12, 13, 14, 15, 16, 17]\n"
     ]
    }
   ],
   "source": [
    "def flattenList(given_list, output_list):\n",
    "    if given_list == []:\n",
    "        return output_list\n",
    "    elif isinstance(given_list[0], list):\n",
    "        return flattenList(given_list[0], output_list) + flattenList(given_list[1:], [])\n",
    "    else:\n",
    "        return [given_list[0]] + flattenList(given_list[1:], output_list)\n",
    "    \n",
    "given_list = [1, [2, [3, [4], 5], 6], 7, 8, [9, [[10, 11], 12], 13], 14, [15, [16, [17]]]]\n",
    "output_list = flattenList(given_list, [])\n",
    "print(output_list) \n"
   ]
  },
  {
   "cell_type": "code",
   "execution_count": null,
   "metadata": {},
   "outputs": [],
   "source": [
    "def flattenList(given_list):\n",
    "    if given_list == []:\n",
    "        return []\n",
    "    elif isinstance(given_list[0], list):\n",
    "        \n",
    "        return flattenList(given_list[0]) + flattenList(given_list[1:])\n",
    "    \n",
    "    else:\n",
    "        return [given_list[0]] + flattenList(given_list[1:])\n",
    "    \n",
    "given_list = [1, [2, [3, [4], 5], 6], 7, 8, [9, [[10, 11], 12], 13], 14, [15, [16, [17]]]]\n",
    "output_list = flattenList(given_list)\n",
    "print(output_list)\n",
    "    \n"
   ]
  }
 ],
 "metadata": {
  "kernelspec": {
   "display_name": "Python 3",
   "language": "python",
   "name": "python3"
  },
  "language_info": {
   "codemirror_mode": {
    "name": "ipython",
    "version": 3
   },
   "file_extension": ".py",
   "mimetype": "text/x-python",
   "name": "python",
   "nbconvert_exporter": "python",
   "pygments_lexer": "ipython3",
   "version": "3.9.13"
  },
  "orig_nbformat": 4
 },
 "nbformat": 4,
 "nbformat_minor": 2
}
