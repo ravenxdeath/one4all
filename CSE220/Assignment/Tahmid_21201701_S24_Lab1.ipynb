{
 "cells": [
  {
   "cell_type": "code",
   "execution_count": 6,
   "metadata": {},
   "outputs": [
    {
     "name": "stdout",
     "output_type": "stream",
     "text": [
      "///  Test 01: Shift Left k cell  ///\n",
      "[40, 50, 60, 0, 0, 0]\n"
     ]
    }
   ],
   "source": [
    "# Test 01: Shift Left k cell\n",
    "\n",
    "def shift_left(source, k):\n",
    "  # TO DO\n",
    "  # Hint, You can write a function for left shift once and then use it\n",
    "    for i in range(k):\n",
    "        source[i] = source[i+k]\n",
    "        source[k+i] = 0\n",
    "      \n",
    "    return source\n",
    "  \n",
    "\n",
    "print(\"///  Test 01: Shift Left k cell  ///\")\n",
    "source = [10,20,30,40,50,60]\n",
    "returned_value = shift_left(source, 3) # This should return [40, 50, 60, 0, 0, 0]\n",
    "print(returned_value)\n"
   ]
  },
  {
   "cell_type": "code",
   "execution_count": 15,
   "metadata": {},
   "outputs": [
    {
     "name": "stdout",
     "output_type": "stream",
     "text": [
      "///  Test 02: Rotate Left k cell  ///\n",
      "[10, 20, 30, 40, 50, 60]\n",
      "[40, 50, 60, 10, 20, 30]\n"
     ]
    }
   ],
   "source": [
    "# Test 02: Rotate Left k cell\n",
    "def rotate_left(source, k):\n",
    "  # TO DO\n",
    "  # Hint, You can write a function for left rotate once and then use it\n",
    "    for i in range(k):\n",
    "        source[i],source[i+k] = source[i+k], source[i]\n",
    "    return source\n",
    "\n",
    "print(\"///  Test 02: Rotate Left k cell  ///\")\n",
    "source = [10,20,30,40,50,60]\n",
    "returned_value = rotate_left(source, 3) # This should return [40, 50, 60, 10, 20, 30]\n",
    "print(returned_value)\n",
    "# unittest.output_test(returned_value, [40, 50, 60, 10, 20, 30])\n"
   ]
  },
  {
   "cell_type": "code",
   "execution_count": 49,
   "metadata": {},
   "outputs": [
    {
     "name": "stdout",
     "output_type": "stream",
     "text": [
      "///  Test 03: Shift Right k cell  ///\n",
      "[0, 0, 0, 10, 20, 30]\n"
     ]
    }
   ],
   "source": [
    "\n",
    "# Test 03: Shift Right k cell\n",
    "def shift_right(source, k):\n",
    "  # TO DO\n",
    "  # Hint, You can write a function for right shift once and then use it\n",
    "  for i in range(k):\n",
    "      source[i+k] = source[i]\n",
    "      source[i]=0\n",
    "      \n",
    "  return source\n",
    "\n",
    "print(\"///  Test 03: Shift Right k cell  ///\")\n",
    "source = [10,20,30,40,50,60]\n",
    "returned_value = shift_right(source, 3) # This should return [0, 0, 0, 10, 20, 30]\n",
    "print(returned_value)\n",
    "# unittest.output_test(returned_value, [0, 0, 0, 10, 20, 30])"
   ]
  },
  {
   "cell_type": "code",
   "execution_count": 53,
   "metadata": {},
   "outputs": [
    {
     "name": "stdout",
     "output_type": "stream",
     "text": [
      "///  Test 04: Rotate Right k cell  ///\n",
      "[40, 50, 60, 10, 20, 30]\n"
     ]
    }
   ],
   "source": [
    "\n",
    "# Test 04: Rotate Right k cell\n",
    "def rotate_right(source, k):\n",
    "  # TO DO\n",
    "  # Hint, You can write a function for right rotate once and then use it\n",
    "  for i in range(k):\n",
    "      source[i], source[i+k] = source[i+k], source[i]\n",
    "  return source\n",
    "\n",
    "print(\"///  Test 04: Rotate Right k cell  ///\")\n",
    "source = [10,20,30,40,50,60]\n",
    "returned_value = rotate_right(source, 3) # This should return [40, 50, 60, 10, 20, 30]\n",
    "# unittest.output_test(returned_value, [40, 50, 60, 10, 20, 30])\n",
    "print(returned_value)"
   ]
  },
  {
   "cell_type": "code",
   "execution_count": 26,
   "metadata": {},
   "outputs": [
    {
     "name": "stdout",
     "output_type": "stream",
     "text": [
      "///  Test 05: Remove an element from an array  ///\n",
      "[10, 20, 40, 50, 0, 0, 0]\n"
     ]
    }
   ],
   "source": [
    "# Test 05: Remove an element from an array\n",
    "# TO DO\n",
    "\n",
    "def remove(source, idx):\n",
    "  # size = len(source)\n",
    "  for i in range(idx, len(source)-1):\n",
    "    source[i] = source[i+1]\n",
    "  return source \n",
    "\n",
    "print(\"///  Test 05: Remove an element from an array  ///\")\n",
    "source = [10,20,30,40,50,0,0]\n",
    "returned_value = remove(source, 2) # This should return [10, 20, 40, 50, 0, 0, 0]\n",
    "# unittest.output_test(returned_value, [10, 20, 40, 50, 0, 0, 0])\n",
    "print(returned_value)\n",
    "\n"
   ]
  },
  {
   "cell_type": "code",
   "execution_count": 35,
   "metadata": {},
   "outputs": [
    {
     "name": "stdout",
     "output_type": "stream",
     "text": [
      "///  Test 06: Remove all occurrences of a particular element from an array  ///\n",
      "array('i', [0, 0, 0, 0, 0, 0, 0, 0, 0])\n",
      "array('i', [10, 30, 50, 0, 0, 0, 0, 0, 0])\n"
     ]
    }
   ],
   "source": [
    "# Test 06: Remove all occurrences of a particular element from an array\n",
    "\n",
    "from array import *\n",
    "\n",
    "\n",
    "\n",
    "def remove_all(source, element):\n",
    "  # TO DO\n",
    "    arr1 = array(\"i\", [0]*len(source))\n",
    "    print(arr1)\n",
    "    print(\"I've used the array modules to create an array\")\n",
    "    idx = 0\n",
    "    for i in range(0, len(source)-1):\n",
    "            if source[i] == element:\n",
    "                continue\n",
    "            arr1[idx] = source[i]\n",
    "            idx += 1\n",
    "            \n",
    "    return arr1 \n",
    "\n",
    "\n",
    "print(\"///  Test 06: Remove all occurrences of a particular element from an array  ///\")\n",
    "source = [10,2,30,2,50,2,2,0,0]\n",
    "returned_value = remove_all(source, 2) # This should return [10, 30, 50, 0, 0, 0, 0, 0, 0]\n",
    "print(returned_value)"
   ]
  },
  {
   "cell_type": "code",
   "execution_count": 42,
   "metadata": {},
   "outputs": [
    {
     "name": "stdout",
     "output_type": "stream",
     "text": [
      "True\n",
      "///  Test 07: Splitting an Array  ///\n",
      "True\n",
      "False\n",
      "True\n"
     ]
    }
   ],
   "source": [
    "\n",
    "\n",
    "# Test 07: Splitting an Array\n",
    "\n",
    "def split_array(source):\n",
    "    source_len = len(source)\n",
    "    i = source_len - 2\n",
    "    left1, right1 = 0, 0\n",
    "    left2, right2 = 0, 0\n",
    "\n",
    "    for k in range(i):\n",
    "        left1 += source[k]\n",
    "    \n",
    "    for k in range(i, source_len):\n",
    "        right1 += source[k]\n",
    "    \n",
    "    for k in range(i-1):\n",
    "        left2 += source[k]\n",
    "    \n",
    "    for k in range(i-1, source_len):\n",
    "        right2 += source[k]\n",
    "\n",
    "    return (left1 == right1) or (left2 == right2)\n",
    "\n",
    "\n",
    "print(\"///  Test 07: Splitting an Array  ///\")\n",
    "test_1 = [1, 1, 1, 2, 1] # Here splitting is possible as summation of [1, 1, 1] = summation of [2,1]\n",
    "returned_value = split_array(test_1) # This should return True\n",
    "print(returned_value)\n",
    "\n",
    "test_2 = [2, 1, 1, 2, 1] # Here splitting is not possible\n",
    "returned_value = split_array(test_2) # This should return False\n",
    "print(returned_value)\n",
    "\n",
    "test_3 = [10, 3, 1, 2, 10] # Here splitting is possible as summation of [10, 3] = summation of [1,2,10]\n",
    "returned_value = split_array(test_3) # This should return True\n",
    "print(returned_value)\n"
   ]
  },
  {
   "cell_type": "code",
   "execution_count": 45,
   "metadata": {},
   "outputs": [
    {
     "name": "stdout",
     "output_type": "stream",
     "text": [
      "///  Test 08: Max Bunch Count  ///\n",
      "3\n",
      "4\n"
     ]
    }
   ],
   "source": [
    "\n",
    "# Test 08: Max Bunch Count\n",
    "\n",
    "def max_bunch(source):\n",
    "    source_len = len(source)\n",
    "    largest = 0\n",
    "    counter = 0\n",
    "\n",
    "    for i in range(1, source_len):\n",
    "        if source[i] == source[i-1]:\n",
    "            counter += 1\n",
    "        else:\n",
    "            counter = 1\n",
    "        \n",
    "        if counter > largest:\n",
    "                largest = counter\n",
    "    \n",
    "    return largest\n",
    "\n",
    "print(\"///  Test 08: Max Bunch Count  ///\")\n",
    "returned_value = max_bunch([1, 2, 2, 3, 4, 4, 4]) # This should return 3\n",
    "print(returned_value)\n",
    "returned_value = max_bunch([1, 1, 2, 2, 1, 1, 1, 1]) # This should return 4\n",
    "print(returned_value)\n"
   ]
  },
  {
   "cell_type": "code",
   "execution_count": 4,
   "metadata": {},
   "outputs": [
    {
     "name": "stdout",
     "output_type": "stream",
     "text": [
      "[25, -5]\n"
     ]
    }
   ],
   "source": [
    "#! Part 2\n",
    "\n",
    "\n",
    "def mean_cal(source):\n",
    "    return sum(source) / len(source)\n",
    "\n",
    "source=[10, 8, 13, 9, 14, 25, -5, 20, 7, 7, 4]\n",
    "mean_cal(source)\n",
    "\n",
    "\n",
    "def standardDev(source):\n",
    "    mean = mean_cal(source)\n",
    "    x = 0\n",
    "    for i in range(len(source)):\n",
    "       x += (mean - source[i])**2\n",
    "    standard_deviation = (x/(len(source)-1))**0.5\n",
    "\n",
    "    return standard_deviation\n",
    "source=[10, 8, 13, 9, 14, 25, -5, 20, 7, 7, 4]\n",
    "standardDev(source)\n",
    "\n",
    "\n",
    "def source_ls(source):\n",
    "    ls = []\n",
    "    sd = standardDev(source)\n",
    "    mean = mean_cal(source)\n",
    "    for i in source:\n",
    "        if abs(i-mean) >= (1.5*sd):\n",
    "            ls += [i]\n",
    "    return ls\n",
    "source = [10, 8, 13, 9, 14, 25, -5, 20, 7, 7, 4]\n",
    "print(source_ls(source))"
   ]
  }
 ],
 "metadata": {
  "kernelspec": {
   "display_name": "Python 3",
   "language": "python",
   "name": "python3"
  },
  "language_info": {
   "codemirror_mode": {
    "name": "ipython",
    "version": 3
   },
   "file_extension": ".py",
   "mimetype": "text/x-python",
   "name": "python",
   "nbconvert_exporter": "python",
   "pygments_lexer": "ipython3",
   "version": "3.9.5"
  },
  "orig_nbformat": 4,
  "vscode": {
   "interpreter": {
    "hash": "b671c20432fcd147198c92e7f072af9e705f087eb990bee22b07f08caab9f630"
   }
  }
 },
 "nbformat": 4,
 "nbformat_minor": 2
}
