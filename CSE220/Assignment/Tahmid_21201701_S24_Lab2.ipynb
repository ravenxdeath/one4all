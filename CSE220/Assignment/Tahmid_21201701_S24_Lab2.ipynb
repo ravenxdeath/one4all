{
 "cells": [
  {
   "cell_type": "code",
   "execution_count": 8,
   "metadata": {},
   "outputs": [
    {
     "name": "stdout",
     "output_type": "stream",
     "text": [
      "Start index for first row  2 Start character: R\n",
      "Start index for second row 5 Start character:  g\n",
      "[['g', 'i', 'R', 't', 'f', 'e', 'l', '2', 't', 'h'], ['r', 'i', 'g', 'h', 't', 'L', 'e', 'f', 't', '2']]\n",
      "R i g h t 2 l e f t \n",
      "L e f t 2 r i g h t \n",
      "i g h t 2 l e f t R \n",
      "t L e f t 2 r i g h \n",
      "g h t 2 l e f t R i \n",
      "h t L e f t 2 r i g \n"
     ]
    }
   ],
   "source": [
    "user=input(\"Enter the first row: \")\n",
    "userin02=input(\"Enter the second row: \")\n",
    "if len(user)>10 or len(userin02)>10:\n",
    "    print('invalid size input')\n",
    "else:\n",
    "    start01=0\n",
    "    start02=0\n",
    "    arr=[[0]*10,[0]*10]\n",
    "    for i in range(len(user)):\n",
    "        arr[0][i]=user[i]\n",
    "        if ord(user[i])>=65 and ord(user[i])<=90:\n",
    "            start01=i\n",
    "    for j in range(len(userin02)):\n",
    "        arr[1][j]=userin02[j]\n",
    "        if ord(userin02[j])>=65 and ord(userin02[j])<=90:\n",
    "            start02=j\n",
    "    print(f\"Start index for first row  {start01} Start character: {user[start01]}\")\n",
    "    print(f\"Start index for second row {start02} Start character:  {userin02[start01]}\")\n",
    "\n",
    "    print(arr)\n",
    "    count=0\n",
    "    while True:\n",
    "        userin=input('Enter a word:-')\n",
    "        if userin=='Q' or userin=='q':\n",
    "            break\n",
    "        else:\n",
    "            row1=(start01+len(user)-count)%len(user)\n",
    "            row2=(start02+len(userin02)-count)%len(userin02)\n",
    "\n",
    "            for i in range(len(user)):\n",
    "                print(arr[0][row1], end=' ')\n",
    "                row1=(row1-1)%len(user)\n",
    "\n",
    "            print()\n",
    "\n",
    "            for j in range(len(userin02)):\n",
    "                print(arr[1][row2], end=' ')\n",
    "                row2=(row2+1)%len(userin02)\n",
    "             \n",
    "            print()\n",
    "\n",
    "            count+=1\n",
    "                # giRtfel2th Rtfel2th\n",
    "    # rightLeft2"
   ]
  }
 ],
 "metadata": {
  "kernelspec": {
   "display_name": "Python 3",
   "language": "python",
   "name": "python3"
  },
  "language_info": {
   "codemirror_mode": {
    "name": "ipython",
    "version": 3
   },
   "file_extension": ".py",
   "mimetype": "text/x-python",
   "name": "python",
   "nbconvert_exporter": "python",
   "pygments_lexer": "ipython3",
   "version": "3.9.5"
  },
  "orig_nbformat": 4,
  "vscode": {
   "interpreter": {
    "hash": "b671c20432fcd147198c92e7f072af9e705f087eb990bee22b07f08caab9f630"
   }
  }
 },
 "nbformat": 4,
 "nbformat_minor": 2
}
