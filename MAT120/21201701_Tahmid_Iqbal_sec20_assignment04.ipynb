{
  "cells": [
    {
      "cell_type": "markdown",
      "metadata": {
        "id": "sslyZkMZg9Pe"
      },
      "source": [
        "***Question 1***: Solve the second order differential equation $y''+ 16y = 0$\n",
        "\n",
        "***Question 2***: Solve the 2nd order differential equation $y'' - 6y' + 5y = 0$\n",
        "\n",
        "***Question 3***: Solve the initial-value problem \n",
        "\n",
        "$y'' - y' + 6y = 0$\n",
        "\n",
        "$y(0)=1$ and $y'(0)=0$"
      ]
    },
    {
      "cell_type": "code",
      "execution_count": 18,
      "metadata": {
        "colab": {
          "base_uri": "https://localhost:8080/"
        },
        "id": "OXRhV3n3b085",
        "outputId": "d8f6d2b6-19a1-4b65-f590-f41aa1dc097f"
      },
      "outputs": [
        {
          "name": "stdout",
          "output_type": "stream",
          "text": [
            "y(x) = C₁⋅sin(4⋅x) + C₂⋅cos(4⋅x)\n"
          ]
        }
      ],
      "source": [
        "#Question 1\n",
        "from sympy import*\n",
        "init_printing()\n",
        "x = symbols(\"x\")\n",
        "y = Function(\"y\")\n",
        "y1= Derivative(y(x),x)\n",
        "y2= Derivative(y(x),x,x)\n",
        "eqdiff = y2+16*y(x)\n",
        "eq=dsolve(eqdiff, y(x))\n",
        "pprint(eq)"
      ]
    },
    {
      "cell_type": "code",
      "execution_count": 19,
      "metadata": {
        "colab": {
          "base_uri": "https://localhost:8080/"
        },
        "id": "n2ccORr9b_Ld",
        "outputId": "cb18a6c9-ce93-4761-8909-70692d03e012"
      },
      "outputs": [
        {
          "name": "stdout",
          "output_type": "stream",
          "text": [
            "       ⎛         4⋅x⎞  x\n",
            "y(x) = ⎝C₁ + C₂⋅ℯ   ⎠⋅ℯ \n"
          ]
        }
      ],
      "source": [
        "#Question 2\n",
        "from sympy import*\n",
        "init_printing()\n",
        "x = symbols(\"x\")\n",
        "y = Function(\"y\")\n",
        "y1 = Derivative(y(x),x)\n",
        "y2= Derivative(y(x),x,x)\n",
        "eqdiff = y2- 6*y1+ 5*(y(x))\n",
        "eq=dsolve(eqdiff, y(x))\n",
        "pprint(eq)"
      ]
    },
    {
      "cell_type": "code",
      "execution_count": 20,
      "metadata": {
        "colab": {
          "base_uri": "https://localhost:8080/"
        },
        "id": "KgwSRbhgeZbR",
        "outputId": "70235cd0-3689-4de0-d7c9-73b3a3cad39f"
      },
      "outputs": [
        {
          "name": "stdout",
          "output_type": "stream",
          "text": [
            "       ⎛         ⎛√23⋅x⎞             ⎞  x\n",
            "       ⎜  √23⋅sin⎜─────⎟             ⎟  ─\n",
            "       ⎜         ⎝  2  ⎠      ⎛√23⋅x⎞⎟  2\n",
            "y(x) = ⎜- ────────────── + cos⎜─────⎟⎟⋅ℯ \n",
            "       ⎝        23            ⎝  2  ⎠⎠   \n"
          ]
        }
      ],
      "source": [
        "#Question 3\n",
        "from sympy import*\n",
        "init_printing()\n",
        "x = symbols(\"x\")\n",
        "y = Function(\"y\")\n",
        "y1= Derivative(y(x),x)\n",
        "y2= Derivative(y(x),x,x)\n",
        "\n",
        "eq = y2- y1+ 6*(y(x))\n",
        "solve = dsolve(eq,y(x),ics={y(0):1,y(x).diff(x).subs(x,0):0})\n",
        "pprint(solve)\n"
      ]
    }
  ],
  "metadata": {
    "colab": {
      "provenance": []
    },
    "kernelspec": {
      "display_name": "Python 3.9.5 64-bit",
      "language": "python",
      "name": "python3"
    },
    "language_info": {
      "name": "python",
      "version": "3.9.5"
    },
    "vscode": {
      "interpreter": {
        "hash": "b671c20432fcd147198c92e7f072af9e705f087eb990bee22b07f08caab9f630"
      }
    }
  },
  "nbformat": 4,
  "nbformat_minor": 0
}
