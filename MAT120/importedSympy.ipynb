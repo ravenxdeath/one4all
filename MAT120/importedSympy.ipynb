{
 "cells": [
  {
   "cell_type": "code",
   "execution_count": 1,
   "metadata": {
    "datalore": {
     "hide_input_from_viewers": false,
     "hide_output_from_viewers": false,
     "node_id": "QXv8nnJAHrOt1yuCP7Dymc",
     "type": "CODE"
    }
   },
   "outputs": [
    {
     "name": "stdout",
     "output_type": "stream",
     "text": [
      "6*x**2 + 2*x + 3\n",
      "2*(6*x + 1)\n",
      "12\n",
      "0\n"
     ]
    }
   ],
   "source": [
    "# import sympy\n",
    "from sympy import *\n",
    "\n",
    "x = symbols(\"x\")\n",
    "\n",
    "f = 2*x**3 + x**2 + 3*x + 5\n",
    "df = diff(f, x)\n",
    "df1 = diff(f, x, 2)\n",
    "df2 = diff(f, x, 3)\n",
    "df3 = diff(f, x, 4)\n",
    "\n",
    "print(df)\n",
    "print(df1)\n",
    "print(df2)\n",
    "print(df3)"
   ]
  },
  {
   "cell_type": "code",
   "execution_count": 1,
   "metadata": {
    "datalore": {
     "hide_input_from_viewers": false,
     "hide_output_from_viewers": false,
     "node_id": "nNPf57IotXRWv6Abo1rp7c",
     "type": "CODE"
    }
   },
   "outputs": [
    {
     "ename": "NameError",
     "evalue": "name 'symbols' is not defined",
     "output_type": "error",
     "traceback": [
      "\u001b[1;31m---------------------------------------------------------------------------\u001b[0m",
      "\u001b[1;31mNameError\u001b[0m                                 Traceback (most recent call last)",
      "\u001b[1;32mg:\\CODE\\UNI\\MAT120\\importedSympy.ipynb Cell 2\u001b[0m in \u001b[0;36m<module>\u001b[1;34m\u001b[0m\n\u001b[0;32m      <a href='vscode-notebook-cell:/g%3A/CODE/UNI/MAT120/importedSympy.ipynb#W1sZmlsZQ%3D%3D?line=1'>2</a>\u001b[0m \u001b[39mimport\u001b[39;00m \u001b[39msympy\u001b[39;00m\n\u001b[0;32m      <a href='vscode-notebook-cell:/g%3A/CODE/UNI/MAT120/importedSympy.ipynb#W1sZmlsZQ%3D%3D?line=3'>4</a>\u001b[0m \u001b[39m# x = symbols(\"x\")\u001b[39;00m\n\u001b[0;32m      <a href='vscode-notebook-cell:/g%3A/CODE/UNI/MAT120/importedSympy.ipynb#W1sZmlsZQ%3D%3D?line=4'>5</a>\u001b[0m \u001b[39m# y = symbols(\"y\")\u001b[39;00m\n\u001b[0;32m      <a href='vscode-notebook-cell:/g%3A/CODE/UNI/MAT120/importedSympy.ipynb#W1sZmlsZQ%3D%3D?line=5'>6</a>\u001b[0m \u001b[39m# z = symbols(\"z\")\u001b[39;00m\n\u001b[1;32m----> <a href='vscode-notebook-cell:/g%3A/CODE/UNI/MAT120/importedSympy.ipynb#W1sZmlsZQ%3D%3D?line=6'>7</a>\u001b[0m x, y, z \u001b[39m=\u001b[39m symbols(\u001b[39m\"\u001b[39m\u001b[39mx y z\u001b[39m\u001b[39m\"\u001b[39m)\n\u001b[0;32m      <a href='vscode-notebook-cell:/g%3A/CODE/UNI/MAT120/importedSympy.ipynb#W1sZmlsZQ%3D%3D?line=8'>9</a>\u001b[0m f \u001b[39m=\u001b[39m x\u001b[39m*\u001b[39m\u001b[39m*\u001b[39m\u001b[39m3\u001b[39m \u001b[39m+\u001b[39m \u001b[39m4\u001b[39m\u001b[39m*\u001b[39mx\u001b[39m*\u001b[39my \u001b[39m+\u001b[39m z\n\u001b[0;32m     <a href='vscode-notebook-cell:/g%3A/CODE/UNI/MAT120/importedSympy.ipynb#W1sZmlsZQ%3D%3D?line=10'>11</a>\u001b[0m dfx, dfy, dfz \u001b[39m=\u001b[39m diff(f,x), diff(f,y),diff(f,z)\n",
      "\u001b[1;31mNameError\u001b[0m: name 'symbols' is not defined"
     ]
    }
   ],
   "source": [
    "\n",
    "from sympy import* \n",
    "\n",
    "# x = symbols(\"x\")\n",
    "# y = symbols(\"y\")\n",
    "# z = symbols(\"z\")\n",
    "x, y, z = symbols(\"x y z\")\n",
    "\n",
    "f = x**3 + 4*x*y + z\n",
    "\n",
    "dfx, dfy, dfz = diff(f,x), diff(f,y),diff(f,z)\n",
    "# dfx = diff(f, x)\n",
    "# dfy = diff(f, y)\n",
    "# dfz = diff(f, z)\n",
    "\n",
    "print(dfx, dfy, dfz, sep=\" | \")\n",
    "\n",
    "print(dfx.subs(x, 4), sep=\" | \") #! substitues x with 4\n",
    "\n",
    "print(f\"{f} , f(x), x=4 is {f.subs(x, 4) } \") # fuction was subtitued with 4\n",
    "\n",
    "print(dfx.subs(x,7).subs(y,8))"
   ]
  },
  {
   "cell_type": "code",
   "execution_count": 23,
   "metadata": {
    "datalore": {
     "hide_input_from_viewers": false,
     "hide_output_from_viewers": false,
     "node_id": "mcSPRvFFGZDG16rYrpUo4T",
     "type": "CODE"
    }
   },
   "outputs": [
    {
     "name": "stdout",
     "output_type": "stream",
     "text": [
      "163\n"
     ]
    }
   ],
   "source": [
    "f = x**3 + 4*x*y + z\n",
    "\n",
    "f = lambdify(x, f)\n",
    "dfx = lambdify(x, df)\n",
    "\n",
    "print(dfx(5))"
   ]
  }
 ],
 "metadata": {
  "datalore": {
   "base_environment": "default",
   "computation_mode": "JUPYTER",
   "package_manager": "pip",
   "packages": [],
   "version": 1
  },
  "kernelspec": {
   "display_name": "Python 3.9.5 64-bit",
   "language": "python",
   "name": "python3"
  },
  "language_info": {
   "codemirror_mode": {
    "name": "ipython",
    "version": 3
   },
   "file_extension": ".py",
   "mimetype": "text/x-python",
   "name": "python",
   "nbconvert_exporter": "python",
   "pygments_lexer": "ipython3",
   "version": "3.9.5"
  },
  "vscode": {
   "interpreter": {
    "hash": "b671c20432fcd147198c92e7f072af9e705f087eb990bee22b07f08caab9f630"
   }
  }
 },
 "nbformat": 4,
 "nbformat_minor": 4
}
