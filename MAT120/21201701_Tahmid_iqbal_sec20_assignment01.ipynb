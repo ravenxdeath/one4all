{
  "cells": [
    {
      "cell_type": "markdown",
      "metadata": {
        "id": "MVhTaxbMcOaV"
      },
      "source": [
        "\n",
        "###Lab Assignment - 01\n",
        "```\n",
        "Name: Md. Tahmid Iqbal\n",
        "ID: 21201701\n",
        "Depertment: CSE\n",
        "Course: MAT120\n",
        "SectionL: 20\n",
        "```\n",
        "\n"
      ]
    },
    {
      "cell_type": "code",
      "execution_count": 1,
      "metadata": {},
      "outputs": [
        {
          "name": "stdout",
          "output_type": "stream",
          "text": [
            "Critical points: []\n",
            "The Global Minima Value is: 32/27\n",
            "The Global Maxima Value is: 891\n"
          ]
        },
        {
          "data": {
            "image/png": "[encoded data removed]",
            "text/plain": [
              "<Figure size 432x288 with 1 Axes>"
            ]
          },
          "metadata": {
            "needs_background": "light"
          },
          "output_type": "display_data"
        }
      ],
      "source": [
        "#Task 01\n",
        "\n",
        "from sympy import*\n",
        "from sympy.solvers.solveset import solvify\n",
        "import numpy as np\n",
        "import matplotlib.pyplot as plt\n",
        "x = symbols('x')\n",
        "\n",
        "y = 9*x**3 - 7*x**2 + 3*x + 10\n",
        "dy = diff(y, x)\n",
        "intVal = Interval(-5, 6)\n",
        "\n",
        "cp = solvify(dy, x, intVal)\n",
        "\n",
        "print(\"Critical points:\", cp)\n",
        "print(f'The Global Minima Value is: {minimum(dy, x, intVal)}')\n",
        "print(f'The Global Maxima Value is: {maximum(dy, x, intVal)}')\n",
        "\n",
        "y = lambdify(x, y)\n",
        "yx = np.arange(-5, 6)\n",
        "yy = y(yx)\n",
        "plt.plot(yx, yy)\n",
        "plt.title('Shape of function')\n",
        "plt.xlabel('x axis')\n",
        "plt.ylabel('y axis')\n",
        "plt.show()\n"
      ]
    },
    {
      "cell_type": "code",
      "execution_count": 2,
      "metadata": {},
      "outputs": [
        {
          "name": "stdout",
          "output_type": "stream",
          "text": [
            "Critical points: []\n",
            "The Global Minima Value is: -oo\n",
            "The Global Maxima Value is: oo\n"
          ]
        }
      ],
      "source": [
        "#Task 02\n",
        "\n",
        "from sympy import*\n",
        "from sympy.solvers.solveset import solvify\n",
        "import numpy as np\n",
        "\n",
        "x = symbols('x')\n",
        "y= ln(x)\n",
        "dy = diff(y, x)\n",
        "intVal = Interval(-5, 6)\n",
        "\n",
        "cp = solvify(dy, x, intVal)\n",
        "print(\"Critical points:\", cp)\n",
        "for i in cp:\n",
        "    print(f\"For critical point ({i}) extrema is {y.subs(x, i)}\")\n",
        "    \n",
        "print(f'The Global Minima Value is: {minimum(dy, x, intVal)}')\n",
        "print(f'The Global Maxima Value is: {maximum(dy, x, intVal)}')\n",
        "\n",
        "\n"
      ]
    },
    {
      "cell_type": "code",
      "execution_count": 3,
      "metadata": {
        "colab": {
          "base_uri": "https://localhost:8080/"
        },
        "id": "F46CnjQRD4_r",
        "outputId": "524fa040-92e8-4a68-d3af-a9182c6601c8"
      },
      "outputs": [
        {
          "name": "stdout",
          "output_type": "stream",
          "text": [
            "Critical points: [-3*pi/2, -pi/2, pi/2, 3*pi/2]\n",
            "For critical point (-3*pi/2) extrema is 1\n",
            "For critical point (-pi/2) extrema is -1\n",
            "For critical point (pi/2) extrema is 1\n",
            "For critical point (3*pi/2) extrema is -1\n",
            "\n",
            "\n",
            "The Global Minima Value is: -1\n",
            "The Global Maxima Value is: 1\n"
          ]
        }
      ],
      "source": [
        "#Task 03\n",
        "\n",
        "from sympy import*\n",
        "from sympy.solvers.solveset import solvify\n",
        "import numpy as np\n",
        "import matplotlib.pyplot as plt\n",
        "x = symbols('x')\n",
        "y= sin(x)\n",
        "dy = diff(y, x)\n",
        "intVal = Interval(-5, 6)\n",
        "\n",
        "cp = solvify(dy, x, intVal)\n",
        "\n",
        "print(\"Critical points:\", cp)\n",
        "\n",
        "for i in cp:\n",
        "    print(f\"For critical point ({i}) extrema is {y.subs(x, i)}\")\n",
        "print(\"\\n\")    \n",
        "print(f'The Global Minima Value is: {minimum(dy, x, intVal)}')\n",
        "print(f'The Global Maxima Value is: {maximum(dy, x, intVal)}')\n"
      ]
    },
    {
      "cell_type": "code",
      "execution_count": 4,
      "metadata": {
        "colab": {
          "base_uri": "https://localhost:8080/"
        },
        "id": "K_YX2L84FsGC",
        "outputId": "3cd15b83-342a-4616-e55f-e7878c0d3c45"
      },
      "outputs": [
        {
          "name": "stdout",
          "output_type": "stream",
          "text": [
            "Critical points: [0, pi, -pi]\n",
            "For critical point (0) extrema is 1\n",
            "For critical point (pi) extrema is -1\n",
            "For critical point (-pi) extrema is -1\n",
            "\n",
            "\n",
            "The Global Minima Value is: -1\n",
            "The Global Maxima Value is: 1\n"
          ]
        }
      ],
      "source": [
        "#Task 4\n",
        "\n",
        "from sympy import*\n",
        "from sympy.solvers.solveset import solvify\n",
        "import numpy as np\n",
        "import matplotlib.pyplot as plt\n",
        "x = symbols('x')\n",
        "y= cos(x)\n",
        "dy = diff(y, x)\n",
        "intVal = Interval(-5, 6)\n",
        "\n",
        "cp = solvify(dy, x, intVal)\n",
        "\n",
        "print(\"Critical points:\", cp)\n",
        "\n",
        "for i in cp:\n",
        "    print(f\"For critical point ({i}) extrema is {y.subs(x, i)}\")\n",
        "print(\"\\n\")\n",
        "print(f'The Global Minima Value is: {minimum(dy, x, intVal)}')\n",
        "print(f'The Global Maxima Value is: {maximum(dy, x, intVal)}')\n"
      ]
    },
    {
      "cell_type": "code",
      "execution_count": 5,
      "metadata": {
        "colab": {
          "base_uri": "https://localhost:8080/"
        },
        "id": "kHMOUOZQGW0v",
        "outputId": "8ca82567-a238-4251-fbc2-266b21b64e24"
      },
      "outputs": [
        {
          "name": "stdout",
          "output_type": "stream",
          "text": [
            "Critical points: []\n",
            "The Global Minima Value is: 1\n",
            "The Global Maxima Value is: oo\n"
          ]
        }
      ],
      "source": [
        "#Task 05\n",
        "\n",
        "from sympy import*\n",
        "from sympy.solvers.solveset import solvify\n",
        "import numpy as np\n",
        "import matplotlib.pyplot as plt\n",
        "x = symbols('x')\n",
        "y= tan(x)\n",
        "dy = diff(y, x)\n",
        "intVal = Interval(-5, 6)\n",
        "\n",
        "cp = solvify(dy, x, intVal)\n",
        "\n",
        "for i in cp:\n",
        "    print(f\"For critical point ({i}) extrema is {y.subs(x, i)}\")\n",
        "\n",
        "print(\"Critical points:\", cp)\n",
        "print(f'The Global Minima Value is: {minimum(dy, x, intVal)}')\n",
        "print(f'The Global Maxima Value is: {maximum(dy, x, intVal)}')\n"
      ]
    }
  ],
  "metadata": {
    "colab": {
      "collapsed_sections": [],
      "provenance": []
    },
    "kernelspec": {
      "display_name": "Python 3.9.5 64-bit",
      "language": "python",
      "name": "python3"
    },
    "language_info": {
      "codemirror_mode": {
        "name": "ipython",
        "version": 3
      },
      "file_extension": ".py",
      "mimetype": "text/x-python",
      "name": "python",
      "nbconvert_exporter": "python",
      "pygments_lexer": "ipython3",
      "version": "3.9.5"
    },
    "vscode": {
      "interpreter": {
        "hash": "b671c20432fcd147198c92e7f072af9e705f087eb990bee22b07f08caab9f630"
      }
    }
  },
  "nbformat": 4,
  "nbformat_minor": 0
}
