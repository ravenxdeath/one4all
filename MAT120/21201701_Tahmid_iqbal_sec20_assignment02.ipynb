{
 "cells": [
  {
   "cell_type": "markdown",
   "metadata": {
    "id": "MVhTaxbMcOaV"
   },
   "source": [
    "\n",
    "###Lab Assignment - 02\n",
    "```\n",
    "Name: Md. Tahmid Iqbal\n",
    "ID: 21201701\n",
    "Depertment: CSE\n",
    "Course: MAT120\n",
    "SectionL: 20\n",
    "```\n",
    "\n"
   ]
  },
  {
   "cell_type": "code",
   "execution_count": 1,
   "metadata": {},
   "outputs": [
    {
     "data": {
      "text/latex": [
       "$\\displaystyle \\begin{cases} 0 & \\text{for}\\: a = 0 \\wedge b = 0 \\\\- i \\left(\\frac{x e^{- b x} \\sinh{\\left(b x \\right)}}{2} + \\frac{x e^{- b x} \\cosh{\\left(b x \\right)}}{2} - \\frac{e^{- b x} \\sinh{\\left(b x \\right)}}{2 b}\\right) & \\text{for}\\: a = - i b \\\\i \\left(\\frac{x e^{- b x} \\sinh{\\left(b x \\right)}}{2} + \\frac{x e^{- b x} \\cosh{\\left(b x \\right)}}{2} - \\frac{e^{- b x} \\sinh{\\left(b x \\right)}}{2 b}\\right) & \\text{for}\\: a = i b \\\\- \\frac{a \\cos{\\left(a x \\right)}}{a^{2} e^{b x} + b^{2} e^{b x}} - \\frac{b \\sin{\\left(a x \\right)}}{a^{2} e^{b x} + b^{2} e^{b x}} & \\text{otherwise} \\end{cases}$"
      ],
      "text/plain": [
       "Piecewise((0, Eq(a, 0) & Eq(b, 0)), (-I*(x*exp(-b*x)*sinh(b*x)/2 + x*exp(-b*x)*cosh(b*x)/2 - exp(-b*x)*sinh(b*x)/(2*b)), Eq(a, -I*b)), (I*(x*exp(-b*x)*sinh(b*x)/2 + x*exp(-b*x)*cosh(b*x)/2 - exp(-b*x)*sinh(b*x)/(2*b)), Eq(a, I*b)), (-a*cos(a*x)/(a**2*exp(b*x) + b**2*exp(b*x)) - b*sin(a*x)/(a**2*exp(b*x) + b**2*exp(b*x)), True))"
      ]
     },
     "execution_count": 1,
     "metadata": {},
     "output_type": "execute_result"
    }
   ],
   "source": [
    "#1\n",
    "\n",
    "import sympy as sp\n",
    "from sympy import symbols\n",
    "\n",
    "a, b ,x = symbols(\"a b x\")\n",
    "f = sp.sin(a*x)*sp.exp(-b*x)\n",
    "sp.integrate(f, x)\n",
    "\n",
    "\n"
   ]
  },
  {
   "cell_type": "code",
   "execution_count": 2,
   "metadata": {},
   "outputs": [
    {
     "name": "stdout",
     "output_type": "stream",
     "text": [
      "3.4790402425168208\n"
     ]
    },
    {
     "name": "stderr",
     "output_type": "stream",
     "text": [
      "C:\\Users\\hp\\AppData\\Local\\Temp\\ipykernel_21268\\1078460678.py:8: IntegrationWarning: The maximum number of subdivisions (50) has been achieved.\n",
      "  If increasing the limit yields no improvement it is advised to analyze \n",
      "  the integrand in order to determine the difficulties.  If the position of a \n",
      "  local difficulty can be determined (singularity, discontinuity) one will \n",
      "  probably gain from splitting up the interval and calling the integrator \n",
      "  on the subranges.  Perhaps a special-purpose integrator should be used.\n",
      "  soln = quad(f,0,np.inf)\n"
     ]
    }
   ],
   "source": [
    "#2\n",
    "\n",
    "import sympy as sp\n",
    "import numpy as np\n",
    "from scipy.integrate import quad\n",
    "\n",
    "f = lambda x:((np.sin(2*x)**-1)/(1+x**2))\n",
    "soln = quad(f,0,np.inf)\n",
    "print(soln[0])"
   ]
  },
  {
   "cell_type": "code",
   "execution_count": 3,
   "metadata": {},
   "outputs": [
    {
     "name": "stdout",
     "output_type": "stream",
     "text": [
      "6.283185307179586\n"
     ]
    }
   ],
   "source": [
    "#3\n",
    "import sympy as sp\n",
    "import numpy as np\n",
    "from scipy.integrate import quad\n",
    "\n",
    "a,b = 0, 0\n",
    "#Can't be solved without defining a, b's values...\n",
    "\n",
    "x = sp.symbols(\"x\")\n",
    "f = lambda x: 1/((a-np.cos(x))**2+(b-np.sin(x))**2)\n",
    "soln = quad (f,0, 2*np.pi)\n",
    "print(soln[0])\n",
    "# quad (f,0, 2*np.pi)"
   ]
  },
  {
   "cell_type": "code",
   "execution_count": 4,
   "metadata": {},
   "outputs": [
    {
     "name": "stdout",
     "output_type": "stream",
     "text": [
      "1.7688076528258263\n"
     ]
    },
    {
     "name": "stderr",
     "output_type": "stream",
     "text": [
      "C:\\Users\\hp\\AppData\\Local\\Temp\\ipykernel_21268\\2323666456.py:9: IntegrationWarning: The maximum number of subdivisions (50) has been achieved.\n",
      "  If increasing the limit yields no improvement it is advised to analyze \n",
      "  the integrand in order to determine the difficulties.  If the position of a \n",
      "  local difficulty can be determined (singularity, discontinuity) one will \n",
      "  probably gain from splitting up the interval and calling the integrator \n",
      "  on the subranges.  Perhaps a special-purpose integrator should be used.\n",
      "  soln = quad (f,0, np.inf)\n"
     ]
    }
   ],
   "source": [
    "#4\n",
    "\n",
    "import sympy as sp\n",
    "import numpy as np\n",
    "from scipy.integrate import quad\n",
    "\n",
    "x = sp.symbols('x')\n",
    "f = lambda x: ((np.cos(2*x)**-1) / (1+x**2))\n",
    "soln = quad (f,0, np.inf)\n",
    "print(soln[0])"
   ]
  },
  {
   "cell_type": "code",
   "execution_count": 7,
   "metadata": {},
   "outputs": [
    {
     "data": {
      "text/latex": [
       "$\\displaystyle 49730.6311933419$"
      ],
      "text/plain": [
       "49730.6311933419"
      ]
     },
     "execution_count": 7,
     "metadata": {},
     "output_type": "execute_result"
    }
   ],
   "source": [
    "#5\n",
    "\n",
    "import sympy as sp\n",
    "\n",
    "x = symbols('x')\n",
    "f = x*(sp.exp(6*x))\n",
    "sp.integrate(f, (x,-1,2)).simplify().evalf() #gives decimal point values\n",
    "\n",
    "# sp.integrate(f, (x,-1,2)).simplify()\n",
    "# This gives the solution as a standard form of fnction."
   ]
  }
 ],
 "metadata": {
  "kernelspec": {
   "display_name": "Python 3.9.5 64-bit",
   "language": "python",
   "name": "python3"
  },
  "language_info": {
   "codemirror_mode": {
    "name": "ipython",
    "version": 3
   },
   "file_extension": ".py",
   "mimetype": "text/x-python",
   "name": "python",
   "nbconvert_exporter": "python",
   "pygments_lexer": "ipython3",
   "version": "3.9.5"
  },
  "orig_nbformat": 4,
  "vscode": {
   "interpreter": {
    "hash": "b671c20432fcd147198c92e7f072af9e705f087eb990bee22b07f08caab9f630"
   }
  }
 },
 "nbformat": 4,
 "nbformat_minor": 2
}
