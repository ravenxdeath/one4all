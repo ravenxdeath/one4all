{
 "cells": [
  {
   "cell_type": "code",
   "execution_count": 3,
   "metadata": {},
   "outputs": [
    {
     "data": {
      "text/latex": [
       "$\\displaystyle \\int\\limits_{1}^{2} e^{- \\sin{\\left(x \\right)}}\\, dx$"
      ],
      "text/plain": [
       "Integral(exp(-sin(x)), (x, 1, 2))"
      ]
     },
     "execution_count": 3,
     "metadata": {},
     "output_type": "execute_result"
    }
   ],
   "source": [
    "from sympy import *\n",
    "\n",
    "x =symbols(\"x\")\n",
    "f = exp(-sin(x))\n",
    "\n",
    "integrate(f,(x,1,2))\n",
    "\n",
    "    \n"
   ]
  },
  {
   "cell_type": "code",
   "execution_count": 4,
   "metadata": {},
   "outputs": [
    {
     "data": {
      "text/plain": [
       "(0.3845918142796868, 4.2698268729567035e-15)"
      ]
     },
     "execution_count": 4,
     "metadata": {},
     "output_type": "execute_result"
    }
   ],
   "source": [
    "\n",
    "import numpy as np\n",
    "import scipy as sp\n",
    "from scipy.integrate import quad\n",
    "\n",
    "f = lambda x: np.exp(-np.sin(x))\n",
    "quad(f,1,2)"
   ]
  },
  {
   "cell_type": "code",
   "execution_count": 5,
   "metadata": {},
   "outputs": [
    {
     "name": "stdout",
     "output_type": "stream",
     "text": [
      "3.00000000000000\n"
     ]
    }
   ],
   "source": [
    "\n",
    "# Import sympy\n",
    "from sympy import *\n",
    "  \n",
    "# Use sympy.evalf() method\n",
    "expn = sqrt(9)\n",
    "gfg = expn.evalf()\n",
    "  \n",
    "print(gfg)"
   ]
  },
  {
   "cell_type": "code",
   "execution_count": 6,
   "metadata": {},
   "outputs": [
    {
     "ename": "TypeError",
     "evalue": "quad() missing 2 required positional arguments: 'a' and 'b'",
     "output_type": "error",
     "traceback": [
      "\u001b[1;31m---------------------------------------------------------------------------\u001b[0m",
      "\u001b[1;31mTypeError\u001b[0m                                 Traceback (most recent call last)",
      "\u001b[1;32mg:\\CODE\\UNI\\MAT120\\integrateFunc.ipynb Cell 4\u001b[0m in \u001b[0;36m<module>\u001b[1;34m\u001b[0m\n\u001b[0;32m      <a href='vscode-notebook-cell:/g%3A/CODE/UNI/MAT120/integrateFunc.ipynb#W3sZmlsZQ%3D%3D?line=4'>5</a>\u001b[0m a , b \u001b[39m=\u001b[39m symbols(\u001b[39m\"\u001b[39m\u001b[39ma b\u001b[39m\u001b[39m\"\u001b[39m)\n\u001b[0;32m      <a href='vscode-notebook-cell:/g%3A/CODE/UNI/MAT120/integrateFunc.ipynb#W3sZmlsZQ%3D%3D?line=6'>7</a>\u001b[0m f \u001b[39m=\u001b[39m (\u001b[39mlambda\u001b[39;00m x : np\u001b[39m.\u001b[39msin(a\u001b[39m*\u001b[39mx)\u001b[39m*\u001b[39mnp\u001b[39m.\u001b[39mexp(\u001b[39m-\u001b[39mb\u001b[39m*\u001b[39mx))\n\u001b[1;32m----> <a href='vscode-notebook-cell:/g%3A/CODE/UNI/MAT120/integrateFunc.ipynb#W3sZmlsZQ%3D%3D?line=7'>8</a>\u001b[0m quad(f)\n",
      "\u001b[1;31mTypeError\u001b[0m: quad() missing 2 required positional arguments: 'a' and 'b'"
     ]
    }
   ],
   "source": [
    "import numpy as np\n",
    "import scipy as sp\n",
    "from scipy.integrate import quad\n",
    "\n",
    "a , b = symbols(\"a b\")\n",
    "\n",
    "f = (lambda x : np.sin(a*x)*np.exp(-b*x))\n",
    "quad(f)"
   ]
  },
  {
   "cell_type": "code",
   "execution_count": 8,
   "metadata": {},
   "outputs": [
    {
     "ename": "AttributeError",
     "evalue": "'Piecewise' object has no attribute 'symplify'",
     "output_type": "error",
     "traceback": [
      "\u001b[1;31m---------------------------------------------------------------------------\u001b[0m",
      "\u001b[1;31mAttributeError\u001b[0m                            Traceback (most recent call last)",
      "\u001b[1;32mg:\\CODE\\UNI\\MAT120\\integrateFunc.ipynb Cell 5\u001b[0m in \u001b[0;36m<module>\u001b[1;34m\u001b[0m\n\u001b[0;32m      <a href='vscode-notebook-cell:/g%3A/CODE/UNI/MAT120/integrateFunc.ipynb#W4sZmlsZQ%3D%3D?line=3'>4</a>\u001b[0m a , b \u001b[39m=\u001b[39m symbols(\u001b[39m\"\u001b[39m\u001b[39ma b\u001b[39m\u001b[39m\"\u001b[39m)\n\u001b[0;32m      <a href='vscode-notebook-cell:/g%3A/CODE/UNI/MAT120/integrateFunc.ipynb#W4sZmlsZQ%3D%3D?line=5'>6</a>\u001b[0m f \u001b[39m=\u001b[39m (sin(a\u001b[39m*\u001b[39mx)\u001b[39m*\u001b[39mexp(\u001b[39m-\u001b[39mb\u001b[39m*\u001b[39mx))\n\u001b[1;32m----> <a href='vscode-notebook-cell:/g%3A/CODE/UNI/MAT120/integrateFunc.ipynb#W4sZmlsZQ%3D%3D?line=7'>8</a>\u001b[0m integrate(f,(x))\u001b[39m.\u001b[39;49msymplify()\n",
      "\u001b[1;31mAttributeError\u001b[0m: 'Piecewise' object has no attribute 'symplify'"
     ]
    }
   ],
   "source": [
    "from sympy import *\n",
    "\n",
    "x =symbols(\"x\")\n",
    "a , b = symbols(\"a b\")\n",
    "\n",
    "f = (sin(a*x)*exp(-b*x))\n",
    "\n",
    "integrate(f,(x)).symplify()"
   ]
  },
  {
   "cell_type": "code",
   "execution_count": 7,
   "metadata": {},
   "outputs": [
    {
     "data": {
      "text/latex": [
       "$\\displaystyle 1.99 - 2.27 i$"
      ],
      "text/plain": [
       "1.99 - 2.27*I"
      ]
     },
     "execution_count": 7,
     "metadata": {},
     "output_type": "execute_result"
    }
   ],
   "source": [
    "from sympy import *\n",
    "# import math\n",
    "\n",
    "x = symbols(\"x\")\n",
    "f = (asin(2*x))/(1+x**2)\n",
    "\n",
    "integrate(f,(x,0,oo)).evalf()\n"
   ]
  },
  {
   "cell_type": "code",
   "execution_count": 9,
   "metadata": {},
   "outputs": [
    {
     "ename": "KeyboardInterrupt",
     "evalue": "",
     "output_type": "error",
     "traceback": [
      "\u001b[1;31m---------------------------------------------------------------------------\u001b[0m",
      "\u001b[1;31mKeyboardInterrupt\u001b[0m                         Traceback (most recent call last)",
      "\u001b[1;32mg:\\CODE\\UNI\\MAT120\\integrateFunc.ipynb Cell 7\u001b[0m in \u001b[0;36m<module>\u001b[1;34m\u001b[0m\n\u001b[0;32m      <a href='vscode-notebook-cell:/g%3A/CODE/UNI/MAT120/integrateFunc.ipynb#W6sZmlsZQ%3D%3D?line=2'>3</a>\u001b[0m x \u001b[39m=\u001b[39m symbols(\u001b[39m\"\u001b[39m\u001b[39mx\u001b[39m\u001b[39m\"\u001b[39m)\n\u001b[0;32m      <a href='vscode-notebook-cell:/g%3A/CODE/UNI/MAT120/integrateFunc.ipynb#W6sZmlsZQ%3D%3D?line=3'>4</a>\u001b[0m f \u001b[39m=\u001b[39m (sin(\u001b[39m2\u001b[39m\u001b[39m*\u001b[39mx)\u001b[39m*\u001b[39m\u001b[39m*\u001b[39m(\u001b[39m-\u001b[39m\u001b[39m1\u001b[39m))\u001b[39m/\u001b[39m(\u001b[39m1\u001b[39m\u001b[39m+\u001b[39mx\u001b[39m*\u001b[39m\u001b[39m*\u001b[39m\u001b[39m2\u001b[39m)\n\u001b[1;32m----> <a href='vscode-notebook-cell:/g%3A/CODE/UNI/MAT120/integrateFunc.ipynb#W6sZmlsZQ%3D%3D?line=5'>6</a>\u001b[0m integrate(f,(x,\u001b[39m0\u001b[39;49m,oo))\u001b[39m.\u001b[39;49mevalf()\n",
      "File \u001b[1;32mc:\\Users\\hp\\AppData\\Local\\Programs\\Python\\Python39\\lib\\site-packages\\sympy\\core\\evalf.py:1659\u001b[0m, in \u001b[0;36mEvalfMixin.evalf\u001b[1;34m(self, n, subs, maxn, chop, strict, quad, verbose)\u001b[0m\n\u001b[0;32m   1657\u001b[0m     options[\u001b[39m'\u001b[39m\u001b[39mquad\u001b[39m\u001b[39m'\u001b[39m] \u001b[39m=\u001b[39m quad\n\u001b[0;32m   1658\u001b[0m \u001b[39mtry\u001b[39;00m:\n\u001b[1;32m-> 1659\u001b[0m     result \u001b[39m=\u001b[39m evalf(\u001b[39mself\u001b[39;49m, prec \u001b[39m+\u001b[39;49m \u001b[39m4\u001b[39;49m, options)\n\u001b[0;32m   1660\u001b[0m \u001b[39mexcept\u001b[39;00m \u001b[39mNotImplementedError\u001b[39;00m:\n\u001b[0;32m   1661\u001b[0m     \u001b[39m# Fall back to the ordinary evalf\u001b[39;00m\n\u001b[0;32m   1662\u001b[0m     \u001b[39mif\u001b[39;00m \u001b[39mhasattr\u001b[39m(\u001b[39mself\u001b[39m, \u001b[39m'\u001b[39m\u001b[39msubs\u001b[39m\u001b[39m'\u001b[39m) \u001b[39mand\u001b[39;00m subs \u001b[39mis\u001b[39;00m \u001b[39mnot\u001b[39;00m \u001b[39mNone\u001b[39;00m:  \u001b[39m# issue 20291\u001b[39;00m\n",
      "File \u001b[1;32mc:\\Users\\hp\\AppData\\Local\\Programs\\Python\\Python39\\lib\\site-packages\\sympy\\core\\evalf.py:1496\u001b[0m, in \u001b[0;36mevalf\u001b[1;34m(x, prec, options)\u001b[0m\n\u001b[0;32m   1494\u001b[0m \u001b[39mtry\u001b[39;00m:\n\u001b[0;32m   1495\u001b[0m     rf \u001b[39m=\u001b[39m evalf_table[\u001b[39mtype\u001b[39m(x)]\n\u001b[1;32m-> 1496\u001b[0m     r \u001b[39m=\u001b[39m rf(x, prec, options)\n\u001b[0;32m   1497\u001b[0m \u001b[39mexcept\u001b[39;00m \u001b[39mKeyError\u001b[39;00m:\n\u001b[0;32m   1498\u001b[0m     \u001b[39m# Fall back to ordinary evalf if possible\u001b[39;00m\n\u001b[0;32m   1499\u001b[0m     \u001b[39mif\u001b[39;00m \u001b[39m'\u001b[39m\u001b[39msubs\u001b[39m\u001b[39m'\u001b[39m \u001b[39min\u001b[39;00m options:\n",
      "File \u001b[1;32mc:\\Users\\hp\\AppData\\Local\\Programs\\Python\\Python39\\lib\\site-packages\\sympy\\core\\evalf.py:1187\u001b[0m, in \u001b[0;36mevalf_integral\u001b[1;34m(expr, prec, options)\u001b[0m\n\u001b[0;32m   1185\u001b[0m maxprec \u001b[39m=\u001b[39m options\u001b[39m.\u001b[39mget(\u001b[39m'\u001b[39m\u001b[39mmaxprec\u001b[39m\u001b[39m'\u001b[39m, INF)\n\u001b[0;32m   1186\u001b[0m \u001b[39mwhile\u001b[39;00m \u001b[39m1\u001b[39m:\n\u001b[1;32m-> 1187\u001b[0m     result \u001b[39m=\u001b[39m do_integral(expr, workprec, options)\n\u001b[0;32m   1188\u001b[0m     accuracy \u001b[39m=\u001b[39m complex_accuracy(result)\n\u001b[0;32m   1189\u001b[0m     \u001b[39mif\u001b[39;00m accuracy \u001b[39m>\u001b[39m\u001b[39m=\u001b[39m prec:  \u001b[39m# achieved desired precision\u001b[39;00m\n",
      "File \u001b[1;32mc:\\Users\\hp\\AppData\\Local\\Programs\\Python\\Python39\\lib\\site-packages\\sympy\\core\\evalf.py:1148\u001b[0m, in \u001b[0;36mdo_integral\u001b[1;34m(expr, prec, options)\u001b[0m\n\u001b[0;32m   1146\u001b[0m         quadrature_error \u001b[39m=\u001b[39m MINUS_INF\n\u001b[0;32m   1147\u001b[0m     \u001b[39melse\u001b[39;00m:\n\u001b[1;32m-> 1148\u001b[0m         result, quadrature_err \u001b[39m=\u001b[39m quadts(f, [xlow, xhigh], error\u001b[39m=\u001b[39;49m\u001b[39m1\u001b[39;49m)\n\u001b[0;32m   1149\u001b[0m         quadrature_error \u001b[39m=\u001b[39m fastlog(quadrature_err\u001b[39m.\u001b[39m_mpf_)\n\u001b[0;32m   1151\u001b[0m options[\u001b[39m'\u001b[39m\u001b[39mmaxprec\u001b[39m\u001b[39m'\u001b[39m] \u001b[39m=\u001b[39m oldmaxprec\n",
      "File \u001b[1;32mc:\\Users\\hp\\AppData\\Local\\Programs\\Python\\Python39\\lib\\site-packages\\mpmath\\calculus\\quadrature.py:788\u001b[0m, in \u001b[0;36mQuadratureMethods.quadts\u001b[1;34m(ctx, *args, **kwargs)\u001b[0m\n\u001b[0;32m    767\u001b[0m \u001b[39m\"\"\"\u001b[39;00m\n\u001b[0;32m    768\u001b[0m \u001b[39mPerforms tanh-sinh quadrature. The call\u001b[39;00m\n\u001b[0;32m    769\u001b[0m \n\u001b[1;32m   (...)\u001b[0m\n\u001b[0;32m    785\u001b[0m \u001b[39mtanh-sinh quadrature.\u001b[39;00m\n\u001b[0;32m    786\u001b[0m \u001b[39m\"\"\"\u001b[39;00m\n\u001b[0;32m    787\u001b[0m kwargs[\u001b[39m'\u001b[39m\u001b[39mmethod\u001b[39m\u001b[39m'\u001b[39m] \u001b[39m=\u001b[39m \u001b[39m'\u001b[39m\u001b[39mtanh-sinh\u001b[39m\u001b[39m'\u001b[39m\n\u001b[1;32m--> 788\u001b[0m \u001b[39mreturn\u001b[39;00m ctx\u001b[39m.\u001b[39mquad(\u001b[39m*\u001b[39margs, \u001b[39m*\u001b[39m\u001b[39m*\u001b[39mkwargs)\n",
      "File \u001b[1;32mc:\\Users\\hp\\AppData\\Local\\Programs\\Python\\Python39\\lib\\site-packages\\mpmath\\calculus\\quadrature.py:745\u001b[0m, in \u001b[0;36mQuadratureMethods.quad\u001b[1;34m(ctx, f, *points, **kwargs)\u001b[0m\n\u001b[0;32m    743\u001b[0m ctx\u001b[39m.\u001b[39mprec \u001b[39m+\u001b[39m\u001b[39m=\u001b[39m \u001b[39m20\u001b[39m\n\u001b[0;32m    744\u001b[0m \u001b[39mif\u001b[39;00m dim \u001b[39m==\u001b[39m \u001b[39m1\u001b[39m:\n\u001b[1;32m--> 745\u001b[0m     v, err \u001b[39m=\u001b[39m rule\u001b[39m.\u001b[39;49msummation(f, points[\u001b[39m0\u001b[39;49m], prec, epsilon, m, verbose)\n\u001b[0;32m    746\u001b[0m \u001b[39melif\u001b[39;00m dim \u001b[39m==\u001b[39m \u001b[39m2\u001b[39m:\n\u001b[0;32m    747\u001b[0m     v, err \u001b[39m=\u001b[39m rule\u001b[39m.\u001b[39msummation(\u001b[39mlambda\u001b[39;00m x: \\\n\u001b[0;32m    748\u001b[0m             rule\u001b[39m.\u001b[39msummation(\u001b[39mlambda\u001b[39;00m y: f(x,y), \\\n\u001b[0;32m    749\u001b[0m             points[\u001b[39m1\u001b[39m], prec, epsilon, m)[\u001b[39m0\u001b[39m],\n\u001b[0;32m    750\u001b[0m         points[\u001b[39m0\u001b[39m], prec, epsilon, m, verbose)\n",
      "File \u001b[1;32mc:\\Users\\hp\\AppData\\Local\\Programs\\Python\\Python39\\lib\\site-packages\\mpmath\\calculus\\quadrature.py:233\u001b[0m, in \u001b[0;36mQuadratureRule.summation\u001b[1;34m(self, f, points, prec, epsilon, max_degree, verbose)\u001b[0m\n\u001b[0;32m    230\u001b[0m \u001b[39mif\u001b[39;00m verbose:\n\u001b[0;32m    231\u001b[0m     \u001b[39mprint\u001b[39m(\u001b[39m\"\u001b[39m\u001b[39mIntegrating from \u001b[39m\u001b[39m%s\u001b[39;00m\u001b[39m to \u001b[39m\u001b[39m%s\u001b[39;00m\u001b[39m (degree \u001b[39m\u001b[39m%s\u001b[39;00m\u001b[39m of \u001b[39m\u001b[39m%s\u001b[39;00m\u001b[39m)\u001b[39m\u001b[39m\"\u001b[39m \u001b[39m%\u001b[39m \\\n\u001b[0;32m    232\u001b[0m         (ctx\u001b[39m.\u001b[39mnstr(a), ctx\u001b[39m.\u001b[39mnstr(b), degree, max_degree))\n\u001b[1;32m--> 233\u001b[0m result \u001b[39m=\u001b[39m \u001b[39mself\u001b[39;49m\u001b[39m.\u001b[39;49msum_next(f, nodes, degree, prec, results, verbose)\n\u001b[0;32m    234\u001b[0m results\u001b[39m.\u001b[39mappend(result)\n\u001b[0;32m    235\u001b[0m \u001b[39mif\u001b[39;00m degree \u001b[39m>\u001b[39m \u001b[39m1\u001b[39m:\n",
      "File \u001b[1;32mc:\\Users\\hp\\AppData\\Local\\Programs\\Python\\Python39\\lib\\site-packages\\mpmath\\calculus\\quadrature.py:307\u001b[0m, in \u001b[0;36mTanhSinh.sum_next\u001b[1;34m(self, f, nodes, degree, prec, previous, verbose)\u001b[0m\n\u001b[0;32m    305\u001b[0m \u001b[39melse\u001b[39;00m:\n\u001b[0;32m    306\u001b[0m     S \u001b[39m=\u001b[39m \u001b[39mself\u001b[39m\u001b[39m.\u001b[39mctx\u001b[39m.\u001b[39mzero\n\u001b[1;32m--> 307\u001b[0m S \u001b[39m+\u001b[39m\u001b[39m=\u001b[39m \u001b[39mself\u001b[39;49m\u001b[39m.\u001b[39;49mctx\u001b[39m.\u001b[39;49mfdot((w,f(x)) \u001b[39mfor\u001b[39;49;00m (x,w) \u001b[39min\u001b[39;49;00m nodes)\n\u001b[0;32m    308\u001b[0m \u001b[39mreturn\u001b[39;00m h\u001b[39m*\u001b[39mS\n",
      "File \u001b[1;32mc:\\Users\\hp\\AppData\\Local\\Programs\\Python\\Python39\\lib\\site-packages\\mpmath\\ctx_mp_python.py:936\u001b[0m, in \u001b[0;36mPythonMPContext.fdot\u001b[1;34m(ctx, A, B, conjugate)\u001b[0m\n\u001b[0;32m    934\u001b[0m hasattr_ \u001b[39m=\u001b[39m \u001b[39mhasattr\u001b[39m\n\u001b[0;32m    935\u001b[0m types \u001b[39m=\u001b[39m (ctx\u001b[39m.\u001b[39mmpf, ctx\u001b[39m.\u001b[39mmpc)\n\u001b[1;32m--> 936\u001b[0m \u001b[39mfor\u001b[39;00m a, b \u001b[39min\u001b[39;00m A:\n\u001b[0;32m    937\u001b[0m     \u001b[39mif\u001b[39;00m \u001b[39mtype\u001b[39m(a) \u001b[39mnot\u001b[39;00m \u001b[39min\u001b[39;00m types: a \u001b[39m=\u001b[39m ctx\u001b[39m.\u001b[39mconvert(a)\n\u001b[0;32m    938\u001b[0m     \u001b[39mif\u001b[39;00m \u001b[39mtype\u001b[39m(b) \u001b[39mnot\u001b[39;00m \u001b[39min\u001b[39;00m types: b \u001b[39m=\u001b[39m ctx\u001b[39m.\u001b[39mconvert(b)\n",
      "File \u001b[1;32mc:\\Users\\hp\\AppData\\Local\\Programs\\Python\\Python39\\lib\\site-packages\\mpmath\\calculus\\quadrature.py:307\u001b[0m, in \u001b[0;36m<genexpr>\u001b[1;34m(.0)\u001b[0m\n\u001b[0;32m    305\u001b[0m \u001b[39melse\u001b[39;00m:\n\u001b[0;32m    306\u001b[0m     S \u001b[39m=\u001b[39m \u001b[39mself\u001b[39m\u001b[39m.\u001b[39mctx\u001b[39m.\u001b[39mzero\n\u001b[1;32m--> 307\u001b[0m S \u001b[39m+\u001b[39m\u001b[39m=\u001b[39m \u001b[39mself\u001b[39m\u001b[39m.\u001b[39mctx\u001b[39m.\u001b[39mfdot((w,f(x)) \u001b[39mfor\u001b[39;00m (x,w) \u001b[39min\u001b[39;00m nodes)\n\u001b[0;32m    308\u001b[0m \u001b[39mreturn\u001b[39;00m h\u001b[39m*\u001b[39mS\n",
      "File \u001b[1;32mc:\\Users\\hp\\AppData\\Local\\Programs\\Python\\Python39\\lib\\site-packages\\sympy\\core\\evalf.py:1121\u001b[0m, in \u001b[0;36mdo_integral.<locals>.f\u001b[1;34m(t)\u001b[0m\n\u001b[0;32m   1119\u001b[0m \u001b[39mdef\u001b[39;00m \u001b[39mf\u001b[39m(t: \u001b[39m'\u001b[39m\u001b[39mExpr\u001b[39m\u001b[39m'\u001b[39m) \u001b[39m-\u001b[39m\u001b[39m>\u001b[39m tUnion[mpc, mpf]:\n\u001b[0;32m   1120\u001b[0m     \u001b[39mnonlocal\u001b[39;00m max_real_term, max_imag_term\n\u001b[1;32m-> 1121\u001b[0m     re, im, re_acc, im_acc \u001b[39m=\u001b[39m evalf(func, mp\u001b[39m.\u001b[39;49mprec, {\u001b[39m'\u001b[39;49m\u001b[39msubs\u001b[39;49m\u001b[39m'\u001b[39;49m: {x: t}})\n\u001b[0;32m   1123\u001b[0m     have_part[\u001b[39m0\u001b[39m] \u001b[39m=\u001b[39m re \u001b[39mor\u001b[39;00m have_part[\u001b[39m0\u001b[39m]\n\u001b[0;32m   1124\u001b[0m     have_part[\u001b[39m1\u001b[39m] \u001b[39m=\u001b[39m im \u001b[39mor\u001b[39;00m have_part[\u001b[39m1\u001b[39m]\n",
      "File \u001b[1;32mc:\\Users\\hp\\AppData\\Local\\Programs\\Python\\Python39\\lib\\site-packages\\sympy\\core\\evalf.py:1496\u001b[0m, in \u001b[0;36mevalf\u001b[1;34m(x, prec, options)\u001b[0m\n\u001b[0;32m   1494\u001b[0m \u001b[39mtry\u001b[39;00m:\n\u001b[0;32m   1495\u001b[0m     rf \u001b[39m=\u001b[39m evalf_table[\u001b[39mtype\u001b[39m(x)]\n\u001b[1;32m-> 1496\u001b[0m     r \u001b[39m=\u001b[39m rf(x, prec, options)\n\u001b[0;32m   1497\u001b[0m \u001b[39mexcept\u001b[39;00m \u001b[39mKeyError\u001b[39;00m:\n\u001b[0;32m   1498\u001b[0m     \u001b[39m# Fall back to ordinary evalf if possible\u001b[39;00m\n\u001b[0;32m   1499\u001b[0m     \u001b[39mif\u001b[39;00m \u001b[39m'\u001b[39m\u001b[39msubs\u001b[39m\u001b[39m'\u001b[39m \u001b[39min\u001b[39;00m options:\n",
      "File \u001b[1;32mc:\\Users\\hp\\AppData\\Local\\Programs\\Python\\Python39\\lib\\site-packages\\sympy\\core\\evalf.py:698\u001b[0m, in \u001b[0;36mevalf_mul\u001b[1;34m(v, prec, options)\u001b[0m\n\u001b[0;32m    696\u001b[0m \u001b[39melif\u001b[39;00m i \u001b[39m==\u001b[39m last \u001b[39mand\u001b[39;00m arg \u001b[39mis\u001b[39;00m S\u001b[39m.\u001b[39mOne:\n\u001b[0;32m    697\u001b[0m     \u001b[39mcontinue\u001b[39;00m\n\u001b[1;32m--> 698\u001b[0m re, im, re_acc, im_acc \u001b[39m=\u001b[39m evalf(arg, working_prec, options)\n\u001b[0;32m    699\u001b[0m \u001b[39mif\u001b[39;00m re \u001b[39mand\u001b[39;00m im:\n\u001b[0;32m    700\u001b[0m     complex_factors\u001b[39m.\u001b[39mappend((re, im, re_acc, im_acc))\n",
      "File \u001b[1;32mc:\\Users\\hp\\AppData\\Local\\Programs\\Python\\Python39\\lib\\site-packages\\sympy\\core\\evalf.py:1496\u001b[0m, in \u001b[0;36mevalf\u001b[1;34m(x, prec, options)\u001b[0m\n\u001b[0;32m   1494\u001b[0m \u001b[39mtry\u001b[39;00m:\n\u001b[0;32m   1495\u001b[0m     rf \u001b[39m=\u001b[39m evalf_table[\u001b[39mtype\u001b[39m(x)]\n\u001b[1;32m-> 1496\u001b[0m     r \u001b[39m=\u001b[39m rf(x, prec, options)\n\u001b[0;32m   1497\u001b[0m \u001b[39mexcept\u001b[39;00m \u001b[39mKeyError\u001b[39;00m:\n\u001b[0;32m   1498\u001b[0m     \u001b[39m# Fall back to ordinary evalf if possible\u001b[39;00m\n\u001b[0;32m   1499\u001b[0m     \u001b[39mif\u001b[39;00m \u001b[39m'\u001b[39m\u001b[39msubs\u001b[39m\u001b[39m'\u001b[39m \u001b[39min\u001b[39;00m options:\n",
      "File \u001b[1;32mc:\\Users\\hp\\AppData\\Local\\Programs\\Python\\Python39\\lib\\site-packages\\sympy\\core\\evalf.py:778\u001b[0m, in \u001b[0;36mevalf_pow\u001b[1;34m(v, prec, options)\u001b[0m\n\u001b[0;32m    775\u001b[0m \u001b[39m# Exponentiation by p magnifies relative error by |p|, so the\u001b[39;00m\n\u001b[0;32m    776\u001b[0m \u001b[39m# base must be evaluated with increased precision if p is large\u001b[39;00m\n\u001b[0;32m    777\u001b[0m prec \u001b[39m+\u001b[39m\u001b[39m=\u001b[39m \u001b[39mint\u001b[39m(math\u001b[39m.\u001b[39mlog(\u001b[39mabs\u001b[39m(p), \u001b[39m2\u001b[39m))\n\u001b[1;32m--> 778\u001b[0m result \u001b[39m=\u001b[39m evalf(base, prec \u001b[39m+\u001b[39;49m \u001b[39m5\u001b[39;49m, options)\n\u001b[0;32m    779\u001b[0m \u001b[39mif\u001b[39;00m result \u001b[39mis\u001b[39;00m S\u001b[39m.\u001b[39mComplexInfinity:\n\u001b[0;32m    780\u001b[0m     \u001b[39mif\u001b[39;00m p \u001b[39m<\u001b[39m \u001b[39m0\u001b[39m:\n",
      "File \u001b[1;32mc:\\Users\\hp\\AppData\\Local\\Programs\\Python\\Python39\\lib\\site-packages\\sympy\\core\\evalf.py:1496\u001b[0m, in \u001b[0;36mevalf\u001b[1;34m(x, prec, options)\u001b[0m\n\u001b[0;32m   1494\u001b[0m \u001b[39mtry\u001b[39;00m:\n\u001b[0;32m   1495\u001b[0m     rf \u001b[39m=\u001b[39m evalf_table[\u001b[39mtype\u001b[39m(x)]\n\u001b[1;32m-> 1496\u001b[0m     r \u001b[39m=\u001b[39m rf(x, prec, options)\n\u001b[0;32m   1497\u001b[0m \u001b[39mexcept\u001b[39;00m \u001b[39mKeyError\u001b[39;00m:\n\u001b[0;32m   1498\u001b[0m     \u001b[39m# Fall back to ordinary evalf if possible\u001b[39;00m\n\u001b[0;32m   1499\u001b[0m     \u001b[39mif\u001b[39;00m \u001b[39m'\u001b[39m\u001b[39msubs\u001b[39m\u001b[39m'\u001b[39m \u001b[39min\u001b[39;00m options:\n",
      "File \u001b[1;32mc:\\Users\\hp\\AppData\\Local\\Programs\\Python\\Python39\\lib\\site-packages\\sympy\\core\\evalf.py:606\u001b[0m, in \u001b[0;36mevalf_add\u001b[1;34m(v, prec, options)\u001b[0m\n\u001b[0;32m    604\u001b[0m \u001b[39mif\u001b[39;00m n \u001b[39m>\u001b[39m\u001b[39m=\u001b[39m \u001b[39m2\u001b[39m:\n\u001b[0;32m    605\u001b[0m     \u001b[39mreturn\u001b[39;00m fnan, \u001b[39mNone\u001b[39;00m, prec, \u001b[39mNone\u001b[39;00m\n\u001b[1;32m--> 606\u001b[0m re, re_acc \u001b[39m=\u001b[39m add_terms(\n\u001b[0;32m    607\u001b[0m     [a[\u001b[39m0\u001b[39;49m::\u001b[39m2\u001b[39;49m] \u001b[39mfor\u001b[39;49;00m a \u001b[39min\u001b[39;49;00m terms \u001b[39mif\u001b[39;49;00m \u001b[39misinstance\u001b[39;49m(a, \u001b[39mtuple\u001b[39;49m) \u001b[39mand\u001b[39;49;00m a[\u001b[39m0\u001b[39;49m]], prec, target_prec)\n\u001b[0;32m    608\u001b[0m im, im_acc \u001b[39m=\u001b[39m add_terms(\n\u001b[0;32m    609\u001b[0m     [a[\u001b[39m1\u001b[39m::\u001b[39m2\u001b[39m] \u001b[39mfor\u001b[39;00m a \u001b[39min\u001b[39;00m terms \u001b[39mif\u001b[39;00m \u001b[39misinstance\u001b[39m(a, \u001b[39mtuple\u001b[39m) \u001b[39mand\u001b[39;00m a[\u001b[39m1\u001b[39m]], prec, target_prec)\n\u001b[0;32m    610\u001b[0m \u001b[39mif\u001b[39;00m n \u001b[39m==\u001b[39m \u001b[39m1\u001b[39m:\n",
      "File \u001b[1;32mc:\\Users\\hp\\AppData\\Local\\Programs\\Python\\Python39\\lib\\site-packages\\sympy\\core\\evalf.py:535\u001b[0m, in \u001b[0;36madd_terms\u001b[1;34m(terms, prec, target_prec)\u001b[0m\n\u001b[0;32m    533\u001b[0m \u001b[39mfrom\u001b[39;00m \u001b[39m.\u001b[39;00m\u001b[39mnumbers\u001b[39;00m \u001b[39mimport\u001b[39;00m Float\n\u001b[0;32m    534\u001b[0m \u001b[39mfor\u001b[39;00m t \u001b[39min\u001b[39;00m terms:\n\u001b[1;32m--> 535\u001b[0m     arg \u001b[39m=\u001b[39m Float\u001b[39m.\u001b[39;49m_new(t[\u001b[39m0\u001b[39;49m], \u001b[39m1\u001b[39;49m)\n\u001b[0;32m    536\u001b[0m     \u001b[39mif\u001b[39;00m arg \u001b[39mis\u001b[39;00m S\u001b[39m.\u001b[39mNaN \u001b[39mor\u001b[39;00m arg\u001b[39m.\u001b[39mis_infinite:\n\u001b[0;32m    537\u001b[0m         special\u001b[39m.\u001b[39mappend(arg)\n",
      "File \u001b[1;32mc:\\Users\\hp\\AppData\\Local\\Programs\\Python\\Python39\\lib\\site-packages\\sympy\\core\\numbers.py:1191\u001b[0m, in \u001b[0;36mFloat._new\u001b[1;34m(cls, _mpf_, _prec, zero)\u001b[0m\n\u001b[0;32m   1188\u001b[0m     \u001b[39mreturn\u001b[39;00m S\u001b[39m.\u001b[39mNegativeInfinity\n\u001b[0;32m   1190\u001b[0m obj \u001b[39m=\u001b[39m Expr\u001b[39m.\u001b[39m\u001b[39m__new__\u001b[39m(\u001b[39mcls\u001b[39m)\n\u001b[1;32m-> 1191\u001b[0m obj\u001b[39m.\u001b[39m_mpf_ \u001b[39m=\u001b[39m mpf_norm(_mpf_, _prec)\n\u001b[0;32m   1192\u001b[0m obj\u001b[39m.\u001b[39m_prec \u001b[39m=\u001b[39m _prec\n\u001b[0;32m   1193\u001b[0m \u001b[39mreturn\u001b[39;00m obj\n",
      "File \u001b[1;32mc:\\Users\\hp\\AppData\\Local\\Programs\\Python\\Python39\\lib\\site-packages\\sympy\\core\\numbers.py:175\u001b[0m, in \u001b[0;36mmpf_norm\u001b[1;34m(mpf, prec)\u001b[0m\n\u001b[0;32m    173\u001b[0m \u001b[39m# Necessary if mpmath is using the gmpy backend\u001b[39;00m\n\u001b[0;32m    174\u001b[0m \u001b[39mfrom\u001b[39;00m \u001b[39mmpmath\u001b[39;00m\u001b[39m.\u001b[39;00m\u001b[39mlibmp\u001b[39;00m\u001b[39m.\u001b[39;00m\u001b[39mbackend\u001b[39;00m \u001b[39mimport\u001b[39;00m MPZ\n\u001b[1;32m--> 175\u001b[0m rv \u001b[39m=\u001b[39m mpf_normalize(sign, MPZ(man), expt, bc, prec, rnd)\n\u001b[0;32m    176\u001b[0m \u001b[39mreturn\u001b[39;00m rv\n",
      "File \u001b[1;32mc:\\Users\\hp\\AppData\\Local\\Programs\\Python\\Python39\\lib\\site-packages\\mpmath\\libmp\\libmpf.py:189\u001b[0m, in \u001b[0;36m_normalize\u001b[1;34m(sign, man, exp, bc, prec, rnd)\u001b[0m\n\u001b[0;32m    187\u001b[0m     bc \u001b[39m=\u001b[39m prec\n\u001b[0;32m    188\u001b[0m \u001b[39m# Strip trailing bits\u001b[39;00m\n\u001b[1;32m--> 189\u001b[0m \u001b[39mif\u001b[39;00m \u001b[39mnot\u001b[39;00m man \u001b[39m&\u001b[39m \u001b[39m1\u001b[39m:\n\u001b[0;32m    190\u001b[0m     t \u001b[39m=\u001b[39m trailtable[\u001b[39mint\u001b[39m(man \u001b[39m&\u001b[39m \u001b[39m255\u001b[39m)]\n\u001b[0;32m    191\u001b[0m     \u001b[39mif\u001b[39;00m \u001b[39mnot\u001b[39;00m t:\n",
      "\u001b[1;31mKeyboardInterrupt\u001b[0m: "
     ]
    }
   ],
   "source": [
    "from sympy import *\n",
    "\n",
    "x = symbols(\"x\")\n",
    "f = (sin(2*x)**(-1))/(1+x**2)\n",
    "\n",
    "integrate(f,(x,0,oo)).evalf()\n"
   ]
  },
  {
   "cell_type": "code",
   "execution_count": null,
   "metadata": {},
   "outputs": [],
   "source": [
    "# from sympy import *\n",
    "# import math\n",
    "\n",
    "# f = 1/((a-cos(x)**2)+(b-sin(x))**2)\n"
   ]
  }
 ],
 "metadata": {
  "kernelspec": {
   "display_name": "Python 3.9.5 64-bit",
   "language": "python",
   "name": "python3"
  },
  "language_info": {
   "codemirror_mode": {
    "name": "ipython",
    "version": 3
   },
   "file_extension": ".py",
   "mimetype": "text/x-python",
   "name": "python",
   "nbconvert_exporter": "python",
   "pygments_lexer": "ipython3",
   "version": "3.9.5"
  },
  "orig_nbformat": 4,
  "vscode": {
   "interpreter": {
    "hash": "b671c20432fcd147198c92e7f072af9e705f087eb990bee22b07f08caab9f630"
   }
  }
 },
 "nbformat": 4,
 "nbformat_minor": 2
}
